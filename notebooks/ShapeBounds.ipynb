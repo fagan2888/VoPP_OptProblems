{
 "cells": [
  {
   "cell_type": "code",
   "execution_count": 51,
   "metadata": {
    "collapsed": false
   },
   "outputs": [
    {
     "name": "stderr",
     "output_type": "stream",
     "text": [
      "WARNING: replacing module vopp.\n"
     ]
    },
    {
     "data": {
      "text/plain": [
       "Main.vopp"
      ]
     },
     "execution_count": 51,
     "metadata": {},
     "output_type": "execute_result"
    }
   ],
   "source": [
    "using Plots, QuadGK\n",
    "pyplot()\n",
    "include(\"src.jl\")"
   ]
  },
  {
   "cell_type": "markdown",
   "metadata": {},
   "source": [
    "## Mean Abs Dev Plots"
   ]
  },
  {
   "cell_type": "markdown",
   "metadata": {},
   "source": [
    "### Illustrating calls for debugging and timing"
   ]
  },
  {
   "cell_type": "code",
   "execution_count": 61,
   "metadata": {
    "collapsed": false
   },
   "outputs": [
    {
     "name": "stdout",
     "output_type": "stream",
     "text": [
      "LB UNIMODAL\n",
      "Academic license - for non-commercial use only\n",
      "Academic license - for non-commercial use only\n",
      "Academic license - for non-commercial use only\n",
      "Academic license - for non-commercial use only\n"
     ]
    },
    {
     "name": "stderr",
     "output_type": "stream",
     "text": [
      "┌ Warning: Not solved to optimality, status: Unbounded\n",
      "└ @ JuMP /Users/vishalgupta/.julia/packages/JuMP/I7whV/src/solvers.jl:212\n",
      "┌ Warning: Not solved to optimality, status: Unbounded\n",
      "└ @ JuMP /Users/vishalgupta/.julia/packages/JuMP/I7whV/src/solvers.jl:212\n",
      "┌ Warning: Not solved to optimality, status: Unbounded\n",
      "└ @ JuMP /Users/vishalgupta/.julia/packages/JuMP/I7whV/src/solvers.jl:212\n",
      "┌ Warning: Not solved to optimality, status: Unbounded\n",
      "└ @ JuMP /Users/vishalgupta/.julia/packages/JuMP/I7whV/src/solvers.jl:212\n"
     ]
    },
    {
     "name": "stdout",
     "output_type": "stream",
     "text": [
      "Academic license - for non-commercial use only\n",
      "Academic license - for non-commercial use only\n"
     ]
    },
    {
     "name": "stderr",
     "output_type": "stream",
     "text": [
      "┌ Warning: Not solved to optimality, status: Unbounded\n",
      "└ @ JuMP /Users/vishalgupta/.julia/packages/JuMP/I7whV/src/solvers.jl:212\n",
      "┌ Warning: Not solved to optimality, status: Unbounded\n",
      "└ @ JuMP /Users/vishalgupta/.julia/packages/JuMP/I7whV/src/solvers.jl:212\n"
     ]
    },
    {
     "name": "stdout",
     "output_type": "stream",
     "text": [
      "Academic license - for non-commercial use only\n",
      "Academic license - for non-commercial use only\n"
     ]
    },
    {
     "name": "stderr",
     "output_type": "stream",
     "text": [
      "┌ Warning: Not solved to optimality, status: Unbounded\n",
      "└ @ JuMP /Users/vishalgupta/.julia/packages/JuMP/I7whV/src/solvers.jl:212\n",
      "┌ Warning: Not solved to optimality, status: Unbounded\n",
      "└ @ JuMP /Users/vishalgupta/.julia/packages/JuMP/I7whV/src/solvers.jl:212\n"
     ]
    },
    {
     "name": "stdout",
     "output_type": "stream",
     "text": [
      "Academic license - for non-commercial use only\n",
      "Academic license - for non-commercial use only\n"
     ]
    },
    {
     "name": "stderr",
     "output_type": "stream",
     "text": [
      "┌ Warning: Not solved to optimality, status: Unbounded\n",
      "└ @ JuMP /Users/vishalgupta/.julia/packages/JuMP/I7whV/src/solvers.jl:212\n",
      "┌ Warning: Not solved to optimality, status: Unbounded\n",
      "└ @ JuMP /Users/vishalgupta/.julia/packages/JuMP/I7whV/src/solvers.jl:212\n"
     ]
    },
    {
     "name": "stdout",
     "output_type": "stream",
     "text": [
      "Academic license - for non-commercial use only\n",
      "Academic license - for non-commercial use only\n"
     ]
    },
    {
     "name": "stderr",
     "output_type": "stream",
     "text": [
      "┌ Warning: Not solved to optimality, status: Unbounded\n",
      "└ @ JuMP /Users/vishalgupta/.julia/packages/JuMP/I7whV/src/solvers.jl:212\n",
      "┌ Warning: Not solved to optimality, status: Unbounded\n",
      "└ @ JuMP /Users/vishalgupta/.julia/packages/JuMP/I7whV/src/solvers.jl:212\n"
     ]
    },
    {
     "name": "stdout",
     "output_type": "stream",
     "text": [
      "Academic license - for non-commercial use only\n",
      "Academic license - for non-commercial use only\n"
     ]
    },
    {
     "name": "stderr",
     "output_type": "stream",
     "text": [
      "┌ Warning: Not solved to optimality, status: Unbounded\n",
      "└ @ JuMP /Users/vishalgupta/.julia/packages/JuMP/I7whV/src/solvers.jl:212\n",
      "┌ Warning: Not solved to optimality, status: Unbounded\n",
      "└ @ JuMP /Users/vishalgupta/.julia/packages/JuMP/I7whV/src/solvers.jl:212\n"
     ]
    },
    {
     "name": "stdout",
     "output_type": "stream",
     "text": [
      "Academic license - for non-commercial use only\n",
      "Academic license - for non-commercial use only\n",
      "Academic license - for non-commercial use only\n",
      "Academic license - for non-commercial use only\n"
     ]
    },
    {
     "name": "stderr",
     "output_type": "stream",
     "text": [
      "┌ Warning: Not solved to optimality, status: Unbounded\n",
      "└ @ JuMP /Users/vishalgupta/.julia/packages/JuMP/I7whV/src/solvers.jl:212\n",
      "┌ Warning: Not solved to optimality, status: Unbounded\n",
      "└ @ JuMP /Users/vishalgupta/.julia/packages/JuMP/I7whV/src/solvers.jl:212\n",
      "┌ Warning: Not solved to optimality, status: Unbounded\n",
      "└ @ JuMP /Users/vishalgupta/.julia/packages/JuMP/I7whV/src/solvers.jl:212\n",
      "┌ Warning: Not solved to optimality, status: Unbounded\n",
      "└ @ JuMP /Users/vishalgupta/.julia/packages/JuMP/I7whV/src/solvers.jl:212\n"
     ]
    },
    {
     "name": "stdout",
     "output_type": "stream",
     "text": [
      "Academic license - for non-commercial use only\n",
      "Academic license - for non-commercial use only\n"
     ]
    },
    {
     "name": "stderr",
     "output_type": "stream",
     "text": [
      "┌ Warning: Not solved to optimality, status: Unbounded\n",
      "└ @ JuMP /Users/vishalgupta/.julia/packages/JuMP/I7whV/src/solvers.jl:212\n",
      "┌ Warning: Not solved to optimality, status: Unbounded\n",
      "└ @ JuMP /Users/vishalgupta/.julia/packages/JuMP/I7whV/src/solvers.jl:212\n"
     ]
    },
    {
     "name": "stdout",
     "output_type": "stream",
     "text": [
      "Academic license - for non-commercial use only\n",
      "Academic license - for non-commercial use only\n",
      "Academic license - for non-commercial use only\n",
      "Academic license - for non-commercial use only\n"
     ]
    },
    {
     "name": "stderr",
     "output_type": "stream",
     "text": [
      "┌ Warning: Not solved to optimality, status: Unbounded\n",
      "└ @ JuMP /Users/vishalgupta/.julia/packages/JuMP/I7whV/src/solvers.jl:212\n",
      "┌ Warning: Not solved to optimality, status: Unbounded\n",
      "└ @ JuMP /Users/vishalgupta/.julia/packages/JuMP/I7whV/src/solvers.jl:212\n",
      "┌ Warning: Not solved to optimality, status: Unbounded\n",
      "└ @ JuMP /Users/vishalgupta/.julia/packages/JuMP/I7whV/src/solvers.jl:212\n",
      "┌ Warning: Not solved to optimality, status: Unbounded\n",
      "└ @ JuMP /Users/vishalgupta/.julia/packages/JuMP/I7whV/src/solvers.jl:212\n"
     ]
    },
    {
     "name": "stdout",
     "output_type": "stream",
     "text": [
      "Academic license - for non-commercial use only\n",
      "Academic license - for non-commercial use only\n"
     ]
    },
    {
     "name": "stderr",
     "output_type": "stream",
     "text": [
      "┌ Warning: Not solved to optimality, status: Unbounded\n",
      "└ @ JuMP /Users/vishalgupta/.julia/packages/JuMP/I7whV/src/solvers.jl:212\n",
      "┌ Warning: Not solved to optimality, status: Unbounded\n",
      "└ @ JuMP /Users/vishalgupta/.julia/packages/JuMP/I7whV/src/solvers.jl:212\n"
     ]
    },
    {
     "name": "stdout",
     "output_type": "stream",
     "text": [
      "Academic license - for non-commercial use only\n",
      "Academic license - for non-commercial use only\n"
     ]
    },
    {
     "name": "stderr",
     "output_type": "stream",
     "text": [
      "┌ Warning: Not solved to optimality, status: Unbounded\n",
      "└ @ JuMP /Users/vishalgupta/.julia/packages/JuMP/I7whV/src/solvers.jl:212\n",
      "┌ Warning: Not solved to optimality, status: Unbounded\n",
      "└ @ JuMP /Users/vishalgupta/.julia/packages/JuMP/I7whV/src/solvers.jl:212\n"
     ]
    },
    {
     "name": "stdout",
     "output_type": "stream",
     "text": [
      "Academic license - for non-commercial use only\n",
      "Academic license - for non-commercial use only\n"
     ]
    },
    {
     "name": "stderr",
     "output_type": "stream",
     "text": [
      "┌ Warning: Not solved to optimality, status: Unbounded\n",
      "└ @ JuMP /Users/vishalgupta/.julia/packages/JuMP/I7whV/src/solvers.jl:212\n",
      "┌ Warning: Not solved to optimality, status: Unbounded\n",
      "└ @ JuMP /Users/vishalgupta/.julia/packages/JuMP/I7whV/src/solvers.jl:212\n"
     ]
    },
    {
     "name": "stdout",
     "output_type": "stream",
     "text": [
      "Academic license - for non-commercial use only\n",
      "Academic license - for non-commercial use only\n"
     ]
    },
    {
     "name": "stderr",
     "output_type": "stream",
     "text": [
      "┌ Warning: Not solved to optimality, status: Unbounded\n",
      "└ @ JuMP /Users/vishalgupta/.julia/packages/JuMP/I7whV/src/solvers.jl:212\n",
      "┌ Warning: Not solved to optimality, status: Unbounded\n",
      "└ @ JuMP /Users/vishalgupta/.julia/packages/JuMP/I7whV/src/solvers.jl:212\n"
     ]
    },
    {
     "name": "stdout",
     "output_type": "stream",
     "text": [
      "Academic license - for non-commercial use only\n",
      "Academic license - for non-commercial use only\n"
     ]
    },
    {
     "name": "stderr",
     "output_type": "stream",
     "text": [
      "┌ Warning: Not solved to optimality, status: Unbounded\n",
      "└ @ JuMP /Users/vishalgupta/.julia/packages/JuMP/I7whV/src/solvers.jl:212\n",
      "┌ Warning: Not solved to optimality, status: Unbounded\n",
      "└ @ JuMP /Users/vishalgupta/.julia/packages/JuMP/I7whV/src/solvers.jl:212\n"
     ]
    },
    {
     "name": "stdout",
     "output_type": "stream",
     "text": [
      "Academic license - for non-commercial use only\n",
      "Academic license - for non-commercial use only\n"
     ]
    },
    {
     "name": "stderr",
     "output_type": "stream",
     "text": [
      "┌ Warning: Not solved to optimality, status: Unbounded\n",
      "└ @ JuMP /Users/vishalgupta/.julia/packages/JuMP/I7whV/src/solvers.jl:212\n",
      "┌ Warning: Not solved to optimality, status: Unbounded\n",
      "└ @ JuMP /Users/vishalgupta/.julia/packages/JuMP/I7whV/src/solvers.jl:212\n"
     ]
    },
    {
     "name": "stdout",
     "output_type": "stream",
     "text": [
      "Academic license - for non-commercial use only\n",
      "Academic license - for non-commercial use only\n"
     ]
    },
    {
     "name": "stderr",
     "output_type": "stream",
     "text": [
      "┌ Warning: Not solved to optimality, status: Unbounded\n",
      "└ @ JuMP /Users/vishalgupta/.julia/packages/JuMP/I7whV/src/solvers.jl:212\n",
      "┌ Warning: Not solved to optimality, status: Unbounded\n",
      "└ @ JuMP /Users/vishalgupta/.julia/packages/JuMP/I7whV/src/solvers.jl:212\n"
     ]
    },
    {
     "name": "stdout",
     "output_type": "stream",
     "text": [
      "Academic license - for non-commercial use only\n",
      "Academic license - for non-commercial use only\n"
     ]
    },
    {
     "name": "stderr",
     "output_type": "stream",
     "text": [
      "┌ Warning: Not solved to optimality, status: Unbounded\n",
      "└ @ JuMP /Users/vishalgupta/.julia/packages/JuMP/I7whV/src/solvers.jl:212\n",
      "┌ Warning: Not solved to optimality, status: Unbounded\n",
      "└ @ JuMP /Users/vishalgupta/.julia/packages/JuMP/I7whV/src/solvers.jl:212\n"
     ]
    },
    {
     "name": "stdout",
     "output_type": "stream",
     "text": [
      "Academic license - for non-commercial use only\n",
      "Academic license - for non-commercial use only\n"
     ]
    },
    {
     "name": "stderr",
     "output_type": "stream",
     "text": [
      "┌ Warning: Not solved to optimality, status: Unbounded\n",
      "└ @ JuMP /Users/vishalgupta/.julia/packages/JuMP/I7whV/src/solvers.jl:212\n",
      "┌ Warning: Not solved to optimality, status: Unbounded\n",
      "└ @ JuMP /Users/vishalgupta/.julia/packages/JuMP/I7whV/src/solvers.jl:212\n"
     ]
    },
    {
     "name": "stdout",
     "output_type": "stream",
     "text": [
      "Academic license - for non-commercial use only\n",
      "Academic license - for non-commercial use only\n",
      "Academic license - for non-commercial use only\n",
      "Academic license - for non-commercial use only\n"
     ]
    },
    {
     "name": "stderr",
     "output_type": "stream",
     "text": [
      "┌ Warning: Not solved to optimality, status: Unbounded\n",
      "└ @ JuMP /Users/vishalgupta/.julia/packages/JuMP/I7whV/src/solvers.jl:212\n",
      "┌ Warning: Not solved to optimality, status: Unbounded\n",
      "└ @ JuMP /Users/vishalgupta/.julia/packages/JuMP/I7whV/src/solvers.jl:212\n",
      "┌ Warning: Not solved to optimality, status: Unbounded\n",
      "└ @ JuMP /Users/vishalgupta/.julia/packages/JuMP/I7whV/src/solvers.jl:212\n",
      "┌ Warning: Not solved to optimality, status: Unbounded\n",
      "└ @ JuMP /Users/vishalgupta/.julia/packages/JuMP/I7whV/src/solvers.jl:212\n"
     ]
    },
    {
     "name": "stdout",
     "output_type": "stream",
     "text": [
      "Academic license - for non-commercial use only\n",
      "Academic license - for non-commercial use only\n"
     ]
    },
    {
     "name": "stderr",
     "output_type": "stream",
     "text": [
      "┌ Warning: Not solved to optimality, status: Unbounded\n",
      "└ @ JuMP /Users/vishalgupta/.julia/packages/JuMP/I7whV/src/solvers.jl:212\n",
      "┌ Warning: Not solved to optimality, status: Unbounded\n",
      "└ @ JuMP /Users/vishalgupta/.julia/packages/JuMP/I7whV/src/solvers.jl:212\n"
     ]
    },
    {
     "name": "stdout",
     "output_type": "stream",
     "text": [
      "Academic license - for non-commercial use only\n",
      "Academic license - for non-commercial use only\n",
      "Academic license - for non-commercial use only\n",
      "Academic license - for non-commercial use only\n"
     ]
    },
    {
     "name": "stderr",
     "output_type": "stream",
     "text": [
      "┌ Warning: Not solved to optimality, status: Unbounded\n",
      "└ @ JuMP /Users/vishalgupta/.julia/packages/JuMP/I7whV/src/solvers.jl:212\n",
      "┌ Warning: Not solved to optimality, status: Unbounded\n",
      "└ @ JuMP /Users/vishalgupta/.julia/packages/JuMP/I7whV/src/solvers.jl:212\n",
      "┌ Warning: Not solved to optimality, status: Unbounded\n",
      "└ @ JuMP /Users/vishalgupta/.julia/packages/JuMP/I7whV/src/solvers.jl:212\n",
      "┌ Warning: Not solved to optimality, status: Unbounded\n",
      "└ @ JuMP /Users/vishalgupta/.julia/packages/JuMP/I7whV/src/solvers.jl:212\n"
     ]
    },
    {
     "name": "stdout",
     "output_type": "stream",
     "text": [
      "Academic license - for non-commercial use only\n",
      "Academic license - for non-commercial use only\n"
     ]
    },
    {
     "name": "stderr",
     "output_type": "stream",
     "text": [
      "┌ Warning: Not solved to optimality, status: Unbounded\n",
      "└ @ JuMP /Users/vishalgupta/.julia/packages/JuMP/I7whV/src/solvers.jl:212\n",
      "┌ Warning: Not solved to optimality, status: Unbounded\n",
      "└ @ JuMP /Users/vishalgupta/.julia/packages/JuMP/I7whV/src/solvers.jl:212\n"
     ]
    },
    {
     "name": "stdout",
     "output_type": "stream",
     "text": [
      "Academic license - for non-commercial use only\n",
      "Academic license - for non-commercial use only\n"
     ]
    },
    {
     "name": "stderr",
     "output_type": "stream",
     "text": [
      "┌ Warning: Not solved to optimality, status: Unbounded\n",
      "└ @ JuMP /Users/vishalgupta/.julia/packages/JuMP/I7whV/src/solvers.jl:212\n",
      "┌ Warning: Not solved to optimality, status: Unbounded\n",
      "└ @ JuMP /Users/vishalgupta/.julia/packages/JuMP/I7whV/src/solvers.jl:212\n"
     ]
    },
    {
     "name": "stdout",
     "output_type": "stream",
     "text": [
      "Academic license - for non-commercial use only\n",
      "Academic license - for non-commercial use only\n"
     ]
    },
    {
     "name": "stderr",
     "output_type": "stream",
     "text": [
      "┌ Warning: Not solved to optimality, status: Unbounded\n",
      "└ @ JuMP /Users/vishalgupta/.julia/packages/JuMP/I7whV/src/solvers.jl:212\n",
      "┌ Warning: Not solved to optimality, status: Unbounded\n",
      "└ @ JuMP /Users/vishalgupta/.julia/packages/JuMP/I7whV/src/solvers.jl:212\n"
     ]
    },
    {
     "name": "stdout",
     "output_type": "stream",
     "text": [
      "Academic license - for non-commercial use only\n",
      "Academic license - for non-commercial use only\n",
      "Academic license - for non-commercial use only\n",
      "Academic license - for non-commercial use only\n"
     ]
    },
    {
     "name": "stderr",
     "output_type": "stream",
     "text": [
      "┌ Warning: Not solved to optimality, status: Unbounded\n",
      "└ @ JuMP /Users/vishalgupta/.julia/packages/JuMP/I7whV/src/solvers.jl:212\n",
      "┌ Warning: Not solved to optimality, status: Unbounded\n",
      "└ @ JuMP /Users/vishalgupta/.julia/packages/JuMP/I7whV/src/solvers.jl:212\n",
      "┌ Warning: Not solved to optimality, status: Unbounded\n",
      "└ @ JuMP /Users/vishalgupta/.julia/packages/JuMP/I7whV/src/solvers.jl:212\n",
      "┌ Warning: Not solved to optimality, status: Unbounded\n",
      "└ @ JuMP /Users/vishalgupta/.julia/packages/JuMP/I7whV/src/solvers.jl:212\n"
     ]
    },
    {
     "name": "stdout",
     "output_type": "stream",
     "text": [
      "Academic license - for non-commercial use only\n",
      "Academic license - for non-commercial use only\n"
     ]
    },
    {
     "name": "stderr",
     "output_type": "stream",
     "text": [
      "┌ Warning: Not solved to optimality, status: Unbounded\n",
      "└ @ JuMP /Users/vishalgupta/.julia/packages/JuMP/I7whV/src/solvers.jl:212\n",
      "┌ Warning: Not solved to optimality, status: Unbounded\n",
      "└ @ JuMP /Users/vishalgupta/.julia/packages/JuMP/I7whV/src/solvers.jl:212\n"
     ]
    },
    {
     "name": "stdout",
     "output_type": "stream",
     "text": [
      "Academic license - for non-commercial use only\n",
      "Academic license - for non-commercial use only\n",
      "Academic license - for non-commercial use only\n",
      "Academic license - for non-commercial use only\n"
     ]
    },
    {
     "name": "stderr",
     "output_type": "stream",
     "text": [
      "┌ Warning: Not solved to optimality, status: Unbounded\n",
      "└ @ JuMP /Users/vishalgupta/.julia/packages/JuMP/I7whV/src/solvers.jl:212\n",
      "┌ Warning: Not solved to optimality, status: Unbounded\n",
      "└ @ JuMP /Users/vishalgupta/.julia/packages/JuMP/I7whV/src/solvers.jl:212\n",
      "┌ Warning: Not solved to optimality, status: Unbounded\n",
      "└ @ JuMP /Users/vishalgupta/.julia/packages/JuMP/I7whV/src/solvers.jl:212\n",
      "┌ Warning: Not solved to optimality, status: Unbounded\n",
      "└ @ JuMP /Users/vishalgupta/.julia/packages/JuMP/I7whV/src/solvers.jl:212\n"
     ]
    },
    {
     "name": "stdout",
     "output_type": "stream",
     "text": [
      "Academic license - for non-commercial use only\n",
      "Academic license - for non-commercial use only\n"
     ]
    },
    {
     "name": "stderr",
     "output_type": "stream",
     "text": [
      "┌ Warning: Not solved to optimality, status: Unbounded\n",
      "└ @ JuMP /Users/vishalgupta/.julia/packages/JuMP/I7whV/src/solvers.jl:212\n",
      "┌ Warning: Not solved to optimality, status: Unbounded\n",
      "└ @ JuMP /Users/vishalgupta/.julia/packages/JuMP/I7whV/src/solvers.jl:212\n"
     ]
    },
    {
     "name": "stdout",
     "output_type": "stream",
     "text": [
      "Academic license - for non-commercial use only\n",
      "Academic license - for non-commercial use only\n",
      "Academic license - for non-commercial use only\n",
      "Academic license - for non-commercial use only\n"
     ]
    },
    {
     "name": "stderr",
     "output_type": "stream",
     "text": [
      "┌ Warning: Not solved to optimality, status: Unbounded\n",
      "└ @ JuMP /Users/vishalgupta/.julia/packages/JuMP/I7whV/src/solvers.jl:212\n",
      "┌ Warning: Not solved to optimality, status: Unbounded\n",
      "└ @ JuMP /Users/vishalgupta/.julia/packages/JuMP/I7whV/src/solvers.jl:212\n",
      "┌ Warning: Not solved to optimality, status: Unbounded\n",
      "└ @ JuMP /Users/vishalgupta/.julia/packages/JuMP/I7whV/src/solvers.jl:212\n",
      "┌ Warning: Not solved to optimality, status: Unbounded\n",
      "└ @ JuMP /Users/vishalgupta/.julia/packages/JuMP/I7whV/src/solvers.jl:212\n"
     ]
    },
    {
     "name": "stdout",
     "output_type": "stream",
     "text": [
      "Academic license - for non-commercial use only\n",
      "Academic license - for non-commercial use only\n"
     ]
    },
    {
     "name": "stderr",
     "output_type": "stream",
     "text": [
      "┌ Warning: Not solved to optimality, status: Unbounded\n",
      "└ @ JuMP /Users/vishalgupta/.julia/packages/JuMP/I7whV/src/solvers.jl:212\n",
      "┌ Warning: Not solved to optimality, status: Unbounded\n",
      "└ @ JuMP /Users/vishalgupta/.julia/packages/JuMP/I7whV/src/solvers.jl:212\n"
     ]
    },
    {
     "name": "stdout",
     "output_type": "stream",
     "text": [
      "Academic license - for non-commercial use only\n",
      "Academic license - for non-commercial use only\n",
      "Academic license - for non-commercial use only\n",
      "Academic license - for non-commercial use only\n"
     ]
    },
    {
     "name": "stderr",
     "output_type": "stream",
     "text": [
      "┌ Warning: Not solved to optimality, status: Unbounded\n",
      "└ @ JuMP /Users/vishalgupta/.julia/packages/JuMP/I7whV/src/solvers.jl:212\n",
      "┌ Warning: Not solved to optimality, status: Unbounded\n",
      "└ @ JuMP /Users/vishalgupta/.julia/packages/JuMP/I7whV/src/solvers.jl:212\n",
      "┌ Warning: Not solved to optimality, status: Unbounded\n",
      "└ @ JuMP /Users/vishalgupta/.julia/packages/JuMP/I7whV/src/solvers.jl:212\n",
      "┌ Warning: Not solved to optimality, status: Unbounded\n",
      "└ @ JuMP /Users/vishalgupta/.julia/packages/JuMP/I7whV/src/solvers.jl:212\n"
     ]
    },
    {
     "name": "stdout",
     "output_type": "stream",
     "text": [
      "Academic license - for non-commercial use only\n",
      "Academic license - for non-commercial use only\n"
     ]
    },
    {
     "name": "stderr",
     "output_type": "stream",
     "text": [
      "┌ Warning: Not solved to optimality, status: Unbounded\n",
      "└ @ JuMP /Users/vishalgupta/.julia/packages/JuMP/I7whV/src/solvers.jl:212\n",
      "┌ Warning: Not solved to optimality, status: Unbounded\n",
      "└ @ JuMP /Users/vishalgupta/.julia/packages/JuMP/I7whV/src/solvers.jl:212\n"
     ]
    },
    {
     "name": "stdout",
     "output_type": "stream",
     "text": [
      "Academic license - for non-commercial use only\n",
      "Academic license - for non-commercial use only\n",
      "Academic license - for non-commercial use only\n",
      "Academic license - for non-commercial use only\n"
     ]
    },
    {
     "name": "stderr",
     "output_type": "stream",
     "text": [
      "┌ Warning: Not solved to optimality, status: Unbounded\n",
      "└ @ JuMP /Users/vishalgupta/.julia/packages/JuMP/I7whV/src/solvers.jl:212\n",
      "┌ Warning: Not solved to optimality, status: Unbounded\n",
      "└ @ JuMP /Users/vishalgupta/.julia/packages/JuMP/I7whV/src/solvers.jl:212\n",
      "┌ Warning: Not solved to optimality, status: Unbounded\n",
      "└ @ JuMP /Users/vishalgupta/.julia/packages/JuMP/I7whV/src/solvers.jl:212\n",
      "┌ Warning: Not solved to optimality, status: Unbounded\n",
      "└ @ JuMP /Users/vishalgupta/.julia/packages/JuMP/I7whV/src/solvers.jl:212\n"
     ]
    },
    {
     "name": "stdout",
     "output_type": "stream",
     "text": [
      "Academic license - for non-commercial use only\n",
      "Academic license - for non-commercial use only\n"
     ]
    },
    {
     "name": "stderr",
     "output_type": "stream",
     "text": [
      "┌ Warning: Not solved to optimality, status: Unbounded\n",
      "└ @ JuMP /Users/vishalgupta/.julia/packages/JuMP/I7whV/src/solvers.jl:212\n",
      "┌ Warning: Not solved to optimality, status: Unbounded\n",
      "└ @ JuMP /Users/vishalgupta/.julia/packages/JuMP/I7whV/src/solvers.jl:212\n"
     ]
    },
    {
     "name": "stdout",
     "output_type": "stream",
     "text": [
      "Academic license - for non-commercial use only\n",
      "Academic license - for non-commercial use only\n",
      "Academic license - for non-commercial use only\n",
      "Academic license - for non-commercial use only\n"
     ]
    },
    {
     "name": "stderr",
     "output_type": "stream",
     "text": [
      "┌ Warning: Not solved to optimality, status: Unbounded\n",
      "└ @ JuMP /Users/vishalgupta/.julia/packages/JuMP/I7whV/src/solvers.jl:212\n",
      "┌ Warning: Not solved to optimality, status: Unbounded\n",
      "└ @ JuMP /Users/vishalgupta/.julia/packages/JuMP/I7whV/src/solvers.jl:212\n",
      "┌ Warning: Not solved to optimality, status: Unbounded\n",
      "└ @ JuMP /Users/vishalgupta/.julia/packages/JuMP/I7whV/src/solvers.jl:212\n",
      "┌ Warning: Not solved to optimality, status: Unbounded\n",
      "└ @ JuMP /Users/vishalgupta/.julia/packages/JuMP/I7whV/src/solvers.jl:212\n"
     ]
    },
    {
     "name": "stdout",
     "output_type": "stream",
     "text": [
      "Academic license - for non-commercial use only\n",
      "Academic license - for non-commercial use only\n"
     ]
    },
    {
     "name": "stderr",
     "output_type": "stream",
     "text": [
      "┌ Warning: Not solved to optimality, status: Unbounded\n",
      "└ @ JuMP /Users/vishalgupta/.julia/packages/JuMP/I7whV/src/solvers.jl:212\n",
      "┌ Warning: Not solved to optimality, status: Unbounded\n",
      "└ @ JuMP /Users/vishalgupta/.julia/packages/JuMP/I7whV/src/solvers.jl:212\n"
     ]
    },
    {
     "name": "stdout",
     "output_type": "stream",
     "text": [
      "Academic license - for non-commercial use only\n",
      "Academic license - for non-commercial use only\n",
      "Academic license - for non-commercial use only\n",
      "Academic license - for non-commercial use only\n"
     ]
    },
    {
     "name": "stderr",
     "output_type": "stream",
     "text": [
      "┌ Warning: Not solved to optimality, status: Unbounded\n",
      "└ @ JuMP /Users/vishalgupta/.julia/packages/JuMP/I7whV/src/solvers.jl:212\n",
      "┌ Warning: Not solved to optimality, status: Unbounded\n",
      "└ @ JuMP /Users/vishalgupta/.julia/packages/JuMP/I7whV/src/solvers.jl:212\n",
      "┌ Warning: Not solved to optimality, status: Unbounded\n",
      "└ @ JuMP /Users/vishalgupta/.julia/packages/JuMP/I7whV/src/solvers.jl:212\n",
      "┌ Warning: Not solved to optimality, status: Unbounded\n",
      "└ @ JuMP /Users/vishalgupta/.julia/packages/JuMP/I7whV/src/solvers.jl:212\n"
     ]
    },
    {
     "name": "stdout",
     "output_type": "stream",
     "text": [
      "Academic license - for non-commercial use only\n",
      "Academic license - for non-commercial use only\n"
     ]
    },
    {
     "name": "stderr",
     "output_type": "stream",
     "text": [
      "┌ Warning: Not solved to optimality, status: Unbounded\n",
      "└ @ JuMP /Users/vishalgupta/.julia/packages/JuMP/I7whV/src/solvers.jl:212\n",
      "┌ Warning: Not solved to optimality, status: Unbounded\n",
      "└ @ JuMP /Users/vishalgupta/.julia/packages/JuMP/I7whV/src/solvers.jl:212\n"
     ]
    },
    {
     "name": "stdout",
     "output_type": "stream",
     "text": [
      "Academic license - for non-commercial use only\n",
      "Academic license - for non-commercial use only\n",
      "Academic license - for non-commercial use only\n",
      "Academic license - for non-commercial use only\n"
     ]
    },
    {
     "name": "stderr",
     "output_type": "stream",
     "text": [
      "┌ Warning: Not solved to optimality, status: Unbounded\n",
      "└ @ JuMP /Users/vishalgupta/.julia/packages/JuMP/I7whV/src/solvers.jl:212\n",
      "┌ Warning: Not solved to optimality, status: Unbounded\n",
      "└ @ JuMP /Users/vishalgupta/.julia/packages/JuMP/I7whV/src/solvers.jl:212\n",
      "┌ Warning: Not solved to optimality, status: Unbounded\n",
      "└ @ JuMP /Users/vishalgupta/.julia/packages/JuMP/I7whV/src/solvers.jl:212\n",
      "┌ Warning: Not solved to optimality, status: Unbounded\n",
      "└ @ JuMP /Users/vishalgupta/.julia/packages/JuMP/I7whV/src/solvers.jl:212\n"
     ]
    },
    {
     "name": "stdout",
     "output_type": "stream",
     "text": [
      "Academic license - for non-commercial use only\n",
      "Academic license - for non-commercial use only\n"
     ]
    },
    {
     "name": "stderr",
     "output_type": "stream",
     "text": [
      "┌ Warning: Not solved to optimality, status: Unbounded\n",
      "└ @ JuMP /Users/vishalgupta/.julia/packages/JuMP/I7whV/src/solvers.jl:212\n",
      "┌ Warning: Not solved to optimality, status: Unbounded\n",
      "└ @ JuMP /Users/vishalgupta/.julia/packages/JuMP/I7whV/src/solvers.jl:212\n"
     ]
    },
    {
     "name": "stdout",
     "output_type": "stream",
     "text": [
      "Academic license - for non-commercial use only\n",
      "Academic license - for non-commercial use only\n",
      "Academic license - for non-commercial use only\n",
      "Academic license - for non-commercial use only\n"
     ]
    },
    {
     "name": "stderr",
     "output_type": "stream",
     "text": [
      "┌ Warning: Not solved to optimality, status: Unbounded\n",
      "└ @ JuMP /Users/vishalgupta/.julia/packages/JuMP/I7whV/src/solvers.jl:212\n",
      "┌ Warning: Not solved to optimality, status: Unbounded\n",
      "└ @ JuMP /Users/vishalgupta/.julia/packages/JuMP/I7whV/src/solvers.jl:212\n",
      "┌ Warning: Not solved to optimality, status: Unbounded\n",
      "└ @ JuMP /Users/vishalgupta/.julia/packages/JuMP/I7whV/src/solvers.jl:212\n",
      "┌ Warning: Not solved to optimality, status: Unbounded\n",
      "└ @ JuMP /Users/vishalgupta/.julia/packages/JuMP/I7whV/src/solvers.jl:212\n"
     ]
    },
    {
     "name": "stdout",
     "output_type": "stream",
     "text": [
      "Academic license - for non-commercial use only\n",
      "Academic license - for non-commercial use only\n"
     ]
    },
    {
     "name": "stderr",
     "output_type": "stream",
     "text": [
      "┌ Warning: Not solved to optimality, status: Unbounded\n",
      "└ @ JuMP /Users/vishalgupta/.julia/packages/JuMP/I7whV/src/solvers.jl:212\n",
      "┌ Warning: Not solved to optimality, status: Unbounded\n",
      "└ @ JuMP /Users/vishalgupta/.julia/packages/JuMP/I7whV/src/solvers.jl:212\n"
     ]
    },
    {
     "name": "stdout",
     "output_type": "stream",
     "text": [
      "Academic license - for non-commercial use only\n",
      "Academic license - for non-commercial use only\n",
      "Academic license - for non-commercial use only\n",
      "Academic license - for non-commercial use only\n"
     ]
    },
    {
     "name": "stderr",
     "output_type": "stream",
     "text": [
      "┌ Warning: Not solved to optimality, status: Unbounded\n",
      "└ @ JuMP /Users/vishalgupta/.julia/packages/JuMP/I7whV/src/solvers.jl:212\n",
      "┌ Warning: Not solved to optimality, status: Unbounded\n",
      "└ @ JuMP /Users/vishalgupta/.julia/packages/JuMP/I7whV/src/solvers.jl:212\n",
      "┌ Warning: Not solved to optimality, status: Unbounded\n",
      "└ @ JuMP /Users/vishalgupta/.julia/packages/JuMP/I7whV/src/solvers.jl:212\n",
      "┌ Warning: Not solved to optimality, status: Unbounded\n",
      "└ @ JuMP /Users/vishalgupta/.julia/packages/JuMP/I7whV/src/solvers.jl:212\n"
     ]
    },
    {
     "name": "stdout",
     "output_type": "stream",
     "text": [
      "Academic license - for non-commercial use only\n",
      "Academic license - for non-commercial use only\n"
     ]
    },
    {
     "name": "stderr",
     "output_type": "stream",
     "text": [
      "┌ Warning: Not solved to optimality, status: Unbounded\n",
      "└ @ JuMP /Users/vishalgupta/.julia/packages/JuMP/I7whV/src/solvers.jl:212\n",
      "┌ Warning: Not solved to optimality, status: Unbounded\n",
      "└ @ JuMP /Users/vishalgupta/.julia/packages/JuMP/I7whV/src/solvers.jl:212\n"
     ]
    },
    {
     "name": "stdout",
     "output_type": "stream",
     "text": [
      "Academic license - for non-commercial use only\n",
      "Academic license - for non-commercial use only\n",
      "Academic license - for non-commercial use only\n",
      "Academic license - for non-commercial use only\n"
     ]
    },
    {
     "name": "stderr",
     "output_type": "stream",
     "text": [
      "┌ Warning: Not solved to optimality, status: Unbounded\n",
      "└ @ JuMP /Users/vishalgupta/.julia/packages/JuMP/I7whV/src/solvers.jl:212\n",
      "┌ Warning: Not solved to optimality, status: Unbounded\n",
      "└ @ JuMP /Users/vishalgupta/.julia/packages/JuMP/I7whV/src/solvers.jl:212\n",
      "┌ Warning: Not solved to optimality, status: Unbounded\n",
      "└ @ JuMP /Users/vishalgupta/.julia/packages/JuMP/I7whV/src/solvers.jl:212\n",
      "┌ Warning: Not solved to optimality, status: Unbounded\n",
      "└ @ JuMP /Users/vishalgupta/.julia/packages/JuMP/I7whV/src/solvers.jl:212\n"
     ]
    },
    {
     "name": "stdout",
     "output_type": "stream",
     "text": [
      "Academic license - for non-commercial use only\n",
      "Academic license - for non-commercial use only\n"
     ]
    },
    {
     "name": "stderr",
     "output_type": "stream",
     "text": [
      "┌ Warning: Not solved to optimality, status: Unbounded\n",
      "└ @ JuMP /Users/vishalgupta/.julia/packages/JuMP/I7whV/src/solvers.jl:212\n",
      "┌ Warning: Not solved to optimality, status: Unbounded\n",
      "└ @ JuMP /Users/vishalgupta/.julia/packages/JuMP/I7whV/src/solvers.jl:212\n"
     ]
    },
    {
     "name": "stdout",
     "output_type": "stream",
     "text": [
      "Academic license - for non-commercial use only\n",
      "Academic license - for non-commercial use only\n",
      "Academic license - for non-commercial use only\n",
      "Academic license - for non-commercial use only\n"
     ]
    },
    {
     "name": "stderr",
     "output_type": "stream",
     "text": [
      "┌ Warning: Not solved to optimality, status: Unbounded\n",
      "└ @ JuMP /Users/vishalgupta/.julia/packages/JuMP/I7whV/src/solvers.jl:212\n",
      "┌ Warning: Not solved to optimality, status: Unbounded\n",
      "└ @ JuMP /Users/vishalgupta/.julia/packages/JuMP/I7whV/src/solvers.jl:212\n",
      "┌ Warning: Not solved to optimality, status: Unbounded\n",
      "└ @ JuMP /Users/vishalgupta/.julia/packages/JuMP/I7whV/src/solvers.jl:212\n",
      "┌ Warning: Not solved to optimality, status: Unbounded\n",
      "└ @ JuMP /Users/vishalgupta/.julia/packages/JuMP/I7whV/src/solvers.jl:212\n"
     ]
    },
    {
     "name": "stdout",
     "output_type": "stream",
     "text": [
      "Academic license - for non-commercial use only\n",
      "Academic license - for non-commercial use only\n"
     ]
    },
    {
     "name": "stderr",
     "output_type": "stream",
     "text": [
      "┌ Warning: Not solved to optimality, status: Unbounded\n",
      "└ @ JuMP /Users/vishalgupta/.julia/packages/JuMP/I7whV/src/solvers.jl:212\n",
      "┌ Warning: Not solved to optimality, status: Unbounded\n",
      "└ @ JuMP /Users/vishalgupta/.julia/packages/JuMP/I7whV/src/solvers.jl:212\n"
     ]
    },
    {
     "name": "stdout",
     "output_type": "stream",
     "text": [
      "Academic license - for non-commercial use only\n",
      "Academic license - for non-commercial use only\n",
      "Academic license - for non-commercial use only\n",
      "Academic license - for non-commercial use only\n"
     ]
    },
    {
     "name": "stderr",
     "output_type": "stream",
     "text": [
      "┌ Warning: Not solved to optimality, status: Unbounded\n",
      "└ @ JuMP /Users/vishalgupta/.julia/packages/JuMP/I7whV/src/solvers.jl:212\n",
      "┌ Warning: Not solved to optimality, status: Unbounded\n",
      "└ @ JuMP /Users/vishalgupta/.julia/packages/JuMP/I7whV/src/solvers.jl:212\n",
      "┌ Warning: Not solved to optimality, status: Unbounded\n",
      "└ @ JuMP /Users/vishalgupta/.julia/packages/JuMP/I7whV/src/solvers.jl:212\n",
      "┌ Warning: Not solved to optimality, status: Unbounded\n",
      "└ @ JuMP /Users/vishalgupta/.julia/packages/JuMP/I7whV/src/solvers.jl:212\n"
     ]
    },
    {
     "name": "stdout",
     "output_type": "stream",
     "text": [
      "Academic license - for non-commercial use only\n",
      "Academic license - for non-commercial use only\n"
     ]
    },
    {
     "name": "stderr",
     "output_type": "stream",
     "text": [
      "┌ Warning: Not solved to optimality, status: Unbounded\n",
      "└ @ JuMP /Users/vishalgupta/.julia/packages/JuMP/I7whV/src/solvers.jl:212\n",
      "┌ Warning: Not solved to optimality, status: Unbounded\n",
      "└ @ JuMP /Users/vishalgupta/.julia/packages/JuMP/I7whV/src/solvers.jl:212\n"
     ]
    },
    {
     "name": "stdout",
     "output_type": "stream",
     "text": [
      "Academic license - for non-commercial use only\n",
      "Academic license - for non-commercial use only\n",
      "Academic license - for non-commercial use only\n",
      "Academic license - for non-commercial use only\n"
     ]
    },
    {
     "name": "stderr",
     "output_type": "stream",
     "text": [
      "┌ Warning: Not solved to optimality, status: Unbounded\n",
      "└ @ JuMP /Users/vishalgupta/.julia/packages/JuMP/I7whV/src/solvers.jl:212\n",
      "┌ Warning: Not solved to optimality, status: Unbounded\n",
      "└ @ JuMP /Users/vishalgupta/.julia/packages/JuMP/I7whV/src/solvers.jl:212\n",
      "┌ Warning: Not solved to optimality, status: Unbounded\n",
      "└ @ JuMP /Users/vishalgupta/.julia/packages/JuMP/I7whV/src/solvers.jl:212\n",
      "┌ Warning: Not solved to optimality, status: Unbounded\n",
      "└ @ JuMP /Users/vishalgupta/.julia/packages/JuMP/I7whV/src/solvers.jl:212\n"
     ]
    },
    {
     "name": "stdout",
     "output_type": "stream",
     "text": [
      "Academic license - for non-commercial use only\n",
      "Academic license - for non-commercial use only\n"
     ]
    },
    {
     "name": "stderr",
     "output_type": "stream",
     "text": [
      "┌ Warning: Not solved to optimality, status: Unbounded\n",
      "└ @ JuMP /Users/vishalgupta/.julia/packages/JuMP/I7whV/src/solvers.jl:212\n",
      "┌ Warning: Not solved to optimality, status: Unbounded\n",
      "└ @ JuMP /Users/vishalgupta/.julia/packages/JuMP/I7whV/src/solvers.jl:212\n"
     ]
    },
    {
     "name": "stdout",
     "output_type": "stream",
     "text": [
      "Academic license - for non-commercial use only\n",
      "Academic license - for non-commercial use only\n",
      "Academic license - for non-commercial use only\n",
      "Academic license - for non-commercial use only\n"
     ]
    },
    {
     "name": "stderr",
     "output_type": "stream",
     "text": [
      "┌ Warning: Not solved to optimality, status: Unbounded\n",
      "└ @ JuMP /Users/vishalgupta/.julia/packages/JuMP/I7whV/src/solvers.jl:212\n",
      "┌ Warning: Not solved to optimality, status: Unbounded\n",
      "└ @ JuMP /Users/vishalgupta/.julia/packages/JuMP/I7whV/src/solvers.jl:212\n",
      "┌ Warning: Not solved to optimality, status: Unbounded\n",
      "└ @ JuMP /Users/vishalgupta/.julia/packages/JuMP/I7whV/src/solvers.jl:212\n",
      "┌ Warning: Not solved to optimality, status: Unbounded\n",
      "└ @ JuMP /Users/vishalgupta/.julia/packages/JuMP/I7whV/src/solvers.jl:212\n"
     ]
    },
    {
     "name": "stdout",
     "output_type": "stream",
     "text": [
      "Academic license - for non-commercial use only\n",
      "Academic license - for non-commercial use only\n"
     ]
    },
    {
     "name": "stderr",
     "output_type": "stream",
     "text": [
      "┌ Warning: Not solved to optimality, status: Unbounded\n",
      "└ @ JuMP /Users/vishalgupta/.julia/packages/JuMP/I7whV/src/solvers.jl:212\n",
      "┌ Warning: Not solved to optimality, status: Unbounded\n",
      "└ @ JuMP /Users/vishalgupta/.julia/packages/JuMP/I7whV/src/solvers.jl:212\n"
     ]
    },
    {
     "name": "stdout",
     "output_type": "stream",
     "text": [
      "Academic license - for non-commercial use only\n",
      "Academic license - for non-commercial use only\n",
      "Academic license - for non-commercial use only\n",
      "Academic license - for non-commercial use only\n"
     ]
    },
    {
     "name": "stderr",
     "output_type": "stream",
     "text": [
      "┌ Warning: Not solved to optimality, status: Unbounded\n",
      "└ @ JuMP /Users/vishalgupta/.julia/packages/JuMP/I7whV/src/solvers.jl:212\n",
      "┌ Warning: Not solved to optimality, status: Unbounded\n",
      "└ @ JuMP /Users/vishalgupta/.julia/packages/JuMP/I7whV/src/solvers.jl:212\n",
      "┌ Warning: Not solved to optimality, status: Unbounded\n",
      "└ @ JuMP /Users/vishalgupta/.julia/packages/JuMP/I7whV/src/solvers.jl:212\n",
      "┌ Warning: Not solved to optimality, status: Unbounded\n",
      "└ @ JuMP /Users/vishalgupta/.julia/packages/JuMP/I7whV/src/solvers.jl:212\n"
     ]
    },
    {
     "name": "stdout",
     "output_type": "stream",
     "text": [
      "Academic license - for non-commercial use only\n",
      "Academic license - for non-commercial use only\n"
     ]
    },
    {
     "name": "stderr",
     "output_type": "stream",
     "text": [
      "┌ Warning: Not solved to optimality, status: Unbounded\n",
      "└ @ JuMP /Users/vishalgupta/.julia/packages/JuMP/I7whV/src/solvers.jl:212\n",
      "┌ Warning: Not solved to optimality, status: Unbounded\n",
      "└ @ JuMP /Users/vishalgupta/.julia/packages/JuMP/I7whV/src/solvers.jl:212\n"
     ]
    },
    {
     "name": "stdout",
     "output_type": "stream",
     "text": [
      "Academic license - for non-commercial use only\n",
      "Academic license - for non-commercial use only\n"
     ]
    },
    {
     "name": "stderr",
     "output_type": "stream",
     "text": [
      "┌ Warning: Not solved to optimality, status: Unbounded\n",
      "└ @ JuMP /Users/vishalgupta/.julia/packages/JuMP/I7whV/src/solvers.jl:212\n",
      "┌ Warning: Not solved to optimality, status: Unbounded\n",
      "└ @ JuMP /Users/vishalgupta/.julia/packages/JuMP/I7whV/src/solvers.jl:212\n"
     ]
    },
    {
     "name": "stdout",
     "output_type": "stream",
     "text": [
      "Academic license - for non-commercial use only\n",
      "Academic license - for non-commercial use only\n",
      "Academic license - for non-commercial use only\n",
      "Academic license - for non-commercial use only\n"
     ]
    },
    {
     "name": "stderr",
     "output_type": "stream",
     "text": [
      "┌ Warning: Not solved to optimality, status: Unbounded\n",
      "└ @ JuMP /Users/vishalgupta/.julia/packages/JuMP/I7whV/src/solvers.jl:212\n",
      "┌ Warning: Not solved to optimality, status: Unbounded\n",
      "└ @ JuMP /Users/vishalgupta/.julia/packages/JuMP/I7whV/src/solvers.jl:212\n",
      "┌ Warning: Not solved to optimality, status: Unbounded\n",
      "└ @ JuMP /Users/vishalgupta/.julia/packages/JuMP/I7whV/src/solvers.jl:212\n",
      "┌ Warning: Not solved to optimality, status: Unbounded\n",
      "└ @ JuMP /Users/vishalgupta/.julia/packages/JuMP/I7whV/src/solvers.jl:212\n"
     ]
    },
    {
     "name": "stdout",
     "output_type": "stream",
     "text": [
      "Academic license - for non-commercial use only\n",
      "Academic license - for non-commercial use only\n"
     ]
    },
    {
     "name": "stderr",
     "output_type": "stream",
     "text": [
      "┌ Warning: Not solved to optimality, status: Unbounded\n",
      "└ @ JuMP /Users/vishalgupta/.julia/packages/JuMP/I7whV/src/solvers.jl:212\n",
      "┌ Warning: Not solved to optimality, status: Unbounded\n",
      "└ @ JuMP /Users/vishalgupta/.julia/packages/JuMP/I7whV/src/solvers.jl:212\n"
     ]
    },
    {
     "name": "stdout",
     "output_type": "stream",
     "text": [
      "Academic license - for non-commercial use only\n",
      "Academic license - for non-commercial use only\n",
      "Academic license - for non-commercial use only\n",
      "Academic license - for non-commercial use only\n"
     ]
    },
    {
     "name": "stderr",
     "output_type": "stream",
     "text": [
      "┌ Warning: Not solved to optimality, status: Unbounded\n",
      "└ @ JuMP /Users/vishalgupta/.julia/packages/JuMP/I7whV/src/solvers.jl:212\n",
      "┌ Warning: Not solved to optimality, status: Unbounded\n",
      "└ @ JuMP /Users/vishalgupta/.julia/packages/JuMP/I7whV/src/solvers.jl:212\n",
      "┌ Warning: Not solved to optimality, status: Unbounded\n",
      "└ @ JuMP /Users/vishalgupta/.julia/packages/JuMP/I7whV/src/solvers.jl:212\n",
      "┌ Warning: Not solved to optimality, status: Unbounded\n",
      "└ @ JuMP /Users/vishalgupta/.julia/packages/JuMP/I7whV/src/solvers.jl:212\n"
     ]
    },
    {
     "name": "stdout",
     "output_type": "stream",
     "text": [
      "Academic license - for non-commercial use only\n",
      "Academic license - for non-commercial use only\n"
     ]
    },
    {
     "name": "stderr",
     "output_type": "stream",
     "text": [
      "┌ Warning: Not solved to optimality, status: Unbounded\n",
      "└ @ JuMP /Users/vishalgupta/.julia/packages/JuMP/I7whV/src/solvers.jl:212\n",
      "┌ Warning: Not solved to optimality, status: Unbounded\n",
      "└ @ JuMP /Users/vishalgupta/.julia/packages/JuMP/I7whV/src/solvers.jl:212\n"
     ]
    },
    {
     "name": "stdout",
     "output_type": "stream",
     "text": [
      "Academic license - for non-commercial use only\n",
      "Academic license - for non-commercial use only\n",
      "Academic license - for non-commercial use only\n",
      "Academic license - for non-commercial use only\n"
     ]
    },
    {
     "name": "stderr",
     "output_type": "stream",
     "text": [
      "┌ Warning: Not solved to optimality, status: Unbounded\n",
      "└ @ JuMP /Users/vishalgupta/.julia/packages/JuMP/I7whV/src/solvers.jl:212\n",
      "┌ Warning: Not solved to optimality, status: Unbounded\n",
      "└ @ JuMP /Users/vishalgupta/.julia/packages/JuMP/I7whV/src/solvers.jl:212\n",
      "┌ Warning: Not solved to optimality, status: Unbounded\n",
      "└ @ JuMP /Users/vishalgupta/.julia/packages/JuMP/I7whV/src/solvers.jl:212\n",
      "┌ Warning: Not solved to optimality, status: Unbounded\n",
      "└ @ JuMP /Users/vishalgupta/.julia/packages/JuMP/I7whV/src/solvers.jl:212\n"
     ]
    },
    {
     "name": "stdout",
     "output_type": "stream",
     "text": [
      "Academic license - for non-commercial use only\n",
      "Academic license - for non-commercial use only\n"
     ]
    },
    {
     "name": "stderr",
     "output_type": "stream",
     "text": [
      "┌ Warning: Not solved to optimality, status: Unbounded\n",
      "└ @ JuMP /Users/vishalgupta/.julia/packages/JuMP/I7whV/src/solvers.jl:212\n",
      "┌ Warning: Not solved to optimality, status: Unbounded\n",
      "└ @ JuMP /Users/vishalgupta/.julia/packages/JuMP/I7whV/src/solvers.jl:212\n"
     ]
    },
    {
     "name": "stdout",
     "output_type": "stream",
     "text": [
      "Academic license - for non-commercial use only\n",
      "Academic license - for non-commercial use only\n",
      "Academic license - for non-commercial use only\n",
      "Academic license - for non-commercial use only\n"
     ]
    },
    {
     "name": "stderr",
     "output_type": "stream",
     "text": [
      "┌ Warning: Not solved to optimality, status: Unbounded\n",
      "└ @ JuMP /Users/vishalgupta/.julia/packages/JuMP/I7whV/src/solvers.jl:212\n",
      "┌ Warning: Not solved to optimality, status: Unbounded\n",
      "└ @ JuMP /Users/vishalgupta/.julia/packages/JuMP/I7whV/src/solvers.jl:212\n",
      "┌ Warning: Not solved to optimality, status: Unbounded\n",
      "└ @ JuMP /Users/vishalgupta/.julia/packages/JuMP/I7whV/src/solvers.jl:212\n",
      "┌ Warning: Not solved to optimality, status: Unbounded\n",
      "└ @ JuMP /Users/vishalgupta/.julia/packages/JuMP/I7whV/src/solvers.jl:212\n"
     ]
    },
    {
     "name": "stdout",
     "output_type": "stream",
     "text": [
      "Academic license - for non-commercial use only\n",
      "Academic license - for non-commercial use only\n"
     ]
    },
    {
     "name": "stderr",
     "output_type": "stream",
     "text": [
      "┌ Warning: Not solved to optimality, status: Unbounded\n",
      "└ @ JuMP /Users/vishalgupta/.julia/packages/JuMP/I7whV/src/solvers.jl:212\n",
      "┌ Warning: Not solved to optimality, status: Unbounded\n",
      "└ @ JuMP /Users/vishalgupta/.julia/packages/JuMP/I7whV/src/solvers.jl:212\n"
     ]
    },
    {
     "name": "stdout",
     "output_type": "stream",
     "text": [
      "Academic license - for non-commercial use only\n",
      "Academic license - for non-commercial use only\n",
      "Academic license - for non-commercial use only\n",
      "Academic license - for non-commercial use only\n"
     ]
    },
    {
     "name": "stderr",
     "output_type": "stream",
     "text": [
      "┌ Warning: Not solved to optimality, status: Unbounded\n",
      "└ @ JuMP /Users/vishalgupta/.julia/packages/JuMP/I7whV/src/solvers.jl:212\n",
      "┌ Warning: Not solved to optimality, status: Unbounded\n",
      "└ @ JuMP /Users/vishalgupta/.julia/packages/JuMP/I7whV/src/solvers.jl:212\n",
      "┌ Warning: Not solved to optimality, status: Unbounded\n",
      "└ @ JuMP /Users/vishalgupta/.julia/packages/JuMP/I7whV/src/solvers.jl:212\n",
      "┌ Warning: Not solved to optimality, status: Unbounded\n",
      "└ @ JuMP /Users/vishalgupta/.julia/packages/JuMP/I7whV/src/solvers.jl:212\n"
     ]
    },
    {
     "name": "stdout",
     "output_type": "stream",
     "text": [
      "Academic license - for non-commercial use only\n",
      "Academic license - for non-commercial use only\n"
     ]
    },
    {
     "name": "stderr",
     "output_type": "stream",
     "text": [
      "┌ Warning: Not solved to optimality, status: Unbounded\n",
      "└ @ JuMP /Users/vishalgupta/.julia/packages/JuMP/I7whV/src/solvers.jl:212\n",
      "┌ Warning: Not solved to optimality, status: Unbounded\n",
      "└ @ JuMP /Users/vishalgupta/.julia/packages/JuMP/I7whV/src/solvers.jl:212\n"
     ]
    },
    {
     "name": "stdout",
     "output_type": "stream",
     "text": [
      "Academic license - for non-commercial use only\n",
      "Academic license - for non-commercial use only\n",
      "Academic license - for non-commercial use only\n",
      "Academic license - for non-commercial use only\n"
     ]
    },
    {
     "name": "stderr",
     "output_type": "stream",
     "text": [
      "┌ Warning: Not solved to optimality, status: Unbounded\n",
      "└ @ JuMP /Users/vishalgupta/.julia/packages/JuMP/I7whV/src/solvers.jl:212\n",
      "┌ Warning: Not solved to optimality, status: Unbounded\n",
      "└ @ JuMP /Users/vishalgupta/.julia/packages/JuMP/I7whV/src/solvers.jl:212\n",
      "┌ Warning: Not solved to optimality, status: Unbounded\n",
      "└ @ JuMP /Users/vishalgupta/.julia/packages/JuMP/I7whV/src/solvers.jl:212\n",
      "┌ Warning: Not solved to optimality, status: Unbounded\n",
      "└ @ JuMP /Users/vishalgupta/.julia/packages/JuMP/I7whV/src/solvers.jl:212\n"
     ]
    },
    {
     "name": "stdout",
     "output_type": "stream",
     "text": [
      "Academic license - for non-commercial use only\n",
      "Academic license - for non-commercial use only\n"
     ]
    },
    {
     "name": "stderr",
     "output_type": "stream",
     "text": [
      "┌ Warning: Not solved to optimality, status: Unbounded\n",
      "└ @ JuMP /Users/vishalgupta/.julia/packages/JuMP/I7whV/src/solvers.jl:212\n",
      "┌ Warning: Not solved to optimality, status: Unbounded\n",
      "└ @ JuMP /Users/vishalgupta/.julia/packages/JuMP/I7whV/src/solvers.jl:212\n"
     ]
    },
    {
     "name": "stdout",
     "output_type": "stream",
     "text": [
      "Academic license - for non-commercial use only\n",
      "Academic license - for non-commercial use only\n",
      "Academic license - for non-commercial use only\n",
      "Academic license - for non-commercial use only\n"
     ]
    },
    {
     "name": "stderr",
     "output_type": "stream",
     "text": [
      "┌ Warning: Not solved to optimality, status: Unbounded\n",
      "└ @ JuMP /Users/vishalgupta/.julia/packages/JuMP/I7whV/src/solvers.jl:212\n",
      "┌ Warning: Not solved to optimality, status: Unbounded\n",
      "└ @ JuMP /Users/vishalgupta/.julia/packages/JuMP/I7whV/src/solvers.jl:212\n",
      "┌ Warning: Not solved to optimality, status: Unbounded\n",
      "└ @ JuMP /Users/vishalgupta/.julia/packages/JuMP/I7whV/src/solvers.jl:212\n",
      "┌ Warning: Not solved to optimality, status: Unbounded\n",
      "└ @ JuMP /Users/vishalgupta/.julia/packages/JuMP/I7whV/src/solvers.jl:212\n"
     ]
    },
    {
     "name": "stdout",
     "output_type": "stream",
     "text": [
      "Academic license - for non-commercial use only\n",
      "Academic license - for non-commercial use only\n"
     ]
    },
    {
     "name": "stderr",
     "output_type": "stream",
     "text": [
      "┌ Warning: Not solved to optimality, status: Unbounded\n",
      "└ @ JuMP /Users/vishalgupta/.julia/packages/JuMP/I7whV/src/solvers.jl:212\n",
      "┌ Warning: Not solved to optimality, status: Unbounded\n",
      "└ @ JuMP /Users/vishalgupta/.julia/packages/JuMP/I7whV/src/solvers.jl:212\n"
     ]
    },
    {
     "name": "stdout",
     "output_type": "stream",
     "text": [
      "Academic license - for non-commercial use only\n",
      "Academic license - for non-commercial use only\n",
      "Academic license - for non-commercial use only\n",
      "Academic license - for non-commercial use only\n",
      "Academic license - for non-commercial use only\n",
      "Academic license - for non-commercial use only\n",
      "Academic license - for non-commercial use only\n",
      "Academic license - for non-commercial use only\n",
      "Academic license - for non-commercial use only\n",
      "Academic license - for non-commercial use only\n",
      "Academic license - for non-commercial use only\n",
      "Academic license - for non-commercial use only\n",
      "Academic license - for non-commercial use only\n",
      "Academic license - for non-commercial use only\n",
      "Academic license - for non-commercial use only\n",
      "Academic license - for non-commercial use only\n",
      "Academic license - for non-commercial use only\n",
      "Academic license - for non-commercial use only\n",
      "Academic license - for non-commercial use only\n",
      "Academic license - for non-commercial use only\n",
      "Academic license - for non-commercial use only\n",
      "Academic license - for non-commercial use only\n",
      "Academic license - for non-commercial use only\n",
      "Academic license - for non-commercial use only\n",
      "Academic license - for non-commercial use only\n",
      "Academic license - for non-commercial use only\n",
      "Academic license - for non-commercial use only\n",
      "Academic license - for non-commercial use only\n",
      "Academic license - for non-commercial use only\n",
      "Academic license - for non-commercial use only\n",
      "Academic license - for non-commercial use only\n",
      "Academic license - for non-commercial use only\n",
      "Academic license - for non-commercial use only\n",
      "Academic license - for non-commercial use only\n",
      "Academic license - for non-commercial use only\n",
      "Academic license - for non-commercial use only\n",
      "Academic license - for non-commercial use only\n",
      "  8.643116 seconds (37.13 M allocations: 1.523 GiB, 4.65% gc time)\n",
      "Academic license - for non-commercial use only\n",
      "Academic license - for non-commercial use only\n",
      "Academic license - for non-commercial use only\n",
      "Academic license - for non-commercial use only\n",
      "Academic license - for non-commercial use only\n",
      "Academic license - for non-commercial use only\n",
      "Academic license - for non-commercial use only\n",
      "Academic license - for non-commercial use only\n",
      "Academic license - for non-commercial use only\n",
      "Academic license - for non-commercial use only\n",
      "Academic license - for non-commercial use only\n",
      "Academic license - for non-commercial use only\n",
      "Academic license - for non-commercial use only\n",
      "Academic license - for non-commercial use only\n",
      "Academic license - for non-commercial use only\n",
      "Academic license - for non-commercial use only\n",
      "Academic license - for non-commercial use only\n",
      "Academic license - for non-commercial use only\n",
      "Academic license - for non-commercial use only\n",
      "Academic license - for non-commercial use only\n",
      "Academic license - for non-commercial use only\n",
      "Academic license - for non-commercial use only\n",
      "Academic license - for non-commercial use only\n",
      "Academic license - for non-commercial use only\n",
      "Academic license - for non-commercial use only\n",
      "Academic license - for non-commercial use only\n",
      "Academic license - for non-commercial use only\n",
      "Academic license - for non-commercial use only\n",
      "Academic license - for non-commercial use only\n",
      "Academic license - for non-commercial use only\n",
      "Academic license - for non-commercial use only\n",
      "Academic license - for non-commercial use only\n",
      "Academic license - for non-commercial use only\n",
      "Academic license - for non-commercial use only\n",
      "Academic license - for non-commercial use only\n",
      "Academic license - for non-commercial use only\n",
      "Academic license - for non-commercial use only\n",
      "Academic license - for non-commercial use only\n",
      "Academic license - for non-commercial use only\n",
      "Academic license - for non-commercial use only\n",
      "Academic license - for non-commercial use only\n",
      "Academic license - for non-commercial use only\n",
      "Academic license - for non-commercial use only\n",
      "Academic license - for non-commercial use only\n",
      "Academic license - for non-commercial use only\n",
      "Academic license - for non-commercial use only\n",
      "Academic license - for non-commercial use only\n",
      "Academic license - for non-commercial use only\n",
      "Academic license - for non-commercial use only\n",
      "Academic license - for non-commercial use only\n",
      "Academic license - for non-commercial use only\n",
      "Academic license - for non-commercial use only\n",
      "Academic license - for non-commercial use only\n",
      "Academic license - for non-commercial use only\n",
      "Academic license - for non-commercial use only\n",
      "Academic license - for non-commercial use only\n",
      "Academic license - for non-commercial use only\n",
      "Academic license - for non-commercial use only\n",
      "Academic license - for non-commercial use only\n",
      "Academic license - for non-commercial use only\n",
      "Academic license - for non-commercial use only\n",
      "Academic license - for non-commercial use only\n",
      "Academic license - for non-commercial use only\n",
      "Academic license - for non-commercial use only\n",
      "Academic license - for non-commercial use only\n",
      "Academic license - for non-commercial use only\n",
      "Academic license - for non-commercial use only\n",
      "Academic license - for non-commercial use only\n",
      "Academic license - for non-commercial use only\n",
      "Academic license - for non-commercial use only\n",
      "Academic license - for non-commercial use only\n",
      "Academic license - for non-commercial use only\n",
      "Academic license - for non-commercial use only\n",
      "Academic license - for non-commercial use only\n",
      "Academic license - for non-commercial use only\n",
      "Academic license - for non-commercial use only\n",
      "Academic license - for non-commercial use only\n",
      "Academic license - for non-commercial use only\n",
      "Academic license - for non-commercial use only\n",
      "Academic license - for non-commercial use only\n",
      "Academic license - for non-commercial use only\n",
      "Academic license - for non-commercial use only\n",
      "Academic license - for non-commercial use only\n",
      "Academic license - for non-commercial use only\n",
      "Academic license - for non-commercial use only\n",
      "Academic license - for non-commercial use only\n",
      "Academic license - for non-commercial use only\n",
      "Academic license - for non-commercial use only\n",
      "Academic license - for non-commercial use only\n",
      "Academic license - for non-commercial use only\n",
      "Academic license - for non-commercial use only\n",
      "Academic license - for non-commercial use only\n",
      "Academic license - for non-commercial use only\n",
      "Academic license - for non-commercial use only\n",
      "Academic license - for non-commercial use only\n",
      "Academic license - for non-commercial use only\n",
      "Academic license - for non-commercial use only\n",
      "Academic license - for non-commercial use only\n",
      "Academic license - for non-commercial use only\n",
      "Academic license - for non-commercial use only\n",
      "Academic license - for non-commercial use only\n",
      "Academic license - for non-commercial use only\n",
      "Academic license - for non-commercial use only\n",
      "Academic license - for non-commercial use only\n",
      "Academic license - for non-commercial use only\n",
      "Academic license - for non-commercial use only\n",
      "Academic license - for non-commercial use only\n",
      "Academic license - for non-commercial use only\n",
      "Academic license - for non-commercial use only\n",
      "Academic license - for non-commercial use only\n",
      "Academic license - for non-commercial use only\n",
      "Academic license - for non-commercial use only\n",
      "Academic license - for non-commercial use only\n",
      "Academic license - for non-commercial use only\n",
      "Academic license - for non-commercial use only\n",
      "Academic license - for non-commercial use only\n",
      "Academic license - for non-commercial use only\n",
      "Academic license - for non-commercial use only\n",
      "Academic license - for non-commercial use only\n",
      "Academic license - for non-commercial use only\n",
      "Academic license - for non-commercial use only\n",
      "Academic license - for non-commercial use only\n",
      "Academic license - for non-commercial use only\n",
      "Academic license - for non-commercial use only\n",
      "Academic license - for non-commercial use only\n",
      "Academic license - for non-commercial use only\n",
      "Academic license - for non-commercial use only\n",
      "Academic license - for non-commercial use only\n",
      "Academic license - for non-commercial use only\n",
      "Academic license - for non-commercial use only\n",
      "Academic license - for non-commercial use only\n",
      "Academic license - for non-commercial use only\n",
      "Academic license - for non-commercial use only\n",
      "Academic license - for non-commercial use only\n",
      "Academic license - for non-commercial use only\n",
      "Academic license - for non-commercial use only\n",
      "Academic license - for non-commercial use only\n",
      "Academic license - for non-commercial use only\n",
      "Academic license - for non-commercial use only\n",
      "Academic license - for non-commercial use only\n",
      "Academic license - for non-commercial use only\n",
      "Academic license - for non-commercial use only\n",
      "Academic license - for non-commercial use only\n",
      "Academic license - for non-commercial use only\n",
      "Academic license - for non-commercial use only\n",
      "Academic license - for non-commercial use only\n",
      "Academic license - for non-commercial use only\n",
      "Academic license - for non-commercial use only\n",
      "Academic license - for non-commercial use only\n",
      "Academic license - for non-commercial use only\n",
      "Academic license - for non-commercial use only\n",
      "Academic license - for non-commercial use only\n",
      "Academic license - for non-commercial use only\n",
      "Academic license - for non-commercial use only\n",
      "Academic license - for non-commercial use only\n",
      "Academic license - for non-commercial use only\n",
      "Academic license - for non-commercial use only\n",
      "Academic license - for non-commercial use only\n",
      "Academic license - for non-commercial use only\n",
      "Academic license - for non-commercial use only\n",
      "Academic license - for non-commercial use only\n",
      "Academic license - for non-commercial use only\n",
      "Academic license - for non-commercial use only\n",
      "Academic license - for non-commercial use only\n",
      "Academic license - for non-commercial use only\n",
      "Academic license - for non-commercial use only\n",
      "Academic license - for non-commercial use only\n",
      "Academic license - for non-commercial use only\n",
      "Academic license - for non-commercial use only\n",
      "Academic license - for non-commercial use only\n",
      "Academic license - for non-commercial use only\n",
      "Academic license - for non-commercial use only\n",
      "Academic license - for non-commercial use only\n",
      "Academic license - for non-commercial use only\n",
      "Academic license - for non-commercial use only\n",
      "Academic license - for non-commercial use only\n",
      "Academic license - for non-commercial use only\n",
      "Academic license - for non-commercial use only\n",
      "Academic license - for non-commercial use only\n",
      "Academic license - for non-commercial use only\n",
      "Academic license - for non-commercial use only\n",
      "Academic license - for non-commercial use only\n",
      "Academic license - for non-commercial use only\n",
      "Academic license - for non-commercial use only\n",
      "Academic license - for non-commercial use only\n",
      "Academic license - for non-commercial use only\n",
      "Academic license - for non-commercial use only\n",
      "Academic license - for non-commercial use only\n",
      "Academic license - for non-commercial use only\n",
      "Academic license - for non-commercial use only\n",
      "Academic license - for non-commercial use only\n",
      "Academic license - for non-commercial use only\n",
      "Academic license - for non-commercial use only\n",
      "Academic license - for non-commercial use only\n",
      "Academic license - for non-commercial use only\n",
      "Academic license - for non-commercial use only\n",
      "Academic license - for non-commercial use only\n",
      "Academic license - for non-commercial use only\n",
      "Academic license - for non-commercial use only\n",
      "Academic license - for non-commercial use only\n",
      "Academic license - for non-commercial use only\n",
      "Academic license - for non-commercial use only\n",
      "Academic license - for non-commercial use only\n",
      "Academic license - for non-commercial use only\n",
      "Academic license - for non-commercial use only\n",
      "Academic license - for non-commercial use only\n",
      "Academic license - for non-commercial use only\n",
      "Academic license - for non-commercial use only\n",
      "Academic license - for non-commercial use only\n",
      "Academic license - for non-commercial use only\n",
      "Academic license - for non-commercial use only\n",
      "Academic license - for non-commercial use only\n",
      "Academic license - for non-commercial use only\n",
      "Academic license - for non-commercial use only\n",
      "Academic license - for non-commercial use only\n",
      "Academic license - for non-commercial use only\n",
      "Academic license - for non-commercial use only\n",
      "Academic license - for non-commercial use only\n",
      "Academic license - for non-commercial use only\n",
      "Academic license - for non-commercial use only\n",
      "Academic license - for non-commercial use only\n",
      "Academic license - for non-commercial use only\n",
      "Academic license - for non-commercial use only\n",
      "Academic license - for non-commercial use only\n",
      "Academic license - for non-commercial use only\n",
      "Academic license - for non-commercial use only\n",
      "Academic license - for non-commercial use only\n",
      "Academic license - for non-commercial use only\n",
      "Academic license - for non-commercial use only\n",
      "Academic license - for non-commercial use only\n",
      "Academic license - for non-commercial use only\n",
      "Academic license - for non-commercial use only\n",
      "Academic license - for non-commercial use only\n",
      "Academic license - for non-commercial use only\n",
      "Academic license - for non-commercial use only\n",
      "Academic license - for non-commercial use only\n",
      "Academic license - for non-commercial use only\n",
      "Academic license - for non-commercial use only\n",
      "Academic license - for non-commercial use only\n",
      "Academic license - for non-commercial use only\n",
      "Academic license - for non-commercial use only\n",
      "Academic license - for non-commercial use only\n",
      "Academic license - for non-commercial use only\n",
      "Academic license - for non-commercial use only\n",
      "Academic license - for non-commercial use only\n",
      "Academic license - for non-commercial use only\n",
      "Academic license - for non-commercial use only\n",
      "Academic license - for non-commercial use only\n",
      "Academic license - for non-commercial use only\n",
      "Academic license - for non-commercial use only\n",
      "Academic license - for non-commercial use only\n",
      "Academic license - for non-commercial use only\n",
      "Academic license - for non-commercial use only\n",
      "Academic license - for non-commercial use only\n",
      "Academic license - for non-commercial use only\n",
      "Academic license - for non-commercial use only\n",
      "Academic license - for non-commercial use only\n",
      "Academic license - for non-commercial use only\n",
      "Academic license - for non-commercial use only\n",
      "Academic license - for non-commercial use only\n",
      "Academic license - for non-commercial use only\n",
      "Academic license - for non-commercial use only\n",
      "Academic license - for non-commercial use only\n",
      "Academic license - for non-commercial use only\n",
      "Academic license - for non-commercial use only\n",
      "Academic license - for non-commercial use only\n",
      "Academic license - for non-commercial use only\n",
      "Academic license - for non-commercial use only\n",
      "Academic license - for non-commercial use only\n",
      "Academic license - for non-commercial use only\n",
      "Academic license - for non-commercial use only\n",
      "Academic license - for non-commercial use only\n",
      "Academic license - for non-commercial use only\n",
      "Academic license - for non-commercial use only\n",
      "Academic license - for non-commercial use only\n",
      "Academic license - for non-commercial use only\n",
      "Academic license - for non-commercial use only\n",
      "Academic license - for non-commercial use only\n",
      "Academic license - for non-commercial use only\n",
      "Academic license - for non-commercial use only\n",
      "Academic license - for non-commercial use only\n",
      "Academic license - for non-commercial use only\n",
      "Academic license - for non-commercial use only\n",
      "Academic license - for non-commercial use only\n",
      "Academic license - for non-commercial use only\n",
      "Academic license - for non-commercial use only\n",
      "Academic license - for non-commercial use only\n",
      "Academic license - for non-commercial use only\n",
      "Academic license - for non-commercial use only\n",
      "Academic license - for non-commercial use only\n",
      "Academic license - for non-commercial use only\n",
      "Academic license - for non-commercial use only\n",
      "Academic license - for non-commercial use only\n",
      "Academic license - for non-commercial use only\n",
      "Academic license - for non-commercial use only\n",
      "Academic license - for non-commercial use only\n",
      "Academic license - for non-commercial use only\n",
      "Academic license - for non-commercial use only\n",
      "Academic license - for non-commercial use only\n",
      "Academic license - for non-commercial use only\n",
      "Academic license - for non-commercial use only\n",
      "Academic license - for non-commercial use only\n",
      "Academic license - for non-commercial use only\n",
      "Academic license - for non-commercial use only\n",
      "Academic license - for non-commercial use only\n",
      "Academic license - for non-commercial use only\n",
      "Academic license - for non-commercial use only\n",
      "Academic license - for non-commercial use only\n",
      "Academic license - for non-commercial use only\n",
      "Academic license - for non-commercial use only\n",
      "Academic license - for non-commercial use only\n",
      "Academic license - for non-commercial use only\n",
      "Academic license - for non-commercial use only\n",
      "Academic license - for non-commercial use only\n",
      "Academic license - for non-commercial use only\n",
      "Academic license - for non-commercial use only\n",
      "Academic license - for non-commercial use only\n",
      "Academic license - for non-commercial use only\n",
      "Academic license - for non-commercial use only\n",
      "Academic license - for non-commercial use only\n",
      "Academic license - for non-commercial use only\n",
      "Academic license - for non-commercial use only\n",
      "Academic license - for non-commercial use only\n",
      "Academic license - for non-commercial use only\n",
      "Academic license - for non-commercial use only\n",
      "Academic license - for non-commercial use only\n",
      "Academic license - for non-commercial use only\n",
      "Academic license - for non-commercial use only\n",
      "Academic license - for non-commercial use only\n",
      "Academic license - for non-commercial use only\n",
      "Academic license - for non-commercial use only\n",
      "Academic license - for non-commercial use only\n",
      "Academic license - for non-commercial use only\n",
      "Academic license - for non-commercial use only\n",
      "Academic license - for non-commercial use only\n",
      "Academic license - for non-commercial use only\n",
      "Academic license - for non-commercial use only\n",
      "Academic license - for non-commercial use only\n",
      "Academic license - for non-commercial use only\n",
      "Academic license - for non-commercial use only\n",
      "Academic license - for non-commercial use only\n",
      "Academic license - for non-commercial use only\n",
      "Academic license - for non-commercial use only\n",
      "Academic license - for non-commercial use only\n",
      "Academic license - for non-commercial use only\n",
      "Academic license - for non-commercial use only\n",
      "Academic license - for non-commercial use only\n",
      "Academic license - for non-commercial use only\n",
      "Academic license - for non-commercial use only\n",
      "Academic license - for non-commercial use only\n",
      "Academic license - for non-commercial use only\n",
      "Academic license - for non-commercial use only\n",
      "Academic license - for non-commercial use only\n",
      "Academic license - for non-commercial use only\n",
      "Academic license - for non-commercial use only\n",
      "Academic license - for non-commercial use only\n",
      "Academic license - for non-commercial use only\n",
      "Academic license - for non-commercial use only\n",
      "Academic license - for non-commercial use only\n",
      "Academic license - for non-commercial use only\n",
      "Academic license - for non-commercial use only\n",
      "Academic license - for non-commercial use only\n",
      "Academic license - for non-commercial use only\n",
      "Academic license - for non-commercial use only\n",
      "Academic license - for non-commercial use only\n",
      "Academic license - for non-commercial use only\n",
      "Academic license - for non-commercial use only\n",
      "Academic license - for non-commercial use only\n",
      "Academic license - for non-commercial use only\n",
      "Academic license - for non-commercial use only\n",
      "Academic license - for non-commercial use only\n",
      "Academic license - for non-commercial use only\n",
      "Academic license - for non-commercial use only\n",
      "Academic license - for non-commercial use only\n",
      "Academic license - for non-commercial use only\n",
      "Academic license - for non-commercial use only\n",
      "Academic license - for non-commercial use only\n",
      "Academic license - for non-commercial use only\n",
      "Academic license - for non-commercial use only\n",
      "Academic license - for non-commercial use only\n",
      "Academic license - for non-commercial use only\n",
      "Academic license - for non-commercial use only\n",
      "Academic license - for non-commercial use only\n",
      "Academic license - for non-commercial use only\n",
      "Academic license - for non-commercial use only\n",
      "Academic license - for non-commercial use only\n",
      "Academic license - for non-commercial use only\n",
      "Academic license - for non-commercial use only\n",
      "Academic license - for non-commercial use only\n",
      "Academic license - for non-commercial use only\n",
      "Academic license - for non-commercial use only\n",
      "Academic license - for non-commercial use only\n",
      "Academic license - for non-commercial use only\n",
      "Academic license - for non-commercial use only\n",
      "Academic license - for non-commercial use only\n",
      "Academic license - for non-commercial use only\n",
      "Academic license - for non-commercial use only\n",
      "Academic license - for non-commercial use only\n",
      "Academic license - for non-commercial use only\n",
      "Academic license - for non-commercial use only\n",
      "Academic license - for non-commercial use only\n",
      "Academic license - for non-commercial use only\n",
      "Academic license - for non-commercial use only\n",
      "Academic license - for non-commercial use only\n",
      "Academic license - for non-commercial use only\n",
      "Academic license - for non-commercial use only\n",
      "Academic license - for non-commercial use only\n",
      "Academic license - for non-commercial use only\n",
      "Academic license - for non-commercial use only\n",
      "Academic license - for non-commercial use only\n",
      "Academic license - for non-commercial use only\n",
      "Academic license - for non-commercial use only\n",
      "Academic license - for non-commercial use only\n",
      "Academic license - for non-commercial use only\n",
      "Academic license - for non-commercial use only\n",
      "Academic license - for non-commercial use only\n",
      "Academic license - for non-commercial use only\n",
      "Academic license - for non-commercial use only\n",
      "Academic license - for non-commercial use only\n",
      "Academic license - for non-commercial use only\n",
      "Academic license - for non-commercial use only\n",
      "Academic license - for non-commercial use only\n",
      "Academic license - for non-commercial use only\n",
      "Academic license - for non-commercial use only\n",
      "Academic license - for non-commercial use only\n",
      "Academic license - for non-commercial use only\n",
      "Academic license - for non-commercial use only\n",
      "Academic license - for non-commercial use only\n",
      "Academic license - for non-commercial use only\n",
      "Academic license - for non-commercial use only\n",
      "Academic license - for non-commercial use only\n",
      "Academic license - for non-commercial use only\n",
      "Academic license - for non-commercial use only\n",
      "Academic license - for non-commercial use only\n",
      "Academic license - for non-commercial use only\n",
      "Academic license - for non-commercial use only\n",
      "Academic license - for non-commercial use only\n",
      "Academic license - for non-commercial use only\n",
      "Academic license - for non-commercial use only\n",
      "Academic license - for non-commercial use only\n",
      "Academic license - for non-commercial use only\n",
      "Academic license - for non-commercial use only\n",
      "Academic license - for non-commercial use only\n",
      "Academic license - for non-commercial use only\n",
      "Academic license - for non-commercial use only\n",
      "Academic license - for non-commercial use only\n",
      "Academic license - for non-commercial use only\n",
      "Academic license - for non-commercial use only\n",
      "Academic license - for non-commercial use only\n",
      "Academic license - for non-commercial use only\n",
      "Academic license - for non-commercial use only\n",
      "Academic license - for non-commercial use only\n",
      "Academic license - for non-commercial use only\n",
      "Academic license - for non-commercial use only\n",
      "Academic license - for non-commercial use only\n",
      "Academic license - for non-commercial use only\n",
      "Academic license - for non-commercial use only\n",
      "Academic license - for non-commercial use only\n",
      "Academic license - for non-commercial use only\n",
      "Academic license - for non-commercial use only\n",
      "Academic license - for non-commercial use only\n",
      "Academic license - for non-commercial use only\n",
      "Academic license - for non-commercial use only\n",
      "Academic license - for non-commercial use only\n",
      "Academic license - for non-commercial use only\n",
      "Academic license - for non-commercial use only\n",
      "Academic license - for non-commercial use only\n",
      "Academic license - for non-commercial use only\n",
      "Academic license - for non-commercial use only\n",
      "Academic license - for non-commercial use only\n",
      "Academic license - for non-commercial use only\n",
      "Academic license - for non-commercial use only\n",
      "Academic license - for non-commercial use only\n",
      "Academic license - for non-commercial use only\n",
      "Academic license - for non-commercial use only\n",
      "Academic license - for non-commercial use only\n",
      "Academic license - for non-commercial use only\n",
      "Academic license - for non-commercial use only\n",
      "Academic license - for non-commercial use only\n",
      "Academic license - for non-commercial use only\n",
      "Academic license - for non-commercial use only\n",
      "Academic license - for non-commercial use only\n",
      "Academic license - for non-commercial use only\n",
      "Academic license - for non-commercial use only\n",
      "Academic license - for non-commercial use only\n",
      "Academic license - for non-commercial use only\n",
      "Academic license - for non-commercial use only\n",
      "Academic license - for non-commercial use only\n",
      "Academic license - for non-commercial use only\n",
      "Academic license - for non-commercial use only\n",
      "Academic license - for non-commercial use only\n",
      "Academic license - for non-commercial use only\n",
      "Academic license - for non-commercial use only\n",
      "Academic license - for non-commercial use only\n",
      "Academic license - for non-commercial use only\n",
      "Academic license - for non-commercial use only\n",
      "Academic license - for non-commercial use only\n",
      "Academic license - for non-commercial use only\n",
      "Academic license - for non-commercial use only\n",
      "Academic license - for non-commercial use only\n",
      "Academic license - for non-commercial use only\n",
      "Academic license - for non-commercial use only\n",
      "Academic license - for non-commercial use only\n",
      "Academic license - for non-commercial use only\n",
      "Academic license - for non-commercial use only\n",
      "Academic license - for non-commercial use only\n",
      "Academic license - for non-commercial use only\n",
      "Academic license - for non-commercial use only\n",
      "Academic license - for non-commercial use only\n",
      "Academic license - for non-commercial use only\n",
      "Academic license - for non-commercial use only\n",
      "Academic license - for non-commercial use only\n",
      "Academic license - for non-commercial use only\n",
      "Academic license - for non-commercial use only\n",
      "Academic license - for non-commercial use only\n",
      "Academic license - for non-commercial use only\n",
      "Academic license - for non-commercial use only\n",
      "Academic license - for non-commercial use only\n",
      "Academic license - for non-commercial use only\n",
      "Academic license - for non-commercial use only\n",
      "Academic license - for non-commercial use only\n",
      "Academic license - for non-commercial use only\n",
      "Academic license - for non-commercial use only\n",
      "Academic license - for non-commercial use only\n",
      "Academic license - for non-commercial use only\n",
      "Academic license - for non-commercial use only\n",
      "Academic license - for non-commercial use only\n",
      "Academic license - for non-commercial use only\n",
      "Academic license - for non-commercial use only\n",
      "Academic license - for non-commercial use only\n",
      "Academic license - for non-commercial use only\n",
      "Academic license - for non-commercial use only\n",
      "Academic license - for non-commercial use only\n",
      "Academic license - for non-commercial use only\n",
      "Academic license - for non-commercial use only\n",
      "Academic license - for non-commercial use only\n",
      "Academic license - for non-commercial use only\n",
      "Academic license - for non-commercial use only\n",
      "Academic license - for non-commercial use only\n",
      "Academic license - for non-commercial use only\n",
      "Academic license - for non-commercial use only\n",
      "Academic license - for non-commercial use only\n",
      "Academic license - for non-commercial use only\n",
      "Academic license - for non-commercial use only\n",
      "Academic license - for non-commercial use only\n",
      "Academic license - for non-commercial use only\n",
      "Academic license - for non-commercial use only\n",
      "Academic license - for non-commercial use only\n",
      "Academic license - for non-commercial use only\n",
      "Academic license - for non-commercial use only\n",
      "Academic license - for non-commercial use only\n",
      "Academic license - for non-commercial use only\n",
      "Academic license - for non-commercial use only\n",
      "Academic license - for non-commercial use only\n",
      "Academic license - for non-commercial use only\n",
      "Academic license - for non-commercial use only\n",
      "Academic license - for non-commercial use only\n",
      "Academic license - for non-commercial use only\n",
      "Academic license - for non-commercial use only\n",
      "Academic license - for non-commercial use only\n",
      "Academic license - for non-commercial use only\n",
      "Academic license - for non-commercial use only\n",
      "Academic license - for non-commercial use only\n",
      "Academic license - for non-commercial use only\n",
      "Academic license - for non-commercial use only\n",
      "Academic license - for non-commercial use only\n",
      "Academic license - for non-commercial use only\n",
      "Academic license - for non-commercial use only\n",
      "Academic license - for non-commercial use only\n",
      "Academic license - for non-commercial use only\n",
      "Academic license - for non-commercial use only\n",
      "Academic license - for non-commercial use only\n",
      "Academic license - for non-commercial use only\n",
      "Academic license - for non-commercial use only\n",
      "Academic license - for non-commercial use only\n",
      "Academic license - for non-commercial use only\n",
      "Academic license - for non-commercial use only\n",
      "Academic license - for non-commercial use only\n",
      "Academic license - for non-commercial use only\n",
      "Academic license - for non-commercial use only\n",
      "Academic license - for non-commercial use only\n",
      "Academic license - for non-commercial use only\n",
      "Academic license - for non-commercial use only\n",
      "Academic license - for non-commercial use only\n",
      "Academic license - for non-commercial use only\n",
      "Academic license - for non-commercial use only\n",
      "Academic license - for non-commercial use only\n",
      "Academic license - for non-commercial use only\n",
      "Academic license - for non-commercial use only\n",
      "Academic license - for non-commercial use only\n",
      "Academic license - for non-commercial use only\n",
      "Academic license - for non-commercial use only\n",
      "Academic license - for non-commercial use only\n",
      "Academic license - for non-commercial use only\n",
      "Academic license - for non-commercial use only\n",
      "Academic license - for non-commercial use only\n",
      "Academic license - for non-commercial use only\n",
      "Academic license - for non-commercial use only\n",
      "Academic license - for non-commercial use only\n",
      "Academic license - for non-commercial use only\n",
      "Academic license - for non-commercial use only\n",
      "Academic license - for non-commercial use only\n",
      "Academic license - for non-commercial use only\n",
      "Academic license - for non-commercial use only\n",
      "Academic license - for non-commercial use only\n",
      "Academic license - for non-commercial use only\n",
      "Academic license - for non-commercial use only\n",
      "Academic license - for non-commercial use only\n",
      "Academic license - for non-commercial use only\n",
      "Academic license - for non-commercial use only\n",
      "Academic license - for non-commercial use only\n",
      "Academic license - for non-commercial use only\n",
      "Academic license - for non-commercial use only\n",
      "Academic license - for non-commercial use only\n",
      "Academic license - for non-commercial use only\n",
      "Academic license - for non-commercial use only\n",
      "Academic license - for non-commercial use only\n",
      "Academic license - for non-commercial use only\n",
      "Academic license - for non-commercial use only\n",
      "Academic license - for non-commercial use only\n",
      "Academic license - for non-commercial use only\n",
      "Academic license - for non-commercial use only\n",
      "Academic license - for non-commercial use only\n",
      "Academic license - for non-commercial use only\n",
      "Academic license - for non-commercial use only\n",
      "Academic license - for non-commercial use only\n",
      "Academic license - for non-commercial use only\n",
      "Academic license - for non-commercial use only\n",
      "Academic license - for non-commercial use only\n",
      "Academic license - for non-commercial use only\n",
      "Academic license - for non-commercial use only\n",
      "Academic license - for non-commercial use only\n",
      "Academic license - for non-commercial use only\n",
      "Academic license - for non-commercial use only\n",
      "Academic license - for non-commercial use only\n",
      "Academic license - for non-commercial use only\n",
      "Academic license - for non-commercial use only\n",
      "Academic license - for non-commercial use only\n",
      "Academic license - for non-commercial use only\n",
      "Academic license - for non-commercial use only\n",
      "Academic license - for non-commercial use only\n",
      "Academic license - for non-commercial use only\n",
      "Academic license - for non-commercial use only\n",
      "Academic license - for non-commercial use only\n",
      "Academic license - for non-commercial use only\n",
      "Academic license - for non-commercial use only\n",
      "Academic license - for non-commercial use only\n",
      "Academic license - for non-commercial use only\n",
      "Academic license - for non-commercial use only\n",
      "Academic license - for non-commercial use only\n",
      "Academic license - for non-commercial use only\n",
      "Academic license - for non-commercial use only\n",
      "Academic license - for non-commercial use only\n",
      "Academic license - for non-commercial use only\n",
      "Academic license - for non-commercial use only\n",
      "Academic license - for non-commercial use only\n",
      "Academic license - for non-commercial use only\n",
      "Academic license - for non-commercial use only\n",
      "Academic license - for non-commercial use only\n",
      "Academic license - for non-commercial use only\n",
      "Academic license - for non-commercial use only\n",
      "Academic license - for non-commercial use only\n",
      "Academic license - for non-commercial use only\n",
      "Academic license - for non-commercial use only\n",
      "Academic license - for non-commercial use only\n",
      "Academic license - for non-commercial use only\n",
      "Academic license - for non-commercial use only\n",
      "Academic license - for non-commercial use only\n",
      "Academic license - for non-commercial use only\n",
      "Academic license - for non-commercial use only\n",
      "Academic license - for non-commercial use only\n",
      "Academic license - for non-commercial use only\n",
      "Academic license - for non-commercial use only\n",
      "Academic license - for non-commercial use only\n",
      "Academic license - for non-commercial use only\n",
      "Academic license - for non-commercial use only\n",
      "Academic license - for non-commercial use only\n",
      "Academic license - for non-commercial use only\n",
      "Academic license - for non-commercial use only\n",
      "Academic license - for non-commercial use only\n",
      "Academic license - for non-commercial use only\n",
      "Academic license - for non-commercial use only\n",
      "Academic license - for non-commercial use only\n",
      "Academic license - for non-commercial use only\n",
      "Academic license - for non-commercial use only\n",
      "Academic license - for non-commercial use only\n",
      "Academic license - for non-commercial use only\n",
      "Academic license - for non-commercial use only\n",
      "Academic license - for non-commercial use only\n",
      "Academic license - for non-commercial use only\n",
      "Academic license - for non-commercial use only\n",
      "Academic license - for non-commercial use only\n",
      "Academic license - for non-commercial use only\n",
      "Academic license - for non-commercial use only\n",
      "Academic license - for non-commercial use only\n",
      "Academic license - for non-commercial use only\n",
      "Academic license - for non-commercial use only\n",
      "Academic license - for non-commercial use only\n",
      "Academic license - for non-commercial use only\n",
      "Academic license - for non-commercial use only\n",
      "Academic license - for non-commercial use only\n",
      "Academic license - for non-commercial use only\n",
      "Academic license - for non-commercial use only\n",
      "Academic license - for non-commercial use only\n",
      "Academic license - for non-commercial use only\n",
      "Academic license - for non-commercial use only\n",
      "Academic license - for non-commercial use only\n",
      "Academic license - for non-commercial use only\n",
      "Academic license - for non-commercial use only\n",
      "Academic license - for non-commercial use only\n",
      "Academic license - for non-commercial use only\n",
      "Academic license - for non-commercial use only\n",
      "Academic license - for non-commercial use only\n",
      "Academic license - for non-commercial use only\n",
      "Academic license - for non-commercial use only\n",
      "Academic license - for non-commercial use only\n",
      "Academic license - for non-commercial use only\n",
      "Academic license - for non-commercial use only\n",
      "Academic license - for non-commercial use only\n",
      "Academic license - for non-commercial use only\n",
      "Academic license - for non-commercial use only\n",
      "Academic license - for non-commercial use only\n",
      "Academic license - for non-commercial use only\n",
      "Academic license - for non-commercial use only\n",
      "Academic license - for non-commercial use only\n",
      "Academic license - for non-commercial use only\n",
      "Academic license - for non-commercial use only\n",
      "Academic license - for non-commercial use only\n",
      "Academic license - for non-commercial use only\n",
      "Academic license - for non-commercial use only\n",
      "Academic license - for non-commercial use only\n",
      "Academic license - for non-commercial use only\n",
      "Academic license - for non-commercial use only\n",
      "Academic license - for non-commercial use only\n",
      "Academic license - for non-commercial use only\n",
      "Academic license - for non-commercial use only\n",
      "Academic license - for non-commercial use only\n",
      "Academic license - for non-commercial use only\n",
      "Academic license - for non-commercial use only\n",
      "Academic license - for non-commercial use only\n",
      "Academic license - for non-commercial use only\n",
      "Academic license - for non-commercial use only\n",
      "Academic license - for non-commercial use only\n",
      "Academic license - for non-commercial use only\n",
      "Academic license - for non-commercial use only\n",
      "Academic license - for non-commercial use only\n",
      "Academic license - for non-commercial use only\n",
      "Academic license - for non-commercial use only\n",
      "Academic license - for non-commercial use only\n",
      "Academic license - for non-commercial use only\n",
      "Academic license - for non-commercial use only\n",
      "Academic license - for non-commercial use only\n",
      "Academic license - for non-commercial use only\n",
      "Academic license - for non-commercial use only\n",
      "Academic license - for non-commercial use only\n",
      "Academic license - for non-commercial use only\n",
      "Academic license - for non-commercial use only\n",
      "Academic license - for non-commercial use only\n",
      "Academic license - for non-commercial use only\n",
      "Academic license - for non-commercial use only\n",
      "Academic license - for non-commercial use only\n",
      "Academic license - for non-commercial use only\n",
      "Academic license - for non-commercial use only\n",
      "Academic license - for non-commercial use only\n",
      "Academic license - for non-commercial use only\n",
      "Academic license - for non-commercial use only\n",
      "Academic license - for non-commercial use only\n",
      "Academic license - for non-commercial use only\n",
      "Academic license - for non-commercial use only\n",
      "Academic license - for non-commercial use only\n",
      "Academic license - for non-commercial use only\n",
      "Academic license - for non-commercial use only\n",
      "Academic license - for non-commercial use only\n",
      "Academic license - for non-commercial use only\n",
      "Academic license - for non-commercial use only\n",
      "Academic license - for non-commercial use only\n",
      "Academic license - for non-commercial use only\n",
      "Academic license - for non-commercial use only\n",
      "Academic license - for non-commercial use only\n",
      "Academic license - for non-commercial use only\n",
      "Academic license - for non-commercial use only\n",
      "Academic license - for non-commercial use only\n",
      "Academic license - for non-commercial use only\n",
      "Academic license - for non-commercial use only\n",
      "Academic license - for non-commercial use only\n",
      "Academic license - for non-commercial use only\n",
      "Academic license - for non-commercial use only\n",
      "Academic license - for non-commercial use only\n",
      "Academic license - for non-commercial use only\n",
      "Academic license - for non-commercial use only\n",
      "Academic license - for non-commercial use only\n",
      "Academic license - for non-commercial use only\n",
      "Academic license - for non-commercial use only\n",
      "Academic license - for non-commercial use only\n",
      "Academic license - for non-commercial use only\n",
      "Academic license - for non-commercial use only\n",
      "Academic license - for non-commercial use only\n",
      "Academic license - for non-commercial use only\n",
      "Academic license - for non-commercial use only\n",
      "Academic license - for non-commercial use only\n",
      "Academic license - for non-commercial use only\n",
      "Academic license - for non-commercial use only\n",
      "Academic license - for non-commercial use only\n",
      "Academic license - for non-commercial use only\n",
      "Academic license - for non-commercial use only\n",
      "Academic license - for non-commercial use only\n",
      "Academic license - for non-commercial use only\n",
      "Academic license - for non-commercial use only\n",
      "Academic license - for non-commercial use only\n",
      "Academic license - for non-commercial use only\n",
      "Academic license - for non-commercial use only\n",
      "Academic license - for non-commercial use only\n",
      "Academic license - for non-commercial use only\n",
      "Academic license - for non-commercial use only\n",
      "Academic license - for non-commercial use only\n",
      "Academic license - for non-commercial use only\n",
      "Academic license - for non-commercial use only\n",
      "Academic license - for non-commercial use only\n",
      "Academic license - for non-commercial use only\n",
      "Academic license - for non-commercial use only\n",
      "Academic license - for non-commercial use only\n",
      "Academic license - for non-commercial use only\n",
      "Academic license - for non-commercial use only\n",
      "Academic license - for non-commercial use only\n",
      "Academic license - for non-commercial use only\n",
      "Academic license - for non-commercial use only\n",
      "Academic license - for non-commercial use only\n",
      "Academic license - for non-commercial use only\n",
      "Academic license - for non-commercial use only\n",
      "Academic license - for non-commercial use only\n",
      "Academic license - for non-commercial use only\n",
      "Academic license - for non-commercial use only\n",
      "Academic license - for non-commercial use only\n",
      "Academic license - for non-commercial use only\n",
      "Academic license - for non-commercial use only\n",
      "Academic license - for non-commercial use only\n",
      "Academic license - for non-commercial use only\n",
      "Academic license - for non-commercial use only\n",
      "Academic license - for non-commercial use only\n",
      "Academic license - for non-commercial use only\n",
      "Academic license - for non-commercial use only\n",
      "Academic license - for non-commercial use only\n",
      "Academic license - for non-commercial use only\n",
      "Academic license - for non-commercial use only\n",
      "Academic license - for non-commercial use only\n",
      "Academic license - for non-commercial use only\n",
      "Academic license - for non-commercial use only\n",
      "Academic license - for non-commercial use only\n",
      "Academic license - for non-commercial use only\n",
      "Academic license - for non-commercial use only\n",
      "Academic license - for non-commercial use only\n",
      "Academic license - for non-commercial use only\n",
      "Academic license - for non-commercial use only\n",
      "Academic license - for non-commercial use only\n",
      "Academic license - for non-commercial use only\n",
      "Academic license - for non-commercial use only\n",
      "Academic license - for non-commercial use only\n",
      "Academic license - for non-commercial use only\n",
      "Academic license - for non-commercial use only\n",
      "Academic license - for non-commercial use only\n",
      "Academic license - for non-commercial use only\n",
      "Academic license - for non-commercial use only\n",
      "Academic license - for non-commercial use only\n",
      "Academic license - for non-commercial use only\n",
      "Academic license - for non-commercial use only\n",
      "Academic license - for non-commercial use only\n",
      "Academic license - for non-commercial use only\n",
      "Academic license - for non-commercial use only\n",
      "Academic license - for non-commercial use only\n",
      "Academic license - for non-commercial use only\n",
      "Academic license - for non-commercial use only\n",
      "Academic license - for non-commercial use only\n",
      "Academic license - for non-commercial use only\n",
      "Academic license - for non-commercial use only\n",
      "Academic license - for non-commercial use only\n",
      "Academic license - for non-commercial use only\n",
      "Academic license - for non-commercial use only\n",
      "Academic license - for non-commercial use only\n",
      "Academic license - for non-commercial use only\n",
      "Academic license - for non-commercial use only\n",
      "Academic license - for non-commercial use only\n",
      "Academic license - for non-commercial use only\n",
      "Academic license - for non-commercial use only\n",
      "Academic license - for non-commercial use only\n",
      "Academic license - for non-commercial use only\n",
      "Academic license - for non-commercial use only\n",
      "Academic license - for non-commercial use only\n",
      "Academic license - for non-commercial use only\n",
      "Academic license - for non-commercial use only\n",
      "Academic license - for non-commercial use only\n",
      "Academic license - for non-commercial use only\n",
      "Academic license - for non-commercial use only\n",
      "Academic license - for non-commercial use only\n",
      "Academic license - for non-commercial use only\n",
      "Academic license - for non-commercial use only\n",
      "Academic license - for non-commercial use only\n",
      "Academic license - for non-commercial use only\n",
      "Academic license - for non-commercial use only\n",
      "Academic license - for non-commercial use only\n",
      "Academic license - for non-commercial use only\n",
      "Academic license - for non-commercial use only\n",
      "Academic license - for non-commercial use only\n",
      "Academic license - for non-commercial use only\n",
      "Academic license - for non-commercial use only\n",
      "Academic license - for non-commercial use only\n",
      "Academic license - for non-commercial use only\n",
      "Academic license - for non-commercial use only\n",
      "Academic license - for non-commercial use only\n",
      "Academic license - for non-commercial use only\n",
      "Academic license - for non-commercial use only\n",
      "Academic license - for non-commercial use only\n",
      "Academic license - for non-commercial use only\n",
      "Academic license - for non-commercial use only\n",
      "Academic license - for non-commercial use only\n",
      "Academic license - for non-commercial use only\n",
      "Academic license - for non-commercial use only\n",
      "Academic license - for non-commercial use only\n",
      "Academic license - for non-commercial use only\n",
      "Academic license - for non-commercial use only\n",
      "Academic license - for non-commercial use only\n",
      "Academic license - for non-commercial use only\n",
      "Academic license - for non-commercial use only\n",
      "Academic license - for non-commercial use only\n",
      "Academic license - for non-commercial use only\n",
      "Academic license - for non-commercial use only\n",
      "Academic license - for non-commercial use only\n",
      "Academic license - for non-commercial use only\n",
      "Academic license - for non-commercial use only\n",
      "Academic license - for non-commercial use only\n",
      "Academic license - for non-commercial use only\n",
      "Academic license - for non-commercial use only\n",
      "Academic license - for non-commercial use only\n",
      "Academic license - for non-commercial use only\n",
      "Academic license - for non-commercial use only\n",
      "Academic license - for non-commercial use only\n",
      "Academic license - for non-commercial use only\n",
      "Academic license - for non-commercial use only\n",
      "Academic license - for non-commercial use only\n",
      "Academic license - for non-commercial use only\n",
      "Academic license - for non-commercial use only\n",
      "Academic license - for non-commercial use only\n",
      "Academic license - for non-commercial use only\n",
      "Academic license - for non-commercial use only\n",
      "Academic license - for non-commercial use only\n",
      "Academic license - for non-commercial use only\n",
      "Academic license - for non-commercial use only\n",
      "Academic license - for non-commercial use only\n",
      "Academic license - for non-commercial use only\n",
      "Academic license - for non-commercial use only\n",
      "Academic license - for non-commercial use only\n",
      "Academic license - for non-commercial use only\n",
      "Academic license - for non-commercial use only\n",
      "Academic license - for non-commercial use only\n",
      "Academic license - for non-commercial use only\n",
      "Academic license - for non-commercial use only\n",
      "Academic license - for non-commercial use only\n",
      "Academic license - for non-commercial use only\n",
      "Academic license - for non-commercial use only\n",
      "Academic license - for non-commercial use only\n",
      "Academic license - for non-commercial use only\n",
      "Academic license - for non-commercial use only\n",
      "Academic license - for non-commercial use only\n",
      "Academic license - for non-commercial use only\n",
      "Academic license - for non-commercial use only\n",
      "Academic license - for non-commercial use only\n",
      "Academic license - for non-commercial use only\n",
      "Academic license - for non-commercial use only\n",
      "Academic license - for non-commercial use only\n",
      "Academic license - for non-commercial use only\n",
      "Academic license - for non-commercial use only\n",
      "Academic license - for non-commercial use only\n",
      "Academic license - for non-commercial use only\n",
      "Academic license - for non-commercial use only\n",
      "Academic license - for non-commercial use only\n",
      "Academic license - for non-commercial use only\n",
      "Academic license - for non-commercial use only\n",
      "Academic license - for non-commercial use only\n",
      "Academic license - for non-commercial use only\n",
      "Academic license - for non-commercial use only\n",
      "Academic license - for non-commercial use only\n",
      "Academic license - for non-commercial use only\n",
      "Academic license - for non-commercial use only\n",
      "Academic license - for non-commercial use only\n",
      "Academic license - for non-commercial use only\n",
      "Academic license - for non-commercial use only\n",
      "Academic license - for non-commercial use only\n",
      "Academic license - for non-commercial use only\n",
      "Academic license - for non-commercial use only\n",
      "Academic license - for non-commercial use only\n",
      "Academic license - for non-commercial use only\n",
      "Academic license - for non-commercial use only\n",
      "Academic license - for non-commercial use only\n",
      "Academic license - for non-commercial use only\n",
      "Academic license - for non-commercial use only\n",
      "Academic license - for non-commercial use only\n",
      "Academic license - for non-commercial use only\n",
      "Academic license - for non-commercial use only\n",
      "Academic license - for non-commercial use only\n",
      "Academic license - for non-commercial use only\n",
      "Academic license - for non-commercial use only\n",
      "Academic license - for non-commercial use only\n",
      "  4.523663 seconds (11.37 M allocations: 956.607 MiB, 5.43% gc time)\n",
      "LB Symmetric\n",
      "Academic license - for non-commercial use only\n",
      "Academic license - for non-commercial use only\n",
      "Academic license - for non-commercial use only\n",
      "Academic license - for non-commercial use only\n",
      "Academic license - for non-commercial use only\n",
      "Academic license - for non-commercial use only\n",
      "Academic license - for non-commercial use only\n",
      "Academic license - for non-commercial use only\n",
      "Academic license - for non-commercial use only\n",
      "Academic license - for non-commercial use only\n",
      "Academic license - for non-commercial use only\n",
      "Academic license - for non-commercial use only\n",
      "Academic license - for non-commercial use only\n",
      "Academic license - for non-commercial use only\n",
      "Academic license - for non-commercial use only\n",
      "Academic license - for non-commercial use only\n",
      "Academic license - for non-commercial use only\n",
      "Academic license - for non-commercial use only\n",
      "Academic license - for non-commercial use only\n",
      "Academic license - for non-commercial use only\n",
      "Academic license - for non-commercial use only\n",
      "Academic license - for non-commercial use only\n",
      "Academic license - for non-commercial use only\n",
      "Academic license - for non-commercial use only\n",
      "Academic license - for non-commercial use only\n",
      "Academic license - for non-commercial use only\n",
      "Academic license - for non-commercial use only\n",
      "Academic license - for non-commercial use only\n",
      "Academic license - for non-commercial use only\n",
      "Academic license - for non-commercial use only\n",
      "Academic license - for non-commercial use only\n",
      "Academic license - for non-commercial use only\n",
      "Academic license - for non-commercial use only\n",
      "Academic license - for non-commercial use only\n",
      "Academic license - for non-commercial use only\n",
      "Academic license - for non-commercial use only\n",
      "Academic license - for non-commercial use only\n",
      "Academic license - for non-commercial use only\n",
      "Academic license - for non-commercial use only\n",
      "Academic license - for non-commercial use only\n",
      "Academic license - for non-commercial use only\n",
      "Academic license - for non-commercial use only\n",
      "Academic license - for non-commercial use only\n",
      "Academic license - for non-commercial use only\n",
      "Academic license - for non-commercial use only\n",
      "Academic license - for non-commercial use only\n",
      "Academic license - for non-commercial use only\n",
      "Academic license - for non-commercial use only\n",
      "Academic license - for non-commercial use only\n",
      "Academic license - for non-commercial use only\n",
      "Academic license - for non-commercial use only\n",
      "Academic license - for non-commercial use only\n",
      "Academic license - for non-commercial use only\n",
      "Academic license - for non-commercial use only\n",
      "Academic license - for non-commercial use only\n",
      "Academic license - for non-commercial use only\n",
      "Academic license - for non-commercial use only\n",
      "Academic license - for non-commercial use only\n",
      "Academic license - for non-commercial use only\n",
      "Academic license - for non-commercial use only\n",
      "Academic license - for non-commercial use only\n",
      "Academic license - for non-commercial use only\n",
      "Academic license - for non-commercial use only\n",
      "Academic license - for non-commercial use only\n",
      "Academic license - for non-commercial use only\n",
      "Academic license - for non-commercial use only\n",
      "Academic license - for non-commercial use only\n",
      "Academic license - for non-commercial use only\n",
      "Academic license - for non-commercial use only\n",
      "Academic license - for non-commercial use only\n",
      "Academic license - for non-commercial use only\n",
      "Academic license - for non-commercial use only\n",
      "Academic license - for non-commercial use only\n",
      "Academic license - for non-commercial use only\n",
      "Academic license - for non-commercial use only\n",
      "Academic license - for non-commercial use only\n",
      "Academic license - for non-commercial use only\n",
      "Academic license - for non-commercial use only\n",
      "Academic license - for non-commercial use only\n",
      "Academic license - for non-commercial use only\n",
      "Academic license - for non-commercial use only\n",
      "Academic license - for non-commercial use only\n",
      "Academic license - for non-commercial use only\n",
      "Academic license - for non-commercial use only\n",
      "Academic license - for non-commercial use only\n",
      "Academic license - for non-commercial use only\n",
      "Academic license - for non-commercial use only\n",
      "Academic license - for non-commercial use only\n",
      "Academic license - for non-commercial use only\n",
      "Academic license - for non-commercial use only\n",
      "Academic license - for non-commercial use only\n",
      "Academic license - for non-commercial use only\n",
      "Academic license - for non-commercial use only\n",
      "Academic license - for non-commercial use only\n",
      "Academic license - for non-commercial use only\n",
      "Academic license - for non-commercial use only\n",
      "Academic license - for non-commercial use only\n",
      "Academic license - for non-commercial use only\n",
      "Academic license - for non-commercial use only\n",
      "Academic license - for non-commercial use only\n",
      "Academic license - for non-commercial use only\n",
      "Academic license - for non-commercial use only\n",
      "Academic license - for non-commercial use only\n",
      "Academic license - for non-commercial use only\n",
      "Academic license - for non-commercial use only\n",
      "Academic license - for non-commercial use only\n",
      "Academic license - for non-commercial use only\n",
      "Academic license - for non-commercial use only\n",
      "Academic license - for non-commercial use only\n",
      "Academic license - for non-commercial use only\n",
      "Academic license - for non-commercial use only\n",
      "Academic license - for non-commercial use only\n",
      "Academic license - for non-commercial use only\n",
      "Academic license - for non-commercial use only\n",
      "Academic license - for non-commercial use only\n",
      "Academic license - for non-commercial use only\n",
      "Academic license - for non-commercial use only\n",
      "Academic license - for non-commercial use only\n",
      "Academic license - for non-commercial use only\n",
      "Academic license - for non-commercial use only\n",
      "Academic license - for non-commercial use only\n",
      "Academic license - for non-commercial use only\n",
      "Academic license - for non-commercial use only\n",
      "Academic license - for non-commercial use only\n",
      "Academic license - for non-commercial use only\n",
      "Academic license - for non-commercial use only\n",
      "Academic license - for non-commercial use only\n",
      "Academic license - for non-commercial use only\n",
      "Academic license - for non-commercial use only\n",
      "Academic license - for non-commercial use only\n",
      "Academic license - for non-commercial use only\n",
      "Academic license - for non-commercial use only\n",
      "Academic license - for non-commercial use only\n",
      "Academic license - for non-commercial use only\n",
      "Academic license - for non-commercial use only\n",
      "Academic license - for non-commercial use only\n",
      "Academic license - for non-commercial use only\n",
      "Academic license - for non-commercial use only\n",
      "Academic license - for non-commercial use only\n",
      "Academic license - for non-commercial use only\n",
      "Academic license - for non-commercial use only\n",
      "Academic license - for non-commercial use only\n",
      "Academic license - for non-commercial use only\n",
      "Academic license - for non-commercial use only\n",
      "Academic license - for non-commercial use only\n",
      "Academic license - for non-commercial use only\n",
      "Academic license - for non-commercial use only\n",
      "Academic license - for non-commercial use only\n",
      "Academic license - for non-commercial use only\n",
      "Academic license - for non-commercial use only\n",
      "Academic license - for non-commercial use only\n",
      "Academic license - for non-commercial use only\n",
      "Academic license - for non-commercial use only\n",
      "Academic license - for non-commercial use only\n",
      "Academic license - for non-commercial use only\n",
      "Academic license - for non-commercial use only\n",
      "Academic license - for non-commercial use only\n",
      "Academic license - for non-commercial use only\n",
      "Academic license - for non-commercial use only\n",
      "Academic license - for non-commercial use only\n",
      "Academic license - for non-commercial use only\n",
      "Academic license - for non-commercial use only\n",
      "Academic license - for non-commercial use only\n",
      "Academic license - for non-commercial use only\n",
      "Academic license - for non-commercial use only\n",
      "Academic license - for non-commercial use only\n",
      "Academic license - for non-commercial use only\n",
      "Academic license - for non-commercial use only\n",
      "Academic license - for non-commercial use only\n",
      "Academic license - for non-commercial use only\n",
      "Academic license - for non-commercial use only\n",
      "Academic license - for non-commercial use only\n",
      "Academic license - for non-commercial use only\n",
      "Academic license - for non-commercial use only\n",
      "Academic license - for non-commercial use only\n",
      "Academic license - for non-commercial use only\n",
      "Academic license - for non-commercial use only\n",
      "Academic license - for non-commercial use only\n",
      "Academic license - for non-commercial use only\n",
      "Academic license - for non-commercial use only\n",
      "Academic license - for non-commercial use only\n",
      "Academic license - for non-commercial use only\n",
      "Academic license - for non-commercial use only\n",
      "Academic license - for non-commercial use only\n",
      "Academic license - for non-commercial use only\n",
      "Academic license - for non-commercial use only\n",
      "Academic license - for non-commercial use only\n",
      "Academic license - for non-commercial use only\n",
      "Academic license - for non-commercial use only\n",
      "Academic license - for non-commercial use only\n",
      "Academic license - for non-commercial use only\n",
      "Academic license - for non-commercial use only\n",
      "Academic license - for non-commercial use only\n",
      "Academic license - for non-commercial use only\n",
      "Academic license - for non-commercial use only\n",
      "Academic license - for non-commercial use only\n",
      "Academic license - for non-commercial use only\n",
      "Academic license - for non-commercial use only\n",
      "Academic license - for non-commercial use only\n",
      "Academic license - for non-commercial use only\n",
      "Academic license - for non-commercial use only\n",
      "Academic license - for non-commercial use only\n",
      "Academic license - for non-commercial use only\n",
      "Academic license - for non-commercial use only\n",
      "Academic license - for non-commercial use only\n",
      "Academic license - for non-commercial use only\n",
      "Academic license - for non-commercial use only\n",
      "Academic license - for non-commercial use only\n",
      "Academic license - for non-commercial use only\n",
      "Academic license - for non-commercial use only\n",
      "Academic license - for non-commercial use only\n",
      "Academic license - for non-commercial use only\n",
      "Academic license - for non-commercial use only\n",
      "Academic license - for non-commercial use only\n",
      "Academic license - for non-commercial use only\n",
      "Academic license - for non-commercial use only\n",
      "Academic license - for non-commercial use only\n",
      "Academic license - for non-commercial use only\n",
      "Academic license - for non-commercial use only\n",
      "Academic license - for non-commercial use only\n",
      "Academic license - for non-commercial use only\n",
      "Academic license - for non-commercial use only\n",
      "Academic license - for non-commercial use only\n",
      "Academic license - for non-commercial use only\n",
      "Academic license - for non-commercial use only\n",
      "Academic license - for non-commercial use only\n",
      "Academic license - for non-commercial use only\n",
      "Academic license - for non-commercial use only\n",
      "Academic license - for non-commercial use only\n",
      "Academic license - for non-commercial use only\n",
      "Academic license - for non-commercial use only\n",
      "Academic license - for non-commercial use only\n",
      "Academic license - for non-commercial use only\n",
      "Academic license - for non-commercial use only\n",
      "Academic license - for non-commercial use only\n",
      "  0.238906 seconds (63.82 k allocations: 4.965 MiB)\n"
     ]
    },
    {
     "data": {
      "text/plain": [
       "(1.0259198506130542, 0.9891538205273408)"
      ]
     },
     "execution_count": 61,
     "metadata": {},
     "output_type": "execute_result"
    }
   ],
   "source": [
    "mu = 1\n",
    "S = 2\n",
    "M = 1\n",
    "mode = 1\n",
    "dev = .01\n",
    "\n",
    "#r_mp_p, best_price_p, dist = vopp._low_bnd_primal_unimodal_MAD(mu, S, M, dev, mode)\n",
    "# r_mp_uni, best_price_uni = vopp.vopp_lb_unimodal_MAD(mu, S, M, dev, mode)\n",
    "# r_mp, best_price = vopp.vopp_lb_symmetric_MAD(mu, S, M, dev)\n",
    "#(r_mp_uni, best_price_uni), (r_mp, best_price)\n",
    "\n",
    "# println(\"UB Analytic\")\n",
    "# @time vopp.vopp_MAD(S, M, dev)\n",
    "\n",
    "# println(\"UB Unimodal\")\n",
    "# @time vopp.vopp_MAD_unimodal(mu, S, M, dev, mode)\n",
    "\n",
    "# println(\"UB Symmetric\")\n",
    "# @time vopp.vopp_sym_unimodal_MAD(mu, S, M, dev, mode)  \n",
    "\n",
    "# println(\"LB Analytic\")\n",
    "# @time vopp.lower_bound_unimodal(dev, M)\n",
    "\n",
    "println(\"LB UNIMODAL\")\n",
    "@time r_mp_uni, best_price_uni = vopp.vopp_lb_unimodal_MAD(mu, S, M, dev, mode, safe_fail = true)\n",
    "@time r_mp_uni_p, best_price_uni_p, tvals, dist = vopp._low_bnd_primal_unimodal_MAD(mu, S, M, dev, mode)\n",
    "\n",
    "println(\"LB Symmetric\")\n",
    "@time r_mp_sym, best_price_sym = vopp.vopp_lb_symmetric_MAD(mu, S, M, dev, safe_fail=true)"
   ]
  },
  {
   "cell_type": "code",
   "execution_count": 59,
   "metadata": {
    "collapsed": false
   },
   "outputs": [
    {
     "data": {
      "text/plain": [
       "((1.190616254106975, 0.9891538205273408), (1.1904761904761907, 1.0), (1.1958096736253674, 0.9891538205273408))"
      ]
     },
     "execution_count": 59,
     "metadata": {},
     "output_type": "execute_result"
    }
   ],
   "source": [
    "(r_mp_uni, best_price_uni), (r_mp_uni_p, best_price_uni_p), (r_mp_sym, best_price_sym)"
   ]
  },
  {
   "cell_type": "code",
   "execution_count": 62,
   "metadata": {
    "collapsed": false
   },
   "outputs": [
    {
     "data": {
      "text/plain": [
       "3×2 Array{Float64,2}:\n",
       " 0.0      0.02    \n",
       " 1.01702  0.869333\n",
       " 1.04705  0.110667"
      ]
     },
     "execution_count": 62,
     "metadata": {},
     "output_type": "execute_result"
    }
   ],
   "source": [
    "##Can inspect an approximate tight distribution in this way.\n",
    "filt = dist .> 0\n",
    "[tvals[filt] dist[filt]]"
   ]
  },
  {
   "cell_type": "code",
   "execution_count": 32,
   "metadata": {
    "collapsed": false
   },
   "outputs": [
    {
     "name": "stdout",
     "output_type": "stream",
     "text": [
      "Dev:\t0.0\n"
     ]
    },
    {
     "name": "stderr",
     "output_type": "stream",
     "text": [
      "┌ Warning: Deprecated syntax `implicit assignment to global variable `dev``.\n",
      "│ Use `global dev` instead.\n",
      "└ @ nothing none:0\n",
      "┌ Warning: Loop variable `dev` around In[32]:15 overwrites a variable in an enclosing scope. In the future the variable will be local to the loop instead.\n",
      "└ @ nothing In[32]:15\n"
     ]
    },
    {
     "name": "stdout",
     "output_type": "stream",
     "text": [
      "Academic license - for non-commercial use only\n",
      "Academic license - for non-commercial use only\n",
      "Academic license - for non-commercial use only\n",
      "Academic license - for non-commercial use only\n"
     ]
    },
    {
     "name": "stderr",
     "output_type": "stream",
     "text": [
      "┌ Warning: Not solved to optimality, status: Unbounded\n",
      "└ @ JuMP /Users/vishalgupta/.julia/packages/JuMP/I7whV/src/solvers.jl:212\n",
      "┌ Warning: Not solved to optimality, status: Unbounded\n",
      "└ @ JuMP /Users/vishalgupta/.julia/packages/JuMP/I7whV/src/solvers.jl:212\n"
     ]
    },
    {
     "name": "stdout",
     "output_type": "stream",
     "text": [
      "Academic license - for non-commercial use only\n",
      "Academic license - for non-commercial use only\n"
     ]
    },
    {
     "name": "stderr",
     "output_type": "stream",
     "text": [
      "┌ Warning: Not solved to optimality, status: Unbounded\n",
      "└ @ JuMP /Users/vishalgupta/.julia/packages/JuMP/I7whV/src/solvers.jl:212\n",
      "┌ Warning: Not solved to optimality, status: Unbounded\n",
      "└ @ JuMP /Users/vishalgupta/.julia/packages/JuMP/I7whV/src/solvers.jl:212\n"
     ]
    },
    {
     "name": "stdout",
     "output_type": "stream",
     "text": [
      "Academic license - for non-commercial use only\n",
      "Academic license - for non-commercial use only\n"
     ]
    },
    {
     "name": "stderr",
     "output_type": "stream",
     "text": [
      "┌ Warning: Not solved to optimality, status: Unbounded\n",
      "└ @ JuMP /Users/vishalgupta/.julia/packages/JuMP/I7whV/src/solvers.jl:212\n",
      "┌ Warning: Not solved to optimality, status: Unbounded\n",
      "└ @ JuMP /Users/vishalgupta/.julia/packages/JuMP/I7whV/src/solvers.jl:212\n"
     ]
    },
    {
     "name": "stdout",
     "output_type": "stream",
     "text": [
      "Academic license - for non-commercial use only\n",
      "Academic license - for non-commercial use only\n"
     ]
    },
    {
     "name": "stderr",
     "output_type": "stream",
     "text": [
      "┌ Warning: Not solved to optimality, status: Unbounded\n",
      "└ @ JuMP /Users/vishalgupta/.julia/packages/JuMP/I7whV/src/solvers.jl:212\n",
      "┌ Warning: Not solved to optimality, status: Unbounded\n",
      "└ @ JuMP /Users/vishalgupta/.julia/packages/JuMP/I7whV/src/solvers.jl:212\n"
     ]
    },
    {
     "name": "stdout",
     "output_type": "stream",
     "text": [
      "Academic license - for non-commercial use only\n",
      "Academic license - for non-commercial use only\n"
     ]
    },
    {
     "name": "stderr",
     "output_type": "stream",
     "text": [
      "┌ Warning: Not solved to optimality, status: Unbounded\n",
      "└ @ JuMP /Users/vishalgupta/.julia/packages/JuMP/I7whV/src/solvers.jl:212\n",
      "┌ Warning: Not solved to optimality, status: Unbounded\n",
      "└ @ JuMP /Users/vishalgupta/.julia/packages/JuMP/I7whV/src/solvers.jl:212\n"
     ]
    },
    {
     "name": "stdout",
     "output_type": "stream",
     "text": [
      "Academic license - for non-commercial use only\n",
      "Academic license - for non-commercial use only\n"
     ]
    },
    {
     "name": "stderr",
     "output_type": "stream",
     "text": [
      "┌ Warning: Not solved to optimality, status: Unbounded\n",
      "└ @ JuMP /Users/vishalgupta/.julia/packages/JuMP/I7whV/src/solvers.jl:212\n",
      "┌ Warning: Not solved to optimality, status: Unbounded\n",
      "└ @ JuMP /Users/vishalgupta/.julia/packages/JuMP/I7whV/src/solvers.jl:212\n"
     ]
    },
    {
     "name": "stdout",
     "output_type": "stream",
     "text": [
      "Academic license - for non-commercial use only\n",
      "Academic license - for non-commercial use only\n"
     ]
    },
    {
     "name": "stderr",
     "output_type": "stream",
     "text": [
      "┌ Warning: Not solved to optimality, status: Unbounded\n",
      "└ @ JuMP /Users/vishalgupta/.julia/packages/JuMP/I7whV/src/solvers.jl:212\n",
      "┌ Warning: Not solved to optimality, status: Unbounded\n",
      "└ @ JuMP /Users/vishalgupta/.julia/packages/JuMP/I7whV/src/solvers.jl:212\n"
     ]
    },
    {
     "name": "stdout",
     "output_type": "stream",
     "text": [
      "Academic license - for non-commercial use only\n",
      "Academic license - for non-commercial use only\n"
     ]
    },
    {
     "name": "stderr",
     "output_type": "stream",
     "text": [
      "┌ Warning: Not solved to optimality, status: Unbounded\n",
      "└ @ JuMP /Users/vishalgupta/.julia/packages/JuMP/I7whV/src/solvers.jl:212\n",
      "┌ Warning: Not solved to optimality, status: Unbounded\n",
      "└ @ JuMP /Users/vishalgupta/.julia/packages/JuMP/I7whV/src/solvers.jl:212\n"
     ]
    },
    {
     "name": "stdout",
     "output_type": "stream",
     "text": [
      "Academic license - for non-commercial use only\n",
      "Academic license - for non-commercial use only\n"
     ]
    },
    {
     "name": "stderr",
     "output_type": "stream",
     "text": [
      "┌ Warning: Not solved to optimality, status: Unbounded\n",
      "└ @ JuMP /Users/vishalgupta/.julia/packages/JuMP/I7whV/src/solvers.jl:212\n",
      "┌ Warning: Not solved to optimality, status: Unbounded\n",
      "└ @ JuMP /Users/vishalgupta/.julia/packages/JuMP/I7whV/src/solvers.jl:212\n"
     ]
    },
    {
     "name": "stdout",
     "output_type": "stream",
     "text": [
      "Academic license - for non-commercial use only\n",
      "Academic license - for non-commercial use only\n"
     ]
    },
    {
     "name": "stderr",
     "output_type": "stream",
     "text": [
      "┌ Warning: Not solved to optimality, status: Unbounded\n",
      "└ @ JuMP /Users/vishalgupta/.julia/packages/JuMP/I7whV/src/solvers.jl:212\n",
      "┌ Warning: Not solved to optimality, status: Unbounded\n",
      "└ @ JuMP /Users/vishalgupta/.julia/packages/JuMP/I7whV/src/solvers.jl:212\n"
     ]
    },
    {
     "name": "stdout",
     "output_type": "stream",
     "text": [
      "Academic license - for non-commercial use only\n",
      "Academic license - for non-commercial use only\n"
     ]
    },
    {
     "name": "stderr",
     "output_type": "stream",
     "text": [
      "┌ Warning: Not solved to optimality, status: Unbounded\n",
      "└ @ JuMP /Users/vishalgupta/.julia/packages/JuMP/I7whV/src/solvers.jl:212\n",
      "┌ Warning: Not solved to optimality, status: Unbounded\n",
      "└ @ JuMP /Users/vishalgupta/.julia/packages/JuMP/I7whV/src/solvers.jl:212\n"
     ]
    },
    {
     "name": "stdout",
     "output_type": "stream",
     "text": [
      "Academic license - for non-commercial use only\n",
      "Academic license - for non-commercial use only\n"
     ]
    },
    {
     "name": "stderr",
     "output_type": "stream",
     "text": [
      "┌ Warning: Not solved to optimality, status: Unbounded\n",
      "└ @ JuMP /Users/vishalgupta/.julia/packages/JuMP/I7whV/src/solvers.jl:212\n",
      "┌ Warning: Not solved to optimality, status: Unbounded\n",
      "└ @ JuMP /Users/vishalgupta/.julia/packages/JuMP/I7whV/src/solvers.jl:212\n"
     ]
    },
    {
     "name": "stdout",
     "output_type": "stream",
     "text": [
      "Academic license - for non-commercial use only\n",
      "Academic license - for non-commercial use only\n"
     ]
    },
    {
     "name": "stderr",
     "output_type": "stream",
     "text": [
      "┌ Warning: Not solved to optimality, status: Unbounded\n",
      "└ @ JuMP /Users/vishalgupta/.julia/packages/JuMP/I7whV/src/solvers.jl:212\n",
      "┌ Warning: Not solved to optimality, status: Unbounded\n",
      "└ @ JuMP /Users/vishalgupta/.julia/packages/JuMP/I7whV/src/solvers.jl:212\n"
     ]
    },
    {
     "name": "stdout",
     "output_type": "stream",
     "text": [
      "Academic license - for non-commercial use only\n",
      "Academic license - for non-commercial use only\n"
     ]
    },
    {
     "name": "stderr",
     "output_type": "stream",
     "text": [
      "┌ Warning: Not solved to optimality, status: Unbounded\n",
      "└ @ JuMP /Users/vishalgupta/.julia/packages/JuMP/I7whV/src/solvers.jl:212\n",
      "┌ Warning: Not solved to optimality, status: Unbounded\n",
      "└ @ JuMP /Users/vishalgupta/.julia/packages/JuMP/I7whV/src/solvers.jl:212\n"
     ]
    },
    {
     "name": "stdout",
     "output_type": "stream",
     "text": [
      "Academic license - for non-commercial use only\n",
      "Academic license - for non-commercial use only\n"
     ]
    },
    {
     "name": "stderr",
     "output_type": "stream",
     "text": [
      "┌ Warning: Not solved to optimality, status: Unbounded\n",
      "└ @ JuMP /Users/vishalgupta/.julia/packages/JuMP/I7whV/src/solvers.jl:212\n",
      "┌ Warning: Not solved to optimality, status: Unbounded\n",
      "└ @ JuMP /Users/vishalgupta/.julia/packages/JuMP/I7whV/src/solvers.jl:212\n"
     ]
    },
    {
     "name": "stdout",
     "output_type": "stream",
     "text": [
      "Academic license - for non-commercial use only\n",
      "Academic license - for non-commercial use only\n"
     ]
    },
    {
     "name": "stderr",
     "output_type": "stream",
     "text": [
      "┌ Warning: Not solved to optimality, status: Unbounded\n",
      "└ @ JuMP /Users/vishalgupta/.julia/packages/JuMP/I7whV/src/solvers.jl:212\n",
      "┌ Warning: Not solved to optimality, status: Unbounded\n",
      "└ @ JuMP /Users/vishalgupta/.julia/packages/JuMP/I7whV/src/solvers.jl:212\n"
     ]
    },
    {
     "name": "stdout",
     "output_type": "stream",
     "text": [
      "Academic license - for non-commercial use only\n",
      "Academic license - for non-commercial use only\n"
     ]
    },
    {
     "name": "stderr",
     "output_type": "stream",
     "text": [
      "┌ Warning: Not solved to optimality, status: Unbounded\n",
      "└ @ JuMP /Users/vishalgupta/.julia/packages/JuMP/I7whV/src/solvers.jl:212\n",
      "┌ Warning: Not solved to optimality, status: Unbounded\n",
      "└ @ JuMP /Users/vishalgupta/.julia/packages/JuMP/I7whV/src/solvers.jl:212\n"
     ]
    },
    {
     "name": "stdout",
     "output_type": "stream",
     "text": [
      "Academic license - for non-commercial use only\n",
      "Academic license - for non-commercial use only\n"
     ]
    },
    {
     "name": "stderr",
     "output_type": "stream",
     "text": [
      "┌ Warning: Not solved to optimality, status: Unbounded\n",
      "└ @ JuMP /Users/vishalgupta/.julia/packages/JuMP/I7whV/src/solvers.jl:212\n",
      "┌ Warning: Not solved to optimality, status: Unbounded\n",
      "└ @ JuMP /Users/vishalgupta/.julia/packages/JuMP/I7whV/src/solvers.jl:212\n"
     ]
    },
    {
     "name": "stdout",
     "output_type": "stream",
     "text": [
      "Academic license - for non-commercial use only\n",
      "Academic license - for non-commercial use only\n"
     ]
    },
    {
     "name": "stderr",
     "output_type": "stream",
     "text": [
      "┌ Warning: Not solved to optimality, status: Unbounded\n",
      "└ @ JuMP /Users/vishalgupta/.julia/packages/JuMP/I7whV/src/solvers.jl:212\n",
      "┌ Warning: Not solved to optimality, status: Unbounded\n",
      "└ @ JuMP /Users/vishalgupta/.julia/packages/JuMP/I7whV/src/solvers.jl:212\n"
     ]
    },
    {
     "name": "stdout",
     "output_type": "stream",
     "text": [
      "Academic license - for non-commercial use only\n",
      "Academic license - for non-commercial use only\n"
     ]
    },
    {
     "name": "stderr",
     "output_type": "stream",
     "text": [
      "┌ Warning: Not solved to optimality, status: Unbounded\n",
      "└ @ JuMP /Users/vishalgupta/.julia/packages/JuMP/I7whV/src/solvers.jl:212\n",
      "┌ Warning: Not solved to optimality, status: Unbounded\n",
      "└ @ JuMP /Users/vishalgupta/.julia/packages/JuMP/I7whV/src/solvers.jl:212\n"
     ]
    },
    {
     "name": "stdout",
     "output_type": "stream",
     "text": [
      "Academic license - for non-commercial use only\n",
      "Academic license - for non-commercial use only\n"
     ]
    },
    {
     "name": "stderr",
     "output_type": "stream",
     "text": [
      "┌ Warning: Not solved to optimality, status: Unbounded\n",
      "└ @ JuMP /Users/vishalgupta/.julia/packages/JuMP/I7whV/src/solvers.jl:212\n",
      "┌ Warning: Not solved to optimality, status: Unbounded\n",
      "└ @ JuMP /Users/vishalgupta/.julia/packages/JuMP/I7whV/src/solvers.jl:212\n"
     ]
    },
    {
     "name": "stdout",
     "output_type": "stream",
     "text": [
      "Academic license - for non-commercial use only\n",
      "Academic license - for non-commercial use only\n"
     ]
    },
    {
     "name": "stderr",
     "output_type": "stream",
     "text": [
      "┌ Warning: Not solved to optimality, status: Unbounded\n",
      "└ @ JuMP /Users/vishalgupta/.julia/packages/JuMP/I7whV/src/solvers.jl:212\n",
      "┌ Warning: Not solved to optimality, status: Unbounded\n",
      "└ @ JuMP /Users/vishalgupta/.julia/packages/JuMP/I7whV/src/solvers.jl:212\n"
     ]
    },
    {
     "name": "stdout",
     "output_type": "stream",
     "text": [
      "Academic license - for non-commercial use only\n",
      "Academic license - for non-commercial use only\n"
     ]
    },
    {
     "name": "stderr",
     "output_type": "stream",
     "text": [
      "┌ Warning: Not solved to optimality, status: Unbounded\n",
      "└ @ JuMP /Users/vishalgupta/.julia/packages/JuMP/I7whV/src/solvers.jl:212\n",
      "┌ Warning: Not solved to optimality, status: Unbounded\n",
      "└ @ JuMP /Users/vishalgupta/.julia/packages/JuMP/I7whV/src/solvers.jl:212\n"
     ]
    },
    {
     "name": "stdout",
     "output_type": "stream",
     "text": [
      "Academic license - for non-commercial use only\n",
      "Academic license - for non-commercial use only\n"
     ]
    },
    {
     "name": "stderr",
     "output_type": "stream",
     "text": [
      "┌ Warning: Not solved to optimality, status: Unbounded\n",
      "└ @ JuMP /Users/vishalgupta/.julia/packages/JuMP/I7whV/src/solvers.jl:212\n",
      "┌ Warning: Not solved to optimality, status: Unbounded\n",
      "└ @ JuMP /Users/vishalgupta/.julia/packages/JuMP/I7whV/src/solvers.jl:212\n"
     ]
    },
    {
     "name": "stdout",
     "output_type": "stream",
     "text": [
      "Academic license - for non-commercial use only\n",
      "Academic license - for non-commercial use only\n"
     ]
    },
    {
     "name": "stderr",
     "output_type": "stream",
     "text": [
      "┌ Warning: Not solved to optimality, status: Unbounded\n",
      "└ @ JuMP /Users/vishalgupta/.julia/packages/JuMP/I7whV/src/solvers.jl:212\n",
      "┌ Warning: Not solved to optimality, status: Unbounded\n",
      "└ @ JuMP /Users/vishalgupta/.julia/packages/JuMP/I7whV/src/solvers.jl:212\n"
     ]
    },
    {
     "name": "stdout",
     "output_type": "stream",
     "text": [
      "Academic license - for non-commercial use only\n",
      "Academic license - for non-commercial use only\n"
     ]
    },
    {
     "name": "stderr",
     "output_type": "stream",
     "text": [
      "┌ Warning: Not solved to optimality, status: Unbounded\n",
      "└ @ JuMP /Users/vishalgupta/.julia/packages/JuMP/I7whV/src/solvers.jl:212\n",
      "┌ Warning: Not solved to optimality, status: Unbounded\n",
      "└ @ JuMP /Users/vishalgupta/.julia/packages/JuMP/I7whV/src/solvers.jl:212\n"
     ]
    },
    {
     "name": "stdout",
     "output_type": "stream",
     "text": [
      "Academic license - for non-commercial use only\n",
      "Academic license - for non-commercial use only\n"
     ]
    },
    {
     "name": "stderr",
     "output_type": "stream",
     "text": [
      "┌ Warning: Not solved to optimality, status: Unbounded\n",
      "└ @ JuMP /Users/vishalgupta/.julia/packages/JuMP/I7whV/src/solvers.jl:212\n",
      "┌ Warning: Not solved to optimality, status: Unbounded\n",
      "└ @ JuMP /Users/vishalgupta/.julia/packages/JuMP/I7whV/src/solvers.jl:212\n"
     ]
    },
    {
     "name": "stdout",
     "output_type": "stream",
     "text": [
      "Academic license - for non-commercial use only\n",
      "Academic license - for non-commercial use only\n"
     ]
    },
    {
     "name": "stderr",
     "output_type": "stream",
     "text": [
      "┌ Warning: Not solved to optimality, status: Unbounded\n",
      "└ @ JuMP /Users/vishalgupta/.julia/packages/JuMP/I7whV/src/solvers.jl:212\n",
      "┌ Warning: Not solved to optimality, status: Unbounded\n",
      "└ @ JuMP /Users/vishalgupta/.julia/packages/JuMP/I7whV/src/solvers.jl:212\n"
     ]
    },
    {
     "name": "stdout",
     "output_type": "stream",
     "text": [
      "Academic license - for non-commercial use only\n",
      "Academic license - for non-commercial use only\n"
     ]
    },
    {
     "name": "stderr",
     "output_type": "stream",
     "text": [
      "┌ Warning: Not solved to optimality, status: Unbounded\n",
      "└ @ JuMP /Users/vishalgupta/.julia/packages/JuMP/I7whV/src/solvers.jl:212\n",
      "┌ Warning: Not solved to optimality, status: Unbounded\n",
      "└ @ JuMP /Users/vishalgupta/.julia/packages/JuMP/I7whV/src/solvers.jl:212\n"
     ]
    },
    {
     "name": "stdout",
     "output_type": "stream",
     "text": [
      "Academic license - for non-commercial use only\n",
      "Academic license - for non-commercial use only\n"
     ]
    },
    {
     "name": "stderr",
     "output_type": "stream",
     "text": [
      "┌ Warning: Not solved to optimality, status: Unbounded\n",
      "└ @ JuMP /Users/vishalgupta/.julia/packages/JuMP/I7whV/src/solvers.jl:212\n",
      "┌ Warning: Not solved to optimality, status: Unbounded\n",
      "└ @ JuMP /Users/vishalgupta/.julia/packages/JuMP/I7whV/src/solvers.jl:212\n"
     ]
    },
    {
     "name": "stdout",
     "output_type": "stream",
     "text": [
      "Academic license - for non-commercial use only\n",
      "Academic license - for non-commercial use only\n"
     ]
    },
    {
     "name": "stderr",
     "output_type": "stream",
     "text": [
      "┌ Warning: Not solved to optimality, status: Unbounded\n",
      "└ @ JuMP /Users/vishalgupta/.julia/packages/JuMP/I7whV/src/solvers.jl:212\n",
      "┌ Warning: Not solved to optimality, status: Unbounded\n",
      "└ @ JuMP /Users/vishalgupta/.julia/packages/JuMP/I7whV/src/solvers.jl:212\n"
     ]
    },
    {
     "name": "stdout",
     "output_type": "stream",
     "text": [
      "Academic license - for non-commercial use only\n",
      "Academic license - for non-commercial use only\n"
     ]
    },
    {
     "name": "stderr",
     "output_type": "stream",
     "text": [
      "┌ Warning: Not solved to optimality, status: Unbounded\n",
      "└ @ JuMP /Users/vishalgupta/.julia/packages/JuMP/I7whV/src/solvers.jl:212\n",
      "┌ Warning: Not solved to optimality, status: Unbounded\n",
      "└ @ JuMP /Users/vishalgupta/.julia/packages/JuMP/I7whV/src/solvers.jl:212\n"
     ]
    },
    {
     "name": "stdout",
     "output_type": "stream",
     "text": [
      "Academic license - for non-commercial use only\n",
      "Academic license - for non-commercial use only\n"
     ]
    },
    {
     "name": "stderr",
     "output_type": "stream",
     "text": [
      "┌ Warning: Not solved to optimality, status: Unbounded\n",
      "└ @ JuMP /Users/vishalgupta/.julia/packages/JuMP/I7whV/src/solvers.jl:212\n",
      "┌ Warning: Not solved to optimality, status: Unbounded\n",
      "└ @ JuMP /Users/vishalgupta/.julia/packages/JuMP/I7whV/src/solvers.jl:212\n"
     ]
    },
    {
     "name": "stdout",
     "output_type": "stream",
     "text": [
      "Academic license - for non-commercial use only\n",
      "Academic license - for non-commercial use only\n"
     ]
    },
    {
     "name": "stderr",
     "output_type": "stream",
     "text": [
      "┌ Warning: Not solved to optimality, status: Unbounded\n",
      "└ @ JuMP /Users/vishalgupta/.julia/packages/JuMP/I7whV/src/solvers.jl:212\n",
      "┌ Warning: Not solved to optimality, status: Unbounded\n",
      "└ @ JuMP /Users/vishalgupta/.julia/packages/JuMP/I7whV/src/solvers.jl:212\n"
     ]
    },
    {
     "name": "stdout",
     "output_type": "stream",
     "text": [
      "Academic license - for non-commercial use only\n",
      "Academic license - for non-commercial use only\n"
     ]
    },
    {
     "name": "stderr",
     "output_type": "stream",
     "text": [
      "┌ Warning: Not solved to optimality, status: Unbounded\n",
      "└ @ JuMP /Users/vishalgupta/.julia/packages/JuMP/I7whV/src/solvers.jl:212\n",
      "┌ Warning: Not solved to optimality, status: Unbounded\n",
      "└ @ JuMP /Users/vishalgupta/.julia/packages/JuMP/I7whV/src/solvers.jl:212\n"
     ]
    },
    {
     "name": "stdout",
     "output_type": "stream",
     "text": [
      "Academic license - for non-commercial use only\n",
      "Academic license - for non-commercial use only\n"
     ]
    },
    {
     "name": "stderr",
     "output_type": "stream",
     "text": [
      "┌ Warning: Not solved to optimality, status: Unbounded\n",
      "└ @ JuMP /Users/vishalgupta/.julia/packages/JuMP/I7whV/src/solvers.jl:212\n",
      "┌ Warning: Not solved to optimality, status: Unbounded\n",
      "└ @ JuMP /Users/vishalgupta/.julia/packages/JuMP/I7whV/src/solvers.jl:212\n"
     ]
    },
    {
     "name": "stdout",
     "output_type": "stream",
     "text": [
      "Academic license - for non-commercial use only\n",
      "Academic license - for non-commercial use only\n"
     ]
    },
    {
     "name": "stderr",
     "output_type": "stream",
     "text": [
      "┌ Warning: Not solved to optimality, status: Unbounded\n",
      "└ @ JuMP /Users/vishalgupta/.julia/packages/JuMP/I7whV/src/solvers.jl:212\n",
      "┌ Warning: Not solved to optimality, status: Unbounded\n",
      "└ @ JuMP /Users/vishalgupta/.julia/packages/JuMP/I7whV/src/solvers.jl:212\n"
     ]
    },
    {
     "name": "stdout",
     "output_type": "stream",
     "text": [
      "Academic license - for non-commercial use only\n",
      "Academic license - for non-commercial use only\n"
     ]
    },
    {
     "name": "stderr",
     "output_type": "stream",
     "text": [
      "┌ Warning: Not solved to optimality, status: Unbounded\n",
      "└ @ JuMP /Users/vishalgupta/.julia/packages/JuMP/I7whV/src/solvers.jl:212\n",
      "┌ Warning: Not solved to optimality, status: Unbounded\n",
      "└ @ JuMP /Users/vishalgupta/.julia/packages/JuMP/I7whV/src/solvers.jl:212\n"
     ]
    },
    {
     "name": "stdout",
     "output_type": "stream",
     "text": [
      "Academic license - for non-commercial use only\n",
      "Academic license - for non-commercial use only\n"
     ]
    },
    {
     "name": "stderr",
     "output_type": "stream",
     "text": [
      "┌ Warning: Not solved to optimality, status: Unbounded\n",
      "└ @ JuMP /Users/vishalgupta/.julia/packages/JuMP/I7whV/src/solvers.jl:212\n",
      "┌ Warning: Not solved to optimality, status: Unbounded\n",
      "└ @ JuMP /Users/vishalgupta/.julia/packages/JuMP/I7whV/src/solvers.jl:212\n"
     ]
    },
    {
     "name": "stdout",
     "output_type": "stream",
     "text": [
      "Academic license - for non-commercial use only\n",
      "Academic license - for non-commercial use only\n"
     ]
    },
    {
     "name": "stderr",
     "output_type": "stream",
     "text": [
      "┌ Warning: Not solved to optimality, status: Unbounded\n",
      "└ @ JuMP /Users/vishalgupta/.julia/packages/JuMP/I7whV/src/solvers.jl:212\n",
      "┌ Warning: Not solved to optimality, status: Unbounded\n",
      "└ @ JuMP /Users/vishalgupta/.julia/packages/JuMP/I7whV/src/solvers.jl:212\n"
     ]
    },
    {
     "name": "stdout",
     "output_type": "stream",
     "text": [
      "Academic license - for non-commercial use only\n",
      "Academic license - for non-commercial use only\n"
     ]
    },
    {
     "name": "stderr",
     "output_type": "stream",
     "text": [
      "┌ Warning: Not solved to optimality, status: Unbounded\n",
      "└ @ JuMP /Users/vishalgupta/.julia/packages/JuMP/I7whV/src/solvers.jl:212\n",
      "┌ Warning: Not solved to optimality, status: Unbounded\n",
      "└ @ JuMP /Users/vishalgupta/.julia/packages/JuMP/I7whV/src/solvers.jl:212\n"
     ]
    },
    {
     "name": "stdout",
     "output_type": "stream",
     "text": [
      "Academic license - for non-commercial use only\n",
      "Academic license - for non-commercial use only\n"
     ]
    },
    {
     "name": "stderr",
     "output_type": "stream",
     "text": [
      "┌ Warning: Not solved to optimality, status: Unbounded\n",
      "└ @ JuMP /Users/vishalgupta/.julia/packages/JuMP/I7whV/src/solvers.jl:212\n",
      "┌ Warning: Not solved to optimality, status: Unbounded\n",
      "└ @ JuMP /Users/vishalgupta/.julia/packages/JuMP/I7whV/src/solvers.jl:212\n"
     ]
    },
    {
     "name": "stdout",
     "output_type": "stream",
     "text": [
      "Academic license - for non-commercial use only\n",
      "Academic license - for non-commercial use only\n"
     ]
    },
    {
     "name": "stderr",
     "output_type": "stream",
     "text": [
      "┌ Warning: Not solved to optimality, status: Unbounded\n",
      "└ @ JuMP /Users/vishalgupta/.julia/packages/JuMP/I7whV/src/solvers.jl:212\n",
      "┌ Warning: Not solved to optimality, status: Unbounded\n",
      "└ @ JuMP /Users/vishalgupta/.julia/packages/JuMP/I7whV/src/solvers.jl:212\n"
     ]
    },
    {
     "name": "stdout",
     "output_type": "stream",
     "text": [
      "Academic license - for non-commercial use only\n",
      "Academic license - for non-commercial use only\n"
     ]
    },
    {
     "name": "stderr",
     "output_type": "stream",
     "text": [
      "┌ Warning: Not solved to optimality, status: Unbounded\n",
      "└ @ JuMP /Users/vishalgupta/.julia/packages/JuMP/I7whV/src/solvers.jl:212\n",
      "┌ Warning: Not solved to optimality, status: Unbounded\n",
      "└ @ JuMP /Users/vishalgupta/.julia/packages/JuMP/I7whV/src/solvers.jl:212\n"
     ]
    },
    {
     "name": "stdout",
     "output_type": "stream",
     "text": [
      "Academic license - for non-commercial use only\n",
      "Academic license - for non-commercial use only\n"
     ]
    },
    {
     "name": "stderr",
     "output_type": "stream",
     "text": [
      "┌ Warning: Not solved to optimality, status: Unbounded\n",
      "└ @ JuMP /Users/vishalgupta/.julia/packages/JuMP/I7whV/src/solvers.jl:212\n",
      "┌ Warning: Not solved to optimality, status: Unbounded\n",
      "└ @ JuMP /Users/vishalgupta/.julia/packages/JuMP/I7whV/src/solvers.jl:212\n"
     ]
    },
    {
     "name": "stdout",
     "output_type": "stream",
     "text": [
      "Academic license - for non-commercial use only\n",
      "Academic license - for non-commercial use only\n"
     ]
    },
    {
     "name": "stderr",
     "output_type": "stream",
     "text": [
      "┌ Warning: Not solved to optimality, status: Unbounded\n",
      "└ @ JuMP /Users/vishalgupta/.julia/packages/JuMP/I7whV/src/solvers.jl:212\n",
      "┌ Warning: Not solved to optimality, status: Unbounded\n",
      "└ @ JuMP /Users/vishalgupta/.julia/packages/JuMP/I7whV/src/solvers.jl:212\n"
     ]
    },
    {
     "name": "stdout",
     "output_type": "stream",
     "text": [
      "Academic license - for non-commercial use only\n",
      "Academic license - for non-commercial use only\n"
     ]
    },
    {
     "name": "stderr",
     "output_type": "stream",
     "text": [
      "┌ Warning: Not solved to optimality, status: Unbounded\n",
      "└ @ JuMP /Users/vishalgupta/.julia/packages/JuMP/I7whV/src/solvers.jl:212\n",
      "┌ Warning: Not solved to optimality, status: Unbounded\n",
      "└ @ JuMP /Users/vishalgupta/.julia/packages/JuMP/I7whV/src/solvers.jl:212\n"
     ]
    },
    {
     "name": "stdout",
     "output_type": "stream",
     "text": [
      "Academic license - for non-commercial use only\n",
      "Academic license - for non-commercial use only\n"
     ]
    },
    {
     "name": "stderr",
     "output_type": "stream",
     "text": [
      "┌ Warning: Not solved to optimality, status: Unbounded\n",
      "└ @ JuMP /Users/vishalgupta/.julia/packages/JuMP/I7whV/src/solvers.jl:212\n",
      "┌ Warning: Not solved to optimality, status: Unbounded\n",
      "└ @ JuMP /Users/vishalgupta/.julia/packages/JuMP/I7whV/src/solvers.jl:212\n"
     ]
    },
    {
     "name": "stdout",
     "output_type": "stream",
     "text": [
      "Academic license - for non-commercial use only\n",
      "Academic license - for non-commercial use only\n"
     ]
    },
    {
     "name": "stderr",
     "output_type": "stream",
     "text": [
      "┌ Warning: Not solved to optimality, status: Unbounded\n",
      "└ @ JuMP /Users/vishalgupta/.julia/packages/JuMP/I7whV/src/solvers.jl:212\n",
      "┌ Warning: Not solved to optimality, status: Unbounded\n",
      "└ @ JuMP /Users/vishalgupta/.julia/packages/JuMP/I7whV/src/solvers.jl:212\n"
     ]
    },
    {
     "name": "stdout",
     "output_type": "stream",
     "text": [
      "Academic license - for non-commercial use only\n",
      "Academic license - for non-commercial use only\n"
     ]
    },
    {
     "name": "stderr",
     "output_type": "stream",
     "text": [
      "┌ Warning: Not solved to optimality, status: Unbounded\n",
      "└ @ JuMP /Users/vishalgupta/.julia/packages/JuMP/I7whV/src/solvers.jl:212\n",
      "┌ Warning: Not solved to optimality, status: Unbounded\n",
      "└ @ JuMP /Users/vishalgupta/.julia/packages/JuMP/I7whV/src/solvers.jl:212\n"
     ]
    },
    {
     "name": "stdout",
     "output_type": "stream",
     "text": [
      "Academic license - for non-commercial use only\n",
      "Academic license - for non-commercial use only\n"
     ]
    },
    {
     "name": "stderr",
     "output_type": "stream",
     "text": [
      "┌ Warning: Not solved to optimality, status: Unbounded\n",
      "└ @ JuMP /Users/vishalgupta/.julia/packages/JuMP/I7whV/src/solvers.jl:212\n",
      "┌ Warning: Not solved to optimality, status: Unbounded\n",
      "└ @ JuMP /Users/vishalgupta/.julia/packages/JuMP/I7whV/src/solvers.jl:212\n"
     ]
    },
    {
     "name": "stdout",
     "output_type": "stream",
     "text": [
      "Academic license - for non-commercial use only\n",
      "Academic license - for non-commercial use only\n"
     ]
    },
    {
     "name": "stderr",
     "output_type": "stream",
     "text": [
      "┌ Warning: Not solved to optimality, status: Unbounded\n",
      "└ @ JuMP /Users/vishalgupta/.julia/packages/JuMP/I7whV/src/solvers.jl:212\n",
      "┌ Warning: Not solved to optimality, status: Unbounded\n",
      "└ @ JuMP /Users/vishalgupta/.julia/packages/JuMP/I7whV/src/solvers.jl:212\n"
     ]
    },
    {
     "name": "stdout",
     "output_type": "stream",
     "text": [
      "Academic license - for non-commercial use only\n",
      "Academic license - for non-commercial use only\n"
     ]
    },
    {
     "name": "stderr",
     "output_type": "stream",
     "text": [
      "┌ Warning: Not solved to optimality, status: Unbounded\n",
      "└ @ JuMP /Users/vishalgupta/.julia/packages/JuMP/I7whV/src/solvers.jl:212\n",
      "┌ Warning: Not solved to optimality, status: Unbounded\n",
      "└ @ JuMP /Users/vishalgupta/.julia/packages/JuMP/I7whV/src/solvers.jl:212\n"
     ]
    },
    {
     "name": "stdout",
     "output_type": "stream",
     "text": [
      "Academic license - for non-commercial use only\n",
      "Academic license - for non-commercial use only\n"
     ]
    },
    {
     "name": "stderr",
     "output_type": "stream",
     "text": [
      "┌ Warning: Not solved to optimality, status: Unbounded\n",
      "└ @ JuMP /Users/vishalgupta/.julia/packages/JuMP/I7whV/src/solvers.jl:212\n",
      "┌ Warning: Not solved to optimality, status: Unbounded\n",
      "└ @ JuMP /Users/vishalgupta/.julia/packages/JuMP/I7whV/src/solvers.jl:212\n"
     ]
    },
    {
     "name": "stdout",
     "output_type": "stream",
     "text": [
      "Academic license - for non-commercial use only\n",
      "Academic license - for non-commercial use only\n"
     ]
    },
    {
     "name": "stderr",
     "output_type": "stream",
     "text": [
      "┌ Warning: Not solved to optimality, status: Unbounded\n",
      "└ @ JuMP /Users/vishalgupta/.julia/packages/JuMP/I7whV/src/solvers.jl:212\n",
      "┌ Warning: Not solved to optimality, status: Unbounded\n",
      "└ @ JuMP /Users/vishalgupta/.julia/packages/JuMP/I7whV/src/solvers.jl:212\n"
     ]
    },
    {
     "name": "stdout",
     "output_type": "stream",
     "text": [
      "Academic license - for non-commercial use only\n",
      "Academic license - for non-commercial use only\n"
     ]
    },
    {
     "name": "stderr",
     "output_type": "stream",
     "text": [
      "┌ Warning: Not solved to optimality, status: Unbounded\n",
      "└ @ JuMP /Users/vishalgupta/.julia/packages/JuMP/I7whV/src/solvers.jl:212\n",
      "┌ Warning: Not solved to optimality, status: Unbounded\n",
      "└ @ JuMP /Users/vishalgupta/.julia/packages/JuMP/I7whV/src/solvers.jl:212\n"
     ]
    },
    {
     "name": "stdout",
     "output_type": "stream",
     "text": [
      "Academic license - for non-commercial use only\n",
      "Academic license - for non-commercial use only\n"
     ]
    },
    {
     "name": "stderr",
     "output_type": "stream",
     "text": [
      "┌ Warning: Not solved to optimality, status: Unbounded\n",
      "└ @ JuMP /Users/vishalgupta/.julia/packages/JuMP/I7whV/src/solvers.jl:212\n",
      "┌ Warning: Not solved to optimality, status: Unbounded\n",
      "└ @ JuMP /Users/vishalgupta/.julia/packages/JuMP/I7whV/src/solvers.jl:212\n"
     ]
    },
    {
     "name": "stdout",
     "output_type": "stream",
     "text": [
      "Academic license - for non-commercial use only\n",
      "Academic license - for non-commercial use only\n"
     ]
    },
    {
     "name": "stderr",
     "output_type": "stream",
     "text": [
      "┌ Warning: Not solved to optimality, status: Unbounded\n",
      "└ @ JuMP /Users/vishalgupta/.julia/packages/JuMP/I7whV/src/solvers.jl:212\n",
      "┌ Warning: Not solved to optimality, status: Unbounded\n",
      "└ @ JuMP /Users/vishalgupta/.julia/packages/JuMP/I7whV/src/solvers.jl:212\n"
     ]
    },
    {
     "name": "stdout",
     "output_type": "stream",
     "text": [
      "Academic license - for non-commercial use only\n",
      "Academic license - for non-commercial use only\n"
     ]
    },
    {
     "name": "stderr",
     "output_type": "stream",
     "text": [
      "┌ Warning: Not solved to optimality, status: Unbounded\n",
      "└ @ JuMP /Users/vishalgupta/.julia/packages/JuMP/I7whV/src/solvers.jl:212\n",
      "┌ Warning: Not solved to optimality, status: Unbounded\n",
      "└ @ JuMP /Users/vishalgupta/.julia/packages/JuMP/I7whV/src/solvers.jl:212\n"
     ]
    },
    {
     "name": "stdout",
     "output_type": "stream",
     "text": [
      "Academic license - for non-commercial use only\n",
      "Academic license - for non-commercial use only\n"
     ]
    },
    {
     "name": "stderr",
     "output_type": "stream",
     "text": [
      "┌ Warning: Not solved to optimality, status: Unbounded\n",
      "└ @ JuMP /Users/vishalgupta/.julia/packages/JuMP/I7whV/src/solvers.jl:212\n",
      "┌ Warning: Not solved to optimality, status: Unbounded\n",
      "└ @ JuMP /Users/vishalgupta/.julia/packages/JuMP/I7whV/src/solvers.jl:212\n"
     ]
    },
    {
     "name": "stdout",
     "output_type": "stream",
     "text": [
      "Academic license - for non-commercial use only\n",
      "Academic license - for non-commercial use only\n"
     ]
    },
    {
     "name": "stderr",
     "output_type": "stream",
     "text": [
      "┌ Warning: Not solved to optimality, status: Unbounded\n",
      "└ @ JuMP /Users/vishalgupta/.julia/packages/JuMP/I7whV/src/solvers.jl:212\n",
      "┌ Warning: Not solved to optimality, status: Unbounded\n",
      "└ @ JuMP /Users/vishalgupta/.julia/packages/JuMP/I7whV/src/solvers.jl:212\n"
     ]
    },
    {
     "name": "stdout",
     "output_type": "stream",
     "text": [
      "Academic license - for non-commercial use only\n",
      "Academic license - for non-commercial use only\n"
     ]
    },
    {
     "name": "stderr",
     "output_type": "stream",
     "text": [
      "┌ Warning: Not solved to optimality, status: Unbounded\n",
      "└ @ JuMP /Users/vishalgupta/.julia/packages/JuMP/I7whV/src/solvers.jl:212\n",
      "┌ Warning: Not solved to optimality, status: Unbounded\n",
      "└ @ JuMP /Users/vishalgupta/.julia/packages/JuMP/I7whV/src/solvers.jl:212\n"
     ]
    },
    {
     "name": "stdout",
     "output_type": "stream",
     "text": [
      "Academic license - for non-commercial use only\n",
      "Academic license - for non-commercial use only\n"
     ]
    },
    {
     "name": "stderr",
     "output_type": "stream",
     "text": [
      "┌ Warning: Not solved to optimality, status: Unbounded\n",
      "└ @ JuMP /Users/vishalgupta/.julia/packages/JuMP/I7whV/src/solvers.jl:212\n",
      "┌ Warning: Not solved to optimality, status: Unbounded\n",
      "└ @ JuMP /Users/vishalgupta/.julia/packages/JuMP/I7whV/src/solvers.jl:212\n"
     ]
    },
    {
     "name": "stdout",
     "output_type": "stream",
     "text": [
      "Academic license - for non-commercial use only\n",
      "Academic license - for non-commercial use only\n"
     ]
    },
    {
     "name": "stderr",
     "output_type": "stream",
     "text": [
      "┌ Warning: Not solved to optimality, status: Unbounded\n",
      "└ @ JuMP /Users/vishalgupta/.julia/packages/JuMP/I7whV/src/solvers.jl:212\n",
      "┌ Warning: Not solved to optimality, status: Unbounded\n",
      "└ @ JuMP /Users/vishalgupta/.julia/packages/JuMP/I7whV/src/solvers.jl:212\n"
     ]
    },
    {
     "name": "stdout",
     "output_type": "stream",
     "text": [
      "Academic license - for non-commercial use only\n",
      "Academic license - for non-commercial use only\n"
     ]
    },
    {
     "name": "stderr",
     "output_type": "stream",
     "text": [
      "┌ Warning: Not solved to optimality, status: Unbounded\n",
      "└ @ JuMP /Users/vishalgupta/.julia/packages/JuMP/I7whV/src/solvers.jl:212\n",
      "┌ Warning: Not solved to optimality, status: Unbounded\n",
      "└ @ JuMP /Users/vishalgupta/.julia/packages/JuMP/I7whV/src/solvers.jl:212\n"
     ]
    },
    {
     "name": "stdout",
     "output_type": "stream",
     "text": [
      "Academic license - for non-commercial use only\n",
      "Academic license - for non-commercial use only\n"
     ]
    },
    {
     "name": "stderr",
     "output_type": "stream",
     "text": [
      "┌ Warning: Not solved to optimality, status: Unbounded\n",
      "└ @ JuMP /Users/vishalgupta/.julia/packages/JuMP/I7whV/src/solvers.jl:212\n",
      "┌ Warning: Not solved to optimality, status: Unbounded\n",
      "└ @ JuMP /Users/vishalgupta/.julia/packages/JuMP/I7whV/src/solvers.jl:212\n"
     ]
    },
    {
     "name": "stdout",
     "output_type": "stream",
     "text": [
      "Academic license - for non-commercial use only\n",
      "Academic license - for non-commercial use only\n"
     ]
    },
    {
     "name": "stderr",
     "output_type": "stream",
     "text": [
      "┌ Warning: Not solved to optimality, status: Unbounded\n",
      "└ @ JuMP /Users/vishalgupta/.julia/packages/JuMP/I7whV/src/solvers.jl:212\n",
      "┌ Warning: Not solved to optimality, status: Unbounded\n",
      "└ @ JuMP /Users/vishalgupta/.julia/packages/JuMP/I7whV/src/solvers.jl:212\n"
     ]
    },
    {
     "name": "stdout",
     "output_type": "stream",
     "text": [
      "Academic license - for non-commercial use only\n",
      "Academic license - for non-commercial use only\n"
     ]
    },
    {
     "name": "stderr",
     "output_type": "stream",
     "text": [
      "┌ Warning: Not solved to optimality, status: Unbounded\n",
      "└ @ JuMP /Users/vishalgupta/.julia/packages/JuMP/I7whV/src/solvers.jl:212\n",
      "┌ Warning: Not solved to optimality, status: Unbounded\n",
      "└ @ JuMP /Users/vishalgupta/.julia/packages/JuMP/I7whV/src/solvers.jl:212\n"
     ]
    },
    {
     "name": "stdout",
     "output_type": "stream",
     "text": [
      "Academic license - for non-commercial use only\n",
      "Academic license - for non-commercial use only\n"
     ]
    },
    {
     "name": "stderr",
     "output_type": "stream",
     "text": [
      "┌ Warning: Not solved to optimality, status: Unbounded\n",
      "└ @ JuMP /Users/vishalgupta/.julia/packages/JuMP/I7whV/src/solvers.jl:212\n",
      "┌ Warning: Not solved to optimality, status: Unbounded\n",
      "└ @ JuMP /Users/vishalgupta/.julia/packages/JuMP/I7whV/src/solvers.jl:212\n"
     ]
    },
    {
     "name": "stdout",
     "output_type": "stream",
     "text": [
      "Academic license - for non-commercial use only\n",
      "Academic license - for non-commercial use only\n"
     ]
    },
    {
     "name": "stderr",
     "output_type": "stream",
     "text": [
      "┌ Warning: Not solved to optimality, status: Unbounded\n",
      "└ @ JuMP /Users/vishalgupta/.julia/packages/JuMP/I7whV/src/solvers.jl:212\n",
      "┌ Warning: Not solved to optimality, status: Unbounded\n",
      "└ @ JuMP /Users/vishalgupta/.julia/packages/JuMP/I7whV/src/solvers.jl:212\n"
     ]
    },
    {
     "name": "stdout",
     "output_type": "stream",
     "text": [
      "Academic license - for non-commercial use only\n",
      "Academic license - for non-commercial use only\n"
     ]
    },
    {
     "name": "stderr",
     "output_type": "stream",
     "text": [
      "┌ Warning: Not solved to optimality, status: Unbounded\n",
      "└ @ JuMP /Users/vishalgupta/.julia/packages/JuMP/I7whV/src/solvers.jl:212\n",
      "┌ Warning: Not solved to optimality, status: Unbounded\n",
      "└ @ JuMP /Users/vishalgupta/.julia/packages/JuMP/I7whV/src/solvers.jl:212\n"
     ]
    },
    {
     "name": "stdout",
     "output_type": "stream",
     "text": [
      "Academic license - for non-commercial use only\n",
      "Academic license - for non-commercial use only\n"
     ]
    },
    {
     "name": "stderr",
     "output_type": "stream",
     "text": [
      "┌ Warning: Not solved to optimality, status: Unbounded\n",
      "└ @ JuMP /Users/vishalgupta/.julia/packages/JuMP/I7whV/src/solvers.jl:212\n",
      "┌ Warning: Not solved to optimality, status: Unbounded\n",
      "└ @ JuMP /Users/vishalgupta/.julia/packages/JuMP/I7whV/src/solvers.jl:212\n"
     ]
    },
    {
     "name": "stdout",
     "output_type": "stream",
     "text": [
      "Academic license - for non-commercial use only\n",
      "Academic license - for non-commercial use only\n"
     ]
    },
    {
     "name": "stderr",
     "output_type": "stream",
     "text": [
      "┌ Warning: Not solved to optimality, status: Unbounded\n",
      "└ @ JuMP /Users/vishalgupta/.julia/packages/JuMP/I7whV/src/solvers.jl:212\n",
      "┌ Warning: Not solved to optimality, status: Unbounded\n",
      "└ @ JuMP /Users/vishalgupta/.julia/packages/JuMP/I7whV/src/solvers.jl:212\n"
     ]
    },
    {
     "name": "stdout",
     "output_type": "stream",
     "text": [
      "Academic license - for non-commercial use only\n",
      "Academic license - for non-commercial use only\n"
     ]
    },
    {
     "name": "stderr",
     "output_type": "stream",
     "text": [
      "┌ Warning: Not solved to optimality, status: Unbounded\n",
      "└ @ JuMP /Users/vishalgupta/.julia/packages/JuMP/I7whV/src/solvers.jl:212\n",
      "┌ Warning: Not solved to optimality, status: Unbounded\n",
      "└ @ JuMP /Users/vishalgupta/.julia/packages/JuMP/I7whV/src/solvers.jl:212\n"
     ]
    },
    {
     "name": "stdout",
     "output_type": "stream",
     "text": [
      "Academic license - for non-commercial use only\n",
      "Academic license - for non-commercial use only\n"
     ]
    },
    {
     "name": "stderr",
     "output_type": "stream",
     "text": [
      "┌ Warning: Not solved to optimality, status: Unbounded\n",
      "└ @ JuMP /Users/vishalgupta/.julia/packages/JuMP/I7whV/src/solvers.jl:212\n",
      "┌ Warning: Not solved to optimality, status: Unbounded\n",
      "└ @ JuMP /Users/vishalgupta/.julia/packages/JuMP/I7whV/src/solvers.jl:212\n"
     ]
    },
    {
     "name": "stdout",
     "output_type": "stream",
     "text": [
      "Academic license - for non-commercial use only\n",
      "Academic license - for non-commercial use only\n"
     ]
    },
    {
     "name": "stderr",
     "output_type": "stream",
     "text": [
      "┌ Warning: Not solved to optimality, status: Unbounded\n",
      "└ @ JuMP /Users/vishalgupta/.julia/packages/JuMP/I7whV/src/solvers.jl:212\n",
      "┌ Warning: Not solved to optimality, status: Unbounded\n",
      "└ @ JuMP /Users/vishalgupta/.julia/packages/JuMP/I7whV/src/solvers.jl:212\n"
     ]
    },
    {
     "name": "stdout",
     "output_type": "stream",
     "text": [
      "Academic license - for non-commercial use only\n",
      "Academic license - for non-commercial use only\n"
     ]
    },
    {
     "name": "stderr",
     "output_type": "stream",
     "text": [
      "┌ Warning: Not solved to optimality, status: Unbounded\n",
      "└ @ JuMP /Users/vishalgupta/.julia/packages/JuMP/I7whV/src/solvers.jl:212\n",
      "┌ Warning: Not solved to optimality, status: Unbounded\n",
      "└ @ JuMP /Users/vishalgupta/.julia/packages/JuMP/I7whV/src/solvers.jl:212\n"
     ]
    },
    {
     "name": "stdout",
     "output_type": "stream",
     "text": [
      "Academic license - for non-commercial use only\n",
      "Academic license - for non-commercial use only\n"
     ]
    },
    {
     "name": "stderr",
     "output_type": "stream",
     "text": [
      "┌ Warning: Not solved to optimality, status: Unbounded\n",
      "└ @ JuMP /Users/vishalgupta/.julia/packages/JuMP/I7whV/src/solvers.jl:212\n",
      "┌ Warning: Not solved to optimality, status: Unbounded\n",
      "└ @ JuMP /Users/vishalgupta/.julia/packages/JuMP/I7whV/src/solvers.jl:212\n"
     ]
    },
    {
     "name": "stdout",
     "output_type": "stream",
     "text": [
      "Academic license - for non-commercial use only\n",
      "Academic license - for non-commercial use only\n"
     ]
    },
    {
     "name": "stderr",
     "output_type": "stream",
     "text": [
      "┌ Warning: Not solved to optimality, status: Unbounded\n",
      "└ @ JuMP /Users/vishalgupta/.julia/packages/JuMP/I7whV/src/solvers.jl:212\n",
      "┌ Warning: Not solved to optimality, status: Unbounded\n",
      "└ @ JuMP /Users/vishalgupta/.julia/packages/JuMP/I7whV/src/solvers.jl:212\n"
     ]
    },
    {
     "name": "stdout",
     "output_type": "stream",
     "text": [
      "Academic license - for non-commercial use only\n",
      "Academic license - for non-commercial use only\n"
     ]
    },
    {
     "name": "stderr",
     "output_type": "stream",
     "text": [
      "┌ Warning: Not solved to optimality, status: Unbounded\n",
      "└ @ JuMP /Users/vishalgupta/.julia/packages/JuMP/I7whV/src/solvers.jl:212\n",
      "┌ Warning: Not solved to optimality, status: Unbounded\n",
      "└ @ JuMP /Users/vishalgupta/.julia/packages/JuMP/I7whV/src/solvers.jl:212\n"
     ]
    },
    {
     "name": "stdout",
     "output_type": "stream",
     "text": [
      "Academic license - for non-commercial use only\n",
      "Academic license - for non-commercial use only\n"
     ]
    },
    {
     "name": "stderr",
     "output_type": "stream",
     "text": [
      "┌ Warning: Not solved to optimality, status: Unbounded\n",
      "└ @ JuMP /Users/vishalgupta/.julia/packages/JuMP/I7whV/src/solvers.jl:212\n",
      "┌ Warning: Not solved to optimality, status: Unbounded\n",
      "└ @ JuMP /Users/vishalgupta/.julia/packages/JuMP/I7whV/src/solvers.jl:212\n"
     ]
    },
    {
     "name": "stdout",
     "output_type": "stream",
     "text": [
      "Academic license - for non-commercial use only\n",
      "Academic license - for non-commercial use only\n"
     ]
    },
    {
     "name": "stderr",
     "output_type": "stream",
     "text": [
      "┌ Warning: Not solved to optimality, status: Unbounded\n",
      "└ @ JuMP /Users/vishalgupta/.julia/packages/JuMP/I7whV/src/solvers.jl:212\n",
      "┌ Warning: Not solved to optimality, status: Unbounded\n",
      "└ @ JuMP /Users/vishalgupta/.julia/packages/JuMP/I7whV/src/solvers.jl:212\n"
     ]
    },
    {
     "name": "stdout",
     "output_type": "stream",
     "text": [
      "Academic license - for non-commercial use only\n",
      "Academic license - for non-commercial use only\n"
     ]
    },
    {
     "name": "stderr",
     "output_type": "stream",
     "text": [
      "┌ Warning: Not solved to optimality, status: Unbounded\n",
      "└ @ JuMP /Users/vishalgupta/.julia/packages/JuMP/I7whV/src/solvers.jl:212\n",
      "┌ Warning: Not solved to optimality, status: Unbounded\n",
      "└ @ JuMP /Users/vishalgupta/.julia/packages/JuMP/I7whV/src/solvers.jl:212\n"
     ]
    },
    {
     "name": "stdout",
     "output_type": "stream",
     "text": [
      "Academic license - for non-commercial use only\n",
      "Academic license - for non-commercial use only\n"
     ]
    },
    {
     "name": "stderr",
     "output_type": "stream",
     "text": [
      "┌ Warning: Not solved to optimality, status: Unbounded\n",
      "└ @ JuMP /Users/vishalgupta/.julia/packages/JuMP/I7whV/src/solvers.jl:212\n",
      "┌ Warning: Not solved to optimality, status: Unbounded\n",
      "└ @ JuMP /Users/vishalgupta/.julia/packages/JuMP/I7whV/src/solvers.jl:212\n"
     ]
    },
    {
     "name": "stdout",
     "output_type": "stream",
     "text": [
      "Academic license - for non-commercial use only\n",
      "Academic license - for non-commercial use only\n"
     ]
    },
    {
     "name": "stderr",
     "output_type": "stream",
     "text": [
      "┌ Warning: Not solved to optimality, status: Unbounded\n",
      "└ @ JuMP /Users/vishalgupta/.julia/packages/JuMP/I7whV/src/solvers.jl:212\n",
      "┌ Warning: Not solved to optimality, status: Unbounded\n",
      "└ @ JuMP /Users/vishalgupta/.julia/packages/JuMP/I7whV/src/solvers.jl:212\n"
     ]
    },
    {
     "name": "stdout",
     "output_type": "stream",
     "text": [
      "Academic license - for non-commercial use only\n",
      "Academic license - for non-commercial use only\n"
     ]
    },
    {
     "name": "stderr",
     "output_type": "stream",
     "text": [
      "┌ Warning: Not solved to optimality, status: Unbounded\n",
      "└ @ JuMP /Users/vishalgupta/.julia/packages/JuMP/I7whV/src/solvers.jl:212\n",
      "┌ Warning: Not solved to optimality, status: Unbounded\n",
      "└ @ JuMP /Users/vishalgupta/.julia/packages/JuMP/I7whV/src/solvers.jl:212\n"
     ]
    },
    {
     "name": "stdout",
     "output_type": "stream",
     "text": [
      "Academic license - for non-commercial use only\n",
      "Academic license - for non-commercial use only\n"
     ]
    },
    {
     "name": "stderr",
     "output_type": "stream",
     "text": [
      "┌ Warning: Not solved to optimality, status: Unbounded\n",
      "└ @ JuMP /Users/vishalgupta/.julia/packages/JuMP/I7whV/src/solvers.jl:212\n",
      "┌ Warning: Not solved to optimality, status: Unbounded\n",
      "└ @ JuMP /Users/vishalgupta/.julia/packages/JuMP/I7whV/src/solvers.jl:212\n"
     ]
    },
    {
     "name": "stdout",
     "output_type": "stream",
     "text": [
      "Academic license - for non-commercial use only\n",
      "Academic license - for non-commercial use only\n"
     ]
    },
    {
     "name": "stderr",
     "output_type": "stream",
     "text": [
      "┌ Warning: Not solved to optimality, status: Unbounded\n",
      "└ @ JuMP /Users/vishalgupta/.julia/packages/JuMP/I7whV/src/solvers.jl:212\n",
      "┌ Warning: Not solved to optimality, status: Unbounded\n",
      "└ @ JuMP /Users/vishalgupta/.julia/packages/JuMP/I7whV/src/solvers.jl:212\n"
     ]
    },
    {
     "name": "stdout",
     "output_type": "stream",
     "text": [
      "Academic license - for non-commercial use only\n",
      "Academic license - for non-commercial use only\n"
     ]
    },
    {
     "name": "stderr",
     "output_type": "stream",
     "text": [
      "┌ Warning: Not solved to optimality, status: Unbounded\n",
      "└ @ JuMP /Users/vishalgupta/.julia/packages/JuMP/I7whV/src/solvers.jl:212\n",
      "┌ Warning: Not solved to optimality, status: Unbounded\n",
      "└ @ JuMP /Users/vishalgupta/.julia/packages/JuMP/I7whV/src/solvers.jl:212\n"
     ]
    },
    {
     "name": "stdout",
     "output_type": "stream",
     "text": [
      "Academic license - for non-commercial use only\n",
      "Academic license - for non-commercial use only\n"
     ]
    },
    {
     "name": "stderr",
     "output_type": "stream",
     "text": [
      "┌ Warning: Not solved to optimality, status: Unbounded\n",
      "└ @ JuMP /Users/vishalgupta/.julia/packages/JuMP/I7whV/src/solvers.jl:212\n",
      "┌ Warning: Not solved to optimality, status: Unbounded\n",
      "└ @ JuMP /Users/vishalgupta/.julia/packages/JuMP/I7whV/src/solvers.jl:212\n"
     ]
    },
    {
     "name": "stdout",
     "output_type": "stream",
     "text": [
      "Academic license - for non-commercial use only\n",
      "Academic license - for non-commercial use only\n"
     ]
    },
    {
     "name": "stderr",
     "output_type": "stream",
     "text": [
      "┌ Warning: Not solved to optimality, status: Unbounded\n",
      "└ @ JuMP /Users/vishalgupta/.julia/packages/JuMP/I7whV/src/solvers.jl:212\n",
      "┌ Warning: Not solved to optimality, status: Unbounded\n",
      "└ @ JuMP /Users/vishalgupta/.julia/packages/JuMP/I7whV/src/solvers.jl:212\n"
     ]
    },
    {
     "name": "stdout",
     "output_type": "stream",
     "text": [
      "Academic license - for non-commercial use only\n",
      "Academic license - for non-commercial use only\n"
     ]
    },
    {
     "name": "stderr",
     "output_type": "stream",
     "text": [
      "┌ Warning: Not solved to optimality, status: Unbounded\n",
      "└ @ JuMP /Users/vishalgupta/.julia/packages/JuMP/I7whV/src/solvers.jl:212\n",
      "┌ Warning: Not solved to optimality, status: Unbounded\n",
      "└ @ JuMP /Users/vishalgupta/.julia/packages/JuMP/I7whV/src/solvers.jl:212\n"
     ]
    },
    {
     "name": "stdout",
     "output_type": "stream",
     "text": [
      "Academic license - for non-commercial use only\n",
      "Academic license - for non-commercial use only\n"
     ]
    },
    {
     "name": "stderr",
     "output_type": "stream",
     "text": [
      "┌ Warning: Not solved to optimality, status: Unbounded\n",
      "└ @ JuMP /Users/vishalgupta/.julia/packages/JuMP/I7whV/src/solvers.jl:212\n",
      "┌ Warning: Not solved to optimality, status: Unbounded\n",
      "└ @ JuMP /Users/vishalgupta/.julia/packages/JuMP/I7whV/src/solvers.jl:212\n"
     ]
    },
    {
     "name": "stdout",
     "output_type": "stream",
     "text": [
      "Academic license - for non-commercial use only\n",
      "Academic license - for non-commercial use only\n"
     ]
    },
    {
     "name": "stderr",
     "output_type": "stream",
     "text": [
      "┌ Warning: Not solved to optimality, status: Unbounded\n",
      "└ @ JuMP /Users/vishalgupta/.julia/packages/JuMP/I7whV/src/solvers.jl:212\n",
      "┌ Warning: Not solved to optimality, status: Unbounded\n",
      "└ @ JuMP /Users/vishalgupta/.julia/packages/JuMP/I7whV/src/solvers.jl:212\n"
     ]
    },
    {
     "name": "stdout",
     "output_type": "stream",
     "text": [
      "Academic license - for non-commercial use only\n",
      "Academic license - for non-commercial use only\n"
     ]
    },
    {
     "name": "stderr",
     "output_type": "stream",
     "text": [
      "┌ Warning: Not solved to optimality, status: Unbounded\n",
      "└ @ JuMP /Users/vishalgupta/.julia/packages/JuMP/I7whV/src/solvers.jl:212\n",
      "┌ Warning: Not solved to optimality, status: Unbounded\n",
      "└ @ JuMP /Users/vishalgupta/.julia/packages/JuMP/I7whV/src/solvers.jl:212\n"
     ]
    },
    {
     "name": "stdout",
     "output_type": "stream",
     "text": [
      "Academic license - for non-commercial use only\n",
      "Academic license - for non-commercial use only\n"
     ]
    },
    {
     "name": "stderr",
     "output_type": "stream",
     "text": [
      "┌ Warning: Not solved to optimality, status: Unbounded\n",
      "└ @ JuMP /Users/vishalgupta/.julia/packages/JuMP/I7whV/src/solvers.jl:212\n",
      "┌ Warning: Not solved to optimality, status: Unbounded\n",
      "└ @ JuMP /Users/vishalgupta/.julia/packages/JuMP/I7whV/src/solvers.jl:212\n"
     ]
    },
    {
     "name": "stdout",
     "output_type": "stream",
     "text": [
      "Academic license - for non-commercial use only\n",
      "Academic license - for non-commercial use only\n"
     ]
    },
    {
     "name": "stderr",
     "output_type": "stream",
     "text": [
      "┌ Warning: Not solved to optimality, status: Unbounded\n",
      "└ @ JuMP /Users/vishalgupta/.julia/packages/JuMP/I7whV/src/solvers.jl:212\n",
      "┌ Warning: Not solved to optimality, status: Unbounded\n",
      "└ @ JuMP /Users/vishalgupta/.julia/packages/JuMP/I7whV/src/solvers.jl:212\n"
     ]
    },
    {
     "name": "stdout",
     "output_type": "stream",
     "text": [
      "Academic license - for non-commercial use only\n",
      "Academic license - for non-commercial use only\n"
     ]
    },
    {
     "name": "stderr",
     "output_type": "stream",
     "text": [
      "┌ Warning: Not solved to optimality, status: Unbounded\n",
      "└ @ JuMP /Users/vishalgupta/.julia/packages/JuMP/I7whV/src/solvers.jl:212\n",
      "┌ Warning: Not solved to optimality, status: Unbounded\n",
      "└ @ JuMP /Users/vishalgupta/.julia/packages/JuMP/I7whV/src/solvers.jl:212\n"
     ]
    },
    {
     "name": "stdout",
     "output_type": "stream",
     "text": [
      "Academic license - for non-commercial use only\n",
      "Academic license - for non-commercial use only\n"
     ]
    },
    {
     "name": "stderr",
     "output_type": "stream",
     "text": [
      "┌ Warning: Not solved to optimality, status: Unbounded\n",
      "└ @ JuMP /Users/vishalgupta/.julia/packages/JuMP/I7whV/src/solvers.jl:212\n",
      "┌ Warning: Not solved to optimality, status: Unbounded\n",
      "└ @ JuMP /Users/vishalgupta/.julia/packages/JuMP/I7whV/src/solvers.jl:212\n"
     ]
    },
    {
     "name": "stdout",
     "output_type": "stream",
     "text": [
      "Academic license - for non-commercial use only\n",
      "Academic license - for non-commercial use only\n",
      "Academic license - for non-commercial use only\n",
      "Academic license - for non-commercial use only\n",
      "Academic license - for non-commercial use only\n",
      "Academic license - for non-commercial use only\n",
      "Academic license - for non-commercial use only\n",
      "Academic license - for non-commercial use only\n",
      "Academic license - for non-commercial use only\n",
      "Academic license - for non-commercial use only\n",
      "Academic license - for non-commercial use only\n",
      "Academic license - for non-commercial use only\n",
      "Academic license - for non-commercial use only\n",
      "Academic license - for non-commercial use only\n",
      "Academic license - for non-commercial use only\n",
      "Academic license - for non-commercial use only\n",
      "Academic license - for non-commercial use only\n",
      "Academic license - for non-commercial use only\n",
      "Academic license - for non-commercial use only\n",
      "Academic license - for non-commercial use only\n",
      "Academic license - for non-commercial use only\n",
      "Academic license - for non-commercial use only\n",
      "Academic license - for non-commercial use only\n",
      "Academic license - for non-commercial use only\n",
      "Academic license - for non-commercial use only\n",
      "Academic license - for non-commercial use only\n",
      "Academic license - for non-commercial use only\n",
      "Academic license - for non-commercial use only\n",
      "Academic license - for non-commercial use only\n",
      "Academic license - for non-commercial use only\n",
      "Academic license - for non-commercial use only\n",
      "Academic license - for non-commercial use only\n",
      "Academic license - for non-commercial use only\n",
      "Academic license - for non-commercial use only\n",
      "Academic license - for non-commercial use only\n",
      "Academic license - for non-commercial use only\n",
      "Academic license - for non-commercial use only\n",
      "Academic license - for non-commercial use only\n",
      "Academic license - for non-commercial use only\n",
      "Academic license - for non-commercial use only\n",
      "Academic license - for non-commercial use only\n",
      "Academic license - for non-commercial use only\n",
      "Academic license - for non-commercial use only\n",
      "Academic license - for non-commercial use only\n",
      "Academic license - for non-commercial use only\n",
      "Academic license - for non-commercial use only\n",
      "Academic license - for non-commercial use only\n",
      "Academic license - for non-commercial use only\n",
      "Academic license - for non-commercial use only\n",
      "Academic license - for non-commercial use only\n",
      "Academic license - for non-commercial use only\n",
      "Academic license - for non-commercial use only\n",
      "Academic license - for non-commercial use only\n",
      "Academic license - for non-commercial use only\n",
      "Academic license - for non-commercial use only\n",
      "Academic license - for non-commercial use only\n",
      "Academic license - for non-commercial use only\n",
      "Academic license - for non-commercial use only\n",
      "Academic license - for non-commercial use only\n",
      "Academic license - for non-commercial use only\n",
      "Academic license - for non-commercial use only\n",
      "Academic license - for non-commercial use only\n",
      "Academic license - for non-commercial use only\n",
      "Academic license - for non-commercial use only\n",
      "Academic license - for non-commercial use only\n",
      "Academic license - for non-commercial use only\n",
      "Academic license - for non-commercial use only\n",
      "Academic license - for non-commercial use only\n",
      "Academic license - for non-commercial use only\n",
      "Academic license - for non-commercial use only\n",
      "Academic license - for non-commercial use only\n",
      "Academic license - for non-commercial use only\n",
      "Academic license - for non-commercial use only\n",
      "Academic license - for non-commercial use only\n",
      "Academic license - for non-commercial use only\n",
      "Academic license - for non-commercial use only\n",
      "Academic license - for non-commercial use only\n",
      "Academic license - for non-commercial use only\n",
      "Academic license - for non-commercial use only\n",
      "Academic license - for non-commercial use only\n",
      "Academic license - for non-commercial use only\n",
      "Academic license - for non-commercial use only\n",
      "Academic license - for non-commercial use only\n",
      "Academic license - for non-commercial use only\n",
      "Academic license - for non-commercial use only\n",
      "Academic license - for non-commercial use only\n",
      "Academic license - for non-commercial use only\n",
      "Academic license - for non-commercial use only\n",
      "Academic license - for non-commercial use only\n",
      "Academic license - for non-commercial use only\n",
      "Academic license - for non-commercial use only\n",
      "Academic license - for non-commercial use only\n",
      "Academic license - for non-commercial use only\n",
      "Academic license - for non-commercial use only\n",
      "Academic license - for non-commercial use only\n",
      "Academic license - for non-commercial use only\n",
      "Academic license - for non-commercial use only\n",
      "Academic license - for non-commercial use only\n",
      "Academic license - for non-commercial use only\n",
      "Academic license - for non-commercial use only\n",
      "Academic license - for non-commercial use only\n",
      "Academic license - for non-commercial use only\n",
      "Academic license - for non-commercial use only\n",
      "Academic license - for non-commercial use only\n",
      "Academic license - for non-commercial use only\n",
      "Academic license - for non-commercial use only\n",
      "Academic license - for non-commercial use only\n",
      "Academic license - for non-commercial use only\n",
      "Academic license - for non-commercial use only\n",
      "Academic license - for non-commercial use only\n",
      "Academic license - for non-commercial use only\n",
      "Academic license - for non-commercial use only\n",
      "Academic license - for non-commercial use only\n",
      "Academic license - for non-commercial use only\n",
      "Academic license - for non-commercial use only\n",
      "Academic license - for non-commercial use only\n",
      "Academic license - for non-commercial use only\n",
      "Academic license - for non-commercial use only\n",
      "Academic license - for non-commercial use only\n",
      "Academic license - for non-commercial use only\n",
      "Academic license - for non-commercial use only\n",
      "Academic license - for non-commercial use only\n",
      "Academic license - for non-commercial use only\n",
      "Academic license - for non-commercial use only\n",
      "Academic license - for non-commercial use only\n",
      "Academic license - for non-commercial use only\n",
      "Academic license - for non-commercial use only\n",
      "Academic license - for non-commercial use only\n",
      "Academic license - for non-commercial use only\n",
      "Academic license - for non-commercial use only\n",
      "Academic license - for non-commercial use only\n",
      "Academic license - for non-commercial use only\n",
      "Academic license - for non-commercial use only\n",
      "Academic license - for non-commercial use only\n",
      "Academic license - for non-commercial use only\n",
      "Academic license - for non-commercial use only\n",
      "Academic license - for non-commercial use only\n",
      "Academic license - for non-commercial use only\n",
      "Academic license - for non-commercial use only\n",
      "Academic license - for non-commercial use only\n",
      "Academic license - for non-commercial use only\n",
      "Academic license - for non-commercial use only\n",
      "Academic license - for non-commercial use only\n",
      "Academic license - for non-commercial use only\n",
      "Academic license - for non-commercial use only\n",
      "Academic license - for non-commercial use only\n",
      "Academic license - for non-commercial use only\n",
      "Academic license - for non-commercial use only\n",
      "Academic license - for non-commercial use only\n",
      "Academic license - for non-commercial use only\n",
      "Academic license - for non-commercial use only\n",
      "Academic license - for non-commercial use only\n",
      "Academic license - for non-commercial use only\n",
      "Academic license - for non-commercial use only\n",
      "Academic license - for non-commercial use only\n",
      "Academic license - for non-commercial use only\n",
      "Academic license - for non-commercial use only\n",
      "Academic license - for non-commercial use only\n",
      "Academic license - for non-commercial use only\n",
      "Academic license - for non-commercial use only\n",
      "Academic license - for non-commercial use only\n",
      "Academic license - for non-commercial use only\n",
      "Academic license - for non-commercial use only\n",
      "Academic license - for non-commercial use only\n",
      "Academic license - for non-commercial use only\n",
      "Academic license - for non-commercial use only\n",
      "Academic license - for non-commercial use only\n",
      "Academic license - for non-commercial use only\n",
      "Academic license - for non-commercial use only\n",
      "Academic license - for non-commercial use only\n",
      "Academic license - for non-commercial use only\n",
      "Academic license - for non-commercial use only\n",
      "Academic license - for non-commercial use only\n",
      "Academic license - for non-commercial use only\n",
      "Academic license - for non-commercial use only\n",
      "Academic license - for non-commercial use only\n",
      "Academic license - for non-commercial use only\n",
      "Academic license - for non-commercial use only\n",
      "Academic license - for non-commercial use only\n",
      "Academic license - for non-commercial use only\n",
      "Academic license - for non-commercial use only\n",
      "Academic license - for non-commercial use only\n",
      "Academic license - for non-commercial use only\n",
      "Academic license - for non-commercial use only\n",
      "Academic license - for non-commercial use only\n",
      "Academic license - for non-commercial use only\n",
      "Academic license - for non-commercial use only\n",
      "Academic license - for non-commercial use only\n",
      "Academic license - for non-commercial use only\n",
      "Academic license - for non-commercial use only\n",
      "Academic license - for non-commercial use only\n",
      "Academic license - for non-commercial use only\n",
      "Academic license - for non-commercial use only\n",
      "Academic license - for non-commercial use only\n",
      "Academic license - for non-commercial use only\n",
      "Academic license - for non-commercial use only\n",
      "Academic license - for non-commercial use only\n",
      "Academic license - for non-commercial use only\n",
      "Academic license - for non-commercial use only\n",
      "Academic license - for non-commercial use only\n",
      "Academic license - for non-commercial use only\n",
      "Academic license - for non-commercial use only\n",
      "Academic license - for non-commercial use only\n",
      "Academic license - for non-commercial use only\n",
      "Academic license - for non-commercial use only\n",
      "Academic license - for non-commercial use only\n",
      "Academic license - for non-commercial use only\n",
      "Academic license - for non-commercial use only\n",
      "Academic license - for non-commercial use only\n",
      "Academic license - for non-commercial use only\n",
      "Academic license - for non-commercial use only\n",
      "Academic license - for non-commercial use only\n",
      "Academic license - for non-commercial use only\n",
      "Academic license - for non-commercial use only\n",
      "Academic license - for non-commercial use only\n",
      "Academic license - for non-commercial use only\n",
      "Academic license - for non-commercial use only\n",
      "Academic license - for non-commercial use only\n",
      "Academic license - for non-commercial use only\n",
      "Academic license - for non-commercial use only\n",
      "Academic license - for non-commercial use only\n",
      "Academic license - for non-commercial use only\n",
      "Academic license - for non-commercial use only\n",
      "Academic license - for non-commercial use only\n",
      "Academic license - for non-commercial use only\n",
      "Academic license - for non-commercial use only\n",
      "Academic license - for non-commercial use only\n",
      "Academic license - for non-commercial use only\n",
      "Academic license - for non-commercial use only\n",
      "Academic license - for non-commercial use only\n",
      "Academic license - for non-commercial use only\n",
      "Academic license - for non-commercial use only\n",
      "Academic license - for non-commercial use only\n",
      "Academic license - for non-commercial use only\n",
      "Academic license - for non-commercial use only\n",
      "Academic license - for non-commercial use only\n",
      "Academic license - for non-commercial use only\n",
      "Academic license - for non-commercial use only\n",
      "Academic license - for non-commercial use only\n",
      "Academic license - for non-commercial use only\n",
      "Academic license - for non-commercial use only\n",
      "Academic license - for non-commercial use only\n",
      "Academic license - for non-commercial use only\n",
      "Academic license - for non-commercial use only\n",
      "Academic license - for non-commercial use only\n",
      "Academic license - for non-commercial use only\n",
      "Academic license - for non-commercial use only\n",
      "Academic license - for non-commercial use only\n",
      "Academic license - for non-commercial use only\n",
      "Academic license - for non-commercial use only\n",
      "Academic license - for non-commercial use only\n",
      "Academic license - for non-commercial use only\n",
      "Academic license - for non-commercial use only\n",
      "Academic license - for non-commercial use only\n",
      "Academic license - for non-commercial use only\n",
      "Academic license - for non-commercial use only\n",
      "Academic license - for non-commercial use only\n",
      "Academic license - for non-commercial use only\n",
      "Academic license - for non-commercial use only\n",
      "Academic license - for non-commercial use only\n",
      "Academic license - for non-commercial use only\n",
      "Academic license - for non-commercial use only\n",
      "Academic license - for non-commercial use only\n",
      "Academic license - for non-commercial use only\n",
      "Academic license - for non-commercial use only\n",
      "Academic license - for non-commercial use only\n",
      "Academic license - for non-commercial use only\n",
      "Academic license - for non-commercial use only\n",
      "Academic license - for non-commercial use only\n",
      "Academic license - for non-commercial use only\n",
      "Academic license - for non-commercial use only\n",
      "Academic license - for non-commercial use only\n",
      "Dev:\t"
     ]
    },
    {
     "name": "stderr",
     "output_type": "stream",
     "text": [
      "┌ Warning: Not solved to optimality, status: Unbounded\n",
      "└ @ JuMP /Users/vishalgupta/.julia/packages/JuMP/I7whV/src/solvers.jl:212\n"
     ]
    },
    {
     "name": "stdout",
     "output_type": "stream",
     "text": [
      "0.02631578947368421\n",
      "Academic license - for non-commercial use only\n",
      "Academic license - for non-commercial use only\n"
     ]
    },
    {
     "name": "stderr",
     "output_type": "stream",
     "text": [
      "┌ Warning: Not solved to optimality, status: Unbounded\n",
      "└ @ JuMP /Users/vishalgupta/.julia/packages/JuMP/I7whV/src/solvers.jl:212\n",
      "┌ Warning: Not solved to optimality, status: Unbounded\n",
      "└ @ JuMP /Users/vishalgupta/.julia/packages/JuMP/I7whV/src/solvers.jl:212\n"
     ]
    },
    {
     "name": "stdout",
     "output_type": "stream",
     "text": [
      "Academic license - for non-commercial use only\n",
      "Academic license - for non-commercial use only\n",
      "Academic license - for non-commercial use only\n",
      "Academic license - for non-commercial use only\n"
     ]
    },
    {
     "name": "stderr",
     "output_type": "stream",
     "text": [
      "┌ Warning: Not solved to optimality, status: Unbounded\n",
      "└ @ JuMP /Users/vishalgupta/.julia/packages/JuMP/I7whV/src/solvers.jl:212\n",
      "┌ Warning: Not solved to optimality, status: Unbounded\n",
      "└ @ JuMP /Users/vishalgupta/.julia/packages/JuMP/I7whV/src/solvers.jl:212\n",
      "┌ Warning: Not solved to optimality, status: Unbounded\n",
      "└ @ JuMP /Users/vishalgupta/.julia/packages/JuMP/I7whV/src/solvers.jl:212\n",
      "┌ Warning: Not solved to optimality, status: Unbounded\n",
      "└ @ JuMP /Users/vishalgupta/.julia/packages/JuMP/I7whV/src/solvers.jl:212\n"
     ]
    },
    {
     "name": "stdout",
     "output_type": "stream",
     "text": [
      "Academic license - for non-commercial use only\n",
      "Academic license - for non-commercial use only\n",
      "Academic license - for non-commercial use only\n",
      "Academic license - for non-commercial use only\n"
     ]
    },
    {
     "name": "stderr",
     "output_type": "stream",
     "text": [
      "┌ Warning: Not solved to optimality, status: Unbounded\n",
      "└ @ JuMP /Users/vishalgupta/.julia/packages/JuMP/I7whV/src/solvers.jl:212\n",
      "┌ Warning: Not solved to optimality, status: Unbounded\n",
      "└ @ JuMP /Users/vishalgupta/.julia/packages/JuMP/I7whV/src/solvers.jl:212\n",
      "┌ Warning: Not solved to optimality, status: Unbounded\n",
      "└ @ JuMP /Users/vishalgupta/.julia/packages/JuMP/I7whV/src/solvers.jl:212\n",
      "┌ Warning: Not solved to optimality, status: Unbounded\n",
      "└ @ JuMP /Users/vishalgupta/.julia/packages/JuMP/I7whV/src/solvers.jl:212\n"
     ]
    },
    {
     "name": "stdout",
     "output_type": "stream",
     "text": [
      "Academic license - for non-commercial use only\n",
      "Academic license - for non-commercial use only\n"
     ]
    },
    {
     "name": "stderr",
     "output_type": "stream",
     "text": [
      "┌ Warning: Not solved to optimality, status: Unbounded\n",
      "└ @ JuMP /Users/vishalgupta/.julia/packages/JuMP/I7whV/src/solvers.jl:212\n",
      "┌ Warning: Not solved to optimality, status: Unbounded\n",
      "└ @ JuMP /Users/vishalgupta/.julia/packages/JuMP/I7whV/src/solvers.jl:212\n"
     ]
    },
    {
     "name": "stdout",
     "output_type": "stream",
     "text": [
      "Academic license - for non-commercial use only\n",
      "Academic license - for non-commercial use only\n",
      "Academic license - for non-commercial use only\n",
      "Academic license - for non-commercial use only\n"
     ]
    },
    {
     "name": "stderr",
     "output_type": "stream",
     "text": [
      "┌ Warning: Not solved to optimality, status: Unbounded\n",
      "└ @ JuMP /Users/vishalgupta/.julia/packages/JuMP/I7whV/src/solvers.jl:212\n",
      "┌ Warning: Not solved to optimality, status: Unbounded\n",
      "└ @ JuMP /Users/vishalgupta/.julia/packages/JuMP/I7whV/src/solvers.jl:212\n",
      "┌ Warning: Not solved to optimality, status: Unbounded\n",
      "└ @ JuMP /Users/vishalgupta/.julia/packages/JuMP/I7whV/src/solvers.jl:212\n",
      "┌ Warning: Not solved to optimality, status: Unbounded\n",
      "└ @ JuMP /Users/vishalgupta/.julia/packages/JuMP/I7whV/src/solvers.jl:212\n"
     ]
    },
    {
     "name": "stdout",
     "output_type": "stream",
     "text": [
      "Academic license - for non-commercial use only\n",
      "Academic license - for non-commercial use only\n",
      "Academic license - for non-commercial use only\n",
      "Academic license - for non-commercial use only\n"
     ]
    },
    {
     "name": "stderr",
     "output_type": "stream",
     "text": [
      "┌ Warning: Not solved to optimality, status: Unbounded\n",
      "└ @ JuMP /Users/vishalgupta/.julia/packages/JuMP/I7whV/src/solvers.jl:212\n",
      "┌ Warning: Not solved to optimality, status: Unbounded\n",
      "└ @ JuMP /Users/vishalgupta/.julia/packages/JuMP/I7whV/src/solvers.jl:212\n",
      "┌ Warning: Not solved to optimality, status: Unbounded\n",
      "└ @ JuMP /Users/vishalgupta/.julia/packages/JuMP/I7whV/src/solvers.jl:212\n",
      "┌ Warning: Not solved to optimality, status: Unbounded\n",
      "└ @ JuMP /Users/vishalgupta/.julia/packages/JuMP/I7whV/src/solvers.jl:212\n"
     ]
    },
    {
     "name": "stdout",
     "output_type": "stream",
     "text": [
      "Academic license - for non-commercial use only\n",
      "Academic license - for non-commercial use only\n",
      "Academic license - for non-commercial use only\n",
      "Academic license - for non-commercial use only\n"
     ]
    },
    {
     "name": "stderr",
     "output_type": "stream",
     "text": [
      "┌ Warning: Not solved to optimality, status: Unbounded\n",
      "└ @ JuMP /Users/vishalgupta/.julia/packages/JuMP/I7whV/src/solvers.jl:212\n",
      "┌ Warning: Not solved to optimality, status: Unbounded\n",
      "└ @ JuMP /Users/vishalgupta/.julia/packages/JuMP/I7whV/src/solvers.jl:212\n",
      "┌ Warning: Not solved to optimality, status: Unbounded\n",
      "└ @ JuMP /Users/vishalgupta/.julia/packages/JuMP/I7whV/src/solvers.jl:212\n",
      "┌ Warning: Not solved to optimality, status: Unbounded\n",
      "└ @ JuMP /Users/vishalgupta/.julia/packages/JuMP/I7whV/src/solvers.jl:212\n"
     ]
    },
    {
     "name": "stdout",
     "output_type": "stream",
     "text": [
      "Academic license - for non-commercial use only\n",
      "Academic license - for non-commercial use only\n",
      "Academic license - for non-commercial use only\n",
      "Academic license - for non-commercial use only\n"
     ]
    },
    {
     "name": "stderr",
     "output_type": "stream",
     "text": [
      "┌ Warning: Not solved to optimality, status: Unbounded\n",
      "└ @ JuMP /Users/vishalgupta/.julia/packages/JuMP/I7whV/src/solvers.jl:212\n",
      "┌ Warning: Not solved to optimality, status: Unbounded\n",
      "└ @ JuMP /Users/vishalgupta/.julia/packages/JuMP/I7whV/src/solvers.jl:212\n",
      "┌ Warning: Not solved to optimality, status: Unbounded\n",
      "└ @ JuMP /Users/vishalgupta/.julia/packages/JuMP/I7whV/src/solvers.jl:212\n",
      "┌ Warning: Not solved to optimality, status: Unbounded\n",
      "└ @ JuMP /Users/vishalgupta/.julia/packages/JuMP/I7whV/src/solvers.jl:212\n"
     ]
    },
    {
     "name": "stdout",
     "output_type": "stream",
     "text": [
      "Academic license - for non-commercial use only\n",
      "Academic license - for non-commercial use only\n",
      "Academic license - for non-commercial use only\n",
      "Academic license - for non-commercial use only\n"
     ]
    },
    {
     "name": "stderr",
     "output_type": "stream",
     "text": [
      "┌ Warning: Not solved to optimality, status: Unbounded\n",
      "└ @ JuMP /Users/vishalgupta/.julia/packages/JuMP/I7whV/src/solvers.jl:212\n",
      "┌ Warning: Not solved to optimality, status: Unbounded\n",
      "└ @ JuMP /Users/vishalgupta/.julia/packages/JuMP/I7whV/src/solvers.jl:212\n",
      "┌ Warning: Not solved to optimality, status: Unbounded\n",
      "└ @ JuMP /Users/vishalgupta/.julia/packages/JuMP/I7whV/src/solvers.jl:212\n",
      "┌ Warning: Not solved to optimality, status: Unbounded\n",
      "└ @ JuMP /Users/vishalgupta/.julia/packages/JuMP/I7whV/src/solvers.jl:212\n"
     ]
    },
    {
     "name": "stdout",
     "output_type": "stream",
     "text": [
      "Academic license - for non-commercial use only\n",
      "Academic license - for non-commercial use only\n",
      "Academic license - for non-commercial use only\n",
      "Academic license - for non-commercial use only\n"
     ]
    },
    {
     "name": "stderr",
     "output_type": "stream",
     "text": [
      "┌ Warning: Not solved to optimality, status: Unbounded\n",
      "└ @ JuMP /Users/vishalgupta/.julia/packages/JuMP/I7whV/src/solvers.jl:212\n",
      "┌ Warning: Not solved to optimality, status: Unbounded\n",
      "└ @ JuMP /Users/vishalgupta/.julia/packages/JuMP/I7whV/src/solvers.jl:212\n",
      "┌ Warning: Not solved to optimality, status: Unbounded\n",
      "└ @ JuMP /Users/vishalgupta/.julia/packages/JuMP/I7whV/src/solvers.jl:212\n",
      "┌ Warning: Not solved to optimality, status: Unbounded\n",
      "└ @ JuMP /Users/vishalgupta/.julia/packages/JuMP/I7whV/src/solvers.jl:212\n"
     ]
    },
    {
     "name": "stdout",
     "output_type": "stream",
     "text": [
      "Academic license - for non-commercial use only\n",
      "Academic license - for non-commercial use only\n"
     ]
    },
    {
     "name": "stderr",
     "output_type": "stream",
     "text": [
      "┌ Warning: Not solved to optimality, status: Unbounded\n",
      "└ @ JuMP /Users/vishalgupta/.julia/packages/JuMP/I7whV/src/solvers.jl:212\n",
      "┌ Warning: Not solved to optimality, status: Unbounded\n",
      "└ @ JuMP /Users/vishalgupta/.julia/packages/JuMP/I7whV/src/solvers.jl:212\n"
     ]
    },
    {
     "name": "stdout",
     "output_type": "stream",
     "text": [
      "Academic license - for non-commercial use only\n",
      "Academic license - for non-commercial use only\n"
     ]
    },
    {
     "name": "stderr",
     "output_type": "stream",
     "text": [
      "┌ Warning: Not solved to optimality, status: Unbounded\n",
      "└ @ JuMP /Users/vishalgupta/.julia/packages/JuMP/I7whV/src/solvers.jl:212\n",
      "┌ Warning: Not solved to optimality, status: Unbounded\n",
      "└ @ JuMP /Users/vishalgupta/.julia/packages/JuMP/I7whV/src/solvers.jl:212\n"
     ]
    },
    {
     "name": "stdout",
     "output_type": "stream",
     "text": [
      "Academic license - for non-commercial use only\n",
      "Academic license - for non-commercial use only\n",
      "Academic license - for non-commercial use only\n",
      "Academic license - for non-commercial use only\n"
     ]
    },
    {
     "name": "stderr",
     "output_type": "stream",
     "text": [
      "┌ Warning: Not solved to optimality, status: Unbounded\n",
      "└ @ JuMP /Users/vishalgupta/.julia/packages/JuMP/I7whV/src/solvers.jl:212\n",
      "┌ Warning: Not solved to optimality, status: Unbounded\n",
      "└ @ JuMP /Users/vishalgupta/.julia/packages/JuMP/I7whV/src/solvers.jl:212\n",
      "┌ Warning: Not solved to optimality, status: Unbounded\n",
      "└ @ JuMP /Users/vishalgupta/.julia/packages/JuMP/I7whV/src/solvers.jl:212\n",
      "┌ Warning: Not solved to optimality, status: Unbounded\n",
      "└ @ JuMP /Users/vishalgupta/.julia/packages/JuMP/I7whV/src/solvers.jl:212\n"
     ]
    },
    {
     "name": "stdout",
     "output_type": "stream",
     "text": [
      "Academic license - for non-commercial use only\n",
      "Academic license - for non-commercial use only\n"
     ]
    },
    {
     "name": "stderr",
     "output_type": "stream",
     "text": [
      "┌ Warning: Not solved to optimality, status: Unbounded\n",
      "└ @ JuMP /Users/vishalgupta/.julia/packages/JuMP/I7whV/src/solvers.jl:212\n",
      "┌ Warning: Not solved to optimality, status: Unbounded\n",
      "└ @ JuMP /Users/vishalgupta/.julia/packages/JuMP/I7whV/src/solvers.jl:212\n"
     ]
    },
    {
     "name": "stdout",
     "output_type": "stream",
     "text": [
      "Academic license - for non-commercial use only\n",
      "Academic license - for non-commercial use only\n"
     ]
    },
    {
     "name": "stderr",
     "output_type": "stream",
     "text": [
      "┌ Warning: Not solved to optimality, status: Unbounded\n",
      "└ @ JuMP /Users/vishalgupta/.julia/packages/JuMP/I7whV/src/solvers.jl:212\n",
      "┌ Warning: Not solved to optimality, status: Unbounded\n",
      "└ @ JuMP /Users/vishalgupta/.julia/packages/JuMP/I7whV/src/solvers.jl:212\n"
     ]
    },
    {
     "name": "stdout",
     "output_type": "stream",
     "text": [
      "Academic license - for non-commercial use only\n",
      "Academic license - for non-commercial use only\n"
     ]
    },
    {
     "name": "stderr",
     "output_type": "stream",
     "text": [
      "┌ Warning: Not solved to optimality, status: Unbounded\n",
      "└ @ JuMP /Users/vishalgupta/.julia/packages/JuMP/I7whV/src/solvers.jl:212\n",
      "┌ Warning: Not solved to optimality, status: Unbounded\n",
      "└ @ JuMP /Users/vishalgupta/.julia/packages/JuMP/I7whV/src/solvers.jl:212\n"
     ]
    },
    {
     "name": "stdout",
     "output_type": "stream",
     "text": [
      "Academic license - for non-commercial use only\n",
      "Academic license - for non-commercial use only\n",
      "Academic license - for non-commercial use only\n",
      "Academic license - for non-commercial use only\n"
     ]
    },
    {
     "name": "stderr",
     "output_type": "stream",
     "text": [
      "┌ Warning: Not solved to optimality, status: Unbounded\n",
      "└ @ JuMP /Users/vishalgupta/.julia/packages/JuMP/I7whV/src/solvers.jl:212\n",
      "┌ Warning: Not solved to optimality, status: Unbounded\n",
      "└ @ JuMP /Users/vishalgupta/.julia/packages/JuMP/I7whV/src/solvers.jl:212\n",
      "┌ Warning: Not solved to optimality, status: Unbounded\n",
      "└ @ JuMP /Users/vishalgupta/.julia/packages/JuMP/I7whV/src/solvers.jl:212\n",
      "┌ Warning: Not solved to optimality, status: Unbounded\n",
      "└ @ JuMP /Users/vishalgupta/.julia/packages/JuMP/I7whV/src/solvers.jl:212\n"
     ]
    },
    {
     "name": "stdout",
     "output_type": "stream",
     "text": [
      "Academic license - for non-commercial use only\n",
      "Academic license - for non-commercial use only\n",
      "Academic license - for non-commercial use only\n",
      "Academic license - for non-commercial use only\n"
     ]
    },
    {
     "name": "stderr",
     "output_type": "stream",
     "text": [
      "┌ Warning: Not solved to optimality, status: Unbounded\n",
      "└ @ JuMP /Users/vishalgupta/.julia/packages/JuMP/I7whV/src/solvers.jl:212\n",
      "┌ Warning: Not solved to optimality, status: Unbounded\n",
      "└ @ JuMP /Users/vishalgupta/.julia/packages/JuMP/I7whV/src/solvers.jl:212\n",
      "┌ Warning: Not solved to optimality, status: Unbounded\n",
      "└ @ JuMP /Users/vishalgupta/.julia/packages/JuMP/I7whV/src/solvers.jl:212\n",
      "┌ Warning: Not solved to optimality, status: Unbounded\n",
      "└ @ JuMP /Users/vishalgupta/.julia/packages/JuMP/I7whV/src/solvers.jl:212\n"
     ]
    },
    {
     "name": "stdout",
     "output_type": "stream",
     "text": [
      "Academic license - for non-commercial use only\n",
      "Academic license - for non-commercial use only\n",
      "Academic license - for non-commercial use only\n",
      "Academic license - for non-commercial use only\n"
     ]
    },
    {
     "name": "stderr",
     "output_type": "stream",
     "text": [
      "┌ Warning: Not solved to optimality, status: Unbounded\n",
      "└ @ JuMP /Users/vishalgupta/.julia/packages/JuMP/I7whV/src/solvers.jl:212\n",
      "┌ Warning: Not solved to optimality, status: Unbounded\n",
      "└ @ JuMP /Users/vishalgupta/.julia/packages/JuMP/I7whV/src/solvers.jl:212\n",
      "┌ Warning: Not solved to optimality, status: Unbounded\n",
      "└ @ JuMP /Users/vishalgupta/.julia/packages/JuMP/I7whV/src/solvers.jl:212\n",
      "┌ Warning: Not solved to optimality, status: Unbounded\n",
      "└ @ JuMP /Users/vishalgupta/.julia/packages/JuMP/I7whV/src/solvers.jl:212\n"
     ]
    },
    {
     "name": "stdout",
     "output_type": "stream",
     "text": [
      "Academic license - for non-commercial use only\n",
      "Academic license - for non-commercial use only\n",
      "Academic license - for non-commercial use only\n",
      "Academic license - for non-commercial use only\n"
     ]
    },
    {
     "name": "stderr",
     "output_type": "stream",
     "text": [
      "┌ Warning: Not solved to optimality, status: Unbounded\n",
      "└ @ JuMP /Users/vishalgupta/.julia/packages/JuMP/I7whV/src/solvers.jl:212\n",
      "┌ Warning: Not solved to optimality, status: Unbounded\n",
      "└ @ JuMP /Users/vishalgupta/.julia/packages/JuMP/I7whV/src/solvers.jl:212\n",
      "┌ Warning: Not solved to optimality, status: Unbounded\n",
      "└ @ JuMP /Users/vishalgupta/.julia/packages/JuMP/I7whV/src/solvers.jl:212\n",
      "┌ Warning: Not solved to optimality, status: Unbounded\n",
      "└ @ JuMP /Users/vishalgupta/.julia/packages/JuMP/I7whV/src/solvers.jl:212\n"
     ]
    },
    {
     "name": "stdout",
     "output_type": "stream",
     "text": [
      "Academic license - for non-commercial use only\n",
      "Academic license - for non-commercial use only\n",
      "Academic license - for non-commercial use only\n",
      "Academic license - for non-commercial use only\n"
     ]
    },
    {
     "name": "stderr",
     "output_type": "stream",
     "text": [
      "┌ Warning: Not solved to optimality, status: Unbounded\n",
      "└ @ JuMP /Users/vishalgupta/.julia/packages/JuMP/I7whV/src/solvers.jl:212\n",
      "┌ Warning: Not solved to optimality, status: Unbounded\n",
      "└ @ JuMP /Users/vishalgupta/.julia/packages/JuMP/I7whV/src/solvers.jl:212\n",
      "┌ Warning: Not solved to optimality, status: Unbounded\n",
      "└ @ JuMP /Users/vishalgupta/.julia/packages/JuMP/I7whV/src/solvers.jl:212\n",
      "┌ Warning: Not solved to optimality, status: Unbounded\n",
      "└ @ JuMP /Users/vishalgupta/.julia/packages/JuMP/I7whV/src/solvers.jl:212\n"
     ]
    },
    {
     "name": "stdout",
     "output_type": "stream",
     "text": [
      "Academic license - for non-commercial use only\n",
      "Academic license - for non-commercial use only\n",
      "Academic license - for non-commercial use only\n",
      "Academic license - for non-commercial use only\n"
     ]
    },
    {
     "name": "stderr",
     "output_type": "stream",
     "text": [
      "┌ Warning: Not solved to optimality, status: Unbounded\n",
      "└ @ JuMP /Users/vishalgupta/.julia/packages/JuMP/I7whV/src/solvers.jl:212\n",
      "┌ Warning: Not solved to optimality, status: Unbounded\n",
      "└ @ JuMP /Users/vishalgupta/.julia/packages/JuMP/I7whV/src/solvers.jl:212\n",
      "┌ Warning: Not solved to optimality, status: Unbounded\n",
      "└ @ JuMP /Users/vishalgupta/.julia/packages/JuMP/I7whV/src/solvers.jl:212\n",
      "┌ Warning: Not solved to optimality, status: Unbounded\n",
      "└ @ JuMP /Users/vishalgupta/.julia/packages/JuMP/I7whV/src/solvers.jl:212\n"
     ]
    },
    {
     "name": "stdout",
     "output_type": "stream",
     "text": [
      "Academic license - for non-commercial use only\n",
      "Academic license - for non-commercial use only\n",
      "Academic license - for non-commercial use only\n",
      "Academic license - for non-commercial use only\n"
     ]
    },
    {
     "name": "stderr",
     "output_type": "stream",
     "text": [
      "┌ Warning: Not solved to optimality, status: Unbounded\n",
      "└ @ JuMP /Users/vishalgupta/.julia/packages/JuMP/I7whV/src/solvers.jl:212\n",
      "┌ Warning: Not solved to optimality, status: Unbounded\n",
      "└ @ JuMP /Users/vishalgupta/.julia/packages/JuMP/I7whV/src/solvers.jl:212\n",
      "┌ Warning: Not solved to optimality, status: Unbounded\n",
      "└ @ JuMP /Users/vishalgupta/.julia/packages/JuMP/I7whV/src/solvers.jl:212\n",
      "┌ Warning: Not solved to optimality, status: Unbounded\n",
      "└ @ JuMP /Users/vishalgupta/.julia/packages/JuMP/I7whV/src/solvers.jl:212\n"
     ]
    },
    {
     "name": "stdout",
     "output_type": "stream",
     "text": [
      "Academic license - for non-commercial use only\n",
      "Academic license - for non-commercial use only\n",
      "Academic license - for non-commercial use only\n",
      "Academic license - for non-commercial use only\n"
     ]
    },
    {
     "name": "stderr",
     "output_type": "stream",
     "text": [
      "┌ Warning: Not solved to optimality, status: Unbounded\n",
      "└ @ JuMP /Users/vishalgupta/.julia/packages/JuMP/I7whV/src/solvers.jl:212\n",
      "┌ Warning: Not solved to optimality, status: Unbounded\n",
      "└ @ JuMP /Users/vishalgupta/.julia/packages/JuMP/I7whV/src/solvers.jl:212\n",
      "┌ Warning: Not solved to optimality, status: Unbounded\n",
      "└ @ JuMP /Users/vishalgupta/.julia/packages/JuMP/I7whV/src/solvers.jl:212\n",
      "┌ Warning: Not solved to optimality, status: Unbounded\n",
      "└ @ JuMP /Users/vishalgupta/.julia/packages/JuMP/I7whV/src/solvers.jl:212\n"
     ]
    },
    {
     "name": "stdout",
     "output_type": "stream",
     "text": [
      "Academic license - for non-commercial use only\n",
      "Academic license - for non-commercial use only\n",
      "Academic license - for non-commercial use only\n",
      "Academic license - for non-commercial use only\n"
     ]
    },
    {
     "name": "stderr",
     "output_type": "stream",
     "text": [
      "┌ Warning: Not solved to optimality, status: Unbounded\n",
      "└ @ JuMP /Users/vishalgupta/.julia/packages/JuMP/I7whV/src/solvers.jl:212\n",
      "┌ Warning: Not solved to optimality, status: Unbounded\n",
      "└ @ JuMP /Users/vishalgupta/.julia/packages/JuMP/I7whV/src/solvers.jl:212\n",
      "┌ Warning: Not solved to optimality, status: Unbounded\n",
      "└ @ JuMP /Users/vishalgupta/.julia/packages/JuMP/I7whV/src/solvers.jl:212\n",
      "┌ Warning: Not solved to optimality, status: Unbounded\n",
      "└ @ JuMP /Users/vishalgupta/.julia/packages/JuMP/I7whV/src/solvers.jl:212\n"
     ]
    },
    {
     "name": "stdout",
     "output_type": "stream",
     "text": [
      "Academic license - for non-commercial use only\n",
      "Academic license - for non-commercial use only\n",
      "Academic license - for non-commercial use only\n",
      "Academic license - for non-commercial use only\n"
     ]
    },
    {
     "name": "stderr",
     "output_type": "stream",
     "text": [
      "┌ Warning: Not solved to optimality, status: Unbounded\n",
      "└ @ JuMP /Users/vishalgupta/.julia/packages/JuMP/I7whV/src/solvers.jl:212\n",
      "┌ Warning: Not solved to optimality, status: Unbounded\n",
      "└ @ JuMP /Users/vishalgupta/.julia/packages/JuMP/I7whV/src/solvers.jl:212\n",
      "┌ Warning: Not solved to optimality, status: Unbounded\n",
      "└ @ JuMP /Users/vishalgupta/.julia/packages/JuMP/I7whV/src/solvers.jl:212\n",
      "┌ Warning: Not solved to optimality, status: Unbounded\n",
      "└ @ JuMP /Users/vishalgupta/.julia/packages/JuMP/I7whV/src/solvers.jl:212\n"
     ]
    },
    {
     "name": "stdout",
     "output_type": "stream",
     "text": [
      "Academic license - for non-commercial use only\n",
      "Academic license - for non-commercial use only\n",
      "Academic license - for non-commercial use only\n",
      "Academic license - for non-commercial use only\n"
     ]
    },
    {
     "name": "stderr",
     "output_type": "stream",
     "text": [
      "┌ Warning: Not solved to optimality, status: Unbounded\n",
      "└ @ JuMP /Users/vishalgupta/.julia/packages/JuMP/I7whV/src/solvers.jl:212\n",
      "┌ Warning: Not solved to optimality, status: Unbounded\n",
      "└ @ JuMP /Users/vishalgupta/.julia/packages/JuMP/I7whV/src/solvers.jl:212\n",
      "┌ Warning: Not solved to optimality, status: Unbounded\n",
      "└ @ JuMP /Users/vishalgupta/.julia/packages/JuMP/I7whV/src/solvers.jl:212\n",
      "┌ Warning: Not solved to optimality, status: Unbounded\n",
      "└ @ JuMP /Users/vishalgupta/.julia/packages/JuMP/I7whV/src/solvers.jl:212\n"
     ]
    },
    {
     "name": "stdout",
     "output_type": "stream",
     "text": [
      "Academic license - for non-commercial use only\n",
      "Academic license - for non-commercial use only\n",
      "Academic license - for non-commercial use only\n",
      "Academic license - for non-commercial use only\n"
     ]
    },
    {
     "name": "stderr",
     "output_type": "stream",
     "text": [
      "┌ Warning: Not solved to optimality, status: Unbounded\n",
      "└ @ JuMP /Users/vishalgupta/.julia/packages/JuMP/I7whV/src/solvers.jl:212\n",
      "┌ Warning: Not solved to optimality, status: Unbounded\n",
      "└ @ JuMP /Users/vishalgupta/.julia/packages/JuMP/I7whV/src/solvers.jl:212\n",
      "┌ Warning: Not solved to optimality, status: Unbounded\n",
      "└ @ JuMP /Users/vishalgupta/.julia/packages/JuMP/I7whV/src/solvers.jl:212\n",
      "┌ Warning: Not solved to optimality, status: Unbounded\n",
      "└ @ JuMP /Users/vishalgupta/.julia/packages/JuMP/I7whV/src/solvers.jl:212\n"
     ]
    },
    {
     "name": "stdout",
     "output_type": "stream",
     "text": [
      "Academic license - for non-commercial use only\n",
      "Academic license - for non-commercial use only\n",
      "Academic license - for non-commercial use only\n",
      "Academic license - for non-commercial use only\n"
     ]
    },
    {
     "name": "stderr",
     "output_type": "stream",
     "text": [
      "┌ Warning: Not solved to optimality, status: Unbounded\n",
      "└ @ JuMP /Users/vishalgupta/.julia/packages/JuMP/I7whV/src/solvers.jl:212\n",
      "┌ Warning: Not solved to optimality, status: Unbounded\n",
      "└ @ JuMP /Users/vishalgupta/.julia/packages/JuMP/I7whV/src/solvers.jl:212\n",
      "┌ Warning: Not solved to optimality, status: Unbounded\n",
      "└ @ JuMP /Users/vishalgupta/.julia/packages/JuMP/I7whV/src/solvers.jl:212\n",
      "┌ Warning: Not solved to optimality, status: Unbounded\n",
      "└ @ JuMP /Users/vishalgupta/.julia/packages/JuMP/I7whV/src/solvers.jl:212\n"
     ]
    },
    {
     "name": "stdout",
     "output_type": "stream",
     "text": [
      "Academic license - for non-commercial use only\n",
      "Academic license - for non-commercial use only\n",
      "Academic license - for non-commercial use only\n",
      "Academic license - for non-commercial use only\n"
     ]
    },
    {
     "name": "stderr",
     "output_type": "stream",
     "text": [
      "┌ Warning: Not solved to optimality, status: Unbounded\n",
      "└ @ JuMP /Users/vishalgupta/.julia/packages/JuMP/I7whV/src/solvers.jl:212\n",
      "┌ Warning: Not solved to optimality, status: Unbounded\n",
      "└ @ JuMP /Users/vishalgupta/.julia/packages/JuMP/I7whV/src/solvers.jl:212\n",
      "┌ Warning: Not solved to optimality, status: Unbounded\n",
      "└ @ JuMP /Users/vishalgupta/.julia/packages/JuMP/I7whV/src/solvers.jl:212\n",
      "┌ Warning: Not solved to optimality, status: Unbounded\n",
      "└ @ JuMP /Users/vishalgupta/.julia/packages/JuMP/I7whV/src/solvers.jl:212\n"
     ]
    },
    {
     "name": "stdout",
     "output_type": "stream",
     "text": [
      "Academic license - for non-commercial use only\n",
      "Academic license - for non-commercial use only\n",
      "Academic license - for non-commercial use only\n",
      "Academic license - for non-commercial use only\n"
     ]
    },
    {
     "name": "stderr",
     "output_type": "stream",
     "text": [
      "┌ Warning: Not solved to optimality, status: Unbounded\n",
      "└ @ JuMP /Users/vishalgupta/.julia/packages/JuMP/I7whV/src/solvers.jl:212\n",
      "┌ Warning: Not solved to optimality, status: Unbounded\n",
      "└ @ JuMP /Users/vishalgupta/.julia/packages/JuMP/I7whV/src/solvers.jl:212\n",
      "┌ Warning: Not solved to optimality, status: Unbounded\n",
      "└ @ JuMP /Users/vishalgupta/.julia/packages/JuMP/I7whV/src/solvers.jl:212\n",
      "┌ Warning: Not solved to optimality, status: Unbounded\n",
      "└ @ JuMP /Users/vishalgupta/.julia/packages/JuMP/I7whV/src/solvers.jl:212\n"
     ]
    },
    {
     "name": "stdout",
     "output_type": "stream",
     "text": [
      "Academic license - for non-commercial use only\n",
      "Academic license - for non-commercial use only\n",
      "Academic license - for non-commercial use only\n",
      "Academic license - for non-commercial use only\n"
     ]
    },
    {
     "name": "stderr",
     "output_type": "stream",
     "text": [
      "┌ Warning: Not solved to optimality, status: Unbounded\n",
      "└ @ JuMP /Users/vishalgupta/.julia/packages/JuMP/I7whV/src/solvers.jl:212\n",
      "┌ Warning: Not solved to optimality, status: Unbounded\n",
      "└ @ JuMP /Users/vishalgupta/.julia/packages/JuMP/I7whV/src/solvers.jl:212\n",
      "┌ Warning: Not solved to optimality, status: Unbounded\n",
      "└ @ JuMP /Users/vishalgupta/.julia/packages/JuMP/I7whV/src/solvers.jl:212\n",
      "┌ Warning: Not solved to optimality, status: Unbounded\n",
      "└ @ JuMP /Users/vishalgupta/.julia/packages/JuMP/I7whV/src/solvers.jl:212\n"
     ]
    },
    {
     "name": "stdout",
     "output_type": "stream",
     "text": [
      "Academic license - for non-commercial use only\n",
      "Academic license - for non-commercial use only\n",
      "Academic license - for non-commercial use only\n",
      "Academic license - for non-commercial use only\n"
     ]
    },
    {
     "name": "stderr",
     "output_type": "stream",
     "text": [
      "┌ Warning: Not solved to optimality, status: Unbounded\n",
      "└ @ JuMP /Users/vishalgupta/.julia/packages/JuMP/I7whV/src/solvers.jl:212\n",
      "┌ Warning: Not solved to optimality, status: Unbounded\n",
      "└ @ JuMP /Users/vishalgupta/.julia/packages/JuMP/I7whV/src/solvers.jl:212\n",
      "┌ Warning: Not solved to optimality, status: Unbounded\n",
      "└ @ JuMP /Users/vishalgupta/.julia/packages/JuMP/I7whV/src/solvers.jl:212\n",
      "┌ Warning: Not solved to optimality, status: Unbounded\n",
      "└ @ JuMP /Users/vishalgupta/.julia/packages/JuMP/I7whV/src/solvers.jl:212\n"
     ]
    },
    {
     "name": "stdout",
     "output_type": "stream",
     "text": [
      "Academic license - for non-commercial use only\n",
      "Academic license - for non-commercial use only\n",
      "Academic license - for non-commercial use only\n",
      "Academic license - for non-commercial use only\n"
     ]
    },
    {
     "name": "stderr",
     "output_type": "stream",
     "text": [
      "┌ Warning: Not solved to optimality, status: Unbounded\n",
      "└ @ JuMP /Users/vishalgupta/.julia/packages/JuMP/I7whV/src/solvers.jl:212\n",
      "┌ Warning: Not solved to optimality, status: Unbounded\n",
      "└ @ JuMP /Users/vishalgupta/.julia/packages/JuMP/I7whV/src/solvers.jl:212\n",
      "┌ Warning: Not solved to optimality, status: Unbounded\n",
      "└ @ JuMP /Users/vishalgupta/.julia/packages/JuMP/I7whV/src/solvers.jl:212\n",
      "┌ Warning: Not solved to optimality, status: Unbounded\n",
      "└ @ JuMP /Users/vishalgupta/.julia/packages/JuMP/I7whV/src/solvers.jl:212\n"
     ]
    },
    {
     "name": "stdout",
     "output_type": "stream",
     "text": [
      "Academic license - for non-commercial use only\n",
      "Academic license - for non-commercial use only\n"
     ]
    },
    {
     "name": "stderr",
     "output_type": "stream",
     "text": [
      "┌ Warning: Not solved to optimality, status: Unbounded\n",
      "└ @ JuMP /Users/vishalgupta/.julia/packages/JuMP/I7whV/src/solvers.jl:212\n",
      "┌ Warning: Not solved to optimality, status: Unbounded\n",
      "└ @ JuMP /Users/vishalgupta/.julia/packages/JuMP/I7whV/src/solvers.jl:212\n"
     ]
    },
    {
     "name": "stdout",
     "output_type": "stream",
     "text": [
      "Academic license - for non-commercial use only\n",
      "Academic license - for non-commercial use only\n",
      "Academic license - for non-commercial use only\n",
      "Academic license - for non-commercial use only\n"
     ]
    },
    {
     "name": "stderr",
     "output_type": "stream",
     "text": [
      "┌ Warning: Not solved to optimality, status: Unbounded\n",
      "└ @ JuMP /Users/vishalgupta/.julia/packages/JuMP/I7whV/src/solvers.jl:212\n",
      "┌ Warning: Not solved to optimality, status: Unbounded\n",
      "└ @ JuMP /Users/vishalgupta/.julia/packages/JuMP/I7whV/src/solvers.jl:212\n",
      "┌ Warning: Not solved to optimality, status: Unbounded\n",
      "└ @ JuMP /Users/vishalgupta/.julia/packages/JuMP/I7whV/src/solvers.jl:212\n",
      "┌ Warning: Not solved to optimality, status: Unbounded\n",
      "└ @ JuMP /Users/vishalgupta/.julia/packages/JuMP/I7whV/src/solvers.jl:212\n"
     ]
    },
    {
     "name": "stdout",
     "output_type": "stream",
     "text": [
      "Academic license - for non-commercial use only\n",
      "Academic license - for non-commercial use only\n",
      "Academic license - for non-commercial use only\n",
      "Academic license - for non-commercial use only\n"
     ]
    },
    {
     "name": "stderr",
     "output_type": "stream",
     "text": [
      "┌ Warning: Not solved to optimality, status: Unbounded\n",
      "└ @ JuMP /Users/vishalgupta/.julia/packages/JuMP/I7whV/src/solvers.jl:212\n",
      "┌ Warning: Not solved to optimality, status: Unbounded\n",
      "└ @ JuMP /Users/vishalgupta/.julia/packages/JuMP/I7whV/src/solvers.jl:212\n",
      "┌ Warning: Not solved to optimality, status: Unbounded\n",
      "└ @ JuMP /Users/vishalgupta/.julia/packages/JuMP/I7whV/src/solvers.jl:212\n",
      "┌ Warning: Not solved to optimality, status: Unbounded\n",
      "└ @ JuMP /Users/vishalgupta/.julia/packages/JuMP/I7whV/src/solvers.jl:212\n"
     ]
    },
    {
     "name": "stdout",
     "output_type": "stream",
     "text": [
      "Academic license - for non-commercial use only\n",
      "Academic license - for non-commercial use only\n",
      "Academic license - for non-commercial use only\n",
      "Academic license - for non-commercial use only\n"
     ]
    },
    {
     "name": "stderr",
     "output_type": "stream",
     "text": [
      "┌ Warning: Not solved to optimality, status: Unbounded\n",
      "└ @ JuMP /Users/vishalgupta/.julia/packages/JuMP/I7whV/src/solvers.jl:212\n",
      "┌ Warning: Not solved to optimality, status: Unbounded\n",
      "└ @ JuMP /Users/vishalgupta/.julia/packages/JuMP/I7whV/src/solvers.jl:212\n",
      "┌ Warning: Not solved to optimality, status: Unbounded\n",
      "└ @ JuMP /Users/vishalgupta/.julia/packages/JuMP/I7whV/src/solvers.jl:212\n",
      "┌ Warning: Not solved to optimality, status: Unbounded\n",
      "└ @ JuMP /Users/vishalgupta/.julia/packages/JuMP/I7whV/src/solvers.jl:212\n"
     ]
    },
    {
     "name": "stdout",
     "output_type": "stream",
     "text": [
      "Academic license - for non-commercial use only\n",
      "Academic license - for non-commercial use only\n",
      "Academic license - for non-commercial use only\n",
      "Academic license - for non-commercial use only\n"
     ]
    },
    {
     "name": "stderr",
     "output_type": "stream",
     "text": [
      "┌ Warning: Not solved to optimality, status: Unbounded\n",
      "└ @ JuMP /Users/vishalgupta/.julia/packages/JuMP/I7whV/src/solvers.jl:212\n",
      "┌ Warning: Not solved to optimality, status: Unbounded\n",
      "└ @ JuMP /Users/vishalgupta/.julia/packages/JuMP/I7whV/src/solvers.jl:212\n",
      "┌ Warning: Not solved to optimality, status: Unbounded\n",
      "└ @ JuMP /Users/vishalgupta/.julia/packages/JuMP/I7whV/src/solvers.jl:212\n",
      "┌ Warning: Not solved to optimality, status: Unbounded\n",
      "└ @ JuMP /Users/vishalgupta/.julia/packages/JuMP/I7whV/src/solvers.jl:212\n"
     ]
    },
    {
     "name": "stdout",
     "output_type": "stream",
     "text": [
      "Academic license - for non-commercial use only\n",
      "Academic license - for non-commercial use only\n",
      "Academic license - for non-commercial use only\n",
      "Academic license - for non-commercial use only\n"
     ]
    },
    {
     "name": "stderr",
     "output_type": "stream",
     "text": [
      "┌ Warning: Not solved to optimality, status: Unbounded\n",
      "└ @ JuMP /Users/vishalgupta/.julia/packages/JuMP/I7whV/src/solvers.jl:212\n",
      "┌ Warning: Not solved to optimality, status: Unbounded\n",
      "└ @ JuMP /Users/vishalgupta/.julia/packages/JuMP/I7whV/src/solvers.jl:212\n",
      "┌ Warning: Not solved to optimality, status: Unbounded\n",
      "└ @ JuMP /Users/vishalgupta/.julia/packages/JuMP/I7whV/src/solvers.jl:212\n",
      "┌ Warning: Not solved to optimality, status: Unbounded\n",
      "└ @ JuMP /Users/vishalgupta/.julia/packages/JuMP/I7whV/src/solvers.jl:212\n"
     ]
    },
    {
     "name": "stdout",
     "output_type": "stream",
     "text": [
      "Academic license - for non-commercial use only\n",
      "Academic license - for non-commercial use only\n",
      "Academic license - for non-commercial use only\n",
      "Academic license - for non-commercial use only\n"
     ]
    },
    {
     "name": "stderr",
     "output_type": "stream",
     "text": [
      "┌ Warning: Not solved to optimality, status: Unbounded\n",
      "└ @ JuMP /Users/vishalgupta/.julia/packages/JuMP/I7whV/src/solvers.jl:212\n",
      "┌ Warning: Not solved to optimality, status: Unbounded\n",
      "└ @ JuMP /Users/vishalgupta/.julia/packages/JuMP/I7whV/src/solvers.jl:212\n",
      "┌ Warning: Not solved to optimality, status: Unbounded\n",
      "└ @ JuMP /Users/vishalgupta/.julia/packages/JuMP/I7whV/src/solvers.jl:212\n",
      "┌ Warning: Not solved to optimality, status: Unbounded\n",
      "└ @ JuMP /Users/vishalgupta/.julia/packages/JuMP/I7whV/src/solvers.jl:212\n"
     ]
    },
    {
     "name": "stdout",
     "output_type": "stream",
     "text": [
      "Academic license - for non-commercial use only\n",
      "Academic license - for non-commercial use only\n",
      "Academic license - for non-commercial use only\n",
      "Academic license - for non-commercial use only\n"
     ]
    },
    {
     "name": "stderr",
     "output_type": "stream",
     "text": [
      "┌ Warning: Not solved to optimality, status: Unbounded\n",
      "└ @ JuMP /Users/vishalgupta/.julia/packages/JuMP/I7whV/src/solvers.jl:212\n",
      "┌ Warning: Not solved to optimality, status: Unbounded\n",
      "└ @ JuMP /Users/vishalgupta/.julia/packages/JuMP/I7whV/src/solvers.jl:212\n",
      "┌ Warning: Not solved to optimality, status: Unbounded\n",
      "└ @ JuMP /Users/vishalgupta/.julia/packages/JuMP/I7whV/src/solvers.jl:212\n",
      "┌ Warning: Not solved to optimality, status: Unbounded\n",
      "└ @ JuMP /Users/vishalgupta/.julia/packages/JuMP/I7whV/src/solvers.jl:212\n"
     ]
    },
    {
     "name": "stdout",
     "output_type": "stream",
     "text": [
      "Academic license - for non-commercial use only\n",
      "Academic license - for non-commercial use only\n",
      "Academic license - for non-commercial use only\n",
      "Academic license - for non-commercial use only\n"
     ]
    },
    {
     "name": "stderr",
     "output_type": "stream",
     "text": [
      "┌ Warning: Not solved to optimality, status: Unbounded\n",
      "└ @ JuMP /Users/vishalgupta/.julia/packages/JuMP/I7whV/src/solvers.jl:212\n",
      "┌ Warning: Not solved to optimality, status: Unbounded\n",
      "└ @ JuMP /Users/vishalgupta/.julia/packages/JuMP/I7whV/src/solvers.jl:212\n",
      "┌ Warning: Not solved to optimality, status: Unbounded\n",
      "└ @ JuMP /Users/vishalgupta/.julia/packages/JuMP/I7whV/src/solvers.jl:212\n",
      "┌ Warning: Not solved to optimality, status: Unbounded\n",
      "└ @ JuMP /Users/vishalgupta/.julia/packages/JuMP/I7whV/src/solvers.jl:212\n"
     ]
    },
    {
     "name": "stdout",
     "output_type": "stream",
     "text": [
      "Academic license - for non-commercial use only\n",
      "Academic license - for non-commercial use only\n",
      "Academic license - for non-commercial use only\n",
      "Academic license - for non-commercial use only\n"
     ]
    },
    {
     "name": "stderr",
     "output_type": "stream",
     "text": [
      "┌ Warning: Not solved to optimality, status: Unbounded\n",
      "└ @ JuMP /Users/vishalgupta/.julia/packages/JuMP/I7whV/src/solvers.jl:212\n",
      "┌ Warning: Not solved to optimality, status: Unbounded\n",
      "└ @ JuMP /Users/vishalgupta/.julia/packages/JuMP/I7whV/src/solvers.jl:212\n",
      "┌ Warning: Not solved to optimality, status: Unbounded\n",
      "└ @ JuMP /Users/vishalgupta/.julia/packages/JuMP/I7whV/src/solvers.jl:212\n",
      "┌ Warning: Not solved to optimality, status: Unbounded\n",
      "└ @ JuMP /Users/vishalgupta/.julia/packages/JuMP/I7whV/src/solvers.jl:212\n"
     ]
    },
    {
     "name": "stdout",
     "output_type": "stream",
     "text": [
      "Academic license - for non-commercial use only\n",
      "Academic license - for non-commercial use only\n",
      "Academic license - for non-commercial use only\n",
      "Academic license - for non-commercial use only\n"
     ]
    },
    {
     "name": "stderr",
     "output_type": "stream",
     "text": [
      "┌ Warning: Not solved to optimality, status: Unbounded\n",
      "└ @ JuMP /Users/vishalgupta/.julia/packages/JuMP/I7whV/src/solvers.jl:212\n",
      "┌ Warning: Not solved to optimality, status: Unbounded\n",
      "└ @ JuMP /Users/vishalgupta/.julia/packages/JuMP/I7whV/src/solvers.jl:212\n",
      "┌ Warning: Not solved to optimality, status: Unbounded\n",
      "└ @ JuMP /Users/vishalgupta/.julia/packages/JuMP/I7whV/src/solvers.jl:212\n",
      "┌ Warning: Not solved to optimality, status: Unbounded\n",
      "└ @ JuMP /Users/vishalgupta/.julia/packages/JuMP/I7whV/src/solvers.jl:212\n"
     ]
    },
    {
     "name": "stdout",
     "output_type": "stream",
     "text": [
      "Academic license - for non-commercial use only\n",
      "Academic license - for non-commercial use only\n",
      "Academic license - for non-commercial use only\n",
      "Academic license - for non-commercial use only\n"
     ]
    },
    {
     "name": "stderr",
     "output_type": "stream",
     "text": [
      "┌ Warning: Not solved to optimality, status: Unbounded\n",
      "└ @ JuMP /Users/vishalgupta/.julia/packages/JuMP/I7whV/src/solvers.jl:212\n",
      "┌ Warning: Not solved to optimality, status: Unbounded\n",
      "└ @ JuMP /Users/vishalgupta/.julia/packages/JuMP/I7whV/src/solvers.jl:212\n",
      "┌ Warning: Not solved to optimality, status: Unbounded\n",
      "└ @ JuMP /Users/vishalgupta/.julia/packages/JuMP/I7whV/src/solvers.jl:212\n",
      "┌ Warning: Not solved to optimality, status: Unbounded\n",
      "└ @ JuMP /Users/vishalgupta/.julia/packages/JuMP/I7whV/src/solvers.jl:212\n"
     ]
    },
    {
     "name": "stdout",
     "output_type": "stream",
     "text": [
      "Academic license - for non-commercial use only\n",
      "Academic license - for non-commercial use only\n",
      "Academic license - for non-commercial use only\n",
      "Academic license - for non-commercial use only\n"
     ]
    },
    {
     "name": "stderr",
     "output_type": "stream",
     "text": [
      "┌ Warning: Not solved to optimality, status: Unbounded\n",
      "└ @ JuMP /Users/vishalgupta/.julia/packages/JuMP/I7whV/src/solvers.jl:212\n",
      "┌ Warning: Not solved to optimality, status: Unbounded\n",
      "└ @ JuMP /Users/vishalgupta/.julia/packages/JuMP/I7whV/src/solvers.jl:212\n",
      "┌ Warning: Not solved to optimality, status: Unbounded\n",
      "└ @ JuMP /Users/vishalgupta/.julia/packages/JuMP/I7whV/src/solvers.jl:212\n",
      "┌ Warning: Not solved to optimality, status: Unbounded\n",
      "└ @ JuMP /Users/vishalgupta/.julia/packages/JuMP/I7whV/src/solvers.jl:212\n"
     ]
    },
    {
     "name": "stdout",
     "output_type": "stream",
     "text": [
      "Academic license - for non-commercial use only\n",
      "Academic license - for non-commercial use only\n",
      "Academic license - for non-commercial use only\n",
      "Academic license - for non-commercial use only\n"
     ]
    },
    {
     "name": "stderr",
     "output_type": "stream",
     "text": [
      "┌ Warning: Not solved to optimality, status: Unbounded\n",
      "└ @ JuMP /Users/vishalgupta/.julia/packages/JuMP/I7whV/src/solvers.jl:212\n",
      "┌ Warning: Not solved to optimality, status: Unbounded\n",
      "└ @ JuMP /Users/vishalgupta/.julia/packages/JuMP/I7whV/src/solvers.jl:212\n",
      "┌ Warning: Not solved to optimality, status: Unbounded\n",
      "└ @ JuMP /Users/vishalgupta/.julia/packages/JuMP/I7whV/src/solvers.jl:212\n",
      "┌ Warning: Not solved to optimality, status: Unbounded\n",
      "└ @ JuMP /Users/vishalgupta/.julia/packages/JuMP/I7whV/src/solvers.jl:212\n"
     ]
    },
    {
     "name": "stdout",
     "output_type": "stream",
     "text": [
      "Academic license - for non-commercial use only\n",
      "Academic license - for non-commercial use only\n",
      "Academic license - for non-commercial use only\n",
      "Academic license - for non-commercial use only\n"
     ]
    },
    {
     "name": "stderr",
     "output_type": "stream",
     "text": [
      "┌ Warning: Not solved to optimality, status: Unbounded\n",
      "└ @ JuMP /Users/vishalgupta/.julia/packages/JuMP/I7whV/src/solvers.jl:212\n",
      "┌ Warning: Not solved to optimality, status: Unbounded\n",
      "└ @ JuMP /Users/vishalgupta/.julia/packages/JuMP/I7whV/src/solvers.jl:212\n",
      "┌ Warning: Not solved to optimality, status: Unbounded\n",
      "└ @ JuMP /Users/vishalgupta/.julia/packages/JuMP/I7whV/src/solvers.jl:212\n",
      "┌ Warning: Not solved to optimality, status: Unbounded\n",
      "└ @ JuMP /Users/vishalgupta/.julia/packages/JuMP/I7whV/src/solvers.jl:212\n"
     ]
    },
    {
     "name": "stdout",
     "output_type": "stream",
     "text": [
      "Academic license - for non-commercial use only\n",
      "Academic license - for non-commercial use only\n",
      "Academic license - for non-commercial use only\n",
      "Academic license - for non-commercial use only\n"
     ]
    },
    {
     "name": "stderr",
     "output_type": "stream",
     "text": [
      "┌ Warning: Not solved to optimality, status: Unbounded\n",
      "└ @ JuMP /Users/vishalgupta/.julia/packages/JuMP/I7whV/src/solvers.jl:212\n",
      "┌ Warning: Not solved to optimality, status: Unbounded\n",
      "└ @ JuMP /Users/vishalgupta/.julia/packages/JuMP/I7whV/src/solvers.jl:212\n",
      "┌ Warning: Not solved to optimality, status: Unbounded\n",
      "└ @ JuMP /Users/vishalgupta/.julia/packages/JuMP/I7whV/src/solvers.jl:212\n",
      "┌ Warning: Not solved to optimality, status: Unbounded\n",
      "└ @ JuMP /Users/vishalgupta/.julia/packages/JuMP/I7whV/src/solvers.jl:212\n"
     ]
    },
    {
     "name": "stdout",
     "output_type": "stream",
     "text": [
      "Academic license - for non-commercial use only\n",
      "Academic license - for non-commercial use only\n"
     ]
    },
    {
     "name": "stderr",
     "output_type": "stream",
     "text": [
      "┌ Warning: Not solved to optimality, status: Unbounded\n",
      "└ @ JuMP /Users/vishalgupta/.julia/packages/JuMP/I7whV/src/solvers.jl:212\n",
      "┌ Warning: Not solved to optimality, status: Unbounded\n",
      "└ @ JuMP /Users/vishalgupta/.julia/packages/JuMP/I7whV/src/solvers.jl:212\n"
     ]
    },
    {
     "name": "stdout",
     "output_type": "stream",
     "text": [
      "Academic license - for non-commercial use only\n",
      "Academic license - for non-commercial use only\n",
      "Academic license - for non-commercial use only\n",
      "Academic license - for non-commercial use only\n"
     ]
    },
    {
     "name": "stderr",
     "output_type": "stream",
     "text": [
      "┌ Warning: Not solved to optimality, status: Unbounded\n",
      "└ @ JuMP /Users/vishalgupta/.julia/packages/JuMP/I7whV/src/solvers.jl:212\n",
      "┌ Warning: Not solved to optimality, status: Unbounded\n",
      "└ @ JuMP /Users/vishalgupta/.julia/packages/JuMP/I7whV/src/solvers.jl:212\n",
      "┌ Warning: Not solved to optimality, status: Unbounded\n",
      "└ @ JuMP /Users/vishalgupta/.julia/packages/JuMP/I7whV/src/solvers.jl:212\n",
      "┌ Warning: Not solved to optimality, status: Unbounded\n",
      "└ @ JuMP /Users/vishalgupta/.julia/packages/JuMP/I7whV/src/solvers.jl:212\n"
     ]
    },
    {
     "name": "stdout",
     "output_type": "stream",
     "text": [
      "Academic license - for non-commercial use only\n",
      "Academic license - for non-commercial use only\n",
      "Academic license - for non-commercial use only\n",
      "Academic license - for non-commercial use only\n"
     ]
    },
    {
     "name": "stderr",
     "output_type": "stream",
     "text": [
      "┌ Warning: Not solved to optimality, status: Unbounded\n",
      "└ @ JuMP /Users/vishalgupta/.julia/packages/JuMP/I7whV/src/solvers.jl:212\n",
      "┌ Warning: Not solved to optimality, status: Unbounded\n",
      "└ @ JuMP /Users/vishalgupta/.julia/packages/JuMP/I7whV/src/solvers.jl:212\n",
      "┌ Warning: Not solved to optimality, status: Unbounded\n",
      "└ @ JuMP /Users/vishalgupta/.julia/packages/JuMP/I7whV/src/solvers.jl:212\n",
      "┌ Warning: Not solved to optimality, status: Unbounded\n",
      "└ @ JuMP /Users/vishalgupta/.julia/packages/JuMP/I7whV/src/solvers.jl:212\n"
     ]
    },
    {
     "name": "stdout",
     "output_type": "stream",
     "text": [
      "Academic license - for non-commercial use only\n",
      "Academic license - for non-commercial use only\n",
      "Academic license - for non-commercial use only\n",
      "Academic license - for non-commercial use only\n"
     ]
    },
    {
     "name": "stderr",
     "output_type": "stream",
     "text": [
      "┌ Warning: Not solved to optimality, status: Unbounded\n",
      "└ @ JuMP /Users/vishalgupta/.julia/packages/JuMP/I7whV/src/solvers.jl:212\n",
      "┌ Warning: Not solved to optimality, status: Unbounded\n",
      "└ @ JuMP /Users/vishalgupta/.julia/packages/JuMP/I7whV/src/solvers.jl:212\n",
      "┌ Warning: Not solved to optimality, status: Unbounded\n",
      "└ @ JuMP /Users/vishalgupta/.julia/packages/JuMP/I7whV/src/solvers.jl:212\n",
      "┌ Warning: Not solved to optimality, status: Unbounded\n",
      "└ @ JuMP /Users/vishalgupta/.julia/packages/JuMP/I7whV/src/solvers.jl:212\n"
     ]
    },
    {
     "name": "stdout",
     "output_type": "stream",
     "text": [
      "Academic license - for non-commercial use only\n",
      "Academic license - for non-commercial use only\n",
      "Academic license - for non-commercial use only\n",
      "Academic license - for non-commercial use only\n",
      "Academic license - for non-commercial use only\n",
      "Academic license - for non-commercial use only\n",
      "Academic license - for non-commercial use only\n",
      "Academic license - for non-commercial use only\n",
      "Academic license - for non-commercial use only\n",
      "Academic license - for non-commercial use only\n",
      "Academic license - for non-commercial use only\n",
      "Academic license - for non-commercial use only\n",
      "Academic license - for non-commercial use only\n",
      "Academic license - for non-commercial use only\n",
      "Academic license - for non-commercial use only\n",
      "Academic license - for non-commercial use only\n",
      "Academic license - for non-commercial use only\n",
      "Academic license - for non-commercial use only\n",
      "Academic license - for non-commercial use only\n",
      "Academic license - for non-commercial use only\n",
      "Academic license - for non-commercial use only\n",
      "Academic license - for non-commercial use only\n",
      "Academic license - for non-commercial use only\n",
      "Academic license - for non-commercial use only\n",
      "Academic license - for non-commercial use only\n",
      "Academic license - for non-commercial use only\n",
      "Academic license - for non-commercial use only\n",
      "Academic license - for non-commercial use only\n",
      "Academic license - for non-commercial use only\n",
      "Academic license - for non-commercial use only\n",
      "Academic license - for non-commercial use only\n",
      "Academic license - for non-commercial use only\n",
      "Academic license - for non-commercial use only\n",
      "Academic license - for non-commercial use only\n",
      "Academic license - for non-commercial use only\n",
      "Academic license - for non-commercial use only\n",
      "Academic license - for non-commercial use only\n",
      "Academic license - for non-commercial use only\n",
      "Academic license - for non-commercial use only\n",
      "Academic license - for non-commercial use only\n",
      "Academic license - for non-commercial use only\n",
      "Academic license - for non-commercial use only\n",
      "Academic license - for non-commercial use only\n",
      "Academic license - for non-commercial use only\n",
      "Academic license - for non-commercial use only\n",
      "Academic license - for non-commercial use only\n",
      "Academic license - for non-commercial use only\n",
      "Academic license - for non-commercial use only\n",
      "Academic license - for non-commercial use only\n",
      "Academic license - for non-commercial use only\n",
      "Academic license - for non-commercial use only\n",
      "Academic license - for non-commercial use only\n",
      "Academic license - for non-commercial use only\n",
      "Academic license - for non-commercial use only\n",
      "Academic license - for non-commercial use only\n",
      "Academic license - for non-commercial use only\n",
      "Academic license - for non-commercial use only\n",
      "Academic license - for non-commercial use only\n",
      "Academic license - for non-commercial use only\n",
      "Academic license - for non-commercial use only\n",
      "Academic license - for non-commercial use only\n",
      "Academic license - for non-commercial use only\n",
      "Academic license - for non-commercial use only\n",
      "Academic license - for non-commercial use only\n",
      "Academic license - for non-commercial use only\n",
      "Academic license - for non-commercial use only\n",
      "Academic license - for non-commercial use only\n",
      "Academic license - for non-commercial use only\n",
      "Academic license - for non-commercial use only\n",
      "Academic license - for non-commercial use only\n",
      "Academic license - for non-commercial use only\n",
      "Academic license - for non-commercial use only\n",
      "Academic license - for non-commercial use only\n",
      "Academic license - for non-commercial use only\n",
      "Academic license - for non-commercial use only\n",
      "Academic license - for non-commercial use only\n",
      "Academic license - for non-commercial use only\n",
      "Academic license - for non-commercial use only\n",
      "Academic license - for non-commercial use only\n",
      "Academic license - for non-commercial use only\n",
      "Academic license - for non-commercial use only\n",
      "Academic license - for non-commercial use only\n",
      "Academic license - for non-commercial use only\n",
      "Academic license - for non-commercial use only\n",
      "Academic license - for non-commercial use only\n",
      "Academic license - for non-commercial use only\n",
      "Academic license - for non-commercial use only\n",
      "Academic license - for non-commercial use only\n",
      "Academic license - for non-commercial use only\n",
      "Academic license - for non-commercial use only\n",
      "Academic license - for non-commercial use only\n",
      "Academic license - for non-commercial use only\n",
      "Academic license - for non-commercial use only\n",
      "Academic license - for non-commercial use only\n",
      "Academic license - for non-commercial use only\n",
      "Academic license - for non-commercial use only\n",
      "Academic license - for non-commercial use only\n",
      "Academic license - for non-commercial use only\n",
      "Academic license - for non-commercial use only\n",
      "Academic license - for non-commercial use only\n",
      "Academic license - for non-commercial use only\n",
      "Academic license - for non-commercial use only\n",
      "Academic license - for non-commercial use only\n",
      "Academic license - for non-commercial use only\n",
      "Academic license - for non-commercial use only\n",
      "Academic license - for non-commercial use only\n",
      "Academic license - for non-commercial use only\n",
      "Academic license - for non-commercial use only\n",
      "Academic license - for non-commercial use only\n",
      "Academic license - for non-commercial use only\n",
      "Academic license - for non-commercial use only\n",
      "Academic license - for non-commercial use only\n",
      "Academic license - for non-commercial use only\n",
      "Academic license - for non-commercial use only\n",
      "Academic license - for non-commercial use only\n",
      "Academic license - for non-commercial use only\n",
      "Academic license - for non-commercial use only\n",
      "Academic license - for non-commercial use only\n",
      "Academic license - for non-commercial use only\n",
      "Academic license - for non-commercial use only\n",
      "Academic license - for non-commercial use only\n",
      "Academic license - for non-commercial use only\n",
      "Academic license - for non-commercial use only\n",
      "Academic license - for non-commercial use only\n",
      "Academic license - for non-commercial use only\n",
      "Academic license - for non-commercial use only\n",
      "Academic license - for non-commercial use only\n",
      "Academic license - for non-commercial use only\n",
      "Academic license - for non-commercial use only\n",
      "Academic license - for non-commercial use only\n",
      "Academic license - for non-commercial use only\n",
      "Academic license - for non-commercial use only\n",
      "Academic license - for non-commercial use only\n",
      "Academic license - for non-commercial use only\n",
      "Academic license - for non-commercial use only\n",
      "Academic license - for non-commercial use only\n",
      "Academic license - for non-commercial use only\n",
      "Academic license - for non-commercial use only\n",
      "Academic license - for non-commercial use only\n",
      "Academic license - for non-commercial use only\n",
      "Academic license - for non-commercial use only\n",
      "Academic license - for non-commercial use only\n",
      "Academic license - for non-commercial use only\n",
      "Academic license - for non-commercial use only\n",
      "Academic license - for non-commercial use only\n",
      "Academic license - for non-commercial use only\n",
      "Academic license - for non-commercial use only\n",
      "Academic license - for non-commercial use only\n",
      "Academic license - for non-commercial use only\n",
      "Academic license - for non-commercial use only\n",
      "Academic license - for non-commercial use only\n",
      "Academic license - for non-commercial use only\n",
      "Academic license - for non-commercial use only\n",
      "Academic license - for non-commercial use only\n",
      "Academic license - for non-commercial use only\n",
      "Academic license - for non-commercial use only\n",
      "Academic license - for non-commercial use only\n",
      "Academic license - for non-commercial use only\n",
      "Academic license - for non-commercial use only\n",
      "Academic license - for non-commercial use only\n",
      "Academic license - for non-commercial use only\n",
      "Academic license - for non-commercial use only\n",
      "Academic license - for non-commercial use only\n",
      "Academic license - for non-commercial use only\n",
      "Academic license - for non-commercial use only\n",
      "Academic license - for non-commercial use only\n",
      "Academic license - for non-commercial use only\n",
      "Academic license - for non-commercial use only\n",
      "Academic license - for non-commercial use only\n",
      "Academic license - for non-commercial use only\n",
      "Academic license - for non-commercial use only\n",
      "Academic license - for non-commercial use only\n",
      "Academic license - for non-commercial use only\n",
      "Academic license - for non-commercial use only\n",
      "Academic license - for non-commercial use only\n",
      "Academic license - for non-commercial use only\n",
      "Academic license - for non-commercial use only\n",
      "Academic license - for non-commercial use only\n",
      "Academic license - for non-commercial use only\n",
      "Academic license - for non-commercial use only\n",
      "Academic license - for non-commercial use only\n",
      "Academic license - for non-commercial use only\n",
      "Academic license - for non-commercial use only\n",
      "Academic license - for non-commercial use only\n",
      "Academic license - for non-commercial use only\n",
      "Academic license - for non-commercial use only\n",
      "Academic license - for non-commercial use only\n",
      "Academic license - for non-commercial use only\n",
      "Academic license - for non-commercial use only\n",
      "Academic license - for non-commercial use only\n",
      "Academic license - for non-commercial use only\n",
      "Academic license - for non-commercial use only\n",
      "Academic license - for non-commercial use only\n",
      "Academic license - for non-commercial use only\n",
      "Academic license - for non-commercial use only\n",
      "Academic license - for non-commercial use only\n",
      "Academic license - for non-commercial use only\n",
      "Academic license - for non-commercial use only\n",
      "Academic license - for non-commercial use only\n",
      "Academic license - for non-commercial use only\n",
      "Academic license - for non-commercial use only\n",
      "Academic license - for non-commercial use only\n",
      "Academic license - for non-commercial use only\n",
      "Academic license - for non-commercial use only\n",
      "Academic license - for non-commercial use only\n",
      "Academic license - for non-commercial use only\n",
      "Academic license - for non-commercial use only\n",
      "Academic license - for non-commercial use only\n",
      "Academic license - for non-commercial use only\n",
      "Academic license - for non-commercial use only\n",
      "Academic license - for non-commercial use only\n",
      "Academic license - for non-commercial use only\n",
      "Academic license - for non-commercial use only\n",
      "Academic license - for non-commercial use only\n",
      "Academic license - for non-commercial use only\n",
      "Academic license - for non-commercial use only\n",
      "Academic license - for non-commercial use only\n",
      "Academic license - for non-commercial use only\n",
      "Academic license - for non-commercial use only\n",
      "Academic license - for non-commercial use only\n",
      "Academic license - for non-commercial use only\n",
      "Academic license - for non-commercial use only\n",
      "Academic license - for non-commercial use only\n",
      "Academic license - for non-commercial use only\n",
      "Academic license - for non-commercial use only\n",
      "Academic license - for non-commercial use only\n",
      "Academic license - for non-commercial use only\n",
      "Academic license - for non-commercial use only\n",
      "Academic license - for non-commercial use only\n",
      "Academic license - for non-commercial use only\n",
      "Academic license - for non-commercial use only\n",
      "Academic license - for non-commercial use only\n",
      "Academic license - for non-commercial use only\n",
      "Academic license - for non-commercial use only\n",
      "Academic license - for non-commercial use only\n",
      "Academic license - for non-commercial use only\n",
      "Academic license - for non-commercial use only\n",
      "Academic license - for non-commercial use only\n",
      "Academic license - for non-commercial use only\n",
      "Academic license - for non-commercial use only\n",
      "Academic license - for non-commercial use only\n",
      "Academic license - for non-commercial use only\n",
      "Academic license - for non-commercial use only\n",
      "Academic license - for non-commercial use only\n",
      "Academic license - for non-commercial use only\n",
      "Academic license - for non-commercial use only\n",
      "Academic license - for non-commercial use only\n",
      "Academic license - for non-commercial use only\n",
      "Academic license - for non-commercial use only\n",
      "Academic license - for non-commercial use only\n",
      "Academic license - for non-commercial use only\n",
      "Academic license - for non-commercial use only\n",
      "Academic license - for non-commercial use only\n",
      "Academic license - for non-commercial use only\n",
      "Academic license - for non-commercial use only\n",
      "Academic license - for non-commercial use only\n",
      "Academic license - for non-commercial use only\n",
      "Academic license - for non-commercial use only\n",
      "Academic license - for non-commercial use only\n",
      "Academic license - for non-commercial use only\n",
      "Academic license - for non-commercial use only\n",
      "Academic license - for non-commercial use only\n",
      "Academic license - for non-commercial use only\n",
      "Academic license - for non-commercial use only\n",
      "Academic license - for non-commercial use only\n",
      "Academic license - for non-commercial use only\n",
      "Academic license - for non-commercial use only\n",
      "Academic license - for non-commercial use only\n",
      "Academic license - for non-commercial use only\n",
      "Academic license - for non-commercial use only\n",
      "Academic license - for non-commercial use only\n",
      "Academic license - for non-commercial use only\n",
      "Academic license - for non-commercial use only\n",
      "Academic license - for non-commercial use only\n",
      "Dev:\t0.05263157894736842\n",
      "Academic license - for non-commercial use only\n",
      "Academic license - for non-commercial use only\n",
      "Academic license - for non-commercial use only\n"
     ]
    },
    {
     "name": "stderr",
     "output_type": "stream",
     "text": [
      "┌ Warning: Not solved to optimality, status: Unbounded\n",
      "└ @ JuMP /Users/vishalgupta/.julia/packages/JuMP/I7whV/src/solvers.jl:212\n",
      "┌ Warning: Not solved to optimality, status: Unbounded\n",
      "└ @ JuMP /Users/vishalgupta/.julia/packages/JuMP/I7whV/src/solvers.jl:212\n"
     ]
    },
    {
     "name": "stdout",
     "output_type": "stream",
     "text": [
      "Academic license - for non-commercial use only\n",
      "Academic license - for non-commercial use only\n",
      "Academic license - for non-commercial use only\n",
      "Academic license - for non-commercial use only\n"
     ]
    },
    {
     "name": "stderr",
     "output_type": "stream",
     "text": [
      "┌ Warning: Not solved to optimality, status: Unbounded\n",
      "└ @ JuMP /Users/vishalgupta/.julia/packages/JuMP/I7whV/src/solvers.jl:212\n",
      "┌ Warning: Not solved to optimality, status: Unbounded\n",
      "└ @ JuMP /Users/vishalgupta/.julia/packages/JuMP/I7whV/src/solvers.jl:212\n",
      "┌ Warning: Not solved to optimality, status: Unbounded\n",
      "└ @ JuMP /Users/vishalgupta/.julia/packages/JuMP/I7whV/src/solvers.jl:212\n",
      "┌ Warning: Not solved to optimality, status: Unbounded\n",
      "└ @ JuMP /Users/vishalgupta/.julia/packages/JuMP/I7whV/src/solvers.jl:212\n"
     ]
    },
    {
     "name": "stdout",
     "output_type": "stream",
     "text": [
      "Academic license - for non-commercial use only\n",
      "Academic license - for non-commercial use only\n",
      "Academic license - for non-commercial use only\n",
      "Academic license - for non-commercial use only\n"
     ]
    },
    {
     "name": "stderr",
     "output_type": "stream",
     "text": [
      "┌ Warning: Not solved to optimality, status: Unbounded\n",
      "└ @ JuMP /Users/vishalgupta/.julia/packages/JuMP/I7whV/src/solvers.jl:212\n",
      "┌ Warning: Not solved to optimality, status: Unbounded\n",
      "└ @ JuMP /Users/vishalgupta/.julia/packages/JuMP/I7whV/src/solvers.jl:212\n",
      "┌ Warning: Not solved to optimality, status: Unbounded\n",
      "└ @ JuMP /Users/vishalgupta/.julia/packages/JuMP/I7whV/src/solvers.jl:212\n",
      "┌ Warning: Not solved to optimality, status: Unbounded\n",
      "└ @ JuMP /Users/vishalgupta/.julia/packages/JuMP/I7whV/src/solvers.jl:212\n"
     ]
    },
    {
     "name": "stdout",
     "output_type": "stream",
     "text": [
      "Academic license - for non-commercial use only\n",
      "Academic license - for non-commercial use only\n",
      "Academic license - for non-commercial use only\n",
      "Academic license - for non-commercial use only\n"
     ]
    },
    {
     "name": "stderr",
     "output_type": "stream",
     "text": [
      "┌ Warning: Not solved to optimality, status: Unbounded\n",
      "└ @ JuMP /Users/vishalgupta/.julia/packages/JuMP/I7whV/src/solvers.jl:212\n",
      "┌ Warning: Not solved to optimality, status: Unbounded\n",
      "└ @ JuMP /Users/vishalgupta/.julia/packages/JuMP/I7whV/src/solvers.jl:212\n",
      "┌ Warning: Not solved to optimality, status: Unbounded\n",
      "└ @ JuMP /Users/vishalgupta/.julia/packages/JuMP/I7whV/src/solvers.jl:212\n",
      "┌ Warning: Not solved to optimality, status: Unbounded\n",
      "└ @ JuMP /Users/vishalgupta/.julia/packages/JuMP/I7whV/src/solvers.jl:212\n"
     ]
    },
    {
     "name": "stdout",
     "output_type": "stream",
     "text": [
      "Academic license - for non-commercial use only\n",
      "Academic license - for non-commercial use only\n",
      "Academic license - for non-commercial use only\n",
      "Academic license - for non-commercial use only\n"
     ]
    },
    {
     "name": "stderr",
     "output_type": "stream",
     "text": [
      "┌ Warning: Not solved to optimality, status: Unbounded\n",
      "└ @ JuMP /Users/vishalgupta/.julia/packages/JuMP/I7whV/src/solvers.jl:212\n",
      "┌ Warning: Not solved to optimality, status: Unbounded\n",
      "└ @ JuMP /Users/vishalgupta/.julia/packages/JuMP/I7whV/src/solvers.jl:212\n",
      "┌ Warning: Not solved to optimality, status: Unbounded\n",
      "└ @ JuMP /Users/vishalgupta/.julia/packages/JuMP/I7whV/src/solvers.jl:212\n",
      "┌ Warning: Not solved to optimality, status: Unbounded\n",
      "└ @ JuMP /Users/vishalgupta/.julia/packages/JuMP/I7whV/src/solvers.jl:212\n"
     ]
    },
    {
     "name": "stdout",
     "output_type": "stream",
     "text": [
      "Academic license - for non-commercial use only\n",
      "Academic license - for non-commercial use only\n",
      "Academic license - for non-commercial use only\n",
      "Academic license - for non-commercial use only\n"
     ]
    },
    {
     "name": "stderr",
     "output_type": "stream",
     "text": [
      "┌ Warning: Not solved to optimality, status: Unbounded\n",
      "└ @ JuMP /Users/vishalgupta/.julia/packages/JuMP/I7whV/src/solvers.jl:212\n",
      "┌ Warning: Not solved to optimality, status: Unbounded\n",
      "└ @ JuMP /Users/vishalgupta/.julia/packages/JuMP/I7whV/src/solvers.jl:212\n",
      "┌ Warning: Not solved to optimality, status: Unbounded\n",
      "└ @ JuMP /Users/vishalgupta/.julia/packages/JuMP/I7whV/src/solvers.jl:212\n",
      "┌ Warning: Not solved to optimality, status: Unbounded\n",
      "└ @ JuMP /Users/vishalgupta/.julia/packages/JuMP/I7whV/src/solvers.jl:212\n"
     ]
    },
    {
     "name": "stdout",
     "output_type": "stream",
     "text": [
      "Academic license - for non-commercial use only\n",
      "Academic license - for non-commercial use only\n"
     ]
    },
    {
     "name": "stderr",
     "output_type": "stream",
     "text": [
      "┌ Warning: Not solved to optimality, status: Unbounded\n",
      "└ @ JuMP /Users/vishalgupta/.julia/packages/JuMP/I7whV/src/solvers.jl:212\n",
      "┌ Warning: Not solved to optimality, status: Unbounded\n",
      "└ @ JuMP /Users/vishalgupta/.julia/packages/JuMP/I7whV/src/solvers.jl:212\n",
      "┌ Warning: Not solved to optimality, status: Unbounded\n",
      "└ @ JuMP /Users/vishalgupta/.julia/packages/JuMP/I7whV/src/solvers.jl:212\n",
      "┌ Warning: Not solved to optimality, status: Unbounded\n",
      "└ @ JuMP /Users/vishalgupta/.julia/packages/JuMP/I7whV/src/solvers.jl:212\n"
     ]
    },
    {
     "name": "stdout",
     "output_type": "stream",
     "text": [
      "Academic license - for non-commercial use only\n",
      "Academic license - for non-commercial use only\n",
      "Academic license - for non-commercial use only\n",
      "Academic license - for non-commercial use only\n"
     ]
    },
    {
     "name": "stderr",
     "output_type": "stream",
     "text": [
      "┌ Warning: Not solved to optimality, status: Unbounded\n",
      "└ @ JuMP /Users/vishalgupta/.julia/packages/JuMP/I7whV/src/solvers.jl:212\n",
      "┌ Warning: Not solved to optimality, status: Unbounded\n",
      "└ @ JuMP /Users/vishalgupta/.julia/packages/JuMP/I7whV/src/solvers.jl:212\n",
      "┌ Warning: Not solved to optimality, status: Unbounded\n",
      "└ @ JuMP /Users/vishalgupta/.julia/packages/JuMP/I7whV/src/solvers.jl:212\n",
      "┌ Warning: Not solved to optimality, status: Unbounded\n",
      "└ @ JuMP /Users/vishalgupta/.julia/packages/JuMP/I7whV/src/solvers.jl:212\n"
     ]
    },
    {
     "name": "stdout",
     "output_type": "stream",
     "text": [
      "Academic license - for non-commercial use only\n",
      "Academic license - for non-commercial use only\n",
      "Academic license - for non-commercial use only\n",
      "Academic license - for non-commercial use only\n"
     ]
    },
    {
     "name": "stderr",
     "output_type": "stream",
     "text": [
      "┌ Warning: Not solved to optimality, status: Unbounded\n",
      "└ @ JuMP /Users/vishalgupta/.julia/packages/JuMP/I7whV/src/solvers.jl:212\n",
      "┌ Warning: Not solved to optimality, status: Unbounded\n",
      "└ @ JuMP /Users/vishalgupta/.julia/packages/JuMP/I7whV/src/solvers.jl:212\n",
      "┌ Warning: Not solved to optimality, status: Unbounded\n",
      "└ @ JuMP /Users/vishalgupta/.julia/packages/JuMP/I7whV/src/solvers.jl:212\n",
      "┌ Warning: Not solved to optimality, status: Unbounded\n",
      "└ @ JuMP /Users/vishalgupta/.julia/packages/JuMP/I7whV/src/solvers.jl:212\n"
     ]
    },
    {
     "name": "stdout",
     "output_type": "stream",
     "text": [
      "Academic license - for non-commercial use only\n",
      "Academic license - for non-commercial use only\n",
      "Academic license - for non-commercial use only\n",
      "Academic license - for non-commercial use only\n"
     ]
    },
    {
     "name": "stderr",
     "output_type": "stream",
     "text": [
      "┌ Warning: Not solved to optimality, status: Unbounded\n",
      "└ @ JuMP /Users/vishalgupta/.julia/packages/JuMP/I7whV/src/solvers.jl:212\n",
      "┌ Warning: Not solved to optimality, status: Unbounded\n",
      "└ @ JuMP /Users/vishalgupta/.julia/packages/JuMP/I7whV/src/solvers.jl:212\n",
      "┌ Warning: Not solved to optimality, status: Unbounded\n",
      "└ @ JuMP /Users/vishalgupta/.julia/packages/JuMP/I7whV/src/solvers.jl:212\n",
      "┌ Warning: Not solved to optimality, status: Unbounded\n",
      "└ @ JuMP /Users/vishalgupta/.julia/packages/JuMP/I7whV/src/solvers.jl:212\n"
     ]
    },
    {
     "name": "stdout",
     "output_type": "stream",
     "text": [
      "Academic license - for non-commercial use only\n",
      "Academic license - for non-commercial use only\n",
      "Academic license - for non-commercial use only\n",
      "Academic license - for non-commercial use only\n"
     ]
    },
    {
     "name": "stderr",
     "output_type": "stream",
     "text": [
      "┌ Warning: Not solved to optimality, status: Unbounded\n",
      "└ @ JuMP /Users/vishalgupta/.julia/packages/JuMP/I7whV/src/solvers.jl:212\n",
      "┌ Warning: Not solved to optimality, status: Unbounded\n",
      "└ @ JuMP /Users/vishalgupta/.julia/packages/JuMP/I7whV/src/solvers.jl:212\n",
      "┌ Warning: Not solved to optimality, status: Unbounded\n",
      "└ @ JuMP /Users/vishalgupta/.julia/packages/JuMP/I7whV/src/solvers.jl:212\n",
      "┌ Warning: Not solved to optimality, status: Unbounded\n",
      "└ @ JuMP /Users/vishalgupta/.julia/packages/JuMP/I7whV/src/solvers.jl:212\n"
     ]
    },
    {
     "name": "stdout",
     "output_type": "stream",
     "text": [
      "Academic license - for non-commercial use only\n",
      "Academic license - for non-commercial use only\n",
      "Academic license - for non-commercial use only\n",
      "Academic license - for non-commercial use only\n"
     ]
    },
    {
     "name": "stderr",
     "output_type": "stream",
     "text": [
      "┌ Warning: Not solved to optimality, status: Unbounded\n",
      "└ @ JuMP /Users/vishalgupta/.julia/packages/JuMP/I7whV/src/solvers.jl:212\n",
      "┌ Warning: Not solved to optimality, status: Unbounded\n",
      "└ @ JuMP /Users/vishalgupta/.julia/packages/JuMP/I7whV/src/solvers.jl:212\n",
      "┌ Warning: Not solved to optimality, status: Unbounded\n",
      "└ @ JuMP /Users/vishalgupta/.julia/packages/JuMP/I7whV/src/solvers.jl:212\n",
      "┌ Warning: Not solved to optimality, status: Unbounded\n",
      "└ @ JuMP /Users/vishalgupta/.julia/packages/JuMP/I7whV/src/solvers.jl:212\n"
     ]
    },
    {
     "name": "stdout",
     "output_type": "stream",
     "text": [
      "Academic license - for non-commercial use only\n",
      "Academic license - for non-commercial use only\n",
      "Academic license - for non-commercial use only\n",
      "Academic license - for non-commercial use only\n"
     ]
    },
    {
     "name": "stderr",
     "output_type": "stream",
     "text": [
      "┌ Warning: Not solved to optimality, status: Unbounded\n",
      "└ @ JuMP /Users/vishalgupta/.julia/packages/JuMP/I7whV/src/solvers.jl:212\n",
      "┌ Warning: Not solved to optimality, status: Unbounded\n",
      "└ @ JuMP /Users/vishalgupta/.julia/packages/JuMP/I7whV/src/solvers.jl:212\n",
      "┌ Warning: Not solved to optimality, status: Unbounded\n",
      "└ @ JuMP /Users/vishalgupta/.julia/packages/JuMP/I7whV/src/solvers.jl:212\n",
      "┌ Warning: Not solved to optimality, status: Unbounded\n",
      "└ @ JuMP /Users/vishalgupta/.julia/packages/JuMP/I7whV/src/solvers.jl:212\n"
     ]
    },
    {
     "name": "stdout",
     "output_type": "stream",
     "text": [
      "Academic license - for non-commercial use only\n",
      "Academic license - for non-commercial use only\n",
      "Academic license - for non-commercial use only\n",
      "Academic license - for non-commercial use only\n"
     ]
    },
    {
     "name": "stderr",
     "output_type": "stream",
     "text": [
      "┌ Warning: Not solved to optimality, status: Unbounded\n",
      "└ @ JuMP /Users/vishalgupta/.julia/packages/JuMP/I7whV/src/solvers.jl:212\n",
      "┌ Warning: Not solved to optimality, status: Unbounded\n",
      "└ @ JuMP /Users/vishalgupta/.julia/packages/JuMP/I7whV/src/solvers.jl:212\n",
      "┌ Warning: Not solved to optimality, status: Unbounded\n",
      "└ @ JuMP /Users/vishalgupta/.julia/packages/JuMP/I7whV/src/solvers.jl:212\n",
      "┌ Warning: Not solved to optimality, status: Unbounded\n",
      "└ @ JuMP /Users/vishalgupta/.julia/packages/JuMP/I7whV/src/solvers.jl:212\n"
     ]
    },
    {
     "name": "stdout",
     "output_type": "stream",
     "text": [
      "Academic license - for non-commercial use only\n",
      "Academic license - for non-commercial use only\n",
      "Academic license - for non-commercial use only\n",
      "Academic license - for non-commercial use only\n"
     ]
    },
    {
     "name": "stderr",
     "output_type": "stream",
     "text": [
      "┌ Warning: Not solved to optimality, status: Unbounded\n",
      "└ @ JuMP /Users/vishalgupta/.julia/packages/JuMP/I7whV/src/solvers.jl:212\n",
      "┌ Warning: Not solved to optimality, status: Unbounded\n",
      "└ @ JuMP /Users/vishalgupta/.julia/packages/JuMP/I7whV/src/solvers.jl:212\n",
      "┌ Warning: Not solved to optimality, status: Unbounded\n",
      "└ @ JuMP /Users/vishalgupta/.julia/packages/JuMP/I7whV/src/solvers.jl:212\n",
      "┌ Warning: Not solved to optimality, status: Unbounded\n",
      "└ @ JuMP /Users/vishalgupta/.julia/packages/JuMP/I7whV/src/solvers.jl:212\n"
     ]
    },
    {
     "name": "stdout",
     "output_type": "stream",
     "text": [
      "Academic license - for non-commercial use only\n",
      "Academic license - for non-commercial use only\n",
      "Academic license - for non-commercial use only\n",
      "Academic license - for non-commercial use only\n"
     ]
    },
    {
     "name": "stderr",
     "output_type": "stream",
     "text": [
      "┌ Warning: Not solved to optimality, status: Unbounded\n",
      "└ @ JuMP /Users/vishalgupta/.julia/packages/JuMP/I7whV/src/solvers.jl:212\n",
      "┌ Warning: Not solved to optimality, status: Unbounded\n",
      "└ @ JuMP /Users/vishalgupta/.julia/packages/JuMP/I7whV/src/solvers.jl:212\n",
      "┌ Warning: Not solved to optimality, status: Unbounded\n",
      "└ @ JuMP /Users/vishalgupta/.julia/packages/JuMP/I7whV/src/solvers.jl:212\n",
      "┌ Warning: Not solved to optimality, status: Unbounded\n",
      "└ @ JuMP /Users/vishalgupta/.julia/packages/JuMP/I7whV/src/solvers.jl:212\n"
     ]
    },
    {
     "name": "stdout",
     "output_type": "stream",
     "text": [
      "Academic license - for non-commercial use only\n",
      "Academic license - for non-commercial use only\n",
      "Academic license - for non-commercial use only\n",
      "Academic license - for non-commercial use only\n"
     ]
    },
    {
     "name": "stderr",
     "output_type": "stream",
     "text": [
      "┌ Warning: Not solved to optimality, status: Unbounded\n",
      "└ @ JuMP /Users/vishalgupta/.julia/packages/JuMP/I7whV/src/solvers.jl:212\n",
      "┌ Warning: Not solved to optimality, status: Unbounded\n",
      "└ @ JuMP /Users/vishalgupta/.julia/packages/JuMP/I7whV/src/solvers.jl:212\n",
      "┌ Warning: Not solved to optimality, status: Unbounded\n",
      "└ @ JuMP /Users/vishalgupta/.julia/packages/JuMP/I7whV/src/solvers.jl:212\n",
      "┌ Warning: Not solved to optimality, status: Unbounded\n",
      "└ @ JuMP /Users/vishalgupta/.julia/packages/JuMP/I7whV/src/solvers.jl:212\n"
     ]
    },
    {
     "name": "stdout",
     "output_type": "stream",
     "text": [
      "Academic license - for non-commercial use only\n",
      "Academic license - for non-commercial use only\n",
      "Academic license - for non-commercial use only\n",
      "Academic license - for non-commercial use only\n"
     ]
    },
    {
     "name": "stderr",
     "output_type": "stream",
     "text": [
      "┌ Warning: Not solved to optimality, status: Unbounded\n",
      "└ @ JuMP /Users/vishalgupta/.julia/packages/JuMP/I7whV/src/solvers.jl:212\n",
      "┌ Warning: Not solved to optimality, status: Unbounded\n",
      "└ @ JuMP /Users/vishalgupta/.julia/packages/JuMP/I7whV/src/solvers.jl:212\n",
      "┌ Warning: Not solved to optimality, status: Unbounded\n",
      "└ @ JuMP /Users/vishalgupta/.julia/packages/JuMP/I7whV/src/solvers.jl:212\n",
      "┌ Warning: Not solved to optimality, status: Unbounded\n",
      "└ @ JuMP /Users/vishalgupta/.julia/packages/JuMP/I7whV/src/solvers.jl:212\n"
     ]
    },
    {
     "name": "stdout",
     "output_type": "stream",
     "text": [
      "Academic license - for non-commercial use only\n",
      "Academic license - for non-commercial use only\n",
      "Academic license - for non-commercial use only\n",
      "Academic license - for non-commercial use only\n"
     ]
    },
    {
     "name": "stderr",
     "output_type": "stream",
     "text": [
      "┌ Warning: Not solved to optimality, status: Unbounded\n",
      "└ @ JuMP /Users/vishalgupta/.julia/packages/JuMP/I7whV/src/solvers.jl:212\n",
      "┌ Warning: Not solved to optimality, status: Unbounded\n",
      "└ @ JuMP /Users/vishalgupta/.julia/packages/JuMP/I7whV/src/solvers.jl:212\n"
     ]
    },
    {
     "name": "stdout",
     "output_type": "stream",
     "text": [
      "Academic license - for non-commercial use only\n",
      "Academic license - for non-commercial use only\n"
     ]
    },
    {
     "name": "stderr",
     "output_type": "stream",
     "text": [
      "┌ Warning: Not solved to optimality, status: Unbounded\n",
      "└ @ JuMP /Users/vishalgupta/.julia/packages/JuMP/I7whV/src/solvers.jl:212\n",
      "┌ Warning: Not solved to optimality, status: Unbounded\n",
      "└ @ JuMP /Users/vishalgupta/.julia/packages/JuMP/I7whV/src/solvers.jl:212\n",
      "┌ Warning: Not solved to optimality, status: Unbounded\n",
      "└ @ JuMP /Users/vishalgupta/.julia/packages/JuMP/I7whV/src/solvers.jl:212\n",
      "┌ Warning: Not solved to optimality, status: Unbounded\n",
      "└ @ JuMP /Users/vishalgupta/.julia/packages/JuMP/I7whV/src/solvers.jl:212\n"
     ]
    },
    {
     "name": "stdout",
     "output_type": "stream",
     "text": [
      "Academic license - for non-commercial use only\n",
      "Academic license - for non-commercial use only\n",
      "Academic license - for non-commercial use only\n",
      "Academic license - for non-commercial use only\n"
     ]
    },
    {
     "name": "stderr",
     "output_type": "stream",
     "text": [
      "┌ Warning: Not solved to optimality, status: Unbounded\n",
      "└ @ JuMP /Users/vishalgupta/.julia/packages/JuMP/I7whV/src/solvers.jl:212\n",
      "┌ Warning: Not solved to optimality, status: Unbounded\n",
      "└ @ JuMP /Users/vishalgupta/.julia/packages/JuMP/I7whV/src/solvers.jl:212\n"
     ]
    },
    {
     "name": "stdout",
     "output_type": "stream",
     "text": [
      "Academic license - for non-commercial use only\n",
      "Academic license - for non-commercial use only\n"
     ]
    },
    {
     "name": "stderr",
     "output_type": "stream",
     "text": [
      "┌ Warning: Not solved to optimality, status: Unbounded\n",
      "└ @ JuMP /Users/vishalgupta/.julia/packages/JuMP/I7whV/src/solvers.jl:212\n",
      "┌ Warning: Not solved to optimality, status: Unbounded\n",
      "└ @ JuMP /Users/vishalgupta/.julia/packages/JuMP/I7whV/src/solvers.jl:212\n",
      "┌ Warning: Not solved to optimality, status: Unbounded\n",
      "└ @ JuMP /Users/vishalgupta/.julia/packages/JuMP/I7whV/src/solvers.jl:212\n",
      "┌ Warning: Not solved to optimality, status: Unbounded\n",
      "└ @ JuMP /Users/vishalgupta/.julia/packages/JuMP/I7whV/src/solvers.jl:212\n"
     ]
    },
    {
     "name": "stdout",
     "output_type": "stream",
     "text": [
      "Academic license - for non-commercial use only\n",
      "Academic license - for non-commercial use only\n",
      "Academic license - for non-commercial use only\n",
      "Academic license - for non-commercial use only\n"
     ]
    },
    {
     "name": "stderr",
     "output_type": "stream",
     "text": [
      "┌ Warning: Not solved to optimality, status: Unbounded\n",
      "└ @ JuMP /Users/vishalgupta/.julia/packages/JuMP/I7whV/src/solvers.jl:212\n",
      "┌ Warning: Not solved to optimality, status: Unbounded\n",
      "└ @ JuMP /Users/vishalgupta/.julia/packages/JuMP/I7whV/src/solvers.jl:212\n"
     ]
    },
    {
     "name": "stdout",
     "output_type": "stream",
     "text": [
      "Academic license - for non-commercial use only\n",
      "Academic license - for non-commercial use only\n"
     ]
    },
    {
     "name": "stderr",
     "output_type": "stream",
     "text": [
      "┌ Warning: Not solved to optimality, status: Unbounded\n",
      "└ @ JuMP /Users/vishalgupta/.julia/packages/JuMP/I7whV/src/solvers.jl:212\n",
      "┌ Warning: Not solved to optimality, status: Unbounded\n",
      "└ @ JuMP /Users/vishalgupta/.julia/packages/JuMP/I7whV/src/solvers.jl:212\n",
      "┌ Warning: Not solved to optimality, status: Unbounded\n",
      "└ @ JuMP /Users/vishalgupta/.julia/packages/JuMP/I7whV/src/solvers.jl:212\n",
      "┌ Warning: Not solved to optimality, status: Unbounded\n",
      "└ @ JuMP /Users/vishalgupta/.julia/packages/JuMP/I7whV/src/solvers.jl:212\n"
     ]
    },
    {
     "name": "stdout",
     "output_type": "stream",
     "text": [
      "Academic license - for non-commercial use only\n",
      "Academic license - for non-commercial use only\n",
      "Academic license - for non-commercial use only\n",
      "Academic license - for non-commercial use only\n"
     ]
    },
    {
     "name": "stderr",
     "output_type": "stream",
     "text": [
      "┌ Warning: Not solved to optimality, status: Unbounded\n",
      "└ @ JuMP /Users/vishalgupta/.julia/packages/JuMP/I7whV/src/solvers.jl:212\n",
      "┌ Warning: Not solved to optimality, status: Unbounded\n",
      "└ @ JuMP /Users/vishalgupta/.julia/packages/JuMP/I7whV/src/solvers.jl:212\n"
     ]
    },
    {
     "name": "stdout",
     "output_type": "stream",
     "text": [
      "Academic license - for non-commercial use only\n",
      "Academic license - for non-commercial use only\n"
     ]
    },
    {
     "name": "stderr",
     "output_type": "stream",
     "text": [
      "┌ Warning: Not solved to optimality, status: Unbounded\n",
      "└ @ JuMP /Users/vishalgupta/.julia/packages/JuMP/I7whV/src/solvers.jl:212\n",
      "┌ Warning: Not solved to optimality, status: Unbounded\n",
      "└ @ JuMP /Users/vishalgupta/.julia/packages/JuMP/I7whV/src/solvers.jl:212\n",
      "┌ Warning: Not solved to optimality, status: Unbounded\n",
      "└ @ JuMP /Users/vishalgupta/.julia/packages/JuMP/I7whV/src/solvers.jl:212\n",
      "┌ Warning: Not solved to optimality, status: Unbounded\n",
      "└ @ JuMP /Users/vishalgupta/.julia/packages/JuMP/I7whV/src/solvers.jl:212\n"
     ]
    },
    {
     "name": "stdout",
     "output_type": "stream",
     "text": [
      "Academic license - for non-commercial use only\n",
      "Academic license - for non-commercial use only\n",
      "Academic license - for non-commercial use only\n",
      "Academic license - for non-commercial use only\n"
     ]
    },
    {
     "name": "stderr",
     "output_type": "stream",
     "text": [
      "┌ Warning: Not solved to optimality, status: Unbounded\n",
      "└ @ JuMP /Users/vishalgupta/.julia/packages/JuMP/I7whV/src/solvers.jl:212\n",
      "┌ Warning: Not solved to optimality, status: Unbounded\n",
      "└ @ JuMP /Users/vishalgupta/.julia/packages/JuMP/I7whV/src/solvers.jl:212\n"
     ]
    },
    {
     "name": "stdout",
     "output_type": "stream",
     "text": [
      "Academic license - for non-commercial use only\n",
      "Academic license - for non-commercial use only\n"
     ]
    },
    {
     "name": "stderr",
     "output_type": "stream",
     "text": [
      "┌ Warning: Not solved to optimality, status: Unbounded\n",
      "└ @ JuMP /Users/vishalgupta/.julia/packages/JuMP/I7whV/src/solvers.jl:212\n",
      "┌ Warning: Not solved to optimality, status: Unbounded\n",
      "└ @ JuMP /Users/vishalgupta/.julia/packages/JuMP/I7whV/src/solvers.jl:212\n",
      "┌ Warning: Not solved to optimality, status: Unbounded\n",
      "└ @ JuMP /Users/vishalgupta/.julia/packages/JuMP/I7whV/src/solvers.jl:212\n",
      "┌ Warning: Not solved to optimality, status: Unbounded\n",
      "└ @ JuMP /Users/vishalgupta/.julia/packages/JuMP/I7whV/src/solvers.jl:212\n"
     ]
    },
    {
     "name": "stdout",
     "output_type": "stream",
     "text": [
      "Academic license - for non-commercial use only\n",
      "Academic license - for non-commercial use only\n",
      "Academic license - for non-commercial use only\n",
      "Academic license - for non-commercial use only\n"
     ]
    },
    {
     "name": "stderr",
     "output_type": "stream",
     "text": [
      "┌ Warning: Not solved to optimality, status: Unbounded\n",
      "└ @ JuMP /Users/vishalgupta/.julia/packages/JuMP/I7whV/src/solvers.jl:212\n",
      "┌ Warning: Not solved to optimality, status: Unbounded\n",
      "└ @ JuMP /Users/vishalgupta/.julia/packages/JuMP/I7whV/src/solvers.jl:212\n"
     ]
    },
    {
     "name": "stdout",
     "output_type": "stream",
     "text": [
      "Academic license - for non-commercial use only\n",
      "Academic license - for non-commercial use only\n",
      "Academic license - for non-commercial use only\n",
      "Academic license - for non-commercial use only\n"
     ]
    },
    {
     "name": "stderr",
     "output_type": "stream",
     "text": [
      "┌ Warning: Not solved to optimality, status: Unbounded\n",
      "└ @ JuMP /Users/vishalgupta/.julia/packages/JuMP/I7whV/src/solvers.jl:212\n",
      "┌ Warning: Not solved to optimality, status: Unbounded\n",
      "└ @ JuMP /Users/vishalgupta/.julia/packages/JuMP/I7whV/src/solvers.jl:212\n",
      "┌ Warning: Not solved to optimality, status: Unbounded\n",
      "└ @ JuMP /Users/vishalgupta/.julia/packages/JuMP/I7whV/src/solvers.jl:212\n",
      "┌ Warning: Not solved to optimality, status: Unbounded\n",
      "└ @ JuMP /Users/vishalgupta/.julia/packages/JuMP/I7whV/src/solvers.jl:212\n"
     ]
    },
    {
     "name": "stdout",
     "output_type": "stream",
     "text": [
      "Academic license - for non-commercial use only\n",
      "Academic license - for non-commercial use only\n",
      "Academic license - for non-commercial use only\n",
      "Academic license - for non-commercial use only\n"
     ]
    },
    {
     "name": "stderr",
     "output_type": "stream",
     "text": [
      "┌ Warning: Not solved to optimality, status: Unbounded\n",
      "└ @ JuMP /Users/vishalgupta/.julia/packages/JuMP/I7whV/src/solvers.jl:212\n",
      "┌ Warning: Not solved to optimality, status: Unbounded\n",
      "└ @ JuMP /Users/vishalgupta/.julia/packages/JuMP/I7whV/src/solvers.jl:212\n",
      "┌ Warning: Not solved to optimality, status: Unbounded\n",
      "└ @ JuMP /Users/vishalgupta/.julia/packages/JuMP/I7whV/src/solvers.jl:212\n",
      "┌ Warning: Not solved to optimality, status: Unbounded\n",
      "└ @ JuMP /Users/vishalgupta/.julia/packages/JuMP/I7whV/src/solvers.jl:212\n"
     ]
    },
    {
     "name": "stdout",
     "output_type": "stream",
     "text": [
      "Academic license - for non-commercial use only\n",
      "Academic license - for non-commercial use only\n"
     ]
    },
    {
     "name": "stderr",
     "output_type": "stream",
     "text": [
      "┌ Warning: Not solved to optimality, status: Unbounded\n",
      "└ @ JuMP /Users/vishalgupta/.julia/packages/JuMP/I7whV/src/solvers.jl:212\n",
      "┌ Warning: Not solved to optimality, status: Unbounded\n",
      "└ @ JuMP /Users/vishalgupta/.julia/packages/JuMP/I7whV/src/solvers.jl:212\n",
      "┌ Warning: Not solved to optimality, status: Unbounded\n",
      "└ @ JuMP /Users/vishalgupta/.julia/packages/JuMP/I7whV/src/solvers.jl:212\n",
      "┌ Warning: Not solved to optimality, status: Unbounded\n",
      "└ @ JuMP /Users/vishalgupta/.julia/packages/JuMP/I7whV/src/solvers.jl:212\n"
     ]
    },
    {
     "name": "stdout",
     "output_type": "stream",
     "text": [
      "Academic license - for non-commercial use only\n",
      "Academic license - for non-commercial use only\n",
      "Academic license - for non-commercial use only\n",
      "Academic license - for non-commercial use only\n"
     ]
    },
    {
     "name": "stderr",
     "output_type": "stream",
     "text": [
      "┌ Warning: Not solved to optimality, status: Unbounded\n",
      "└ @ JuMP /Users/vishalgupta/.julia/packages/JuMP/I7whV/src/solvers.jl:212\n",
      "┌ Warning: Not solved to optimality, status: Unbounded\n",
      "└ @ JuMP /Users/vishalgupta/.julia/packages/JuMP/I7whV/src/solvers.jl:212\n"
     ]
    },
    {
     "name": "stdout",
     "output_type": "stream",
     "text": [
      "Academic license - for non-commercial use only\n",
      "Academic license - for non-commercial use only\n"
     ]
    },
    {
     "name": "stderr",
     "output_type": "stream",
     "text": [
      "┌ Warning: Not solved to optimality, status: Unbounded\n",
      "└ @ JuMP /Users/vishalgupta/.julia/packages/JuMP/I7whV/src/solvers.jl:212\n",
      "┌ Warning: Not solved to optimality, status: Unbounded\n",
      "└ @ JuMP /Users/vishalgupta/.julia/packages/JuMP/I7whV/src/solvers.jl:212\n",
      "┌ Warning: Not solved to optimality, status: Unbounded\n",
      "└ @ JuMP /Users/vishalgupta/.julia/packages/JuMP/I7whV/src/solvers.jl:212\n",
      "┌ Warning: Not solved to optimality, status: Unbounded\n",
      "└ @ JuMP /Users/vishalgupta/.julia/packages/JuMP/I7whV/src/solvers.jl:212\n"
     ]
    },
    {
     "name": "stdout",
     "output_type": "stream",
     "text": [
      "Academic license - for non-commercial use only\n",
      "Academic license - for non-commercial use only\n",
      "Academic license - for non-commercial use only\n",
      "Academic license - for non-commercial use only\n"
     ]
    },
    {
     "name": "stderr",
     "output_type": "stream",
     "text": [
      "┌ Warning: Not solved to optimality, status: Unbounded\n",
      "└ @ JuMP /Users/vishalgupta/.julia/packages/JuMP/I7whV/src/solvers.jl:212\n",
      "┌ Warning: Not solved to optimality, status: Unbounded\n",
      "└ @ JuMP /Users/vishalgupta/.julia/packages/JuMP/I7whV/src/solvers.jl:212\n"
     ]
    },
    {
     "name": "stdout",
     "output_type": "stream",
     "text": [
      "Academic license - for non-commercial use only\n",
      "Academic license - for non-commercial use only\n"
     ]
    },
    {
     "name": "stderr",
     "output_type": "stream",
     "text": [
      "┌ Warning: Not solved to optimality, status: Unbounded\n",
      "└ @ JuMP /Users/vishalgupta/.julia/packages/JuMP/I7whV/src/solvers.jl:212\n",
      "┌ Warning: Not solved to optimality, status: Unbounded\n",
      "└ @ JuMP /Users/vishalgupta/.julia/packages/JuMP/I7whV/src/solvers.jl:212\n",
      "┌ Warning: Not solved to optimality, status: Unbounded\n",
      "└ @ JuMP /Users/vishalgupta/.julia/packages/JuMP/I7whV/src/solvers.jl:212\n",
      "┌ Warning: Not solved to optimality, status: Unbounded\n",
      "└ @ JuMP /Users/vishalgupta/.julia/packages/JuMP/I7whV/src/solvers.jl:212\n"
     ]
    },
    {
     "name": "stdout",
     "output_type": "stream",
     "text": [
      "Academic license - for non-commercial use only\n",
      "Academic license - for non-commercial use only\n",
      "Academic license - for non-commercial use only\n",
      "Academic license - for non-commercial use only\n"
     ]
    },
    {
     "name": "stderr",
     "output_type": "stream",
     "text": [
      "┌ Warning: Not solved to optimality, status: Unbounded\n",
      "└ @ JuMP /Users/vishalgupta/.julia/packages/JuMP/I7whV/src/solvers.jl:212\n",
      "┌ Warning: Not solved to optimality, status: Unbounded\n",
      "└ @ JuMP /Users/vishalgupta/.julia/packages/JuMP/I7whV/src/solvers.jl:212\n"
     ]
    },
    {
     "name": "stdout",
     "output_type": "stream",
     "text": [
      "Academic license - for non-commercial use only\n",
      "Academic license - for non-commercial use only\n"
     ]
    },
    {
     "name": "stderr",
     "output_type": "stream",
     "text": [
      "┌ Warning: Not solved to optimality, status: Unbounded\n",
      "└ @ JuMP /Users/vishalgupta/.julia/packages/JuMP/I7whV/src/solvers.jl:212\n",
      "┌ Warning: Not solved to optimality, status: Unbounded\n",
      "└ @ JuMP /Users/vishalgupta/.julia/packages/JuMP/I7whV/src/solvers.jl:212\n",
      "┌ Warning: Not solved to optimality, status: Unbounded\n",
      "└ @ JuMP /Users/vishalgupta/.julia/packages/JuMP/I7whV/src/solvers.jl:212\n",
      "┌ Warning: Not solved to optimality, status: Unbounded\n",
      "└ @ JuMP /Users/vishalgupta/.julia/packages/JuMP/I7whV/src/solvers.jl:212\n"
     ]
    },
    {
     "name": "stdout",
     "output_type": "stream",
     "text": [
      "Academic license - for non-commercial use only\n",
      "Academic license - for non-commercial use only\n",
      "Academic license - for non-commercial use only\n",
      "Academic license - for non-commercial use only\n"
     ]
    },
    {
     "name": "stderr",
     "output_type": "stream",
     "text": [
      "┌ Warning: Not solved to optimality, status: Unbounded\n",
      "└ @ JuMP /Users/vishalgupta/.julia/packages/JuMP/I7whV/src/solvers.jl:212\n",
      "┌ Warning: Not solved to optimality, status: Unbounded\n",
      "└ @ JuMP /Users/vishalgupta/.julia/packages/JuMP/I7whV/src/solvers.jl:212\n",
      "┌ Warning: Not solved to optimality, status: Unbounded\n",
      "└ @ JuMP /Users/vishalgupta/.julia/packages/JuMP/I7whV/src/solvers.jl:212\n",
      "┌ Warning: Not solved to optimality, status: Unbounded\n",
      "└ @ JuMP /Users/vishalgupta/.julia/packages/JuMP/I7whV/src/solvers.jl:212\n"
     ]
    },
    {
     "name": "stdout",
     "output_type": "stream",
     "text": [
      "Academic license - for non-commercial use only\n",
      "Academic license - for non-commercial use only\n",
      "Academic license - for non-commercial use only\n",
      "Academic license - for non-commercial use only\n"
     ]
    },
    {
     "name": "stderr",
     "output_type": "stream",
     "text": [
      "┌ Warning: Not solved to optimality, status: Unbounded\n",
      "└ @ JuMP /Users/vishalgupta/.julia/packages/JuMP/I7whV/src/solvers.jl:212\n",
      "┌ Warning: Not solved to optimality, status: Unbounded\n",
      "└ @ JuMP /Users/vishalgupta/.julia/packages/JuMP/I7whV/src/solvers.jl:212\n",
      "┌ Warning: Not solved to optimality, status: Unbounded\n",
      "└ @ JuMP /Users/vishalgupta/.julia/packages/JuMP/I7whV/src/solvers.jl:212\n",
      "┌ Warning: Not solved to optimality, status: Unbounded\n",
      "└ @ JuMP /Users/vishalgupta/.julia/packages/JuMP/I7whV/src/solvers.jl:212\n"
     ]
    },
    {
     "name": "stdout",
     "output_type": "stream",
     "text": [
      "Academic license - for non-commercial use only\n",
      "Academic license - for non-commercial use only\n",
      "Academic license - for non-commercial use only\n",
      "Academic license - for non-commercial use only\n"
     ]
    },
    {
     "name": "stderr",
     "output_type": "stream",
     "text": [
      "┌ Warning: Not solved to optimality, status: Unbounded\n",
      "└ @ JuMP /Users/vishalgupta/.julia/packages/JuMP/I7whV/src/solvers.jl:212\n",
      "┌ Warning: Not solved to optimality, status: Unbounded\n",
      "└ @ JuMP /Users/vishalgupta/.julia/packages/JuMP/I7whV/src/solvers.jl:212\n"
     ]
    },
    {
     "name": "stdout",
     "output_type": "stream",
     "text": [
      "Academic license - for non-commercial use only\n",
      "Academic license - for non-commercial use only\n"
     ]
    },
    {
     "name": "stderr",
     "output_type": "stream",
     "text": [
      "┌ Warning: Not solved to optimality, status: Unbounded\n",
      "└ @ JuMP /Users/vishalgupta/.julia/packages/JuMP/I7whV/src/solvers.jl:212\n",
      "┌ Warning: Not solved to optimality, status: Unbounded\n",
      "└ @ JuMP /Users/vishalgupta/.julia/packages/JuMP/I7whV/src/solvers.jl:212\n",
      "┌ Warning: Not solved to optimality, status: Unbounded\n",
      "└ @ JuMP /Users/vishalgupta/.julia/packages/JuMP/I7whV/src/solvers.jl:212\n",
      "┌ Warning: Not solved to optimality, status: Unbounded\n",
      "└ @ JuMP /Users/vishalgupta/.julia/packages/JuMP/I7whV/src/solvers.jl:212\n"
     ]
    },
    {
     "name": "stdout",
     "output_type": "stream",
     "text": [
      "Academic license - for non-commercial use only\n",
      "Academic license - for non-commercial use only\n",
      "Academic license - for non-commercial use only\n",
      "Academic license - for non-commercial use only\n"
     ]
    },
    {
     "name": "stderr",
     "output_type": "stream",
     "text": [
      "┌ Warning: Not solved to optimality, status: Unbounded\n",
      "└ @ JuMP /Users/vishalgupta/.julia/packages/JuMP/I7whV/src/solvers.jl:212\n",
      "┌ Warning: Not solved to optimality, status: Unbounded\n",
      "└ @ JuMP /Users/vishalgupta/.julia/packages/JuMP/I7whV/src/solvers.jl:212\n"
     ]
    },
    {
     "name": "stdout",
     "output_type": "stream",
     "text": [
      "Academic license - for non-commercial use only\n",
      "Academic license - for non-commercial use only\n"
     ]
    },
    {
     "name": "stderr",
     "output_type": "stream",
     "text": [
      "┌ Warning: Not solved to optimality, status: Unbounded\n",
      "└ @ JuMP /Users/vishalgupta/.julia/packages/JuMP/I7whV/src/solvers.jl:212\n",
      "┌ Warning: Not solved to optimality, status: Unbounded\n",
      "└ @ JuMP /Users/vishalgupta/.julia/packages/JuMP/I7whV/src/solvers.jl:212\n",
      "┌ Warning: Not solved to optimality, status: Unbounded\n",
      "└ @ JuMP /Users/vishalgupta/.julia/packages/JuMP/I7whV/src/solvers.jl:212\n",
      "┌ Warning: Not solved to optimality, status: Unbounded\n",
      "└ @ JuMP /Users/vishalgupta/.julia/packages/JuMP/I7whV/src/solvers.jl:212\n"
     ]
    },
    {
     "name": "stdout",
     "output_type": "stream",
     "text": [
      "Academic license - for non-commercial use only\n",
      "Academic license - for non-commercial use only\n",
      "Academic license - for non-commercial use only\n",
      "Academic license - for non-commercial use only\n"
     ]
    },
    {
     "name": "stderr",
     "output_type": "stream",
     "text": [
      "┌ Warning: Not solved to optimality, status: Unbounded\n",
      "└ @ JuMP /Users/vishalgupta/.julia/packages/JuMP/I7whV/src/solvers.jl:212\n",
      "┌ Warning: Not solved to optimality, status: Unbounded\n",
      "└ @ JuMP /Users/vishalgupta/.julia/packages/JuMP/I7whV/src/solvers.jl:212\n"
     ]
    },
    {
     "name": "stdout",
     "output_type": "stream",
     "text": [
      "Academic license - for non-commercial use only\n",
      "Academic license - for non-commercial use only\n"
     ]
    },
    {
     "name": "stderr",
     "output_type": "stream",
     "text": [
      "┌ Warning: Not solved to optimality, status: Unbounded\n",
      "└ @ JuMP /Users/vishalgupta/.julia/packages/JuMP/I7whV/src/solvers.jl:212\n",
      "┌ Warning: Not solved to optimality, status: Unbounded\n",
      "└ @ JuMP /Users/vishalgupta/.julia/packages/JuMP/I7whV/src/solvers.jl:212\n"
     ]
    },
    {
     "name": "stdout",
     "output_type": "stream",
     "text": [
      "Academic license - for non-commercial use only\n",
      "Academic license - for non-commercial use only\n"
     ]
    },
    {
     "name": "stderr",
     "output_type": "stream",
     "text": [
      "┌ Warning: Not solved to optimality, status: Unbounded\n",
      "└ @ JuMP /Users/vishalgupta/.julia/packages/JuMP/I7whV/src/solvers.jl:212\n",
      "┌ Warning: Not solved to optimality, status: Unbounded\n",
      "└ @ JuMP /Users/vishalgupta/.julia/packages/JuMP/I7whV/src/solvers.jl:212\n",
      "┌ Warning: Not solved to optimality, status: Unbounded\n",
      "└ @ JuMP /Users/vishalgupta/.julia/packages/JuMP/I7whV/src/solvers.jl:212\n",
      "┌ Warning: Not solved to optimality, status: Unbounded\n",
      "└ @ JuMP /Users/vishalgupta/.julia/packages/JuMP/I7whV/src/solvers.jl:212\n"
     ]
    },
    {
     "name": "stdout",
     "output_type": "stream",
     "text": [
      "Academic license - for non-commercial use only\n",
      "Academic license - for non-commercial use only\n",
      "Academic license - for non-commercial use only\n",
      "Academic license - for non-commercial use only\n"
     ]
    },
    {
     "name": "stderr",
     "output_type": "stream",
     "text": [
      "┌ Warning: Not solved to optimality, status: Unbounded\n",
      "└ @ JuMP /Users/vishalgupta/.julia/packages/JuMP/I7whV/src/solvers.jl:212\n",
      "┌ Warning: Not solved to optimality, status: Unbounded\n",
      "└ @ JuMP /Users/vishalgupta/.julia/packages/JuMP/I7whV/src/solvers.jl:212\n"
     ]
    },
    {
     "name": "stdout",
     "output_type": "stream",
     "text": [
      "Academic license - for non-commercial use only\n",
      "Academic license - for non-commercial use only\n"
     ]
    },
    {
     "name": "stderr",
     "output_type": "stream",
     "text": [
      "┌ Warning: Not solved to optimality, status: Unbounded\n",
      "└ @ JuMP /Users/vishalgupta/.julia/packages/JuMP/I7whV/src/solvers.jl:212\n",
      "┌ Warning: Not solved to optimality, status: Unbounded\n",
      "└ @ JuMP /Users/vishalgupta/.julia/packages/JuMP/I7whV/src/solvers.jl:212\n",
      "┌ Warning: Not solved to optimality, status: Unbounded\n",
      "└ @ JuMP /Users/vishalgupta/.julia/packages/JuMP/I7whV/src/solvers.jl:212\n",
      "┌ Warning: Not solved to optimality, status: Unbounded\n",
      "└ @ JuMP /Users/vishalgupta/.julia/packages/JuMP/I7whV/src/solvers.jl:212\n"
     ]
    },
    {
     "name": "stdout",
     "output_type": "stream",
     "text": [
      "Academic license - for non-commercial use only\n",
      "Academic license - for non-commercial use only\n",
      "Academic license - for non-commercial use only\n",
      "Academic license - for non-commercial use only\n"
     ]
    },
    {
     "name": "stderr",
     "output_type": "stream",
     "text": [
      "┌ Warning: Not solved to optimality, status: Unbounded\n",
      "└ @ JuMP /Users/vishalgupta/.julia/packages/JuMP/I7whV/src/solvers.jl:212\n",
      "┌ Warning: Not solved to optimality, status: Unbounded\n",
      "└ @ JuMP /Users/vishalgupta/.julia/packages/JuMP/I7whV/src/solvers.jl:212\n",
      "┌ Warning: Not solved to optimality, status: Unbounded\n",
      "└ @ JuMP /Users/vishalgupta/.julia/packages/JuMP/I7whV/src/solvers.jl:212\n",
      "┌ Warning: Not solved to optimality, status: Unbounded\n",
      "└ @ JuMP /Users/vishalgupta/.julia/packages/JuMP/I7whV/src/solvers.jl:212\n"
     ]
    },
    {
     "name": "stdout",
     "output_type": "stream",
     "text": [
      "Academic license - for non-commercial use only\n",
      "Academic license - for non-commercial use only\n",
      "Academic license - for non-commercial use only\n",
      "Academic license - for non-commercial use only\n"
     ]
    },
    {
     "name": "stderr",
     "output_type": "stream",
     "text": [
      "┌ Warning: Not solved to optimality, status: Unbounded\n",
      "└ @ JuMP /Users/vishalgupta/.julia/packages/JuMP/I7whV/src/solvers.jl:212\n",
      "┌ Warning: Not solved to optimality, status: Unbounded\n",
      "└ @ JuMP /Users/vishalgupta/.julia/packages/JuMP/I7whV/src/solvers.jl:212\n",
      "┌ Warning: Not solved to optimality, status: Unbounded\n",
      "└ @ JuMP /Users/vishalgupta/.julia/packages/JuMP/I7whV/src/solvers.jl:212\n",
      "┌ Warning: Not solved to optimality, status: Unbounded\n",
      "└ @ JuMP /Users/vishalgupta/.julia/packages/JuMP/I7whV/src/solvers.jl:212\n"
     ]
    },
    {
     "name": "stdout",
     "output_type": "stream",
     "text": [
      "Academic license - for non-commercial use only\n",
      "Academic license - for non-commercial use only\n",
      "Academic license - for non-commercial use only\n",
      "Academic license - for non-commercial use only\n"
     ]
    },
    {
     "name": "stderr",
     "output_type": "stream",
     "text": [
      "┌ Warning: Not solved to optimality, status: Unbounded\n",
      "└ @ JuMP /Users/vishalgupta/.julia/packages/JuMP/I7whV/src/solvers.jl:212\n",
      "┌ Warning: Not solved to optimality, status: Unbounded\n",
      "└ @ JuMP /Users/vishalgupta/.julia/packages/JuMP/I7whV/src/solvers.jl:212\n",
      "┌ Warning: Not solved to optimality, status: Unbounded\n",
      "└ @ JuMP /Users/vishalgupta/.julia/packages/JuMP/I7whV/src/solvers.jl:212\n",
      "┌ Warning: Not solved to optimality, status: Unbounded\n",
      "└ @ JuMP /Users/vishalgupta/.julia/packages/JuMP/I7whV/src/solvers.jl:212\n"
     ]
    },
    {
     "name": "stdout",
     "output_type": "stream",
     "text": [
      "Academic license - for non-commercial use only\n",
      "Academic license - for non-commercial use only\n",
      "Academic license - for non-commercial use only\n",
      "Academic license - for non-commercial use only\n"
     ]
    },
    {
     "name": "stderr",
     "output_type": "stream",
     "text": [
      "┌ Warning: Not solved to optimality, status: Unbounded\n",
      "└ @ JuMP /Users/vishalgupta/.julia/packages/JuMP/I7whV/src/solvers.jl:212\n",
      "┌ Warning: Not solved to optimality, status: Unbounded\n",
      "└ @ JuMP /Users/vishalgupta/.julia/packages/JuMP/I7whV/src/solvers.jl:212\n",
      "┌ Warning: Not solved to optimality, status: Unbounded\n",
      "└ @ JuMP /Users/vishalgupta/.julia/packages/JuMP/I7whV/src/solvers.jl:212\n",
      "┌ Warning: Not solved to optimality, status: Unbounded\n",
      "└ @ JuMP /Users/vishalgupta/.julia/packages/JuMP/I7whV/src/solvers.jl:212\n"
     ]
    },
    {
     "name": "stdout",
     "output_type": "stream",
     "text": [
      "Academic license - for non-commercial use only\n",
      "Academic license - for non-commercial use only\n",
      "Academic license - for non-commercial use only\n",
      "Academic license - for non-commercial use only\n"
     ]
    },
    {
     "name": "stderr",
     "output_type": "stream",
     "text": [
      "┌ Warning: Not solved to optimality, status: Unbounded\n",
      "└ @ JuMP /Users/vishalgupta/.julia/packages/JuMP/I7whV/src/solvers.jl:212\n",
      "┌ Warning: Not solved to optimality, status: Unbounded\n",
      "└ @ JuMP /Users/vishalgupta/.julia/packages/JuMP/I7whV/src/solvers.jl:212\n"
     ]
    },
    {
     "name": "stdout",
     "output_type": "stream",
     "text": [
      "Academic license - for non-commercial use only\n",
      "Academic license - for non-commercial use only\n",
      "Academic license - for non-commercial use only\n",
      "Academic license - for non-commercial use only\n"
     ]
    },
    {
     "name": "stderr",
     "output_type": "stream",
     "text": [
      "┌ Warning: Not solved to optimality, status: Unbounded\n",
      "└ @ JuMP /Users/vishalgupta/.julia/packages/JuMP/I7whV/src/solvers.jl:212\n",
      "┌ Warning: Not solved to optimality, status: Unbounded\n",
      "└ @ JuMP /Users/vishalgupta/.julia/packages/JuMP/I7whV/src/solvers.jl:212\n",
      "┌ Warning: Not solved to optimality, status: Unbounded\n",
      "└ @ JuMP /Users/vishalgupta/.julia/packages/JuMP/I7whV/src/solvers.jl:212\n",
      "┌ Warning: Not solved to optimality, status: Unbounded\n",
      "└ @ JuMP /Users/vishalgupta/.julia/packages/JuMP/I7whV/src/solvers.jl:212\n"
     ]
    },
    {
     "name": "stdout",
     "output_type": "stream",
     "text": [
      "Academic license - for non-commercial use only\n",
      "Academic license - for non-commercial use only\n",
      "Academic license - for non-commercial use only\n",
      "Academic license - for non-commercial use only\n"
     ]
    },
    {
     "name": "stderr",
     "output_type": "stream",
     "text": [
      "┌ Warning: Not solved to optimality, status: Unbounded\n",
      "└ @ JuMP /Users/vishalgupta/.julia/packages/JuMP/I7whV/src/solvers.jl:212\n",
      "┌ Warning: Not solved to optimality, status: Unbounded\n",
      "└ @ JuMP /Users/vishalgupta/.julia/packages/JuMP/I7whV/src/solvers.jl:212\n",
      "┌ Warning: Not solved to optimality, status: Unbounded\n",
      "└ @ JuMP /Users/vishalgupta/.julia/packages/JuMP/I7whV/src/solvers.jl:212\n",
      "┌ Warning: Not solved to optimality, status: Unbounded\n",
      "└ @ JuMP /Users/vishalgupta/.julia/packages/JuMP/I7whV/src/solvers.jl:212\n"
     ]
    },
    {
     "name": "stdout",
     "output_type": "stream",
     "text": [
      "Academic license - for non-commercial use only\n",
      "Academic license - for non-commercial use only\n"
     ]
    },
    {
     "name": "stderr",
     "output_type": "stream",
     "text": [
      "┌ Warning: Not solved to optimality, status: Unbounded\n",
      "└ @ JuMP /Users/vishalgupta/.julia/packages/JuMP/I7whV/src/solvers.jl:212\n",
      "┌ Warning: Not solved to optimality, status: Unbounded\n",
      "└ @ JuMP /Users/vishalgupta/.julia/packages/JuMP/I7whV/src/solvers.jl:212\n",
      "┌ Warning: Not solved to optimality, status: Unbounded\n",
      "└ @ JuMP /Users/vishalgupta/.julia/packages/JuMP/I7whV/src/solvers.jl:212\n"
     ]
    },
    {
     "name": "stdout",
     "output_type": "stream",
     "text": [
      "Academic license - for non-commercial use only\n",
      "Academic license - for non-commercial use only\n",
      "Academic license - for non-commercial use only\n",
      "Academic license - for non-commercial use only\n",
      "Academic license - for non-commercial use only\n",
      "Academic license - for non-commercial use only\n",
      "Academic license - for non-commercial use only\n",
      "Academic license - for non-commercial use only\n",
      "Academic license - for non-commercial use only\n",
      "Academic license - for non-commercial use only\n",
      "Academic license - for non-commercial use only\n",
      "Academic license - for non-commercial use only\n",
      "Academic license - for non-commercial use only\n",
      "Academic license - for non-commercial use only\n",
      "Academic license - for non-commercial use only\n",
      "Academic license - for non-commercial use only\n",
      "Academic license - for non-commercial use only\n",
      "Academic license - for non-commercial use only\n",
      "Academic license - for non-commercial use only\n",
      "Academic license - for non-commercial use only\n",
      "Academic license - for non-commercial use only\n",
      "Academic license - for non-commercial use only\n",
      "Academic license - for non-commercial use only\n",
      "Academic license - for non-commercial use only\n",
      "Academic license - for non-commercial use only\n",
      "Academic license - for non-commercial use only\n",
      "Academic license - for non-commercial use only\n",
      "Academic license - for non-commercial use only\n",
      "Academic license - for non-commercial use only\n",
      "Academic license - for non-commercial use only\n",
      "Academic license - for non-commercial use only\n",
      "Academic license - for non-commercial use only\n",
      "Academic license - for non-commercial use only\n",
      "Academic license - for non-commercial use only\n",
      "Academic license - for non-commercial use only\n",
      "Academic license - for non-commercial use only\n",
      "Academic license - for non-commercial use only\n",
      "Academic license - for non-commercial use only\n",
      "Academic license - for non-commercial use only\n",
      "Academic license - for non-commercial use only\n",
      "Academic license - for non-commercial use only\n",
      "Academic license - for non-commercial use only\n",
      "Academic license - for non-commercial use only\n",
      "Academic license - for non-commercial use only\n",
      "Academic license - for non-commercial use only\n",
      "Academic license - for non-commercial use only\n",
      "Academic license - for non-commercial use only\n",
      "Academic license - for non-commercial use only\n",
      "Academic license - for non-commercial use only\n",
      "Academic license - for non-commercial use only\n",
      "Academic license - for non-commercial use only\n",
      "Academic license - for non-commercial use only\n",
      "Academic license - for non-commercial use only\n",
      "Academic license - for non-commercial use only\n",
      "Academic license - for non-commercial use only\n",
      "Academic license - for non-commercial use only\n",
      "Academic license - for non-commercial use only\n",
      "Academic license - for non-commercial use only\n",
      "Academic license - for non-commercial use only\n",
      "Academic license - for non-commercial use only\n",
      "Academic license - for non-commercial use only\n",
      "Academic license - for non-commercial use only\n",
      "Academic license - for non-commercial use only\n",
      "Academic license - for non-commercial use only\n",
      "Academic license - for non-commercial use only\n",
      "Academic license - for non-commercial use only\n",
      "Academic license - for non-commercial use only\n",
      "Academic license - for non-commercial use only\n",
      "Academic license - for non-commercial use only\n",
      "Academic license - for non-commercial use only\n",
      "Academic license - for non-commercial use only\n",
      "Academic license - for non-commercial use only\n",
      "Academic license - for non-commercial use only\n",
      "Academic license - for non-commercial use only\n",
      "Academic license - for non-commercial use only\n",
      "Academic license - for non-commercial use only\n",
      "Academic license - for non-commercial use only\n",
      "Academic license - for non-commercial use only\n",
      "Academic license - for non-commercial use only\n",
      "Academic license - for non-commercial use only\n",
      "Academic license - for non-commercial use only\n",
      "Academic license - for non-commercial use only\n",
      "Academic license - for non-commercial use only\n",
      "Academic license - for non-commercial use only\n",
      "Academic license - for non-commercial use only\n",
      "Academic license - for non-commercial use only\n",
      "Academic license - for non-commercial use only\n",
      "Academic license - for non-commercial use only\n",
      "Academic license - for non-commercial use only\n",
      "Academic license - for non-commercial use only\n",
      "Academic license - for non-commercial use only\n",
      "Academic license - for non-commercial use only\n",
      "Academic license - for non-commercial use only\n",
      "Academic license - for non-commercial use only\n",
      "Academic license - for non-commercial use only\n",
      "Academic license - for non-commercial use only\n",
      "Academic license - for non-commercial use only\n",
      "Academic license - for non-commercial use only\n",
      "Academic license - for non-commercial use only\n",
      "Academic license - for non-commercial use only\n",
      "Academic license - for non-commercial use only\n",
      "Academic license - for non-commercial use only\n",
      "Academic license - for non-commercial use only\n",
      "Academic license - for non-commercial use only\n",
      "Academic license - for non-commercial use only\n",
      "Academic license - for non-commercial use only\n",
      "Academic license - for non-commercial use only\n",
      "Academic license - for non-commercial use only\n",
      "Academic license - for non-commercial use only\n",
      "Academic license - for non-commercial use only\n",
      "Academic license - for non-commercial use only\n",
      "Academic license - for non-commercial use only\n",
      "Academic license - for non-commercial use only\n",
      "Academic license - for non-commercial use only\n",
      "Academic license - for non-commercial use only\n",
      "Academic license - for non-commercial use only\n",
      "Academic license - for non-commercial use only\n",
      "Academic license - for non-commercial use only\n",
      "Academic license - for non-commercial use only\n",
      "Academic license - for non-commercial use only\n",
      "Academic license - for non-commercial use only\n",
      "Academic license - for non-commercial use only\n",
      "Academic license - for non-commercial use only\n",
      "Academic license - for non-commercial use only\n",
      "Academic license - for non-commercial use only\n",
      "Academic license - for non-commercial use only\n",
      "Academic license - for non-commercial use only\n",
      "Academic license - for non-commercial use only\n",
      "Academic license - for non-commercial use only\n",
      "Academic license - for non-commercial use only\n",
      "Academic license - for non-commercial use only\n",
      "Academic license - for non-commercial use only\n",
      "Academic license - for non-commercial use only\n",
      "Academic license - for non-commercial use only\n",
      "Academic license - for non-commercial use only\n",
      "Academic license - for non-commercial use only\n",
      "Academic license - for non-commercial use only\n",
      "Academic license - for non-commercial use only\n",
      "Academic license - for non-commercial use only\n",
      "Academic license - for non-commercial use only\n",
      "Academic license - for non-commercial use only\n",
      "Academic license - for non-commercial use only\n",
      "Academic license - for non-commercial use only\n",
      "Academic license - for non-commercial use only\n",
      "Academic license - for non-commercial use only\n",
      "Academic license - for non-commercial use only\n",
      "Academic license - for non-commercial use only\n",
      "Academic license - for non-commercial use only\n",
      "Academic license - for non-commercial use only\n",
      "Academic license - for non-commercial use only\n",
      "Academic license - for non-commercial use only\n",
      "Academic license - for non-commercial use only\n",
      "Academic license - for non-commercial use only\n",
      "Academic license - for non-commercial use only\n",
      "Academic license - for non-commercial use only\n",
      "Academic license - for non-commercial use only\n",
      "Academic license - for non-commercial use only\n",
      "Academic license - for non-commercial use only\n",
      "Academic license - for non-commercial use only\n",
      "Academic license - for non-commercial use only\n",
      "Academic license - for non-commercial use only\n",
      "Academic license - for non-commercial use only\n",
      "Academic license - for non-commercial use only\n",
      "Academic license - for non-commercial use only\n",
      "Academic license - for non-commercial use only\n",
      "Academic license - for non-commercial use only\n",
      "Academic license - for non-commercial use only\n",
      "Academic license - for non-commercial use only\n",
      "Academic license - for non-commercial use only\n",
      "Academic license - for non-commercial use only\n",
      "Academic license - for non-commercial use only\n",
      "Academic license - for non-commercial use only\n",
      "Academic license - for non-commercial use only\n",
      "Academic license - for non-commercial use only\n",
      "Academic license - for non-commercial use only\n",
      "Academic license - for non-commercial use only\n",
      "Academic license - for non-commercial use only\n",
      "Academic license - for non-commercial use only\n",
      "Academic license - for non-commercial use only\n",
      "Academic license - for non-commercial use only\n",
      "Academic license - for non-commercial use only\n",
      "Academic license - for non-commercial use only\n",
      "Academic license - for non-commercial use only\n",
      "Academic license - for non-commercial use only\n",
      "Academic license - for non-commercial use only\n",
      "Academic license - for non-commercial use only\n",
      "Academic license - for non-commercial use only\n",
      "Academic license - for non-commercial use only\n",
      "Academic license - for non-commercial use only\n",
      "Academic license - for non-commercial use only\n",
      "Academic license - for non-commercial use only\n",
      "Academic license - for non-commercial use only\n",
      "Academic license - for non-commercial use only\n",
      "Academic license - for non-commercial use only\n",
      "Academic license - for non-commercial use only\n",
      "Academic license - for non-commercial use only\n",
      "Academic license - for non-commercial use only\n",
      "Academic license - for non-commercial use only\n",
      "Academic license - for non-commercial use only\n",
      "Academic license - for non-commercial use only\n",
      "Academic license - for non-commercial use only\n",
      "Academic license - for non-commercial use only\n",
      "Academic license - for non-commercial use only\n",
      "Academic license - for non-commercial use only\n",
      "Academic license - for non-commercial use only\n",
      "Academic license - for non-commercial use only\n",
      "Academic license - for non-commercial use only\n",
      "Academic license - for non-commercial use only\n",
      "Academic license - for non-commercial use only\n",
      "Academic license - for non-commercial use only\n",
      "Academic license - for non-commercial use only\n",
      "Academic license - for non-commercial use only\n",
      "Academic license - for non-commercial use only\n",
      "Academic license - for non-commercial use only\n",
      "Academic license - for non-commercial use only\n",
      "Academic license - for non-commercial use only\n",
      "Academic license - for non-commercial use only\n",
      "Academic license - for non-commercial use only\n",
      "Academic license - for non-commercial use only\n",
      "Academic license - for non-commercial use only\n",
      "Academic license - for non-commercial use only\n",
      "Academic license - for non-commercial use only\n",
      "Academic license - for non-commercial use only\n",
      "Academic license - for non-commercial use only\n",
      "Academic license - for non-commercial use only\n",
      "Academic license - for non-commercial use only\n",
      "Academic license - for non-commercial use only\n",
      "Academic license - for non-commercial use only\n",
      "Academic license - for non-commercial use only\n",
      "Academic license - for non-commercial use only\n",
      "Academic license - for non-commercial use only\n",
      "Academic license - for non-commercial use only\n",
      "Academic license - for non-commercial use only\n",
      "Academic license - for non-commercial use only\n",
      "Academic license - for non-commercial use only\n",
      "Academic license - for non-commercial use only\n",
      "Academic license - for non-commercial use only\n",
      "Academic license - for non-commercial use only\n",
      "Academic license - for non-commercial use only\n",
      "Academic license - for non-commercial use only\n",
      "Academic license - for non-commercial use only\n",
      "Academic license - for non-commercial use only\n",
      "Academic license - for non-commercial use only\n",
      "Academic license - for non-commercial use only\n",
      "Academic license - for non-commercial use only\n",
      "Academic license - for non-commercial use only\n",
      "Academic license - for non-commercial use only\n",
      "Academic license - for non-commercial use only\n",
      "Academic license - for non-commercial use only\n",
      "Academic license - for non-commercial use only\n",
      "Academic license - for non-commercial use only\n",
      "Academic license - for non-commercial use only\n",
      "Academic license - for non-commercial use only\n",
      "Academic license - for non-commercial use only\n",
      "Academic license - for non-commercial use only\n",
      "Academic license - for non-commercial use only\n",
      "Academic license - for non-commercial use only\n",
      "Academic license - for non-commercial use only\n",
      "Academic license - for non-commercial use only\n",
      "Academic license - for non-commercial use only\n",
      "Academic license - for non-commercial use only\n",
      "Academic license - for non-commercial use only\n",
      "Academic license - for non-commercial use only\n",
      "Academic license - for non-commercial use only\n",
      "Academic license - for non-commercial use only\n",
      "Academic license - for non-commercial use only\n",
      "Academic license - for non-commercial use only\n",
      "Academic license - for non-commercial use only\n",
      "Academic license - for non-commercial use only\n",
      "Academic license - for non-commercial use only\n",
      "Academic license - for non-commercial use only\n",
      "Academic license - for non-commercial use only\n",
      "Academic license - for non-commercial use only\n",
      "Academic license - for non-commercial use only\n",
      "Academic license - for non-commercial use only\n",
      "Academic license - for non-commercial use only\n",
      "Academic license - for non-commercial use only\n",
      "Dev:\t0.07894736842105263\n",
      "Academic license - for non-commercial use only\n"
     ]
    },
    {
     "name": "stderr",
     "output_type": "stream",
     "text": [
      "┌ Warning: Not solved to optimality, status: Unbounded\n",
      "└ @ JuMP /Users/vishalgupta/.julia/packages/JuMP/I7whV/src/solvers.jl:212\n",
      "┌ Warning: Not solved to optimality, status: Unbounded\n",
      "└ @ JuMP /Users/vishalgupta/.julia/packages/JuMP/I7whV/src/solvers.jl:212\n"
     ]
    },
    {
     "name": "stdout",
     "output_type": "stream",
     "text": [
      "Academic license - for non-commercial use only\n",
      "Academic license - for non-commercial use only\n",
      "Academic license - for non-commercial use only\n",
      "Academic license - for non-commercial use only\n"
     ]
    },
    {
     "name": "stderr",
     "output_type": "stream",
     "text": [
      "┌ Warning: Not solved to optimality, status: Unbounded\n",
      "└ @ JuMP /Users/vishalgupta/.julia/packages/JuMP/I7whV/src/solvers.jl:212\n",
      "┌ Warning: Not solved to optimality, status: Unbounded\n",
      "└ @ JuMP /Users/vishalgupta/.julia/packages/JuMP/I7whV/src/solvers.jl:212\n"
     ]
    },
    {
     "name": "stdout",
     "output_type": "stream",
     "text": [
      "Academic license - for non-commercial use only\n",
      "Academic license - for non-commercial use only\n",
      "Academic license - for non-commercial use only\n",
      "Academic license - for non-commercial use only\n"
     ]
    },
    {
     "name": "stderr",
     "output_type": "stream",
     "text": [
      "┌ Warning: Not solved to optimality, status: Unbounded\n",
      "└ @ JuMP /Users/vishalgupta/.julia/packages/JuMP/I7whV/src/solvers.jl:212\n",
      "┌ Warning: Not solved to optimality, status: Unbounded\n",
      "└ @ JuMP /Users/vishalgupta/.julia/packages/JuMP/I7whV/src/solvers.jl:212\n",
      "┌ Warning: Not solved to optimality, status: Unbounded\n",
      "└ @ JuMP /Users/vishalgupta/.julia/packages/JuMP/I7whV/src/solvers.jl:212\n",
      "┌ Warning: Not solved to optimality, status: Unbounded\n",
      "└ @ JuMP /Users/vishalgupta/.julia/packages/JuMP/I7whV/src/solvers.jl:212\n"
     ]
    },
    {
     "name": "stdout",
     "output_type": "stream",
     "text": [
      "Academic license - for non-commercial use only\n",
      "Academic license - for non-commercial use only\n",
      "Academic license - for non-commercial use only\n",
      "Academic license - for non-commercial use only\n"
     ]
    },
    {
     "name": "stderr",
     "output_type": "stream",
     "text": [
      "┌ Warning: Not solved to optimality, status: Unbounded\n",
      "└ @ JuMP /Users/vishalgupta/.julia/packages/JuMP/I7whV/src/solvers.jl:212\n",
      "┌ Warning: Not solved to optimality, status: Unbounded\n",
      "└ @ JuMP /Users/vishalgupta/.julia/packages/JuMP/I7whV/src/solvers.jl:212\n",
      "┌ Warning: Not solved to optimality, status: Unbounded\n",
      "└ @ JuMP /Users/vishalgupta/.julia/packages/JuMP/I7whV/src/solvers.jl:212\n",
      "┌ Warning: Not solved to optimality, status: Unbounded\n",
      "└ @ JuMP /Users/vishalgupta/.julia/packages/JuMP/I7whV/src/solvers.jl:212\n"
     ]
    },
    {
     "name": "stdout",
     "output_type": "stream",
     "text": [
      "Academic license - for non-commercial use only\n",
      "Academic license - for non-commercial use only\n"
     ]
    },
    {
     "name": "stderr",
     "output_type": "stream",
     "text": [
      "┌ Warning: Not solved to optimality, status: Unbounded\n",
      "└ @ JuMP /Users/vishalgupta/.julia/packages/JuMP/I7whV/src/solvers.jl:212\n",
      "┌ Warning: Not solved to optimality, status: Unbounded\n",
      "└ @ JuMP /Users/vishalgupta/.julia/packages/JuMP/I7whV/src/solvers.jl:212\n",
      "┌ Warning: Not solved to optimality, status: Unbounded\n",
      "└ @ JuMP /Users/vishalgupta/.julia/packages/JuMP/I7whV/src/solvers.jl:212\n",
      "┌ Warning: Not solved to optimality, status: Unbounded\n",
      "└ @ JuMP /Users/vishalgupta/.julia/packages/JuMP/I7whV/src/solvers.jl:212\n"
     ]
    },
    {
     "name": "stdout",
     "output_type": "stream",
     "text": [
      "Academic license - for non-commercial use only\n",
      "Academic license - for non-commercial use only\n",
      "Academic license - for non-commercial use only\n",
      "Academic license - for non-commercial use only\n"
     ]
    },
    {
     "name": "stderr",
     "output_type": "stream",
     "text": [
      "┌ Warning: Not solved to optimality, status: Unbounded\n",
      "└ @ JuMP /Users/vishalgupta/.julia/packages/JuMP/I7whV/src/solvers.jl:212\n",
      "┌ Warning: Not solved to optimality, status: Unbounded\n",
      "└ @ JuMP /Users/vishalgupta/.julia/packages/JuMP/I7whV/src/solvers.jl:212\n",
      "┌ Warning: Not solved to optimality, status: Unbounded\n",
      "└ @ JuMP /Users/vishalgupta/.julia/packages/JuMP/I7whV/src/solvers.jl:212\n",
      "┌ Warning: Not solved to optimality, status: Unbounded\n",
      "└ @ JuMP /Users/vishalgupta/.julia/packages/JuMP/I7whV/src/solvers.jl:212\n"
     ]
    },
    {
     "name": "stdout",
     "output_type": "stream",
     "text": [
      "Academic license - for non-commercial use only\n",
      "Academic license - for non-commercial use only\n",
      "Academic license - for non-commercial use only\n",
      "Academic license - for non-commercial use only\n"
     ]
    },
    {
     "name": "stderr",
     "output_type": "stream",
     "text": [
      "┌ Warning: Not solved to optimality, status: Unbounded\n",
      "└ @ JuMP /Users/vishalgupta/.julia/packages/JuMP/I7whV/src/solvers.jl:212\n",
      "┌ Warning: Not solved to optimality, status: Unbounded\n",
      "└ @ JuMP /Users/vishalgupta/.julia/packages/JuMP/I7whV/src/solvers.jl:212\n"
     ]
    },
    {
     "name": "stdout",
     "output_type": "stream",
     "text": [
      "Academic license - for non-commercial use only\n",
      "Academic license - for non-commercial use only\n"
     ]
    },
    {
     "name": "stderr",
     "output_type": "stream",
     "text": [
      "┌ Warning: Not solved to optimality, status: Unbounded\n",
      "└ @ JuMP /Users/vishalgupta/.julia/packages/JuMP/I7whV/src/solvers.jl:212\n",
      "┌ Warning: Not solved to optimality, status: Unbounded\n",
      "└ @ JuMP /Users/vishalgupta/.julia/packages/JuMP/I7whV/src/solvers.jl:212\n",
      "┌ Warning: Not solved to optimality, status: Unbounded\n",
      "└ @ JuMP /Users/vishalgupta/.julia/packages/JuMP/I7whV/src/solvers.jl:212\n",
      "┌ Warning: Not solved to optimality, status: Unbounded\n",
      "└ @ JuMP /Users/vishalgupta/.julia/packages/JuMP/I7whV/src/solvers.jl:212\n"
     ]
    },
    {
     "name": "stdout",
     "output_type": "stream",
     "text": [
      "Academic license - for non-commercial use only\n",
      "Academic license - for non-commercial use only\n",
      "Academic license - for non-commercial use only\n",
      "Academic license - for non-commercial use only\n"
     ]
    },
    {
     "name": "stderr",
     "output_type": "stream",
     "text": [
      "┌ Warning: Not solved to optimality, status: Unbounded\n",
      "└ @ JuMP /Users/vishalgupta/.julia/packages/JuMP/I7whV/src/solvers.jl:212\n",
      "┌ Warning: Not solved to optimality, status: Unbounded\n",
      "└ @ JuMP /Users/vishalgupta/.julia/packages/JuMP/I7whV/src/solvers.jl:212\n",
      "┌ Warning: Not solved to optimality, status: Unbounded\n",
      "└ @ JuMP /Users/vishalgupta/.julia/packages/JuMP/I7whV/src/solvers.jl:212\n",
      "┌ Warning: Not solved to optimality, status: Unbounded\n",
      "└ @ JuMP /Users/vishalgupta/.julia/packages/JuMP/I7whV/src/solvers.jl:212\n"
     ]
    },
    {
     "name": "stdout",
     "output_type": "stream",
     "text": [
      "Academic license - for non-commercial use only\n",
      "Academic license - for non-commercial use only\n",
      "Academic license - for non-commercial use only\n",
      "Academic license - for non-commercial use only\n"
     ]
    },
    {
     "name": "stderr",
     "output_type": "stream",
     "text": [
      "┌ Warning: Not solved to optimality, status: Unbounded\n",
      "└ @ JuMP /Users/vishalgupta/.julia/packages/JuMP/I7whV/src/solvers.jl:212\n",
      "┌ Warning: Not solved to optimality, status: Unbounded\n",
      "└ @ JuMP /Users/vishalgupta/.julia/packages/JuMP/I7whV/src/solvers.jl:212\n",
      "┌ Warning: Not solved to optimality, status: Unbounded\n",
      "└ @ JuMP /Users/vishalgupta/.julia/packages/JuMP/I7whV/src/solvers.jl:212\n",
      "┌ Warning: Not solved to optimality, status: Unbounded\n",
      "└ @ JuMP /Users/vishalgupta/.julia/packages/JuMP/I7whV/src/solvers.jl:212\n"
     ]
    },
    {
     "name": "stdout",
     "output_type": "stream",
     "text": [
      "Academic license - for non-commercial use only\n",
      "Academic license - for non-commercial use only\n",
      "Academic license - for non-commercial use only\n",
      "Academic license - for non-commercial use only\n"
     ]
    },
    {
     "name": "stderr",
     "output_type": "stream",
     "text": [
      "┌ Warning: Not solved to optimality, status: Unbounded\n",
      "└ @ JuMP /Users/vishalgupta/.julia/packages/JuMP/I7whV/src/solvers.jl:212\n",
      "┌ Warning: Not solved to optimality, status: Unbounded\n",
      "└ @ JuMP /Users/vishalgupta/.julia/packages/JuMP/I7whV/src/solvers.jl:212\n",
      "┌ Warning: Not solved to optimality, status: Unbounded\n",
      "└ @ JuMP /Users/vishalgupta/.julia/packages/JuMP/I7whV/src/solvers.jl:212\n",
      "┌ Warning: Not solved to optimality, status: Unbounded\n",
      "└ @ JuMP /Users/vishalgupta/.julia/packages/JuMP/I7whV/src/solvers.jl:212\n"
     ]
    },
    {
     "name": "stdout",
     "output_type": "stream",
     "text": [
      "Academic license - for non-commercial use only\n",
      "Academic license - for non-commercial use only\n",
      "Academic license - for non-commercial use only\n",
      "Academic license - for non-commercial use only\n"
     ]
    },
    {
     "name": "stderr",
     "output_type": "stream",
     "text": [
      "┌ Warning: Not solved to optimality, status: Unbounded\n",
      "└ @ JuMP /Users/vishalgupta/.julia/packages/JuMP/I7whV/src/solvers.jl:212\n",
      "┌ Warning: Not solved to optimality, status: Unbounded\n",
      "└ @ JuMP /Users/vishalgupta/.julia/packages/JuMP/I7whV/src/solvers.jl:212\n",
      "┌ Warning: Not solved to optimality, status: Unbounded\n",
      "└ @ JuMP /Users/vishalgupta/.julia/packages/JuMP/I7whV/src/solvers.jl:212\n",
      "┌ Warning: Not solved to optimality, status: Unbounded\n",
      "└ @ JuMP /Users/vishalgupta/.julia/packages/JuMP/I7whV/src/solvers.jl:212\n"
     ]
    },
    {
     "name": "stdout",
     "output_type": "stream",
     "text": [
      "Academic license - for non-commercial use only\n",
      "Academic license - for non-commercial use only\n",
      "Academic license - for non-commercial use only\n",
      "Academic license - for non-commercial use only\n"
     ]
    },
    {
     "name": "stderr",
     "output_type": "stream",
     "text": [
      "┌ Warning: Not solved to optimality, status: Unbounded\n",
      "└ @ JuMP /Users/vishalgupta/.julia/packages/JuMP/I7whV/src/solvers.jl:212\n",
      "┌ Warning: Not solved to optimality, status: Unbounded\n",
      "└ @ JuMP /Users/vishalgupta/.julia/packages/JuMP/I7whV/src/solvers.jl:212\n"
     ]
    },
    {
     "name": "stdout",
     "output_type": "stream",
     "text": [
      "Academic license - for non-commercial use only\n",
      "Academic license - for non-commercial use only\n"
     ]
    },
    {
     "name": "stderr",
     "output_type": "stream",
     "text": [
      "┌ Warning: Not solved to optimality, status: Unbounded\n",
      "└ @ JuMP /Users/vishalgupta/.julia/packages/JuMP/I7whV/src/solvers.jl:212\n",
      "┌ Warning: Not solved to optimality, status: Unbounded\n",
      "└ @ JuMP /Users/vishalgupta/.julia/packages/JuMP/I7whV/src/solvers.jl:212\n",
      "┌ Warning: Not solved to optimality, status: Unbounded\n",
      "└ @ JuMP /Users/vishalgupta/.julia/packages/JuMP/I7whV/src/solvers.jl:212\n",
      "┌ Warning: Not solved to optimality, status: Unbounded\n",
      "└ @ JuMP /Users/vishalgupta/.julia/packages/JuMP/I7whV/src/solvers.jl:212\n"
     ]
    },
    {
     "name": "stdout",
     "output_type": "stream",
     "text": [
      "Academic license - for non-commercial use only\n",
      "Academic license - for non-commercial use only\n",
      "Academic license - for non-commercial use only\n",
      "Academic license - for non-commercial use only\n"
     ]
    },
    {
     "name": "stderr",
     "output_type": "stream",
     "text": [
      "┌ Warning: Not solved to optimality, status: Unbounded\n",
      "└ @ JuMP /Users/vishalgupta/.julia/packages/JuMP/I7whV/src/solvers.jl:212\n",
      "┌ Warning: Not solved to optimality, status: Unbounded\n",
      "└ @ JuMP /Users/vishalgupta/.julia/packages/JuMP/I7whV/src/solvers.jl:212\n",
      "┌ Warning: Not solved to optimality, status: Unbounded\n",
      "└ @ JuMP /Users/vishalgupta/.julia/packages/JuMP/I7whV/src/solvers.jl:212\n",
      "┌ Warning: Not solved to optimality, status: Unbounded\n",
      "└ @ JuMP /Users/vishalgupta/.julia/packages/JuMP/I7whV/src/solvers.jl:212\n"
     ]
    },
    {
     "name": "stdout",
     "output_type": "stream",
     "text": [
      "Academic license - for non-commercial use only\n",
      "Academic license - for non-commercial use only\n",
      "Academic license - for non-commercial use only\n",
      "Academic license - for non-commercial use only\n"
     ]
    },
    {
     "name": "stderr",
     "output_type": "stream",
     "text": [
      "┌ Warning: Not solved to optimality, status: Unbounded\n",
      "└ @ JuMP /Users/vishalgupta/.julia/packages/JuMP/I7whV/src/solvers.jl:212\n",
      "┌ Warning: Not solved to optimality, status: Unbounded\n",
      "└ @ JuMP /Users/vishalgupta/.julia/packages/JuMP/I7whV/src/solvers.jl:212\n",
      "┌ Warning: Not solved to optimality, status: Unbounded\n",
      "└ @ JuMP /Users/vishalgupta/.julia/packages/JuMP/I7whV/src/solvers.jl:212\n",
      "┌ Warning: Not solved to optimality, status: Unbounded\n",
      "└ @ JuMP /Users/vishalgupta/.julia/packages/JuMP/I7whV/src/solvers.jl:212\n"
     ]
    },
    {
     "name": "stdout",
     "output_type": "stream",
     "text": [
      "Academic license - for non-commercial use only\n",
      "Academic license - for non-commercial use only\n",
      "Academic license - for non-commercial use only\n",
      "Academic license - for non-commercial use only\n"
     ]
    },
    {
     "name": "stderr",
     "output_type": "stream",
     "text": [
      "┌ Warning: Not solved to optimality, status: Unbounded\n",
      "└ @ JuMP /Users/vishalgupta/.julia/packages/JuMP/I7whV/src/solvers.jl:212\n",
      "┌ Warning: Not solved to optimality, status: Unbounded\n",
      "└ @ JuMP /Users/vishalgupta/.julia/packages/JuMP/I7whV/src/solvers.jl:212\n",
      "┌ Warning: Not solved to optimality, status: Unbounded\n",
      "└ @ JuMP /Users/vishalgupta/.julia/packages/JuMP/I7whV/src/solvers.jl:212\n",
      "┌ Warning: Not solved to optimality, status: Unbounded\n",
      "└ @ JuMP /Users/vishalgupta/.julia/packages/JuMP/I7whV/src/solvers.jl:212\n"
     ]
    },
    {
     "name": "stdout",
     "output_type": "stream",
     "text": [
      "Academic license - for non-commercial use only\n",
      "Academic license - for non-commercial use only\n",
      "Academic license - for non-commercial use only\n",
      "Academic license - for non-commercial use only\n"
     ]
    },
    {
     "name": "stderr",
     "output_type": "stream",
     "text": [
      "┌ Warning: Not solved to optimality, status: Unbounded\n",
      "└ @ JuMP /Users/vishalgupta/.julia/packages/JuMP/I7whV/src/solvers.jl:212\n",
      "┌ Warning: Not solved to optimality, status: Unbounded\n",
      "└ @ JuMP /Users/vishalgupta/.julia/packages/JuMP/I7whV/src/solvers.jl:212\n",
      "┌ Warning: Not solved to optimality, status: Unbounded\n",
      "└ @ JuMP /Users/vishalgupta/.julia/packages/JuMP/I7whV/src/solvers.jl:212\n",
      "┌ Warning: Not solved to optimality, status: Unbounded\n",
      "└ @ JuMP /Users/vishalgupta/.julia/packages/JuMP/I7whV/src/solvers.jl:212\n"
     ]
    },
    {
     "name": "stdout",
     "output_type": "stream",
     "text": [
      "Academic license - for non-commercial use only\n",
      "Academic license - for non-commercial use only\n",
      "Academic license - for non-commercial use only\n",
      "Academic license - for non-commercial use only\n"
     ]
    },
    {
     "name": "stderr",
     "output_type": "stream",
     "text": [
      "┌ Warning: Not solved to optimality, status: Unbounded\n",
      "└ @ JuMP /Users/vishalgupta/.julia/packages/JuMP/I7whV/src/solvers.jl:212\n",
      "┌ Warning: Not solved to optimality, status: Unbounded\n",
      "└ @ JuMP /Users/vishalgupta/.julia/packages/JuMP/I7whV/src/solvers.jl:212\n",
      "┌ Warning: Not solved to optimality, status: Unbounded\n",
      "└ @ JuMP /Users/vishalgupta/.julia/packages/JuMP/I7whV/src/solvers.jl:212\n",
      "┌ Warning: Not solved to optimality, status: Unbounded\n",
      "└ @ JuMP /Users/vishalgupta/.julia/packages/JuMP/I7whV/src/solvers.jl:212\n"
     ]
    },
    {
     "name": "stdout",
     "output_type": "stream",
     "text": [
      "Academic license - for non-commercial use only\n",
      "Academic license - for non-commercial use only\n",
      "Academic license - for non-commercial use only\n",
      "Academic license - for non-commercial use only\n"
     ]
    },
    {
     "name": "stderr",
     "output_type": "stream",
     "text": [
      "┌ Warning: Not solved to optimality, status: Unbounded\n",
      "└ @ JuMP /Users/vishalgupta/.julia/packages/JuMP/I7whV/src/solvers.jl:212\n",
      "┌ Warning: Not solved to optimality, status: Unbounded\n",
      "└ @ JuMP /Users/vishalgupta/.julia/packages/JuMP/I7whV/src/solvers.jl:212\n",
      "┌ Warning: Not solved to optimality, status: Unbounded\n",
      "└ @ JuMP /Users/vishalgupta/.julia/packages/JuMP/I7whV/src/solvers.jl:212\n",
      "┌ Warning: Not solved to optimality, status: Unbounded\n",
      "└ @ JuMP /Users/vishalgupta/.julia/packages/JuMP/I7whV/src/solvers.jl:212\n"
     ]
    },
    {
     "name": "stdout",
     "output_type": "stream",
     "text": [
      "Academic license - for non-commercial use only\n",
      "Academic license - for non-commercial use only\n",
      "Academic license - for non-commercial use only\n",
      "Academic license - for non-commercial use only\n"
     ]
    },
    {
     "name": "stderr",
     "output_type": "stream",
     "text": [
      "┌ Warning: Not solved to optimality, status: Unbounded\n",
      "└ @ JuMP /Users/vishalgupta/.julia/packages/JuMP/I7whV/src/solvers.jl:212\n",
      "┌ Warning: Not solved to optimality, status: Unbounded\n",
      "└ @ JuMP /Users/vishalgupta/.julia/packages/JuMP/I7whV/src/solvers.jl:212\n",
      "┌ Warning: Not solved to optimality, status: Unbounded\n",
      "└ @ JuMP /Users/vishalgupta/.julia/packages/JuMP/I7whV/src/solvers.jl:212\n",
      "┌ Warning: Not solved to optimality, status: Unbounded\n",
      "└ @ JuMP /Users/vishalgupta/.julia/packages/JuMP/I7whV/src/solvers.jl:212\n"
     ]
    },
    {
     "name": "stdout",
     "output_type": "stream",
     "text": [
      "Academic license - for non-commercial use only\n",
      "Academic license - for non-commercial use only\n",
      "Academic license - for non-commercial use only\n",
      "Academic license - for non-commercial use only\n"
     ]
    },
    {
     "name": "stderr",
     "output_type": "stream",
     "text": [
      "┌ Warning: Not solved to optimality, status: Unbounded\n",
      "└ @ JuMP /Users/vishalgupta/.julia/packages/JuMP/I7whV/src/solvers.jl:212\n",
      "┌ Warning: Not solved to optimality, status: Unbounded\n",
      "└ @ JuMP /Users/vishalgupta/.julia/packages/JuMP/I7whV/src/solvers.jl:212\n"
     ]
    },
    {
     "name": "stdout",
     "output_type": "stream",
     "text": [
      "Academic license - for non-commercial use only\n",
      "Academic license - for non-commercial use only\n",
      "Academic license - for non-commercial use only\n",
      "Academic license - for non-commercial use only\n"
     ]
    },
    {
     "name": "stderr",
     "output_type": "stream",
     "text": [
      "┌ Warning: Not solved to optimality, status: Unbounded\n",
      "└ @ JuMP /Users/vishalgupta/.julia/packages/JuMP/I7whV/src/solvers.jl:212\n",
      "┌ Warning: Not solved to optimality, status: Unbounded\n",
      "└ @ JuMP /Users/vishalgupta/.julia/packages/JuMP/I7whV/src/solvers.jl:212\n",
      "┌ Warning: Not solved to optimality, status: Unbounded\n",
      "└ @ JuMP /Users/vishalgupta/.julia/packages/JuMP/I7whV/src/solvers.jl:212\n",
      "┌ Warning: Not solved to optimality, status: Unbounded\n",
      "└ @ JuMP /Users/vishalgupta/.julia/packages/JuMP/I7whV/src/solvers.jl:212\n"
     ]
    },
    {
     "name": "stdout",
     "output_type": "stream",
     "text": [
      "Academic license - for non-commercial use only\n",
      "Academic license - for non-commercial use only\n",
      "Academic license - for non-commercial use only\n",
      "Academic license - for non-commercial use only\n"
     ]
    },
    {
     "name": "stderr",
     "output_type": "stream",
     "text": [
      "┌ Warning: Not solved to optimality, status: Unbounded\n",
      "└ @ JuMP /Users/vishalgupta/.julia/packages/JuMP/I7whV/src/solvers.jl:212\n",
      "┌ Warning: Not solved to optimality, status: Unbounded\n",
      "└ @ JuMP /Users/vishalgupta/.julia/packages/JuMP/I7whV/src/solvers.jl:212\n",
      "┌ Warning: Not solved to optimality, status: Unbounded\n",
      "└ @ JuMP /Users/vishalgupta/.julia/packages/JuMP/I7whV/src/solvers.jl:212\n",
      "┌ Warning: Not solved to optimality, status: Unbounded\n",
      "└ @ JuMP /Users/vishalgupta/.julia/packages/JuMP/I7whV/src/solvers.jl:212\n"
     ]
    },
    {
     "name": "stdout",
     "output_type": "stream",
     "text": [
      "Academic license - for non-commercial use only\n",
      "Academic license - for non-commercial use only\n",
      "Academic license - for non-commercial use only\n",
      "Academic license - for non-commercial use only\n"
     ]
    },
    {
     "name": "stderr",
     "output_type": "stream",
     "text": [
      "┌ Warning: Not solved to optimality, status: Unbounded\n",
      "└ @ JuMP /Users/vishalgupta/.julia/packages/JuMP/I7whV/src/solvers.jl:212\n",
      "┌ Warning: Not solved to optimality, status: Unbounded\n",
      "└ @ JuMP /Users/vishalgupta/.julia/packages/JuMP/I7whV/src/solvers.jl:212\n",
      "┌ Warning: Not solved to optimality, status: Unbounded\n",
      "└ @ JuMP /Users/vishalgupta/.julia/packages/JuMP/I7whV/src/solvers.jl:212\n",
      "┌ Warning: Not solved to optimality, status: Unbounded\n",
      "└ @ JuMP /Users/vishalgupta/.julia/packages/JuMP/I7whV/src/solvers.jl:212\n"
     ]
    },
    {
     "name": "stdout",
     "output_type": "stream",
     "text": [
      "Academic license - for non-commercial use only\n",
      "Academic license - for non-commercial use only\n",
      "Academic license - for non-commercial use only\n",
      "Academic license - for non-commercial use only\n"
     ]
    },
    {
     "name": "stderr",
     "output_type": "stream",
     "text": [
      "┌ Warning: Not solved to optimality, status: Unbounded\n",
      "└ @ JuMP /Users/vishalgupta/.julia/packages/JuMP/I7whV/src/solvers.jl:212\n",
      "┌ Warning: Not solved to optimality, status: Unbounded\n",
      "└ @ JuMP /Users/vishalgupta/.julia/packages/JuMP/I7whV/src/solvers.jl:212\n",
      "┌ Warning: Not solved to optimality, status: Unbounded\n",
      "└ @ JuMP /Users/vishalgupta/.julia/packages/JuMP/I7whV/src/solvers.jl:212\n",
      "┌ Warning: Not solved to optimality, status: Unbounded\n",
      "└ @ JuMP /Users/vishalgupta/.julia/packages/JuMP/I7whV/src/solvers.jl:212\n"
     ]
    },
    {
     "name": "stdout",
     "output_type": "stream",
     "text": [
      "Academic license - for non-commercial use only\n",
      "Academic license - for non-commercial use only\n",
      "Academic license - for non-commercial use only\n",
      "Academic license - for non-commercial use only\n"
     ]
    },
    {
     "name": "stderr",
     "output_type": "stream",
     "text": [
      "┌ Warning: Not solved to optimality, status: Unbounded\n",
      "└ @ JuMP /Users/vishalgupta/.julia/packages/JuMP/I7whV/src/solvers.jl:212\n",
      "┌ Warning: Not solved to optimality, status: Unbounded\n",
      "└ @ JuMP /Users/vishalgupta/.julia/packages/JuMP/I7whV/src/solvers.jl:212\n",
      "┌ Warning: Not solved to optimality, status: Unbounded\n",
      "└ @ JuMP /Users/vishalgupta/.julia/packages/JuMP/I7whV/src/solvers.jl:212\n",
      "┌ Warning: Not solved to optimality, status: Unbounded\n",
      "└ @ JuMP /Users/vishalgupta/.julia/packages/JuMP/I7whV/src/solvers.jl:212\n"
     ]
    },
    {
     "name": "stdout",
     "output_type": "stream",
     "text": [
      "Academic license - for non-commercial use only\n",
      "Academic license - for non-commercial use only\n",
      "Academic license - for non-commercial use only\n",
      "Academic license - for non-commercial use only\n"
     ]
    },
    {
     "name": "stderr",
     "output_type": "stream",
     "text": [
      "┌ Warning: Not solved to optimality, status: Unbounded\n",
      "└ @ JuMP /Users/vishalgupta/.julia/packages/JuMP/I7whV/src/solvers.jl:212\n",
      "┌ Warning: Not solved to optimality, status: Unbounded\n",
      "└ @ JuMP /Users/vishalgupta/.julia/packages/JuMP/I7whV/src/solvers.jl:212\n",
      "┌ Warning: Not solved to optimality, status: Unbounded\n",
      "└ @ JuMP /Users/vishalgupta/.julia/packages/JuMP/I7whV/src/solvers.jl:212\n",
      "┌ Warning: Not solved to optimality, status: Unbounded\n",
      "└ @ JuMP /Users/vishalgupta/.julia/packages/JuMP/I7whV/src/solvers.jl:212\n"
     ]
    },
    {
     "name": "stdout",
     "output_type": "stream",
     "text": [
      "Academic license - for non-commercial use only\n",
      "Academic license - for non-commercial use only\n",
      "Academic license - for non-commercial use only\n",
      "Academic license - for non-commercial use only\n"
     ]
    },
    {
     "name": "stderr",
     "output_type": "stream",
     "text": [
      "┌ Warning: Not solved to optimality, status: Unbounded\n",
      "└ @ JuMP /Users/vishalgupta/.julia/packages/JuMP/I7whV/src/solvers.jl:212\n",
      "┌ Warning: Not solved to optimality, status: Unbounded\n",
      "└ @ JuMP /Users/vishalgupta/.julia/packages/JuMP/I7whV/src/solvers.jl:212\n",
      "┌ Warning: Not solved to optimality, status: Unbounded\n",
      "└ @ JuMP /Users/vishalgupta/.julia/packages/JuMP/I7whV/src/solvers.jl:212\n",
      "┌ Warning: Not solved to optimality, status: Unbounded\n",
      "└ @ JuMP /Users/vishalgupta/.julia/packages/JuMP/I7whV/src/solvers.jl:212\n"
     ]
    },
    {
     "name": "stdout",
     "output_type": "stream",
     "text": [
      "Academic license - for non-commercial use only\n",
      "Academic license - for non-commercial use only\n",
      "Academic license - for non-commercial use only\n",
      "Academic license - for non-commercial use only\n"
     ]
    },
    {
     "name": "stderr",
     "output_type": "stream",
     "text": [
      "┌ Warning: Not solved to optimality, status: Unbounded\n",
      "└ @ JuMP /Users/vishalgupta/.julia/packages/JuMP/I7whV/src/solvers.jl:212\n",
      "┌ Warning: Not solved to optimality, status: Unbounded\n",
      "└ @ JuMP /Users/vishalgupta/.julia/packages/JuMP/I7whV/src/solvers.jl:212\n",
      "┌ Warning: Not solved to optimality, status: Unbounded\n",
      "└ @ JuMP /Users/vishalgupta/.julia/packages/JuMP/I7whV/src/solvers.jl:212\n",
      "┌ Warning: Not solved to optimality, status: Unbounded\n",
      "└ @ JuMP /Users/vishalgupta/.julia/packages/JuMP/I7whV/src/solvers.jl:212\n"
     ]
    },
    {
     "name": "stdout",
     "output_type": "stream",
     "text": [
      "Academic license - for non-commercial use only\n",
      "Academic license - for non-commercial use only\n",
      "Academic license - for non-commercial use only\n",
      "Academic license - for non-commercial use only\n"
     ]
    },
    {
     "name": "stderr",
     "output_type": "stream",
     "text": [
      "┌ Warning: Not solved to optimality, status: Unbounded\n",
      "└ @ JuMP /Users/vishalgupta/.julia/packages/JuMP/I7whV/src/solvers.jl:212\n",
      "┌ Warning: Not solved to optimality, status: Unbounded\n",
      "└ @ JuMP /Users/vishalgupta/.julia/packages/JuMP/I7whV/src/solvers.jl:212\n",
      "┌ Warning: Not solved to optimality, status: Unbounded\n",
      "└ @ JuMP /Users/vishalgupta/.julia/packages/JuMP/I7whV/src/solvers.jl:212\n",
      "┌ Warning: Not solved to optimality, status: Unbounded\n",
      "└ @ JuMP /Users/vishalgupta/.julia/packages/JuMP/I7whV/src/solvers.jl:212\n"
     ]
    },
    {
     "name": "stdout",
     "output_type": "stream",
     "text": [
      "Academic license - for non-commercial use only\n",
      "Academic license - for non-commercial use only\n"
     ]
    },
    {
     "name": "stderr",
     "output_type": "stream",
     "text": [
      "┌ Warning: Not solved to optimality, status: Unbounded\n",
      "└ @ JuMP /Users/vishalgupta/.julia/packages/JuMP/I7whV/src/solvers.jl:212\n",
      "┌ Warning: Not solved to optimality, status: Unbounded\n",
      "└ @ JuMP /Users/vishalgupta/.julia/packages/JuMP/I7whV/src/solvers.jl:212\n",
      "┌ Warning: Not solved to optimality, status: Unbounded\n",
      "└ @ JuMP /Users/vishalgupta/.julia/packages/JuMP/I7whV/src/solvers.jl:212\n",
      "┌ Warning: Not solved to optimality, status: Unbounded\n",
      "└ @ JuMP /Users/vishalgupta/.julia/packages/JuMP/I7whV/src/solvers.jl:212\n"
     ]
    },
    {
     "name": "stdout",
     "output_type": "stream",
     "text": [
      "Academic license - for non-commercial use only\n",
      "Academic license - for non-commercial use only\n",
      "Academic license - for non-commercial use only\n",
      "Academic license - for non-commercial use only\n"
     ]
    },
    {
     "name": "stderr",
     "output_type": "stream",
     "text": [
      "┌ Warning: Not solved to optimality, status: Unbounded\n",
      "└ @ JuMP /Users/vishalgupta/.julia/packages/JuMP/I7whV/src/solvers.jl:212\n",
      "┌ Warning: Not solved to optimality, status: Unbounded\n",
      "└ @ JuMP /Users/vishalgupta/.julia/packages/JuMP/I7whV/src/solvers.jl:212\n"
     ]
    },
    {
     "name": "stdout",
     "output_type": "stream",
     "text": [
      "Academic license - for non-commercial use only\n",
      "Academic license - for non-commercial use only\n"
     ]
    },
    {
     "name": "stderr",
     "output_type": "stream",
     "text": [
      "┌ Warning: Not solved to optimality, status: Unbounded\n",
      "└ @ JuMP /Users/vishalgupta/.julia/packages/JuMP/I7whV/src/solvers.jl:212\n",
      "┌ Warning: Not solved to optimality, status: Unbounded\n",
      "└ @ JuMP /Users/vishalgupta/.julia/packages/JuMP/I7whV/src/solvers.jl:212\n",
      "┌ Warning: Not solved to optimality, status: Unbounded\n",
      "└ @ JuMP /Users/vishalgupta/.julia/packages/JuMP/I7whV/src/solvers.jl:212\n",
      "┌ Warning: Not solved to optimality, status: Unbounded\n",
      "└ @ JuMP /Users/vishalgupta/.julia/packages/JuMP/I7whV/src/solvers.jl:212\n"
     ]
    },
    {
     "name": "stdout",
     "output_type": "stream",
     "text": [
      "Academic license - for non-commercial use only\n",
      "Academic license - for non-commercial use only\n",
      "Academic license - for non-commercial use only\n",
      "Academic license - for non-commercial use only\n"
     ]
    },
    {
     "name": "stderr",
     "output_type": "stream",
     "text": [
      "┌ Warning: Not solved to optimality, status: Unbounded\n",
      "└ @ JuMP /Users/vishalgupta/.julia/packages/JuMP/I7whV/src/solvers.jl:212\n",
      "┌ Warning: Not solved to optimality, status: Unbounded\n",
      "└ @ JuMP /Users/vishalgupta/.julia/packages/JuMP/I7whV/src/solvers.jl:212\n"
     ]
    },
    {
     "name": "stdout",
     "output_type": "stream",
     "text": [
      "Academic license - for non-commercial use only\n",
      "Academic license - for non-commercial use only\n"
     ]
    },
    {
     "name": "stderr",
     "output_type": "stream",
     "text": [
      "┌ Warning: Not solved to optimality, status: Unbounded\n",
      "└ @ JuMP /Users/vishalgupta/.julia/packages/JuMP/I7whV/src/solvers.jl:212\n",
      "┌ Warning: Not solved to optimality, status: Unbounded\n",
      "└ @ JuMP /Users/vishalgupta/.julia/packages/JuMP/I7whV/src/solvers.jl:212\n",
      "┌ Warning: Not solved to optimality, status: Unbounded\n",
      "└ @ JuMP /Users/vishalgupta/.julia/packages/JuMP/I7whV/src/solvers.jl:212\n",
      "┌ Warning: Not solved to optimality, status: Unbounded\n",
      "└ @ JuMP /Users/vishalgupta/.julia/packages/JuMP/I7whV/src/solvers.jl:212\n"
     ]
    },
    {
     "name": "stdout",
     "output_type": "stream",
     "text": [
      "Academic license - for non-commercial use only\n",
      "Academic license - for non-commercial use only\n",
      "Academic license - for non-commercial use only\n",
      "Academic license - for non-commercial use only\n"
     ]
    },
    {
     "name": "stderr",
     "output_type": "stream",
     "text": [
      "┌ Warning: Not solved to optimality, status: Unbounded\n",
      "└ @ JuMP /Users/vishalgupta/.julia/packages/JuMP/I7whV/src/solvers.jl:212\n",
      "┌ Warning: Not solved to optimality, status: Unbounded\n",
      "└ @ JuMP /Users/vishalgupta/.julia/packages/JuMP/I7whV/src/solvers.jl:212\n",
      "┌ Warning: Not solved to optimality, status: Unbounded\n",
      "└ @ JuMP /Users/vishalgupta/.julia/packages/JuMP/I7whV/src/solvers.jl:212\n",
      "┌ Warning: Not solved to optimality, status: Unbounded\n",
      "└ @ JuMP /Users/vishalgupta/.julia/packages/JuMP/I7whV/src/solvers.jl:212\n"
     ]
    },
    {
     "name": "stdout",
     "output_type": "stream",
     "text": [
      "Academic license - for non-commercial use only\n",
      "Academic license - for non-commercial use only\n",
      "Academic license - for non-commercial use only\n",
      "Academic license - for non-commercial use only\n"
     ]
    },
    {
     "name": "stderr",
     "output_type": "stream",
     "text": [
      "┌ Warning: Not solved to optimality, status: Unbounded\n",
      "└ @ JuMP /Users/vishalgupta/.julia/packages/JuMP/I7whV/src/solvers.jl:212\n",
      "┌ Warning: Not solved to optimality, status: Unbounded\n",
      "└ @ JuMP /Users/vishalgupta/.julia/packages/JuMP/I7whV/src/solvers.jl:212\n",
      "┌ Warning: Not solved to optimality, status: Unbounded\n",
      "└ @ JuMP /Users/vishalgupta/.julia/packages/JuMP/I7whV/src/solvers.jl:212\n",
      "┌ Warning: Not solved to optimality, status: Unbounded\n",
      "└ @ JuMP /Users/vishalgupta/.julia/packages/JuMP/I7whV/src/solvers.jl:212\n"
     ]
    },
    {
     "name": "stdout",
     "output_type": "stream",
     "text": [
      "Academic license - for non-commercial use only\n",
      "Academic license - for non-commercial use only\n",
      "Academic license - for non-commercial use only\n",
      "Academic license - for non-commercial use only\n"
     ]
    },
    {
     "name": "stderr",
     "output_type": "stream",
     "text": [
      "┌ Warning: Not solved to optimality, status: Unbounded\n",
      "└ @ JuMP /Users/vishalgupta/.julia/packages/JuMP/I7whV/src/solvers.jl:212\n",
      "┌ Warning: Not solved to optimality, status: Unbounded\n",
      "└ @ JuMP /Users/vishalgupta/.julia/packages/JuMP/I7whV/src/solvers.jl:212\n"
     ]
    },
    {
     "name": "stdout",
     "output_type": "stream",
     "text": [
      "Academic license - for non-commercial use only\n",
      "Academic license - for non-commercial use only\n"
     ]
    },
    {
     "name": "stderr",
     "output_type": "stream",
     "text": [
      "┌ Warning: Not solved to optimality, status: Unbounded\n",
      "└ @ JuMP /Users/vishalgupta/.julia/packages/JuMP/I7whV/src/solvers.jl:212\n",
      "┌ Warning: Not solved to optimality, status: Unbounded\n",
      "└ @ JuMP /Users/vishalgupta/.julia/packages/JuMP/I7whV/src/solvers.jl:212\n",
      "┌ Warning: Not solved to optimality, status: Unbounded\n",
      "└ @ JuMP /Users/vishalgupta/.julia/packages/JuMP/I7whV/src/solvers.jl:212\n",
      "┌ Warning: Not solved to optimality, status: Unbounded\n",
      "└ @ JuMP /Users/vishalgupta/.julia/packages/JuMP/I7whV/src/solvers.jl:212\n"
     ]
    },
    {
     "name": "stdout",
     "output_type": "stream",
     "text": [
      "Academic license - for non-commercial use only\n",
      "Academic license - for non-commercial use only\n",
      "Academic license - for non-commercial use only\n",
      "Academic license - for non-commercial use only\n"
     ]
    },
    {
     "name": "stderr",
     "output_type": "stream",
     "text": [
      "┌ Warning: Not solved to optimality, status: Unbounded\n",
      "└ @ JuMP /Users/vishalgupta/.julia/packages/JuMP/I7whV/src/solvers.jl:212\n",
      "┌ Warning: Not solved to optimality, status: Unbounded\n",
      "└ @ JuMP /Users/vishalgupta/.julia/packages/JuMP/I7whV/src/solvers.jl:212\n",
      "┌ Warning: Not solved to optimality, status: Unbounded\n",
      "└ @ JuMP /Users/vishalgupta/.julia/packages/JuMP/I7whV/src/solvers.jl:212\n",
      "┌ Warning: Not solved to optimality, status: Unbounded\n",
      "└ @ JuMP /Users/vishalgupta/.julia/packages/JuMP/I7whV/src/solvers.jl:212\n"
     ]
    },
    {
     "name": "stdout",
     "output_type": "stream",
     "text": [
      "Academic license - for non-commercial use only\n",
      "Academic license - for non-commercial use only\n",
      "Academic license - for non-commercial use only\n",
      "Academic license - for non-commercial use only\n"
     ]
    },
    {
     "name": "stderr",
     "output_type": "stream",
     "text": [
      "┌ Warning: Not solved to optimality, status: Unbounded\n",
      "└ @ JuMP /Users/vishalgupta/.julia/packages/JuMP/I7whV/src/solvers.jl:212\n",
      "┌ Warning: Not solved to optimality, status: Unbounded\n",
      "└ @ JuMP /Users/vishalgupta/.julia/packages/JuMP/I7whV/src/solvers.jl:212\n",
      "┌ Warning: Not solved to optimality, status: Unbounded\n",
      "└ @ JuMP /Users/vishalgupta/.julia/packages/JuMP/I7whV/src/solvers.jl:212\n",
      "┌ Warning: Not solved to optimality, status: Unbounded\n",
      "└ @ JuMP /Users/vishalgupta/.julia/packages/JuMP/I7whV/src/solvers.jl:212\n"
     ]
    },
    {
     "name": "stdout",
     "output_type": "stream",
     "text": [
      "Academic license - for non-commercial use only\n",
      "Academic license - for non-commercial use only\n",
      "Academic license - for non-commercial use only\n",
      "Academic license - for non-commercial use only\n"
     ]
    },
    {
     "name": "stderr",
     "output_type": "stream",
     "text": [
      "┌ Warning: Not solved to optimality, status: Unbounded\n",
      "└ @ JuMP /Users/vishalgupta/.julia/packages/JuMP/I7whV/src/solvers.jl:212\n",
      "┌ Warning: Not solved to optimality, status: Unbounded\n",
      "└ @ JuMP /Users/vishalgupta/.julia/packages/JuMP/I7whV/src/solvers.jl:212\n",
      "┌ Warning: Not solved to optimality, status: Unbounded\n",
      "└ @ JuMP /Users/vishalgupta/.julia/packages/JuMP/I7whV/src/solvers.jl:212\n",
      "┌ Warning: Not solved to optimality, status: Unbounded\n",
      "└ @ JuMP /Users/vishalgupta/.julia/packages/JuMP/I7whV/src/solvers.jl:212\n"
     ]
    },
    {
     "name": "stdout",
     "output_type": "stream",
     "text": [
      "Academic license - for non-commercial use only\n",
      "Academic license - for non-commercial use only\n",
      "Academic license - for non-commercial use only\n",
      "Academic license - for non-commercial use only\n"
     ]
    },
    {
     "name": "stderr",
     "output_type": "stream",
     "text": [
      "┌ Warning: Not solved to optimality, status: Unbounded\n",
      "└ @ JuMP /Users/vishalgupta/.julia/packages/JuMP/I7whV/src/solvers.jl:212\n",
      "┌ Warning: Not solved to optimality, status: Unbounded\n",
      "└ @ JuMP /Users/vishalgupta/.julia/packages/JuMP/I7whV/src/solvers.jl:212\n",
      "┌ Warning: Not solved to optimality, status: Unbounded\n",
      "└ @ JuMP /Users/vishalgupta/.julia/packages/JuMP/I7whV/src/solvers.jl:212\n",
      "┌ Warning: Not solved to optimality, status: Unbounded\n",
      "└ @ JuMP /Users/vishalgupta/.julia/packages/JuMP/I7whV/src/solvers.jl:212\n"
     ]
    },
    {
     "name": "stdout",
     "output_type": "stream",
     "text": [
      "Academic license - for non-commercial use only\n",
      "Academic license - for non-commercial use only\n",
      "Academic license - for non-commercial use only\n",
      "Academic license - for non-commercial use only\n"
     ]
    },
    {
     "name": "stderr",
     "output_type": "stream",
     "text": [
      "┌ Warning: Not solved to optimality, status: Unbounded\n",
      "└ @ JuMP /Users/vishalgupta/.julia/packages/JuMP/I7whV/src/solvers.jl:212\n",
      "┌ Warning: Not solved to optimality, status: Unbounded\n",
      "└ @ JuMP /Users/vishalgupta/.julia/packages/JuMP/I7whV/src/solvers.jl:212\n",
      "┌ Warning: Not solved to optimality, status: Unbounded\n",
      "└ @ JuMP /Users/vishalgupta/.julia/packages/JuMP/I7whV/src/solvers.jl:212\n",
      "┌ Warning: Not solved to optimality, status: Unbounded\n",
      "└ @ JuMP /Users/vishalgupta/.julia/packages/JuMP/I7whV/src/solvers.jl:212\n"
     ]
    },
    {
     "name": "stdout",
     "output_type": "stream",
     "text": [
      "Academic license - for non-commercial use only\n",
      "Academic license - for non-commercial use only\n",
      "Academic license - for non-commercial use only\n",
      "Academic license - for non-commercial use only\n"
     ]
    },
    {
     "name": "stderr",
     "output_type": "stream",
     "text": [
      "┌ Warning: Not solved to optimality, status: Unbounded\n",
      "└ @ JuMP /Users/vishalgupta/.julia/packages/JuMP/I7whV/src/solvers.jl:212\n",
      "┌ Warning: Not solved to optimality, status: Unbounded\n",
      "└ @ JuMP /Users/vishalgupta/.julia/packages/JuMP/I7whV/src/solvers.jl:212\n",
      "┌ Warning: Not solved to optimality, status: Unbounded\n",
      "└ @ JuMP /Users/vishalgupta/.julia/packages/JuMP/I7whV/src/solvers.jl:212\n",
      "┌ Warning: Not solved to optimality, status: Unbounded\n",
      "└ @ JuMP /Users/vishalgupta/.julia/packages/JuMP/I7whV/src/solvers.jl:212\n"
     ]
    },
    {
     "name": "stdout",
     "output_type": "stream",
     "text": [
      "Academic license - for non-commercial use only\n",
      "Academic license - for non-commercial use only\n",
      "Academic license - for non-commercial use only\n",
      "Academic license - for non-commercial use only\n"
     ]
    },
    {
     "name": "stderr",
     "output_type": "stream",
     "text": [
      "┌ Warning: Not solved to optimality, status: Unbounded\n",
      "└ @ JuMP /Users/vishalgupta/.julia/packages/JuMP/I7whV/src/solvers.jl:212\n",
      "┌ Warning: Not solved to optimality, status: Unbounded\n",
      "└ @ JuMP /Users/vishalgupta/.julia/packages/JuMP/I7whV/src/solvers.jl:212\n",
      "┌ Warning: Not solved to optimality, status: Unbounded\n",
      "└ @ JuMP /Users/vishalgupta/.julia/packages/JuMP/I7whV/src/solvers.jl:212\n",
      "┌ Warning: Not solved to optimality, status: Unbounded\n",
      "└ @ JuMP /Users/vishalgupta/.julia/packages/JuMP/I7whV/src/solvers.jl:212\n"
     ]
    },
    {
     "name": "stdout",
     "output_type": "stream",
     "text": [
      "Academic license - for non-commercial use only\n",
      "Academic license - for non-commercial use only\n",
      "Academic license - for non-commercial use only\n",
      "Academic license - for non-commercial use only\n"
     ]
    },
    {
     "name": "stderr",
     "output_type": "stream",
     "text": [
      "┌ Warning: Not solved to optimality, status: Unbounded\n",
      "└ @ JuMP /Users/vishalgupta/.julia/packages/JuMP/I7whV/src/solvers.jl:212\n",
      "┌ Warning: Not solved to optimality, status: Unbounded\n",
      "└ @ JuMP /Users/vishalgupta/.julia/packages/JuMP/I7whV/src/solvers.jl:212\n",
      "┌ Warning: Not solved to optimality, status: Unbounded\n",
      "└ @ JuMP /Users/vishalgupta/.julia/packages/JuMP/I7whV/src/solvers.jl:212\n",
      "┌ Warning: Not solved to optimality, status: Unbounded\n",
      "└ @ JuMP /Users/vishalgupta/.julia/packages/JuMP/I7whV/src/solvers.jl:212\n"
     ]
    },
    {
     "name": "stdout",
     "output_type": "stream",
     "text": [
      "Academic license - for non-commercial use only\n",
      "Academic license - for non-commercial use only\n",
      "Academic license - for non-commercial use only\n",
      "Academic license - for non-commercial use only\n"
     ]
    },
    {
     "name": "stderr",
     "output_type": "stream",
     "text": [
      "┌ Warning: Not solved to optimality, status: Unbounded\n",
      "└ @ JuMP /Users/vishalgupta/.julia/packages/JuMP/I7whV/src/solvers.jl:212\n",
      "┌ Warning: Not solved to optimality, status: Unbounded\n",
      "└ @ JuMP /Users/vishalgupta/.julia/packages/JuMP/I7whV/src/solvers.jl:212\n",
      "┌ Warning: Not solved to optimality, status: Unbounded\n",
      "└ @ JuMP /Users/vishalgupta/.julia/packages/JuMP/I7whV/src/solvers.jl:212\n",
      "┌ Warning: Not solved to optimality, status: Unbounded\n",
      "└ @ JuMP /Users/vishalgupta/.julia/packages/JuMP/I7whV/src/solvers.jl:212\n"
     ]
    },
    {
     "name": "stdout",
     "output_type": "stream",
     "text": [
      "Academic license - for non-commercial use only\n",
      "Academic license - for non-commercial use only\n",
      "Academic license - for non-commercial use only\n",
      "Academic license - for non-commercial use only\n"
     ]
    },
    {
     "name": "stderr",
     "output_type": "stream",
     "text": [
      "┌ Warning: Not solved to optimality, status: Unbounded\n",
      "└ @ JuMP /Users/vishalgupta/.julia/packages/JuMP/I7whV/src/solvers.jl:212\n",
      "┌ Warning: Not solved to optimality, status: Unbounded\n",
      "└ @ JuMP /Users/vishalgupta/.julia/packages/JuMP/I7whV/src/solvers.jl:212\n",
      "┌ Warning: Not solved to optimality, status: Unbounded\n",
      "└ @ JuMP /Users/vishalgupta/.julia/packages/JuMP/I7whV/src/solvers.jl:212\n",
      "┌ Warning: Not solved to optimality, status: Unbounded\n",
      "└ @ JuMP /Users/vishalgupta/.julia/packages/JuMP/I7whV/src/solvers.jl:212\n"
     ]
    },
    {
     "name": "stdout",
     "output_type": "stream",
     "text": [
      "Academic license - for non-commercial use only\n",
      "Academic license - for non-commercial use only\n",
      "Academic license - for non-commercial use only\n",
      "Academic license - for non-commercial use only\n"
     ]
    },
    {
     "name": "stderr",
     "output_type": "stream",
     "text": [
      "┌ Warning: Not solved to optimality, status: Unbounded\n",
      "└ @ JuMP /Users/vishalgupta/.julia/packages/JuMP/I7whV/src/solvers.jl:212\n",
      "┌ Warning: Not solved to optimality, status: Unbounded\n",
      "└ @ JuMP /Users/vishalgupta/.julia/packages/JuMP/I7whV/src/solvers.jl:212\n",
      "┌ Warning: Not solved to optimality, status: Unbounded\n",
      "└ @ JuMP /Users/vishalgupta/.julia/packages/JuMP/I7whV/src/solvers.jl:212\n",
      "┌ Warning: Not solved to optimality, status: Unbounded\n",
      "└ @ JuMP /Users/vishalgupta/.julia/packages/JuMP/I7whV/src/solvers.jl:212\n"
     ]
    },
    {
     "name": "stdout",
     "output_type": "stream",
     "text": [
      "Academic license - for non-commercial use only\n",
      "Academic license - for non-commercial use only\n",
      "Academic license - for non-commercial use only\n",
      "Academic license - for non-commercial use only\n"
     ]
    },
    {
     "name": "stderr",
     "output_type": "stream",
     "text": [
      "┌ Warning: Not solved to optimality, status: Unbounded\n",
      "└ @ JuMP /Users/vishalgupta/.julia/packages/JuMP/I7whV/src/solvers.jl:212\n",
      "┌ Warning: Not solved to optimality, status: Unbounded\n",
      "└ @ JuMP /Users/vishalgupta/.julia/packages/JuMP/I7whV/src/solvers.jl:212\n",
      "┌ Warning: Not solved to optimality, status: Unbounded\n",
      "└ @ JuMP /Users/vishalgupta/.julia/packages/JuMP/I7whV/src/solvers.jl:212\n"
     ]
    },
    {
     "name": "stdout",
     "output_type": "stream",
     "text": [
      "Academic license - for non-commercial use only\n",
      "Academic license - for non-commercial use only\n",
      "Academic license - for non-commercial use only\n",
      "Academic license - for non-commercial use only\n",
      "Academic license - for non-commercial use only\n",
      "Academic license - for non-commercial use only\n",
      "Academic license - for non-commercial use only\n",
      "Academic license - for non-commercial use only\n",
      "Academic license - for non-commercial use only\n",
      "Academic license - for non-commercial use only\n",
      "Academic license - for non-commercial use only\n",
      "Academic license - for non-commercial use only\n",
      "Academic license - for non-commercial use only\n",
      "Academic license - for non-commercial use only\n",
      "Academic license - for non-commercial use only\n",
      "Academic license - for non-commercial use only\n",
      "Academic license - for non-commercial use only\n",
      "Academic license - for non-commercial use only\n",
      "Academic license - for non-commercial use only\n",
      "Academic license - for non-commercial use only\n",
      "Academic license - for non-commercial use only\n",
      "Academic license - for non-commercial use only\n",
      "Academic license - for non-commercial use only\n",
      "Academic license - for non-commercial use only\n",
      "Academic license - for non-commercial use only\n",
      "Academic license - for non-commercial use only\n",
      "Academic license - for non-commercial use only\n",
      "Academic license - for non-commercial use only\n",
      "Academic license - for non-commercial use only\n",
      "Academic license - for non-commercial use only\n",
      "Academic license - for non-commercial use only\n",
      "Academic license - for non-commercial use only\n",
      "Academic license - for non-commercial use only\n",
      "Academic license - for non-commercial use only\n",
      "Academic license - for non-commercial use only\n",
      "Academic license - for non-commercial use only\n",
      "Academic license - for non-commercial use only\n",
      "Academic license - for non-commercial use only\n",
      "Academic license - for non-commercial use only\n",
      "Academic license - for non-commercial use only\n",
      "Academic license - for non-commercial use only\n",
      "Academic license - for non-commercial use only\n",
      "Academic license - for non-commercial use only\n",
      "Academic license - for non-commercial use only\n",
      "Academic license - for non-commercial use only\n",
      "Academic license - for non-commercial use only\n",
      "Academic license - for non-commercial use only\n",
      "Academic license - for non-commercial use only\n",
      "Academic license - for non-commercial use only\n",
      "Academic license - for non-commercial use only\n",
      "Academic license - for non-commercial use only\n",
      "Academic license - for non-commercial use only\n",
      "Academic license - for non-commercial use only\n",
      "Academic license - for non-commercial use only\n",
      "Academic license - for non-commercial use only\n",
      "Academic license - for non-commercial use only\n",
      "Academic license - for non-commercial use only\n",
      "Academic license - for non-commercial use only\n",
      "Academic license - for non-commercial use only\n",
      "Academic license - for non-commercial use only\n",
      "Academic license - for non-commercial use only\n",
      "Academic license - for non-commercial use only\n",
      "Academic license - for non-commercial use only\n",
      "Academic license - for non-commercial use only\n",
      "Academic license - for non-commercial use only\n",
      "Academic license - for non-commercial use only\n",
      "Academic license - for non-commercial use only\n",
      "Academic license - for non-commercial use only\n",
      "Academic license - for non-commercial use only\n",
      "Academic license - for non-commercial use only\n",
      "Academic license - for non-commercial use only\n",
      "Academic license - for non-commercial use only\n",
      "Academic license - for non-commercial use only\n",
      "Academic license - for non-commercial use only\n",
      "Academic license - for non-commercial use only\n",
      "Academic license - for non-commercial use only\n",
      "Academic license - for non-commercial use only\n",
      "Academic license - for non-commercial use only\n",
      "Academic license - for non-commercial use only\n",
      "Academic license - for non-commercial use only\n",
      "Academic license - for non-commercial use only\n",
      "Academic license - for non-commercial use only\n",
      "Academic license - for non-commercial use only\n",
      "Academic license - for non-commercial use only\n",
      "Academic license - for non-commercial use only\n",
      "Academic license - for non-commercial use only\n",
      "Academic license - for non-commercial use only\n",
      "Academic license - for non-commercial use only\n",
      "Academic license - for non-commercial use only\n",
      "Academic license - for non-commercial use only\n",
      "Academic license - for non-commercial use only\n",
      "Academic license - for non-commercial use only\n",
      "Academic license - for non-commercial use only\n",
      "Academic license - for non-commercial use only\n",
      "Academic license - for non-commercial use only\n",
      "Academic license - for non-commercial use only\n",
      "Academic license - for non-commercial use only\n",
      "Academic license - for non-commercial use only\n",
      "Academic license - for non-commercial use only\n",
      "Academic license - for non-commercial use only\n",
      "Academic license - for non-commercial use only\n",
      "Academic license - for non-commercial use only\n",
      "Academic license - for non-commercial use only\n",
      "Academic license - for non-commercial use only\n",
      "Academic license - for non-commercial use only\n",
      "Academic license - for non-commercial use only\n",
      "Academic license - for non-commercial use only\n",
      "Academic license - for non-commercial use only\n",
      "Academic license - for non-commercial use only\n",
      "Academic license - for non-commercial use only\n",
      "Academic license - for non-commercial use only\n",
      "Academic license - for non-commercial use only\n",
      "Academic license - for non-commercial use only\n",
      "Academic license - for non-commercial use only\n",
      "Academic license - for non-commercial use only\n",
      "Academic license - for non-commercial use only\n",
      "Academic license - for non-commercial use only\n",
      "Academic license - for non-commercial use only\n",
      "Academic license - for non-commercial use only\n",
      "Academic license - for non-commercial use only\n",
      "Academic license - for non-commercial use only\n",
      "Academic license - for non-commercial use only\n",
      "Academic license - for non-commercial use only\n",
      "Academic license - for non-commercial use only\n",
      "Academic license - for non-commercial use only\n",
      "Academic license - for non-commercial use only\n",
      "Academic license - for non-commercial use only\n",
      "Academic license - for non-commercial use only\n",
      "Academic license - for non-commercial use only\n",
      "Academic license - for non-commercial use only\n",
      "Academic license - for non-commercial use only\n",
      "Academic license - for non-commercial use only\n",
      "Academic license - for non-commercial use only\n",
      "Academic license - for non-commercial use only\n",
      "Academic license - for non-commercial use only\n",
      "Academic license - for non-commercial use only\n",
      "Academic license - for non-commercial use only\n",
      "Academic license - for non-commercial use only\n",
      "Academic license - for non-commercial use only\n",
      "Academic license - for non-commercial use only\n",
      "Academic license - for non-commercial use only\n",
      "Academic license - for non-commercial use only\n",
      "Academic license - for non-commercial use only\n",
      "Academic license - for non-commercial use only\n",
      "Academic license - for non-commercial use only\n",
      "Academic license - for non-commercial use only\n",
      "Academic license - for non-commercial use only\n",
      "Academic license - for non-commercial use only\n",
      "Academic license - for non-commercial use only\n",
      "Academic license - for non-commercial use only\n",
      "Academic license - for non-commercial use only\n",
      "Academic license - for non-commercial use only\n",
      "Academic license - for non-commercial use only\n",
      "Academic license - for non-commercial use only\n",
      "Academic license - for non-commercial use only\n",
      "Academic license - for non-commercial use only\n",
      "Academic license - for non-commercial use only\n",
      "Academic license - for non-commercial use only\n",
      "Academic license - for non-commercial use only\n",
      "Academic license - for non-commercial use only\n",
      "Academic license - for non-commercial use only\n",
      "Academic license - for non-commercial use only\n",
      "Academic license - for non-commercial use only\n",
      "Academic license - for non-commercial use only\n",
      "Academic license - for non-commercial use only\n",
      "Academic license - for non-commercial use only\n",
      "Academic license - for non-commercial use only\n",
      "Academic license - for non-commercial use only\n",
      "Academic license - for non-commercial use only\n",
      "Academic license - for non-commercial use only\n",
      "Academic license - for non-commercial use only\n",
      "Academic license - for non-commercial use only\n",
      "Academic license - for non-commercial use only\n",
      "Academic license - for non-commercial use only\n",
      "Academic license - for non-commercial use only\n",
      "Academic license - for non-commercial use only\n",
      "Academic license - for non-commercial use only\n",
      "Academic license - for non-commercial use only\n",
      "Academic license - for non-commercial use only\n",
      "Academic license - for non-commercial use only\n",
      "Academic license - for non-commercial use only\n",
      "Academic license - for non-commercial use only\n",
      "Academic license - for non-commercial use only\n",
      "Academic license - for non-commercial use only\n",
      "Academic license - for non-commercial use only\n",
      "Academic license - for non-commercial use only\n",
      "Academic license - for non-commercial use only\n",
      "Academic license - for non-commercial use only\n",
      "Academic license - for non-commercial use only\n",
      "Academic license - for non-commercial use only\n",
      "Academic license - for non-commercial use only\n",
      "Academic license - for non-commercial use only\n",
      "Academic license - for non-commercial use only\n",
      "Academic license - for non-commercial use only\n",
      "Academic license - for non-commercial use only\n",
      "Academic license - for non-commercial use only\n",
      "Academic license - for non-commercial use only\n",
      "Academic license - for non-commercial use only\n",
      "Academic license - for non-commercial use only\n",
      "Academic license - for non-commercial use only\n",
      "Academic license - for non-commercial use only\n",
      "Academic license - for non-commercial use only\n",
      "Academic license - for non-commercial use only\n",
      "Academic license - for non-commercial use only\n",
      "Academic license - for non-commercial use only\n",
      "Academic license - for non-commercial use only\n",
      "Academic license - for non-commercial use only\n",
      "Academic license - for non-commercial use only\n",
      "Academic license - for non-commercial use only\n",
      "Academic license - for non-commercial use only\n",
      "Academic license - for non-commercial use only\n",
      "Academic license - for non-commercial use only\n",
      "Academic license - for non-commercial use only\n",
      "Academic license - for non-commercial use only\n",
      "Academic license - for non-commercial use only\n",
      "Academic license - for non-commercial use only\n",
      "Academic license - for non-commercial use only\n",
      "Academic license - for non-commercial use only\n",
      "Academic license - for non-commercial use only\n",
      "Academic license - for non-commercial use only\n",
      "Academic license - for non-commercial use only\n",
      "Academic license - for non-commercial use only\n",
      "Academic license - for non-commercial use only\n",
      "Academic license - for non-commercial use only\n",
      "Academic license - for non-commercial use only\n",
      "Academic license - for non-commercial use only\n",
      "Academic license - for non-commercial use only\n",
      "Academic license - for non-commercial use only\n",
      "Academic license - for non-commercial use only\n",
      "Academic license - for non-commercial use only\n",
      "Academic license - for non-commercial use only\n",
      "Academic license - for non-commercial use only\n",
      "Academic license - for non-commercial use only\n",
      "Academic license - for non-commercial use only\n",
      "Academic license - for non-commercial use only\n",
      "Academic license - for non-commercial use only\n",
      "Academic license - for non-commercial use only\n",
      "Academic license - for non-commercial use only\n",
      "Academic license - for non-commercial use only\n",
      "Academic license - for non-commercial use only\n",
      "Academic license - for non-commercial use only\n",
      "Academic license - for non-commercial use only\n",
      "Academic license - for non-commercial use only\n",
      "Academic license - for non-commercial use only\n",
      "Academic license - for non-commercial use only\n",
      "Academic license - for non-commercial use only\n",
      "Academic license - for non-commercial use only\n",
      "Academic license - for non-commercial use only\n",
      "Academic license - for non-commercial use only\n",
      "Academic license - for non-commercial use only\n",
      "Academic license - for non-commercial use only\n",
      "Academic license - for non-commercial use only\n",
      "Academic license - for non-commercial use only\n",
      "Academic license - for non-commercial use only\n",
      "Academic license - for non-commercial use only\n",
      "Academic license - for non-commercial use only\n",
      "Academic license - for non-commercial use only\n",
      "Academic license - for non-commercial use only\n",
      "Academic license - for non-commercial use only\n",
      "Academic license - for non-commercial use only\n",
      "Academic license - for non-commercial use only\n",
      "Academic license - for non-commercial use only\n",
      "Academic license - for non-commercial use only\n",
      "Academic license - for non-commercial use only\n",
      "Academic license - for non-commercial use only\n",
      "Academic license - for non-commercial use only\n",
      "Academic license - for non-commercial use only\n",
      "Academic license - for non-commercial use only\n",
      "Academic license - for non-commercial use only\n",
      "Academic license - for non-commercial use only\n",
      "Academic license - for non-commercial use only\n",
      "Academic license - for non-commercial use only\n",
      "Academic license - for non-commercial use only\n",
      "Academic license - for non-commercial use only\n",
      "Academic license - for non-commercial use only\n",
      "Academic license - for non-commercial use only\n",
      "Academic license - for non-commercial use only\n",
      "Academic license - for non-commercial use only\n",
      "Academic license - for non-commercial use only\n",
      "Academic license - for non-commercial use only\n",
      "Academic license - for non-commercial use only\n",
      "Dev:\t0.10526315789473684\n",
      "Academic license - for non-commercial use only\n",
      "Academic license - for non-commercial use only\n"
     ]
    },
    {
     "name": "stderr",
     "output_type": "stream",
     "text": [
      "┌ Warning: Not solved to optimality, status: Unbounded\n",
      "└ @ JuMP /Users/vishalgupta/.julia/packages/JuMP/I7whV/src/solvers.jl:212\n",
      "┌ Warning: Not solved to optimality, status: Unbounded\n",
      "└ @ JuMP /Users/vishalgupta/.julia/packages/JuMP/I7whV/src/solvers.jl:212\n"
     ]
    },
    {
     "name": "stdout",
     "output_type": "stream",
     "text": [
      "Academic license - for non-commercial use only\n",
      "Academic license - for non-commercial use only\n"
     ]
    },
    {
     "name": "stderr",
     "output_type": "stream",
     "text": [
      "┌ Warning: Not solved to optimality, status: Unbounded\n",
      "└ @ JuMP /Users/vishalgupta/.julia/packages/JuMP/I7whV/src/solvers.jl:212\n",
      "┌ Warning: Not solved to optimality, status: Unbounded\n",
      "└ @ JuMP /Users/vishalgupta/.julia/packages/JuMP/I7whV/src/solvers.jl:212\n"
     ]
    },
    {
     "name": "stdout",
     "output_type": "stream",
     "text": [
      "Academic license - for non-commercial use only\n",
      "Academic license - for non-commercial use only\n",
      "Academic license - for non-commercial use only\n",
      "Academic license - for non-commercial use only\n"
     ]
    },
    {
     "name": "stderr",
     "output_type": "stream",
     "text": [
      "┌ Warning: Not solved to optimality, status: Unbounded\n",
      "└ @ JuMP /Users/vishalgupta/.julia/packages/JuMP/I7whV/src/solvers.jl:212\n",
      "┌ Warning: Not solved to optimality, status: Unbounded\n",
      "└ @ JuMP /Users/vishalgupta/.julia/packages/JuMP/I7whV/src/solvers.jl:212\n",
      "┌ Warning: Not solved to optimality, status: Unbounded\n",
      "└ @ JuMP /Users/vishalgupta/.julia/packages/JuMP/I7whV/src/solvers.jl:212\n",
      "┌ Warning: Not solved to optimality, status: Unbounded\n",
      "└ @ JuMP /Users/vishalgupta/.julia/packages/JuMP/I7whV/src/solvers.jl:212\n"
     ]
    },
    {
     "name": "stdout",
     "output_type": "stream",
     "text": [
      "Academic license - for non-commercial use only\n",
      "Academic license - for non-commercial use only\n",
      "Academic license - for non-commercial use only\n",
      "Academic license - for non-commercial use only\n"
     ]
    },
    {
     "name": "stderr",
     "output_type": "stream",
     "text": [
      "┌ Warning: Not solved to optimality, status: Unbounded\n",
      "└ @ JuMP /Users/vishalgupta/.julia/packages/JuMP/I7whV/src/solvers.jl:212\n",
      "┌ Warning: Not solved to optimality, status: Unbounded\n",
      "└ @ JuMP /Users/vishalgupta/.julia/packages/JuMP/I7whV/src/solvers.jl:212\n",
      "┌ Warning: Not solved to optimality, status: Unbounded\n",
      "└ @ JuMP /Users/vishalgupta/.julia/packages/JuMP/I7whV/src/solvers.jl:212\n",
      "┌ Warning: Not solved to optimality, status: Unbounded\n",
      "└ @ JuMP /Users/vishalgupta/.julia/packages/JuMP/I7whV/src/solvers.jl:212\n"
     ]
    },
    {
     "name": "stdout",
     "output_type": "stream",
     "text": [
      "Academic license - for non-commercial use only\n",
      "Academic license - for non-commercial use only\n",
      "Academic license - for non-commercial use only\n",
      "Academic license - for non-commercial use only\n"
     ]
    },
    {
     "name": "stderr",
     "output_type": "stream",
     "text": [
      "┌ Warning: Not solved to optimality, status: Unbounded\n",
      "└ @ JuMP /Users/vishalgupta/.julia/packages/JuMP/I7whV/src/solvers.jl:212\n",
      "┌ Warning: Not solved to optimality, status: Unbounded\n",
      "└ @ JuMP /Users/vishalgupta/.julia/packages/JuMP/I7whV/src/solvers.jl:212\n",
      "┌ Warning: Not solved to optimality, status: Unbounded\n",
      "└ @ JuMP /Users/vishalgupta/.julia/packages/JuMP/I7whV/src/solvers.jl:212\n",
      "┌ Warning: Not solved to optimality, status: Unbounded\n",
      "└ @ JuMP /Users/vishalgupta/.julia/packages/JuMP/I7whV/src/solvers.jl:212\n"
     ]
    },
    {
     "name": "stdout",
     "output_type": "stream",
     "text": [
      "Academic license - for non-commercial use only\n",
      "Academic license - for non-commercial use only\n",
      "Academic license - for non-commercial use only\n",
      "Academic license - for non-commercial use only\n"
     ]
    },
    {
     "name": "stderr",
     "output_type": "stream",
     "text": [
      "┌ Warning: Not solved to optimality, status: Unbounded\n",
      "└ @ JuMP /Users/vishalgupta/.julia/packages/JuMP/I7whV/src/solvers.jl:212\n",
      "┌ Warning: Not solved to optimality, status: Unbounded\n",
      "└ @ JuMP /Users/vishalgupta/.julia/packages/JuMP/I7whV/src/solvers.jl:212\n",
      "┌ Warning: Not solved to optimality, status: Unbounded\n",
      "└ @ JuMP /Users/vishalgupta/.julia/packages/JuMP/I7whV/src/solvers.jl:212\n",
      "┌ Warning: Not solved to optimality, status: Unbounded\n",
      "└ @ JuMP /Users/vishalgupta/.julia/packages/JuMP/I7whV/src/solvers.jl:212\n"
     ]
    },
    {
     "name": "stdout",
     "output_type": "stream",
     "text": [
      "Academic license - for non-commercial use only\n",
      "Academic license - for non-commercial use only\n",
      "Academic license - for non-commercial use only\n",
      "Academic license - for non-commercial use only\n"
     ]
    },
    {
     "name": "stderr",
     "output_type": "stream",
     "text": [
      "┌ Warning: Not solved to optimality, status: Unbounded\n",
      "└ @ JuMP /Users/vishalgupta/.julia/packages/JuMP/I7whV/src/solvers.jl:212\n",
      "┌ Warning: Not solved to optimality, status: Unbounded\n",
      "└ @ JuMP /Users/vishalgupta/.julia/packages/JuMP/I7whV/src/solvers.jl:212\n",
      "┌ Warning: Not solved to optimality, status: Unbounded\n",
      "└ @ JuMP /Users/vishalgupta/.julia/packages/JuMP/I7whV/src/solvers.jl:212\n",
      "┌ Warning: Not solved to optimality, status: Unbounded\n",
      "└ @ JuMP /Users/vishalgupta/.julia/packages/JuMP/I7whV/src/solvers.jl:212\n"
     ]
    },
    {
     "name": "stdout",
     "output_type": "stream",
     "text": [
      "Academic license - for non-commercial use only\n",
      "Academic license - for non-commercial use only\n",
      "Academic license - for non-commercial use only\n",
      "Academic license - for non-commercial use only\n"
     ]
    },
    {
     "name": "stderr",
     "output_type": "stream",
     "text": [
      "┌ Warning: Not solved to optimality, status: Unbounded\n",
      "└ @ JuMP /Users/vishalgupta/.julia/packages/JuMP/I7whV/src/solvers.jl:212\n",
      "┌ Warning: Not solved to optimality, status: Unbounded\n",
      "└ @ JuMP /Users/vishalgupta/.julia/packages/JuMP/I7whV/src/solvers.jl:212\n",
      "┌ Warning: Not solved to optimality, status: Unbounded\n",
      "└ @ JuMP /Users/vishalgupta/.julia/packages/JuMP/I7whV/src/solvers.jl:212\n",
      "┌ Warning: Not solved to optimality, status: Unbounded\n",
      "└ @ JuMP /Users/vishalgupta/.julia/packages/JuMP/I7whV/src/solvers.jl:212\n"
     ]
    },
    {
     "name": "stdout",
     "output_type": "stream",
     "text": [
      "Academic license - for non-commercial use only\n",
      "Academic license - for non-commercial use only\n",
      "Academic license - for non-commercial use only\n",
      "Academic license - for non-commercial use only\n"
     ]
    },
    {
     "name": "stderr",
     "output_type": "stream",
     "text": [
      "┌ Warning: Not solved to optimality, status: Unbounded\n",
      "└ @ JuMP /Users/vishalgupta/.julia/packages/JuMP/I7whV/src/solvers.jl:212\n",
      "┌ Warning: Not solved to optimality, status: Unbounded\n",
      "└ @ JuMP /Users/vishalgupta/.julia/packages/JuMP/I7whV/src/solvers.jl:212\n",
      "┌ Warning: Not solved to optimality, status: Unbounded\n",
      "└ @ JuMP /Users/vishalgupta/.julia/packages/JuMP/I7whV/src/solvers.jl:212\n",
      "┌ Warning: Not solved to optimality, status: Unbounded\n",
      "└ @ JuMP /Users/vishalgupta/.julia/packages/JuMP/I7whV/src/solvers.jl:212\n"
     ]
    },
    {
     "name": "stdout",
     "output_type": "stream",
     "text": [
      "Academic license - for non-commercial use only\n",
      "Academic license - for non-commercial use only\n",
      "Academic license - for non-commercial use only\n",
      "Academic license - for non-commercial use only\n"
     ]
    },
    {
     "name": "stderr",
     "output_type": "stream",
     "text": [
      "┌ Warning: Not solved to optimality, status: Unbounded\n",
      "└ @ JuMP /Users/vishalgupta/.julia/packages/JuMP/I7whV/src/solvers.jl:212\n",
      "┌ Warning: Not solved to optimality, status: Unbounded\n",
      "└ @ JuMP /Users/vishalgupta/.julia/packages/JuMP/I7whV/src/solvers.jl:212\n",
      "┌ Warning: Not solved to optimality, status: Unbounded\n",
      "└ @ JuMP /Users/vishalgupta/.julia/packages/JuMP/I7whV/src/solvers.jl:212\n",
      "┌ Warning: Not solved to optimality, status: Unbounded\n",
      "└ @ JuMP /Users/vishalgupta/.julia/packages/JuMP/I7whV/src/solvers.jl:212\n"
     ]
    },
    {
     "name": "stdout",
     "output_type": "stream",
     "text": [
      "Academic license - for non-commercial use only\n",
      "Academic license - for non-commercial use only\n",
      "Academic license - for non-commercial use only\n",
      "Academic license - for non-commercial use only\n"
     ]
    },
    {
     "name": "stderr",
     "output_type": "stream",
     "text": [
      "┌ Warning: Not solved to optimality, status: Unbounded\n",
      "└ @ JuMP /Users/vishalgupta/.julia/packages/JuMP/I7whV/src/solvers.jl:212\n",
      "┌ Warning: Not solved to optimality, status: Unbounded\n",
      "└ @ JuMP /Users/vishalgupta/.julia/packages/JuMP/I7whV/src/solvers.jl:212\n",
      "┌ Warning: Not solved to optimality, status: Unbounded\n",
      "└ @ JuMP /Users/vishalgupta/.julia/packages/JuMP/I7whV/src/solvers.jl:212\n",
      "┌ Warning: Not solved to optimality, status: Unbounded\n",
      "└ @ JuMP /Users/vishalgupta/.julia/packages/JuMP/I7whV/src/solvers.jl:212\n"
     ]
    },
    {
     "name": "stdout",
     "output_type": "stream",
     "text": [
      "Academic license - for non-commercial use only\n",
      "Academic license - for non-commercial use only\n",
      "Academic license - for non-commercial use only\n",
      "Academic license - for non-commercial use only\n"
     ]
    },
    {
     "name": "stderr",
     "output_type": "stream",
     "text": [
      "┌ Warning: Not solved to optimality, status: Unbounded\n",
      "└ @ JuMP /Users/vishalgupta/.julia/packages/JuMP/I7whV/src/solvers.jl:212\n",
      "┌ Warning: Not solved to optimality, status: Unbounded\n",
      "└ @ JuMP /Users/vishalgupta/.julia/packages/JuMP/I7whV/src/solvers.jl:212\n",
      "┌ Warning: Not solved to optimality, status: Unbounded\n",
      "└ @ JuMP /Users/vishalgupta/.julia/packages/JuMP/I7whV/src/solvers.jl:212\n",
      "┌ Warning: Not solved to optimality, status: Unbounded\n",
      "└ @ JuMP /Users/vishalgupta/.julia/packages/JuMP/I7whV/src/solvers.jl:212\n"
     ]
    },
    {
     "name": "stdout",
     "output_type": "stream",
     "text": [
      "Academic license - for non-commercial use only\n",
      "Academic license - for non-commercial use only\n",
      "Academic license - for non-commercial use only\n",
      "Academic license - for non-commercial use only\n"
     ]
    },
    {
     "name": "stderr",
     "output_type": "stream",
     "text": [
      "┌ Warning: Not solved to optimality, status: Unbounded\n",
      "└ @ JuMP /Users/vishalgupta/.julia/packages/JuMP/I7whV/src/solvers.jl:212\n",
      "┌ Warning: Not solved to optimality, status: Unbounded\n",
      "└ @ JuMP /Users/vishalgupta/.julia/packages/JuMP/I7whV/src/solvers.jl:212\n",
      "┌ Warning: Not solved to optimality, status: Unbounded\n",
      "└ @ JuMP /Users/vishalgupta/.julia/packages/JuMP/I7whV/src/solvers.jl:212\n",
      "┌ Warning: Not solved to optimality, status: Unbounded\n",
      "└ @ JuMP /Users/vishalgupta/.julia/packages/JuMP/I7whV/src/solvers.jl:212\n"
     ]
    },
    {
     "name": "stdout",
     "output_type": "stream",
     "text": [
      "Academic license - for non-commercial use only\n",
      "Academic license - for non-commercial use only\n",
      "Academic license - for non-commercial use only\n",
      "Academic license - for non-commercial use only\n"
     ]
    },
    {
     "name": "stderr",
     "output_type": "stream",
     "text": [
      "┌ Warning: Not solved to optimality, status: Unbounded\n",
      "└ @ JuMP /Users/vishalgupta/.julia/packages/JuMP/I7whV/src/solvers.jl:212\n",
      "┌ Warning: Not solved to optimality, status: Unbounded\n",
      "└ @ JuMP /Users/vishalgupta/.julia/packages/JuMP/I7whV/src/solvers.jl:212\n",
      "┌ Warning: Not solved to optimality, status: Unbounded\n",
      "└ @ JuMP /Users/vishalgupta/.julia/packages/JuMP/I7whV/src/solvers.jl:212\n",
      "┌ Warning: Not solved to optimality, status: Unbounded\n",
      "└ @ JuMP /Users/vishalgupta/.julia/packages/JuMP/I7whV/src/solvers.jl:212\n"
     ]
    },
    {
     "name": "stdout",
     "output_type": "stream",
     "text": [
      "Academic license - for non-commercial use only\n",
      "Academic license - for non-commercial use only\n",
      "Academic license - for non-commercial use only\n",
      "Academic license - for non-commercial use only\n"
     ]
    },
    {
     "name": "stderr",
     "output_type": "stream",
     "text": [
      "┌ Warning: Not solved to optimality, status: Unbounded\n",
      "└ @ JuMP /Users/vishalgupta/.julia/packages/JuMP/I7whV/src/solvers.jl:212\n",
      "┌ Warning: Not solved to optimality, status: Unbounded\n",
      "└ @ JuMP /Users/vishalgupta/.julia/packages/JuMP/I7whV/src/solvers.jl:212\n",
      "┌ Warning: Not solved to optimality, status: Unbounded\n",
      "└ @ JuMP /Users/vishalgupta/.julia/packages/JuMP/I7whV/src/solvers.jl:212\n",
      "┌ Warning: Not solved to optimality, status: Unbounded\n",
      "└ @ JuMP /Users/vishalgupta/.julia/packages/JuMP/I7whV/src/solvers.jl:212\n"
     ]
    },
    {
     "name": "stdout",
     "output_type": "stream",
     "text": [
      "Academic license - for non-commercial use only\n",
      "Academic license - for non-commercial use only\n",
      "Academic license - for non-commercial use only\n",
      "Academic license - for non-commercial use only\n"
     ]
    },
    {
     "name": "stderr",
     "output_type": "stream",
     "text": [
      "┌ Warning: Not solved to optimality, status: Unbounded\n",
      "└ @ JuMP /Users/vishalgupta/.julia/packages/JuMP/I7whV/src/solvers.jl:212\n",
      "┌ Warning: Not solved to optimality, status: Unbounded\n",
      "└ @ JuMP /Users/vishalgupta/.julia/packages/JuMP/I7whV/src/solvers.jl:212\n",
      "┌ Warning: Not solved to optimality, status: Unbounded\n",
      "└ @ JuMP /Users/vishalgupta/.julia/packages/JuMP/I7whV/src/solvers.jl:212\n",
      "┌ Warning: Not solved to optimality, status: Unbounded\n",
      "└ @ JuMP /Users/vishalgupta/.julia/packages/JuMP/I7whV/src/solvers.jl:212\n"
     ]
    },
    {
     "name": "stdout",
     "output_type": "stream",
     "text": [
      "Academic license - for non-commercial use only\n",
      "Academic license - for non-commercial use only\n",
      "Academic license - for non-commercial use only\n",
      "Academic license - for non-commercial use only\n"
     ]
    },
    {
     "name": "stderr",
     "output_type": "stream",
     "text": [
      "┌ Warning: Not solved to optimality, status: Unbounded\n",
      "└ @ JuMP /Users/vishalgupta/.julia/packages/JuMP/I7whV/src/solvers.jl:212\n",
      "┌ Warning: Not solved to optimality, status: Unbounded\n",
      "└ @ JuMP /Users/vishalgupta/.julia/packages/JuMP/I7whV/src/solvers.jl:212\n",
      "┌ Warning: Not solved to optimality, status: Unbounded\n",
      "└ @ JuMP /Users/vishalgupta/.julia/packages/JuMP/I7whV/src/solvers.jl:212\n",
      "┌ Warning: Not solved to optimality, status: Unbounded\n",
      "└ @ JuMP /Users/vishalgupta/.julia/packages/JuMP/I7whV/src/solvers.jl:212\n"
     ]
    },
    {
     "name": "stdout",
     "output_type": "stream",
     "text": [
      "Academic license - for non-commercial use only\n",
      "Academic license - for non-commercial use only\n",
      "Academic license - for non-commercial use only\n",
      "Academic license - for non-commercial use only\n"
     ]
    },
    {
     "name": "stderr",
     "output_type": "stream",
     "text": [
      "┌ Warning: Not solved to optimality, status: Unbounded\n",
      "└ @ JuMP /Users/vishalgupta/.julia/packages/JuMP/I7whV/src/solvers.jl:212\n",
      "┌ Warning: Not solved to optimality, status: Unbounded\n",
      "└ @ JuMP /Users/vishalgupta/.julia/packages/JuMP/I7whV/src/solvers.jl:212\n",
      "┌ Warning: Not solved to optimality, status: Unbounded\n",
      "└ @ JuMP /Users/vishalgupta/.julia/packages/JuMP/I7whV/src/solvers.jl:212\n",
      "┌ Warning: Not solved to optimality, status: Unbounded\n",
      "└ @ JuMP /Users/vishalgupta/.julia/packages/JuMP/I7whV/src/solvers.jl:212\n"
     ]
    },
    {
     "name": "stdout",
     "output_type": "stream",
     "text": [
      "Academic license - for non-commercial use only\n",
      "Academic license - for non-commercial use only\n",
      "Academic license - for non-commercial use only\n",
      "Academic license - for non-commercial use only\n"
     ]
    },
    {
     "name": "stderr",
     "output_type": "stream",
     "text": [
      "┌ Warning: Not solved to optimality, status: Unbounded\n",
      "└ @ JuMP /Users/vishalgupta/.julia/packages/JuMP/I7whV/src/solvers.jl:212\n",
      "┌ Warning: Not solved to optimality, status: Unbounded\n",
      "└ @ JuMP /Users/vishalgupta/.julia/packages/JuMP/I7whV/src/solvers.jl:212\n",
      "┌ Warning: Not solved to optimality, status: Unbounded\n",
      "└ @ JuMP /Users/vishalgupta/.julia/packages/JuMP/I7whV/src/solvers.jl:212\n",
      "┌ Warning: Not solved to optimality, status: Unbounded\n",
      "└ @ JuMP /Users/vishalgupta/.julia/packages/JuMP/I7whV/src/solvers.jl:212\n"
     ]
    },
    {
     "name": "stdout",
     "output_type": "stream",
     "text": [
      "Academic license - for non-commercial use only\n",
      "Academic license - for non-commercial use only\n",
      "Academic license - for non-commercial use only\n",
      "Academic license - for non-commercial use only\n"
     ]
    },
    {
     "name": "stderr",
     "output_type": "stream",
     "text": [
      "┌ Warning: Not solved to optimality, status: Unbounded\n",
      "└ @ JuMP /Users/vishalgupta/.julia/packages/JuMP/I7whV/src/solvers.jl:212\n",
      "┌ Warning: Not solved to optimality, status: Unbounded\n",
      "└ @ JuMP /Users/vishalgupta/.julia/packages/JuMP/I7whV/src/solvers.jl:212\n",
      "┌ Warning: Not solved to optimality, status: Unbounded\n",
      "└ @ JuMP /Users/vishalgupta/.julia/packages/JuMP/I7whV/src/solvers.jl:212\n",
      "┌ Warning: Not solved to optimality, status: Unbounded\n",
      "└ @ JuMP /Users/vishalgupta/.julia/packages/JuMP/I7whV/src/solvers.jl:212\n"
     ]
    },
    {
     "name": "stdout",
     "output_type": "stream",
     "text": [
      "Academic license - for non-commercial use only\n",
      "Academic license - for non-commercial use only\n",
      "Academic license - for non-commercial use only\n",
      "Academic license - for non-commercial use only\n"
     ]
    },
    {
     "name": "stderr",
     "output_type": "stream",
     "text": [
      "┌ Warning: Not solved to optimality, status: Unbounded\n",
      "└ @ JuMP /Users/vishalgupta/.julia/packages/JuMP/I7whV/src/solvers.jl:212\n",
      "┌ Warning: Not solved to optimality, status: Unbounded\n",
      "└ @ JuMP /Users/vishalgupta/.julia/packages/JuMP/I7whV/src/solvers.jl:212\n",
      "┌ Warning: Not solved to optimality, status: Unbounded\n",
      "└ @ JuMP /Users/vishalgupta/.julia/packages/JuMP/I7whV/src/solvers.jl:212\n",
      "┌ Warning: Not solved to optimality, status: Unbounded\n",
      "└ @ JuMP /Users/vishalgupta/.julia/packages/JuMP/I7whV/src/solvers.jl:212\n"
     ]
    },
    {
     "name": "stdout",
     "output_type": "stream",
     "text": [
      "Academic license - for non-commercial use only\n",
      "Academic license - for non-commercial use only\n",
      "Academic license - for non-commercial use only\n",
      "Academic license - for non-commercial use only\n"
     ]
    },
    {
     "name": "stderr",
     "output_type": "stream",
     "text": [
      "┌ Warning: Not solved to optimality, status: Unbounded\n",
      "└ @ JuMP /Users/vishalgupta/.julia/packages/JuMP/I7whV/src/solvers.jl:212\n",
      "┌ Warning: Not solved to optimality, status: Unbounded\n",
      "└ @ JuMP /Users/vishalgupta/.julia/packages/JuMP/I7whV/src/solvers.jl:212\n",
      "┌ Warning: Not solved to optimality, status: Unbounded\n",
      "└ @ JuMP /Users/vishalgupta/.julia/packages/JuMP/I7whV/src/solvers.jl:212\n",
      "┌ Warning: Not solved to optimality, status: Unbounded\n",
      "└ @ JuMP /Users/vishalgupta/.julia/packages/JuMP/I7whV/src/solvers.jl:212\n"
     ]
    },
    {
     "name": "stdout",
     "output_type": "stream",
     "text": [
      "Academic license - for non-commercial use only\n",
      "Academic license - for non-commercial use only\n"
     ]
    },
    {
     "name": "stderr",
     "output_type": "stream",
     "text": [
      "┌ Warning: Not solved to optimality, status: Unbounded\n",
      "└ @ JuMP /Users/vishalgupta/.julia/packages/JuMP/I7whV/src/solvers.jl:212\n",
      "┌ Warning: Not solved to optimality, status: Unbounded\n",
      "└ @ JuMP /Users/vishalgupta/.julia/packages/JuMP/I7whV/src/solvers.jl:212\n"
     ]
    },
    {
     "name": "stdout",
     "output_type": "stream",
     "text": [
      "Academic license - for non-commercial use only\n",
      "Academic license - for non-commercial use only\n",
      "Academic license - for non-commercial use only\n",
      "Academic license - for non-commercial use only\n"
     ]
    },
    {
     "name": "stderr",
     "output_type": "stream",
     "text": [
      "┌ Warning: Not solved to optimality, status: Unbounded\n",
      "└ @ JuMP /Users/vishalgupta/.julia/packages/JuMP/I7whV/src/solvers.jl:212\n",
      "┌ Warning: Not solved to optimality, status: Unbounded\n",
      "└ @ JuMP /Users/vishalgupta/.julia/packages/JuMP/I7whV/src/solvers.jl:212\n",
      "┌ Warning: Not solved to optimality, status: Unbounded\n",
      "└ @ JuMP /Users/vishalgupta/.julia/packages/JuMP/I7whV/src/solvers.jl:212\n",
      "┌ Warning: Not solved to optimality, status: Unbounded\n",
      "└ @ JuMP /Users/vishalgupta/.julia/packages/JuMP/I7whV/src/solvers.jl:212\n"
     ]
    },
    {
     "name": "stdout",
     "output_type": "stream",
     "text": [
      "Academic license - for non-commercial use only\n",
      "Academic license - for non-commercial use only\n"
     ]
    },
    {
     "name": "stderr",
     "output_type": "stream",
     "text": [
      "┌ Warning: Not solved to optimality, status: Unbounded\n",
      "└ @ JuMP /Users/vishalgupta/.julia/packages/JuMP/I7whV/src/solvers.jl:212\n",
      "┌ Warning: Not solved to optimality, status: Unbounded\n",
      "└ @ JuMP /Users/vishalgupta/.julia/packages/JuMP/I7whV/src/solvers.jl:212\n"
     ]
    },
    {
     "name": "stdout",
     "output_type": "stream",
     "text": [
      "Academic license - for non-commercial use only\n",
      "Academic license - for non-commercial use only\n",
      "Academic license - for non-commercial use only\n",
      "Academic license - for non-commercial use only\n"
     ]
    },
    {
     "name": "stderr",
     "output_type": "stream",
     "text": [
      "┌ Warning: Not solved to optimality, status: Unbounded\n",
      "└ @ JuMP /Users/vishalgupta/.julia/packages/JuMP/I7whV/src/solvers.jl:212\n",
      "┌ Warning: Not solved to optimality, status: Unbounded\n",
      "└ @ JuMP /Users/vishalgupta/.julia/packages/JuMP/I7whV/src/solvers.jl:212\n",
      "┌ Warning: Not solved to optimality, status: Unbounded\n",
      "└ @ JuMP /Users/vishalgupta/.julia/packages/JuMP/I7whV/src/solvers.jl:212\n",
      "┌ Warning: Not solved to optimality, status: Unbounded\n",
      "└ @ JuMP /Users/vishalgupta/.julia/packages/JuMP/I7whV/src/solvers.jl:212\n"
     ]
    },
    {
     "name": "stdout",
     "output_type": "stream",
     "text": [
      "Academic license - for non-commercial use only\n",
      "Academic license - for non-commercial use only\n"
     ]
    },
    {
     "name": "stderr",
     "output_type": "stream",
     "text": [
      "┌ Warning: Not solved to optimality, status: Unbounded\n",
      "└ @ JuMP /Users/vishalgupta/.julia/packages/JuMP/I7whV/src/solvers.jl:212\n",
      "┌ Warning: Not solved to optimality, status: Unbounded\n",
      "└ @ JuMP /Users/vishalgupta/.julia/packages/JuMP/I7whV/src/solvers.jl:212\n"
     ]
    },
    {
     "name": "stdout",
     "output_type": "stream",
     "text": [
      "Academic license - for non-commercial use only\n",
      "Academic license - for non-commercial use only\n",
      "Academic license - for non-commercial use only\n",
      "Academic license - for non-commercial use only\n"
     ]
    },
    {
     "name": "stderr",
     "output_type": "stream",
     "text": [
      "┌ Warning: Not solved to optimality, status: Unbounded\n",
      "└ @ JuMP /Users/vishalgupta/.julia/packages/JuMP/I7whV/src/solvers.jl:212\n",
      "┌ Warning: Not solved to optimality, status: Unbounded\n",
      "└ @ JuMP /Users/vishalgupta/.julia/packages/JuMP/I7whV/src/solvers.jl:212\n",
      "┌ Warning: Not solved to optimality, status: Unbounded\n",
      "└ @ JuMP /Users/vishalgupta/.julia/packages/JuMP/I7whV/src/solvers.jl:212\n",
      "┌ Warning: Not solved to optimality, status: Unbounded\n",
      "└ @ JuMP /Users/vishalgupta/.julia/packages/JuMP/I7whV/src/solvers.jl:212\n"
     ]
    },
    {
     "name": "stdout",
     "output_type": "stream",
     "text": [
      "Academic license - for non-commercial use only\n",
      "Academic license - for non-commercial use only\n"
     ]
    },
    {
     "name": "stderr",
     "output_type": "stream",
     "text": [
      "┌ Warning: Not solved to optimality, status: Unbounded\n",
      "└ @ JuMP /Users/vishalgupta/.julia/packages/JuMP/I7whV/src/solvers.jl:212\n",
      "┌ Warning: Not solved to optimality, status: Unbounded\n",
      "└ @ JuMP /Users/vishalgupta/.julia/packages/JuMP/I7whV/src/solvers.jl:212\n"
     ]
    },
    {
     "name": "stdout",
     "output_type": "stream",
     "text": [
      "Academic license - for non-commercial use only\n",
      "Academic license - for non-commercial use only\n",
      "Academic license - for non-commercial use only\n",
      "Academic license - for non-commercial use only\n"
     ]
    },
    {
     "name": "stderr",
     "output_type": "stream",
     "text": [
      "┌ Warning: Not solved to optimality, status: Unbounded\n",
      "└ @ JuMP /Users/vishalgupta/.julia/packages/JuMP/I7whV/src/solvers.jl:212\n",
      "┌ Warning: Not solved to optimality, status: Unbounded\n",
      "└ @ JuMP /Users/vishalgupta/.julia/packages/JuMP/I7whV/src/solvers.jl:212\n",
      "┌ Warning: Not solved to optimality, status: Unbounded\n",
      "└ @ JuMP /Users/vishalgupta/.julia/packages/JuMP/I7whV/src/solvers.jl:212\n",
      "┌ Warning: Not solved to optimality, status: Unbounded\n",
      "└ @ JuMP /Users/vishalgupta/.julia/packages/JuMP/I7whV/src/solvers.jl:212\n"
     ]
    },
    {
     "name": "stdout",
     "output_type": "stream",
     "text": [
      "Academic license - for non-commercial use only\n",
      "Academic license - for non-commercial use only\n"
     ]
    },
    {
     "name": "stderr",
     "output_type": "stream",
     "text": [
      "┌ Warning: Not solved to optimality, status: Unbounded\n",
      "└ @ JuMP /Users/vishalgupta/.julia/packages/JuMP/I7whV/src/solvers.jl:212\n",
      "┌ Warning: Not solved to optimality, status: Unbounded\n",
      "└ @ JuMP /Users/vishalgupta/.julia/packages/JuMP/I7whV/src/solvers.jl:212\n"
     ]
    },
    {
     "name": "stdout",
     "output_type": "stream",
     "text": [
      "Academic license - for non-commercial use only\n",
      "Academic license - for non-commercial use only\n",
      "Academic license - for non-commercial use only\n",
      "Academic license - for non-commercial use only\n"
     ]
    },
    {
     "name": "stderr",
     "output_type": "stream",
     "text": [
      "┌ Warning: Not solved to optimality, status: Unbounded\n",
      "└ @ JuMP /Users/vishalgupta/.julia/packages/JuMP/I7whV/src/solvers.jl:212\n",
      "┌ Warning: Not solved to optimality, status: Unbounded\n",
      "└ @ JuMP /Users/vishalgupta/.julia/packages/JuMP/I7whV/src/solvers.jl:212\n",
      "┌ Warning: Not solved to optimality, status: Unbounded\n",
      "└ @ JuMP /Users/vishalgupta/.julia/packages/JuMP/I7whV/src/solvers.jl:212\n",
      "┌ Warning: Not solved to optimality, status: Unbounded\n",
      "└ @ JuMP /Users/vishalgupta/.julia/packages/JuMP/I7whV/src/solvers.jl:212\n"
     ]
    },
    {
     "name": "stdout",
     "output_type": "stream",
     "text": [
      "Academic license - for non-commercial use only\n",
      "Academic license - for non-commercial use only\n"
     ]
    },
    {
     "name": "stderr",
     "output_type": "stream",
     "text": [
      "┌ Warning: Not solved to optimality, status: Unbounded\n",
      "└ @ JuMP /Users/vishalgupta/.julia/packages/JuMP/I7whV/src/solvers.jl:212\n",
      "┌ Warning: Not solved to optimality, status: Unbounded\n",
      "└ @ JuMP /Users/vishalgupta/.julia/packages/JuMP/I7whV/src/solvers.jl:212\n"
     ]
    },
    {
     "name": "stdout",
     "output_type": "stream",
     "text": [
      "Academic license - for non-commercial use only\n",
      "Academic license - for non-commercial use only\n",
      "Academic license - for non-commercial use only\n",
      "Academic license - for non-commercial use only\n"
     ]
    },
    {
     "name": "stderr",
     "output_type": "stream",
     "text": [
      "┌ Warning: Not solved to optimality, status: Unbounded\n",
      "└ @ JuMP /Users/vishalgupta/.julia/packages/JuMP/I7whV/src/solvers.jl:212\n",
      "┌ Warning: Not solved to optimality, status: Unbounded\n",
      "└ @ JuMP /Users/vishalgupta/.julia/packages/JuMP/I7whV/src/solvers.jl:212\n",
      "┌ Warning: Not solved to optimality, status: Unbounded\n",
      "└ @ JuMP /Users/vishalgupta/.julia/packages/JuMP/I7whV/src/solvers.jl:212\n",
      "┌ Warning: Not solved to optimality, status: Unbounded\n",
      "└ @ JuMP /Users/vishalgupta/.julia/packages/JuMP/I7whV/src/solvers.jl:212\n"
     ]
    },
    {
     "name": "stdout",
     "output_type": "stream",
     "text": [
      "Academic license - for non-commercial use only\n",
      "Academic license - for non-commercial use only\n",
      "Academic license - for non-commercial use only\n",
      "Academic license - for non-commercial use only\n"
     ]
    },
    {
     "name": "stderr",
     "output_type": "stream",
     "text": [
      "┌ Warning: Not solved to optimality, status: Unbounded\n",
      "└ @ JuMP /Users/vishalgupta/.julia/packages/JuMP/I7whV/src/solvers.jl:212\n",
      "┌ Warning: Not solved to optimality, status: Unbounded\n",
      "└ @ JuMP /Users/vishalgupta/.julia/packages/JuMP/I7whV/src/solvers.jl:212\n",
      "┌ Warning: Not solved to optimality, status: Unbounded\n",
      "└ @ JuMP /Users/vishalgupta/.julia/packages/JuMP/I7whV/src/solvers.jl:212\n",
      "┌ Warning: Not solved to optimality, status: Unbounded\n",
      "└ @ JuMP /Users/vishalgupta/.julia/packages/JuMP/I7whV/src/solvers.jl:212\n"
     ]
    },
    {
     "name": "stdout",
     "output_type": "stream",
     "text": [
      "Academic license - for non-commercial use only\n",
      "Academic license - for non-commercial use only\n",
      "Academic license - for non-commercial use only\n",
      "Academic license - for non-commercial use only\n"
     ]
    },
    {
     "name": "stderr",
     "output_type": "stream",
     "text": [
      "┌ Warning: Not solved to optimality, status: Unbounded\n",
      "└ @ JuMP /Users/vishalgupta/.julia/packages/JuMP/I7whV/src/solvers.jl:212\n",
      "┌ Warning: Not solved to optimality, status: Unbounded\n",
      "└ @ JuMP /Users/vishalgupta/.julia/packages/JuMP/I7whV/src/solvers.jl:212\n",
      "┌ Warning: Not solved to optimality, status: Unbounded\n",
      "└ @ JuMP /Users/vishalgupta/.julia/packages/JuMP/I7whV/src/solvers.jl:212\n",
      "┌ Warning: Not solved to optimality, status: Unbounded\n",
      "└ @ JuMP /Users/vishalgupta/.julia/packages/JuMP/I7whV/src/solvers.jl:212\n"
     ]
    },
    {
     "name": "stdout",
     "output_type": "stream",
     "text": [
      "Academic license - for non-commercial use only\n",
      "Academic license - for non-commercial use only\n"
     ]
    },
    {
     "name": "stderr",
     "output_type": "stream",
     "text": [
      "┌ Warning: Not solved to optimality, status: Unbounded\n",
      "└ @ JuMP /Users/vishalgupta/.julia/packages/JuMP/I7whV/src/solvers.jl:212\n",
      "┌ Warning: Not solved to optimality, status: Unbounded\n",
      "└ @ JuMP /Users/vishalgupta/.julia/packages/JuMP/I7whV/src/solvers.jl:212\n"
     ]
    },
    {
     "name": "stdout",
     "output_type": "stream",
     "text": [
      "Academic license - for non-commercial use only\n",
      "Academic license - for non-commercial use only\n",
      "Academic license - for non-commercial use only\n",
      "Academic license - for non-commercial use only\n"
     ]
    },
    {
     "name": "stderr",
     "output_type": "stream",
     "text": [
      "┌ Warning: Not solved to optimality, status: Unbounded\n",
      "└ @ JuMP /Users/vishalgupta/.julia/packages/JuMP/I7whV/src/solvers.jl:212\n",
      "┌ Warning: Not solved to optimality, status: Unbounded\n",
      "└ @ JuMP /Users/vishalgupta/.julia/packages/JuMP/I7whV/src/solvers.jl:212\n",
      "┌ Warning: Not solved to optimality, status: Unbounded\n",
      "└ @ JuMP /Users/vishalgupta/.julia/packages/JuMP/I7whV/src/solvers.jl:212\n",
      "┌ Warning: Not solved to optimality, status: Unbounded\n",
      "└ @ JuMP /Users/vishalgupta/.julia/packages/JuMP/I7whV/src/solvers.jl:212\n"
     ]
    },
    {
     "name": "stdout",
     "output_type": "stream",
     "text": [
      "Academic license - for non-commercial use only\n",
      "Academic license - for non-commercial use only\n"
     ]
    },
    {
     "name": "stderr",
     "output_type": "stream",
     "text": [
      "┌ Warning: Not solved to optimality, status: Unbounded\n",
      "└ @ JuMP /Users/vishalgupta/.julia/packages/JuMP/I7whV/src/solvers.jl:212\n",
      "┌ Warning: Not solved to optimality, status: Unbounded\n",
      "└ @ JuMP /Users/vishalgupta/.julia/packages/JuMP/I7whV/src/solvers.jl:212\n"
     ]
    },
    {
     "name": "stdout",
     "output_type": "stream",
     "text": [
      "Academic license - for non-commercial use only\n",
      "Academic license - for non-commercial use only\n",
      "Academic license - for non-commercial use only\n",
      "Academic license - for non-commercial use only\n"
     ]
    },
    {
     "name": "stderr",
     "output_type": "stream",
     "text": [
      "┌ Warning: Not solved to optimality, status: Unbounded\n",
      "└ @ JuMP /Users/vishalgupta/.julia/packages/JuMP/I7whV/src/solvers.jl:212\n",
      "┌ Warning: Not solved to optimality, status: Unbounded\n",
      "└ @ JuMP /Users/vishalgupta/.julia/packages/JuMP/I7whV/src/solvers.jl:212\n",
      "┌ Warning: Not solved to optimality, status: Unbounded\n",
      "└ @ JuMP /Users/vishalgupta/.julia/packages/JuMP/I7whV/src/solvers.jl:212\n",
      "┌ Warning: Not solved to optimality, status: Unbounded\n",
      "└ @ JuMP /Users/vishalgupta/.julia/packages/JuMP/I7whV/src/solvers.jl:212\n"
     ]
    },
    {
     "name": "stdout",
     "output_type": "stream",
     "text": [
      "Academic license - for non-commercial use only\n",
      "Academic license - for non-commercial use only\n",
      "Academic license - for non-commercial use only\n",
      "Academic license - for non-commercial use only\n"
     ]
    },
    {
     "name": "stderr",
     "output_type": "stream",
     "text": [
      "┌ Warning: Not solved to optimality, status: Unbounded\n",
      "└ @ JuMP /Users/vishalgupta/.julia/packages/JuMP/I7whV/src/solvers.jl:212\n",
      "┌ Warning: Not solved to optimality, status: Unbounded\n",
      "└ @ JuMP /Users/vishalgupta/.julia/packages/JuMP/I7whV/src/solvers.jl:212\n",
      "┌ Warning: Not solved to optimality, status: Unbounded\n",
      "└ @ JuMP /Users/vishalgupta/.julia/packages/JuMP/I7whV/src/solvers.jl:212\n",
      "┌ Warning: Not solved to optimality, status: Unbounded\n",
      "└ @ JuMP /Users/vishalgupta/.julia/packages/JuMP/I7whV/src/solvers.jl:212\n"
     ]
    },
    {
     "name": "stdout",
     "output_type": "stream",
     "text": [
      "Academic license - for non-commercial use only\n",
      "Academic license - for non-commercial use only\n"
     ]
    },
    {
     "name": "stderr",
     "output_type": "stream",
     "text": [
      "┌ Warning: Not solved to optimality, status: Unbounded\n",
      "└ @ JuMP /Users/vishalgupta/.julia/packages/JuMP/I7whV/src/solvers.jl:212\n",
      "┌ Warning: Not solved to optimality, status: Unbounded\n",
      "└ @ JuMP /Users/vishalgupta/.julia/packages/JuMP/I7whV/src/solvers.jl:212\n"
     ]
    },
    {
     "name": "stdout",
     "output_type": "stream",
     "text": [
      "Academic license - for non-commercial use only\n",
      "Academic license - for non-commercial use only\n",
      "Academic license - for non-commercial use only\n",
      "Academic license - for non-commercial use only\n"
     ]
    },
    {
     "name": "stderr",
     "output_type": "stream",
     "text": [
      "┌ Warning: Not solved to optimality, status: Unbounded\n",
      "└ @ JuMP /Users/vishalgupta/.julia/packages/JuMP/I7whV/src/solvers.jl:212\n",
      "┌ Warning: Not solved to optimality, status: Unbounded\n",
      "└ @ JuMP /Users/vishalgupta/.julia/packages/JuMP/I7whV/src/solvers.jl:212\n",
      "┌ Warning: Not solved to optimality, status: Unbounded\n",
      "└ @ JuMP /Users/vishalgupta/.julia/packages/JuMP/I7whV/src/solvers.jl:212\n",
      "┌ Warning: Not solved to optimality, status: Unbounded\n",
      "└ @ JuMP /Users/vishalgupta/.julia/packages/JuMP/I7whV/src/solvers.jl:212\n"
     ]
    },
    {
     "name": "stdout",
     "output_type": "stream",
     "text": [
      "Academic license - for non-commercial use only\n",
      "Academic license - for non-commercial use only\n"
     ]
    },
    {
     "name": "stderr",
     "output_type": "stream",
     "text": [
      "┌ Warning: Not solved to optimality, status: Unbounded\n",
      "└ @ JuMP /Users/vishalgupta/.julia/packages/JuMP/I7whV/src/solvers.jl:212\n",
      "┌ Warning: Not solved to optimality, status: Unbounded\n",
      "└ @ JuMP /Users/vishalgupta/.julia/packages/JuMP/I7whV/src/solvers.jl:212\n"
     ]
    },
    {
     "name": "stdout",
     "output_type": "stream",
     "text": [
      "Academic license - for non-commercial use only\n",
      "Academic license - for non-commercial use only\n",
      "Academic license - for non-commercial use only\n",
      "Academic license - for non-commercial use only\n"
     ]
    },
    {
     "name": "stderr",
     "output_type": "stream",
     "text": [
      "┌ Warning: Not solved to optimality, status: Unbounded\n",
      "└ @ JuMP /Users/vishalgupta/.julia/packages/JuMP/I7whV/src/solvers.jl:212\n",
      "┌ Warning: Not solved to optimality, status: Unbounded\n",
      "└ @ JuMP /Users/vishalgupta/.julia/packages/JuMP/I7whV/src/solvers.jl:212\n",
      "┌ Warning: Not solved to optimality, status: Unbounded\n",
      "└ @ JuMP /Users/vishalgupta/.julia/packages/JuMP/I7whV/src/solvers.jl:212\n",
      "┌ Warning: Not solved to optimality, status: Unbounded\n",
      "└ @ JuMP /Users/vishalgupta/.julia/packages/JuMP/I7whV/src/solvers.jl:212\n"
     ]
    },
    {
     "name": "stdout",
     "output_type": "stream",
     "text": [
      "Academic license - for non-commercial use only\n",
      "Academic license - for non-commercial use only\n",
      "Academic license - for non-commercial use only\n",
      "Academic license - for non-commercial use only\n"
     ]
    },
    {
     "name": "stderr",
     "output_type": "stream",
     "text": [
      "┌ Warning: Not solved to optimality, status: Unbounded\n",
      "└ @ JuMP /Users/vishalgupta/.julia/packages/JuMP/I7whV/src/solvers.jl:212\n",
      "┌ Warning: Not solved to optimality, status: Unbounded\n",
      "└ @ JuMP /Users/vishalgupta/.julia/packages/JuMP/I7whV/src/solvers.jl:212\n",
      "┌ Warning: Not solved to optimality, status: Unbounded\n",
      "└ @ JuMP /Users/vishalgupta/.julia/packages/JuMP/I7whV/src/solvers.jl:212\n",
      "┌ Warning: Not solved to optimality, status: Unbounded\n",
      "└ @ JuMP /Users/vishalgupta/.julia/packages/JuMP/I7whV/src/solvers.jl:212\n"
     ]
    },
    {
     "name": "stdout",
     "output_type": "stream",
     "text": [
      "Academic license - for non-commercial use only\n",
      "Academic license - for non-commercial use only\n"
     ]
    },
    {
     "name": "stderr",
     "output_type": "stream",
     "text": [
      "┌ Warning: Not solved to optimality, status: Unbounded\n",
      "└ @ JuMP /Users/vishalgupta/.julia/packages/JuMP/I7whV/src/solvers.jl:212\n",
      "┌ Warning: Not solved to optimality, status: Unbounded\n",
      "└ @ JuMP /Users/vishalgupta/.julia/packages/JuMP/I7whV/src/solvers.jl:212\n"
     ]
    },
    {
     "name": "stdout",
     "output_type": "stream",
     "text": [
      "Academic license - for non-commercial use only\n",
      "Academic license - for non-commercial use only\n",
      "Academic license - for non-commercial use only\n",
      "Academic license - for non-commercial use only\n"
     ]
    },
    {
     "name": "stderr",
     "output_type": "stream",
     "text": [
      "┌ Warning: Not solved to optimality, status: Unbounded\n",
      "└ @ JuMP /Users/vishalgupta/.julia/packages/JuMP/I7whV/src/solvers.jl:212\n",
      "┌ Warning: Not solved to optimality, status: Unbounded\n",
      "└ @ JuMP /Users/vishalgupta/.julia/packages/JuMP/I7whV/src/solvers.jl:212\n",
      "┌ Warning: Not solved to optimality, status: Unbounded\n",
      "└ @ JuMP /Users/vishalgupta/.julia/packages/JuMP/I7whV/src/solvers.jl:212\n",
      "┌ Warning: Not solved to optimality, status: Unbounded\n",
      "└ @ JuMP /Users/vishalgupta/.julia/packages/JuMP/I7whV/src/solvers.jl:212\n"
     ]
    },
    {
     "name": "stdout",
     "output_type": "stream",
     "text": [
      "Academic license - for non-commercial use only\n",
      "Academic license - for non-commercial use only\n",
      "Academic license - for non-commercial use only\n",
      "Academic license - for non-commercial use only\n"
     ]
    },
    {
     "name": "stderr",
     "output_type": "stream",
     "text": [
      "┌ Warning: Not solved to optimality, status: Unbounded\n",
      "└ @ JuMP /Users/vishalgupta/.julia/packages/JuMP/I7whV/src/solvers.jl:212\n",
      "┌ Warning: Not solved to optimality, status: Unbounded\n",
      "└ @ JuMP /Users/vishalgupta/.julia/packages/JuMP/I7whV/src/solvers.jl:212\n",
      "┌ Warning: Not solved to optimality, status: Unbounded\n",
      "└ @ JuMP /Users/vishalgupta/.julia/packages/JuMP/I7whV/src/solvers.jl:212\n",
      "┌ Warning: Not solved to optimality, status: Unbounded\n",
      "└ @ JuMP /Users/vishalgupta/.julia/packages/JuMP/I7whV/src/solvers.jl:212\n"
     ]
    },
    {
     "name": "stdout",
     "output_type": "stream",
     "text": [
      "Academic license - for non-commercial use only\n",
      "Academic license - for non-commercial use only\n"
     ]
    },
    {
     "name": "stderr",
     "output_type": "stream",
     "text": [
      "┌ Warning: Not solved to optimality, status: Unbounded\n",
      "└ @ JuMP /Users/vishalgupta/.julia/packages/JuMP/I7whV/src/solvers.jl:212\n",
      "┌ Warning: Not solved to optimality, status: Unbounded\n",
      "└ @ JuMP /Users/vishalgupta/.julia/packages/JuMP/I7whV/src/solvers.jl:212\n"
     ]
    },
    {
     "name": "stdout",
     "output_type": "stream",
     "text": [
      "Academic license - for non-commercial use only\n",
      "Academic license - for non-commercial use only\n",
      "Academic license - for non-commercial use only\n",
      "Academic license - for non-commercial use only\n"
     ]
    },
    {
     "name": "stderr",
     "output_type": "stream",
     "text": [
      "┌ Warning: Not solved to optimality, status: Unbounded\n",
      "└ @ JuMP /Users/vishalgupta/.julia/packages/JuMP/I7whV/src/solvers.jl:212\n",
      "┌ Warning: Not solved to optimality, status: Unbounded\n",
      "└ @ JuMP /Users/vishalgupta/.julia/packages/JuMP/I7whV/src/solvers.jl:212\n",
      "┌ Warning: Not solved to optimality, status: Unbounded\n",
      "└ @ JuMP /Users/vishalgupta/.julia/packages/JuMP/I7whV/src/solvers.jl:212\n",
      "┌ Warning: Not solved to optimality, status: Unbounded\n",
      "└ @ JuMP /Users/vishalgupta/.julia/packages/JuMP/I7whV/src/solvers.jl:212\n"
     ]
    },
    {
     "name": "stdout",
     "output_type": "stream",
     "text": [
      "Academic license - for non-commercial use only\n",
      "Academic license - for non-commercial use only\n",
      "Academic license - for non-commercial use only\n",
      "Academic license - for non-commercial use only\n"
     ]
    },
    {
     "name": "stderr",
     "output_type": "stream",
     "text": [
      "┌ Warning: Not solved to optimality, status: Unbounded\n",
      "└ @ JuMP /Users/vishalgupta/.julia/packages/JuMP/I7whV/src/solvers.jl:212\n",
      "┌ Warning: Not solved to optimality, status: Unbounded\n",
      "└ @ JuMP /Users/vishalgupta/.julia/packages/JuMP/I7whV/src/solvers.jl:212\n",
      "┌ Warning: Not solved to optimality, status: Unbounded\n",
      "└ @ JuMP /Users/vishalgupta/.julia/packages/JuMP/I7whV/src/solvers.jl:212\n",
      "┌ Warning: Not solved to optimality, status: Unbounded\n",
      "└ @ JuMP /Users/vishalgupta/.julia/packages/JuMP/I7whV/src/solvers.jl:212\n"
     ]
    },
    {
     "name": "stdout",
     "output_type": "stream",
     "text": [
      "Academic license - for non-commercial use only\n",
      "Academic license - for non-commercial use only\n"
     ]
    },
    {
     "name": "stderr",
     "output_type": "stream",
     "text": [
      "┌ Warning: Not solved to optimality, status: Unbounded\n",
      "└ @ JuMP /Users/vishalgupta/.julia/packages/JuMP/I7whV/src/solvers.jl:212\n",
      "┌ Warning: Not solved to optimality, status: Unbounded\n",
      "└ @ JuMP /Users/vishalgupta/.julia/packages/JuMP/I7whV/src/solvers.jl:212\n"
     ]
    },
    {
     "name": "stdout",
     "output_type": "stream",
     "text": [
      "Academic license - for non-commercial use only\n",
      "Academic license - for non-commercial use only\n",
      "Academic license - for non-commercial use only\n",
      "Academic license - for non-commercial use only\n",
      "Academic license - for non-commercial use only\n",
      "Academic license - for non-commercial use only\n",
      "Academic license - for non-commercial use only\n",
      "Academic license - for non-commercial use only\n",
      "Academic license - for non-commercial use only\n",
      "Academic license - for non-commercial use only\n",
      "Academic license - for non-commercial use only\n",
      "Academic license - for non-commercial use only\n",
      "Academic license - for non-commercial use only\n",
      "Academic license - for non-commercial use only\n",
      "Academic license - for non-commercial use only\n",
      "Academic license - for non-commercial use only\n",
      "Academic license - for non-commercial use only\n",
      "Academic license - for non-commercial use only\n",
      "Academic license - for non-commercial use only\n",
      "Academic license - for non-commercial use only\n",
      "Academic license - for non-commercial use only\n",
      "Academic license - for non-commercial use only\n",
      "Academic license - for non-commercial use only\n",
      "Academic license - for non-commercial use only\n",
      "Academic license - for non-commercial use only\n",
      "Academic license - for non-commercial use only\n",
      "Academic license - for non-commercial use only\n",
      "Academic license - for non-commercial use only\n",
      "Academic license - for non-commercial use only\n",
      "Academic license - for non-commercial use only\n",
      "Academic license - for non-commercial use only\n",
      "Academic license - for non-commercial use only\n",
      "Academic license - for non-commercial use only\n",
      "Academic license - for non-commercial use only\n",
      "Academic license - for non-commercial use only\n",
      "Academic license - for non-commercial use only\n",
      "Academic license - for non-commercial use only\n",
      "Academic license - for non-commercial use only\n",
      "Academic license - for non-commercial use only\n",
      "Academic license - for non-commercial use only\n",
      "Academic license - for non-commercial use only\n",
      "Academic license - for non-commercial use only\n",
      "Academic license - for non-commercial use only\n",
      "Academic license - for non-commercial use only\n",
      "Academic license - for non-commercial use only\n",
      "Academic license - for non-commercial use only\n",
      "Academic license - for non-commercial use only\n",
      "Academic license - for non-commercial use only\n",
      "Academic license - for non-commercial use only\n",
      "Academic license - for non-commercial use only\n",
      "Academic license - for non-commercial use only\n",
      "Academic license - for non-commercial use only\n",
      "Academic license - for non-commercial use only\n",
      "Academic license - for non-commercial use only\n",
      "Academic license - for non-commercial use only\n",
      "Academic license - for non-commercial use only\n",
      "Academic license - for non-commercial use only\n",
      "Academic license - for non-commercial use only\n",
      "Academic license - for non-commercial use only\n",
      "Academic license - for non-commercial use only\n",
      "Academic license - for non-commercial use only\n",
      "Academic license - for non-commercial use only\n",
      "Academic license - for non-commercial use only\n",
      "Academic license - for non-commercial use only\n",
      "Academic license - for non-commercial use only\n",
      "Academic license - for non-commercial use only\n",
      "Academic license - for non-commercial use only\n",
      "Academic license - for non-commercial use only\n",
      "Academic license - for non-commercial use only\n",
      "Academic license - for non-commercial use only\n",
      "Academic license - for non-commercial use only\n",
      "Academic license - for non-commercial use only\n",
      "Academic license - for non-commercial use only\n",
      "Academic license - for non-commercial use only\n",
      "Academic license - for non-commercial use only\n",
      "Academic license - for non-commercial use only\n",
      "Academic license - for non-commercial use only\n",
      "Academic license - for non-commercial use only\n",
      "Academic license - for non-commercial use only\n",
      "Academic license - for non-commercial use only\n",
      "Academic license - for non-commercial use only\n",
      "Academic license - for non-commercial use only\n",
      "Academic license - for non-commercial use only\n",
      "Academic license - for non-commercial use only\n",
      "Academic license - for non-commercial use only\n",
      "Academic license - for non-commercial use only\n",
      "Academic license - for non-commercial use only\n",
      "Academic license - for non-commercial use only\n",
      "Academic license - for non-commercial use only\n",
      "Academic license - for non-commercial use only\n",
      "Academic license - for non-commercial use only\n",
      "Academic license - for non-commercial use only\n",
      "Academic license - for non-commercial use only\n",
      "Academic license - for non-commercial use only\n",
      "Academic license - for non-commercial use only\n",
      "Academic license - for non-commercial use only\n",
      "Academic license - for non-commercial use only\n",
      "Academic license - for non-commercial use only\n",
      "Academic license - for non-commercial use only\n",
      "Academic license - for non-commercial use only\n",
      "Academic license - for non-commercial use only\n",
      "Academic license - for non-commercial use only\n",
      "Academic license - for non-commercial use only\n",
      "Academic license - for non-commercial use only\n",
      "Academic license - for non-commercial use only\n",
      "Academic license - for non-commercial use only\n",
      "Academic license - for non-commercial use only\n",
      "Academic license - for non-commercial use only\n",
      "Academic license - for non-commercial use only\n",
      "Academic license - for non-commercial use only\n",
      "Academic license - for non-commercial use only\n",
      "Academic license - for non-commercial use only\n",
      "Academic license - for non-commercial use only\n",
      "Academic license - for non-commercial use only\n",
      "Academic license - for non-commercial use only\n",
      "Academic license - for non-commercial use only\n",
      "Academic license - for non-commercial use only\n",
      "Academic license - for non-commercial use only\n",
      "Academic license - for non-commercial use only\n",
      "Academic license - for non-commercial use only\n",
      "Academic license - for non-commercial use only\n",
      "Academic license - for non-commercial use only\n",
      "Academic license - for non-commercial use only\n",
      "Academic license - for non-commercial use only\n",
      "Academic license - for non-commercial use only\n",
      "Academic license - for non-commercial use only\n",
      "Academic license - for non-commercial use only\n",
      "Academic license - for non-commercial use only\n",
      "Academic license - for non-commercial use only\n",
      "Academic license - for non-commercial use only\n",
      "Academic license - for non-commercial use only\n",
      "Academic license - for non-commercial use only\n",
      "Academic license - for non-commercial use only\n",
      "Academic license - for non-commercial use only\n",
      "Academic license - for non-commercial use only\n",
      "Academic license - for non-commercial use only\n",
      "Academic license - for non-commercial use only\n",
      "Academic license - for non-commercial use only\n",
      "Academic license - for non-commercial use only\n",
      "Academic license - for non-commercial use only\n",
      "Academic license - for non-commercial use only\n",
      "Academic license - for non-commercial use only\n",
      "Academic license - for non-commercial use only\n",
      "Academic license - for non-commercial use only\n",
      "Academic license - for non-commercial use only\n",
      "Academic license - for non-commercial use only\n",
      "Academic license - for non-commercial use only\n",
      "Academic license - for non-commercial use only\n",
      "Academic license - for non-commercial use only\n",
      "Academic license - for non-commercial use only\n",
      "Academic license - for non-commercial use only\n",
      "Academic license - for non-commercial use only\n",
      "Academic license - for non-commercial use only\n",
      "Academic license - for non-commercial use only\n",
      "Academic license - for non-commercial use only\n",
      "Academic license - for non-commercial use only\n",
      "Academic license - for non-commercial use only\n",
      "Academic license - for non-commercial use only\n",
      "Academic license - for non-commercial use only\n",
      "Academic license - for non-commercial use only\n",
      "Academic license - for non-commercial use only\n",
      "Academic license - for non-commercial use only\n",
      "Academic license - for non-commercial use only\n",
      "Academic license - for non-commercial use only\n",
      "Academic license - for non-commercial use only\n",
      "Academic license - for non-commercial use only\n",
      "Academic license - for non-commercial use only\n",
      "Academic license - for non-commercial use only\n",
      "Academic license - for non-commercial use only\n",
      "Academic license - for non-commercial use only\n",
      "Academic license - for non-commercial use only\n",
      "Academic license - for non-commercial use only\n",
      "Academic license - for non-commercial use only\n",
      "Academic license - for non-commercial use only\n",
      "Academic license - for non-commercial use only\n",
      "Academic license - for non-commercial use only\n",
      "Academic license - for non-commercial use only\n",
      "Academic license - for non-commercial use only\n",
      "Academic license - for non-commercial use only\n",
      "Academic license - for non-commercial use only\n",
      "Academic license - for non-commercial use only\n",
      "Academic license - for non-commercial use only\n",
      "Academic license - for non-commercial use only\n",
      "Academic license - for non-commercial use only\n",
      "Academic license - for non-commercial use only\n",
      "Academic license - for non-commercial use only\n",
      "Academic license - for non-commercial use only\n",
      "Academic license - for non-commercial use only\n",
      "Academic license - for non-commercial use only\n",
      "Academic license - for non-commercial use only\n",
      "Academic license - for non-commercial use only\n",
      "Academic license - for non-commercial use only\n",
      "Academic license - for non-commercial use only\n",
      "Academic license - for non-commercial use only\n",
      "Academic license - for non-commercial use only\n",
      "Academic license - for non-commercial use only\n",
      "Academic license - for non-commercial use only\n",
      "Academic license - for non-commercial use only\n",
      "Academic license - for non-commercial use only\n",
      "Academic license - for non-commercial use only\n",
      "Academic license - for non-commercial use only\n",
      "Academic license - for non-commercial use only\n",
      "Academic license - for non-commercial use only\n",
      "Academic license - for non-commercial use only\n",
      "Academic license - for non-commercial use only\n",
      "Academic license - for non-commercial use only\n",
      "Academic license - for non-commercial use only\n",
      "Academic license - for non-commercial use only\n",
      "Academic license - for non-commercial use only\n",
      "Academic license - for non-commercial use only\n",
      "Academic license - for non-commercial use only\n",
      "Academic license - for non-commercial use only\n",
      "Academic license - for non-commercial use only\n",
      "Academic license - for non-commercial use only\n",
      "Academic license - for non-commercial use only\n",
      "Academic license - for non-commercial use only\n",
      "Academic license - for non-commercial use only\n",
      "Academic license - for non-commercial use only\n",
      "Academic license - for non-commercial use only\n",
      "Academic license - for non-commercial use only\n",
      "Academic license - for non-commercial use only\n",
      "Academic license - for non-commercial use only\n",
      "Academic license - for non-commercial use only\n",
      "Academic license - for non-commercial use only\n",
      "Academic license - for non-commercial use only\n",
      "Academic license - for non-commercial use only\n",
      "Academic license - for non-commercial use only\n",
      "Academic license - for non-commercial use only\n",
      "Academic license - for non-commercial use only\n",
      "Academic license - for non-commercial use only\n",
      "Academic license - for non-commercial use only\n",
      "Academic license - for non-commercial use only\n",
      "Academic license - for non-commercial use only\n",
      "Academic license - for non-commercial use only\n",
      "Academic license - for non-commercial use only\n",
      "Academic license - for non-commercial use only\n",
      "Academic license - for non-commercial use only\n",
      "Academic license - for non-commercial use only\n",
      "Academic license - for non-commercial use only\n",
      "Academic license - for non-commercial use only\n",
      "Academic license - for non-commercial use only\n",
      "Academic license - for non-commercial use only\n",
      "Academic license - for non-commercial use only\n",
      "Academic license - for non-commercial use only\n",
      "Academic license - for non-commercial use only\n",
      "Academic license - for non-commercial use only\n",
      "Academic license - for non-commercial use only\n",
      "Academic license - for non-commercial use only\n",
      "Academic license - for non-commercial use only\n",
      "Academic license - for non-commercial use only\n",
      "Academic license - for non-commercial use only\n",
      "Academic license - for non-commercial use only\n",
      "Academic license - for non-commercial use only\n",
      "Academic license - for non-commercial use only\n",
      "Academic license - for non-commercial use only\n",
      "Academic license - for non-commercial use only\n",
      "Academic license - for non-commercial use only\n",
      "Academic license - for non-commercial use only\n",
      "Academic license - for non-commercial use only\n",
      "Academic license - for non-commercial use only\n",
      "Academic license - for non-commercial use only\n",
      "Academic license - for non-commercial use only\n",
      "Academic license - for non-commercial use only\n",
      "Academic license - for non-commercial use only\n",
      "Academic license - for non-commercial use only\n",
      "Academic license - for non-commercial use only\n",
      "Academic license - for non-commercial use only\n",
      "Academic license - for non-commercial use only\n",
      "Academic license - for non-commercial use only\n",
      "Academic license - for non-commercial use only\n",
      "Academic license - for non-commercial use only\n",
      "Academic license - for non-commercial use only\n",
      "Academic license - for non-commercial use only\n",
      "Academic license - for non-commercial use only\n",
      "Academic license - for non-commercial use only\n",
      "Academic license - for non-commercial use only\n",
      "Academic license - for non-commercial use only\n",
      "Academic license - for non-commercial use only\n",
      "Academic license - for non-commercial use only\n",
      "Academic license - for non-commercial use only\n",
      "Academic license - for non-commercial use only\n",
      "Academic license - for non-commercial use only\n",
      "Academic license - for non-commercial use only\n",
      "Academic license - for non-commercial use only\n",
      "Academic license - for non-commercial use only\n",
      "Academic license - for non-commercial use only\n",
      "Academic license - for non-commercial use only\n",
      "Academic license - for non-commercial use only\n",
      "Academic license - for non-commercial use only\n",
      "Academic license - for non-commercial use only\n",
      "Dev:\t"
     ]
    },
    {
     "name": "stderr",
     "output_type": "stream",
     "text": [
      "┌ Warning: Not solved to optimality, status: Unbounded\n",
      "└ @ JuMP /Users/vishalgupta/.julia/packages/JuMP/I7whV/src/solvers.jl:212\n",
      "┌ Warning: Not solved to optimality, status: Unbounded\n",
      "└ @ JuMP /Users/vishalgupta/.julia/packages/JuMP/I7whV/src/solvers.jl:212\n",
      "┌ Warning: Not solved to optimality, status: Unbounded\n",
      "└ @ JuMP /Users/vishalgupta/.julia/packages/JuMP/I7whV/src/solvers.jl:212\n"
     ]
    },
    {
     "name": "stdout",
     "output_type": "stream",
     "text": [
      "0.13157894736842105\n",
      "Academic license - for non-commercial use only\n"
     ]
    },
    {
     "name": "stderr",
     "output_type": "stream",
     "text": [
      "┌ Warning: Not solved to optimality, status: Unbounded\n",
      "└ @ JuMP /Users/vishalgupta/.julia/packages/JuMP/I7whV/src/solvers.jl:212\n",
      "┌ Warning: Not solved to optimality, status: Unbounded\n",
      "└ @ JuMP /Users/vishalgupta/.julia/packages/JuMP/I7whV/src/solvers.jl:212\n"
     ]
    },
    {
     "name": "stdout",
     "output_type": "stream",
     "text": [
      "Academic license - for non-commercial use only\n",
      "Academic license - for non-commercial use only\n"
     ]
    },
    {
     "name": "stderr",
     "output_type": "stream",
     "text": [
      "┌ Warning: Not solved to optimality, status: Unbounded\n",
      "└ @ JuMP /Users/vishalgupta/.julia/packages/JuMP/I7whV/src/solvers.jl:212\n",
      "┌ Warning: Not solved to optimality, status: Unbounded\n",
      "└ @ JuMP /Users/vishalgupta/.julia/packages/JuMP/I7whV/src/solvers.jl:212\n"
     ]
    },
    {
     "name": "stdout",
     "output_type": "stream",
     "text": [
      "Academic license - for non-commercial use only\n",
      "Academic license - for non-commercial use only\n",
      "Academic license - for non-commercial use only\n",
      "Academic license - for non-commercial use only\n"
     ]
    },
    {
     "name": "stderr",
     "output_type": "stream",
     "text": [
      "┌ Warning: Not solved to optimality, status: Unbounded\n",
      "└ @ JuMP /Users/vishalgupta/.julia/packages/JuMP/I7whV/src/solvers.jl:212\n",
      "┌ Warning: Not solved to optimality, status: Unbounded\n",
      "└ @ JuMP /Users/vishalgupta/.julia/packages/JuMP/I7whV/src/solvers.jl:212\n",
      "┌ Warning: Not solved to optimality, status: Unbounded\n",
      "└ @ JuMP /Users/vishalgupta/.julia/packages/JuMP/I7whV/src/solvers.jl:212\n",
      "┌ Warning: Not solved to optimality, status: Unbounded\n",
      "└ @ JuMP /Users/vishalgupta/.julia/packages/JuMP/I7whV/src/solvers.jl:212\n"
     ]
    },
    {
     "name": "stdout",
     "output_type": "stream",
     "text": [
      "Academic license - for non-commercial use only\n",
      "Academic license - for non-commercial use only\n",
      "Academic license - for non-commercial use only\n",
      "Academic license - for non-commercial use only\n"
     ]
    },
    {
     "name": "stderr",
     "output_type": "stream",
     "text": [
      "┌ Warning: Not solved to optimality, status: Unbounded\n",
      "└ @ JuMP /Users/vishalgupta/.julia/packages/JuMP/I7whV/src/solvers.jl:212\n",
      "┌ Warning: Not solved to optimality, status: Unbounded\n",
      "└ @ JuMP /Users/vishalgupta/.julia/packages/JuMP/I7whV/src/solvers.jl:212\n",
      "┌ Warning: Not solved to optimality, status: Unbounded\n",
      "└ @ JuMP /Users/vishalgupta/.julia/packages/JuMP/I7whV/src/solvers.jl:212\n",
      "┌ Warning: Not solved to optimality, status: Unbounded\n",
      "└ @ JuMP /Users/vishalgupta/.julia/packages/JuMP/I7whV/src/solvers.jl:212\n"
     ]
    },
    {
     "name": "stdout",
     "output_type": "stream",
     "text": [
      "Academic license - for non-commercial use only\n",
      "Academic license - for non-commercial use only\n",
      "Academic license - for non-commercial use only\n",
      "Academic license - for non-commercial use only\n"
     ]
    },
    {
     "name": "stderr",
     "output_type": "stream",
     "text": [
      "┌ Warning: Not solved to optimality, status: Unbounded\n",
      "└ @ JuMP /Users/vishalgupta/.julia/packages/JuMP/I7whV/src/solvers.jl:212\n",
      "┌ Warning: Not solved to optimality, status: Unbounded\n",
      "└ @ JuMP /Users/vishalgupta/.julia/packages/JuMP/I7whV/src/solvers.jl:212\n"
     ]
    },
    {
     "name": "stdout",
     "output_type": "stream",
     "text": [
      "Academic license - for non-commercial use only\n",
      "Academic license - for non-commercial use only\n"
     ]
    },
    {
     "name": "stderr",
     "output_type": "stream",
     "text": [
      "┌ Warning: Not solved to optimality, status: Unbounded\n",
      "└ @ JuMP /Users/vishalgupta/.julia/packages/JuMP/I7whV/src/solvers.jl:212\n",
      "┌ Warning: Not solved to optimality, status: Unbounded\n",
      "└ @ JuMP /Users/vishalgupta/.julia/packages/JuMP/I7whV/src/solvers.jl:212\n",
      "┌ Warning: Not solved to optimality, status: Unbounded\n",
      "└ @ JuMP /Users/vishalgupta/.julia/packages/JuMP/I7whV/src/solvers.jl:212\n",
      "┌ Warning: Not solved to optimality, status: Unbounded\n",
      "└ @ JuMP /Users/vishalgupta/.julia/packages/JuMP/I7whV/src/solvers.jl:212\n"
     ]
    },
    {
     "name": "stdout",
     "output_type": "stream",
     "text": [
      "Academic license - for non-commercial use only\n",
      "Academic license - for non-commercial use only\n",
      "Academic license - for non-commercial use only\n",
      "Academic license - for non-commercial use only\n"
     ]
    },
    {
     "name": "stderr",
     "output_type": "stream",
     "text": [
      "┌ Warning: Not solved to optimality, status: Unbounded\n",
      "└ @ JuMP /Users/vishalgupta/.julia/packages/JuMP/I7whV/src/solvers.jl:212\n",
      "┌ Warning: Not solved to optimality, status: Unbounded\n",
      "└ @ JuMP /Users/vishalgupta/.julia/packages/JuMP/I7whV/src/solvers.jl:212\n"
     ]
    },
    {
     "name": "stdout",
     "output_type": "stream",
     "text": [
      "Academic license - for non-commercial use only\n",
      "Academic license - for non-commercial use only\n"
     ]
    },
    {
     "name": "stderr",
     "output_type": "stream",
     "text": [
      "┌ Warning: Not solved to optimality, status: Unbounded\n",
      "└ @ JuMP /Users/vishalgupta/.julia/packages/JuMP/I7whV/src/solvers.jl:212\n",
      "┌ Warning: Not solved to optimality, status: Unbounded\n",
      "└ @ JuMP /Users/vishalgupta/.julia/packages/JuMP/I7whV/src/solvers.jl:212\n",
      "┌ Warning: Not solved to optimality, status: Unbounded\n",
      "└ @ JuMP /Users/vishalgupta/.julia/packages/JuMP/I7whV/src/solvers.jl:212\n",
      "┌ Warning: Not solved to optimality, status: Unbounded\n",
      "└ @ JuMP /Users/vishalgupta/.julia/packages/JuMP/I7whV/src/solvers.jl:212\n"
     ]
    },
    {
     "name": "stdout",
     "output_type": "stream",
     "text": [
      "Academic license - for non-commercial use only\n",
      "Academic license - for non-commercial use only\n",
      "Academic license - for non-commercial use only\n",
      "Academic license - for non-commercial use only\n"
     ]
    },
    {
     "name": "stderr",
     "output_type": "stream",
     "text": [
      "┌ Warning: Not solved to optimality, status: Unbounded\n",
      "└ @ JuMP /Users/vishalgupta/.julia/packages/JuMP/I7whV/src/solvers.jl:212\n",
      "┌ Warning: Not solved to optimality, status: Unbounded\n",
      "└ @ JuMP /Users/vishalgupta/.julia/packages/JuMP/I7whV/src/solvers.jl:212\n"
     ]
    },
    {
     "name": "stdout",
     "output_type": "stream",
     "text": [
      "Academic license - for non-commercial use only\n",
      "Academic license - for non-commercial use only\n"
     ]
    },
    {
     "name": "stderr",
     "output_type": "stream",
     "text": [
      "┌ Warning: Not solved to optimality, status: Unbounded\n",
      "└ @ JuMP /Users/vishalgupta/.julia/packages/JuMP/I7whV/src/solvers.jl:212\n",
      "┌ Warning: Not solved to optimality, status: Unbounded\n",
      "└ @ JuMP /Users/vishalgupta/.julia/packages/JuMP/I7whV/src/solvers.jl:212\n",
      "┌ Warning: Not solved to optimality, status: Unbounded\n",
      "└ @ JuMP /Users/vishalgupta/.julia/packages/JuMP/I7whV/src/solvers.jl:212\n",
      "┌ Warning: Not solved to optimality, status: Unbounded\n",
      "└ @ JuMP /Users/vishalgupta/.julia/packages/JuMP/I7whV/src/solvers.jl:212\n"
     ]
    },
    {
     "name": "stdout",
     "output_type": "stream",
     "text": [
      "Academic license - for non-commercial use only\n",
      "Academic license - for non-commercial use only\n",
      "Academic license - for non-commercial use only\n",
      "Academic license - for non-commercial use only\n"
     ]
    },
    {
     "name": "stderr",
     "output_type": "stream",
     "text": [
      "┌ Warning: Not solved to optimality, status: Unbounded\n",
      "└ @ JuMP /Users/vishalgupta/.julia/packages/JuMP/I7whV/src/solvers.jl:212\n",
      "┌ Warning: Not solved to optimality, status: Unbounded\n",
      "└ @ JuMP /Users/vishalgupta/.julia/packages/JuMP/I7whV/src/solvers.jl:212\n"
     ]
    },
    {
     "name": "stdout",
     "output_type": "stream",
     "text": [
      "Academic license - for non-commercial use only\n",
      "Academic license - for non-commercial use only\n"
     ]
    },
    {
     "name": "stderr",
     "output_type": "stream",
     "text": [
      "┌ Warning: Not solved to optimality, status: Unbounded\n",
      "└ @ JuMP /Users/vishalgupta/.julia/packages/JuMP/I7whV/src/solvers.jl:212\n",
      "┌ Warning: Not solved to optimality, status: Unbounded\n",
      "└ @ JuMP /Users/vishalgupta/.julia/packages/JuMP/I7whV/src/solvers.jl:212\n",
      "┌ Warning: Not solved to optimality, status: Unbounded\n",
      "└ @ JuMP /Users/vishalgupta/.julia/packages/JuMP/I7whV/src/solvers.jl:212\n",
      "┌ Warning: Not solved to optimality, status: Unbounded\n",
      "└ @ JuMP /Users/vishalgupta/.julia/packages/JuMP/I7whV/src/solvers.jl:212\n"
     ]
    },
    {
     "name": "stdout",
     "output_type": "stream",
     "text": [
      "Academic license - for non-commercial use only\n",
      "Academic license - for non-commercial use only\n",
      "Academic license - for non-commercial use only\n",
      "Academic license - for non-commercial use only\n"
     ]
    },
    {
     "name": "stderr",
     "output_type": "stream",
     "text": [
      "┌ Warning: Not solved to optimality, status: Unbounded\n",
      "└ @ JuMP /Users/vishalgupta/.julia/packages/JuMP/I7whV/src/solvers.jl:212\n",
      "┌ Warning: Not solved to optimality, status: Unbounded\n",
      "└ @ JuMP /Users/vishalgupta/.julia/packages/JuMP/I7whV/src/solvers.jl:212\n",
      "┌ Warning: Not solved to optimality, status: Unbounded\n",
      "└ @ JuMP /Users/vishalgupta/.julia/packages/JuMP/I7whV/src/solvers.jl:212\n",
      "┌ Warning: Not solved to optimality, status: Unbounded\n",
      "└ @ JuMP /Users/vishalgupta/.julia/packages/JuMP/I7whV/src/solvers.jl:212\n"
     ]
    },
    {
     "name": "stdout",
     "output_type": "stream",
     "text": [
      "Academic license - for non-commercial use only\n",
      "Academic license - for non-commercial use only\n",
      "Academic license - for non-commercial use only\n",
      "Academic license - for non-commercial use only\n"
     ]
    },
    {
     "name": "stderr",
     "output_type": "stream",
     "text": [
      "┌ Warning: Not solved to optimality, status: Unbounded\n",
      "└ @ JuMP /Users/vishalgupta/.julia/packages/JuMP/I7whV/src/solvers.jl:212\n",
      "┌ Warning: Not solved to optimality, status: Unbounded\n",
      "└ @ JuMP /Users/vishalgupta/.julia/packages/JuMP/I7whV/src/solvers.jl:212\n",
      "┌ Warning: Not solved to optimality, status: Unbounded\n",
      "└ @ JuMP /Users/vishalgupta/.julia/packages/JuMP/I7whV/src/solvers.jl:212\n",
      "┌ Warning: Not solved to optimality, status: Unbounded\n",
      "└ @ JuMP /Users/vishalgupta/.julia/packages/JuMP/I7whV/src/solvers.jl:212\n"
     ]
    },
    {
     "name": "stdout",
     "output_type": "stream",
     "text": [
      "Academic license - for non-commercial use only\n",
      "Academic license - for non-commercial use only\n",
      "Academic license - for non-commercial use only\n",
      "Academic license - for non-commercial use only\n"
     ]
    },
    {
     "name": "stderr",
     "output_type": "stream",
     "text": [
      "┌ Warning: Not solved to optimality, status: Unbounded\n",
      "└ @ JuMP /Users/vishalgupta/.julia/packages/JuMP/I7whV/src/solvers.jl:212\n",
      "┌ Warning: Not solved to optimality, status: Unbounded\n",
      "└ @ JuMP /Users/vishalgupta/.julia/packages/JuMP/I7whV/src/solvers.jl:212\n"
     ]
    },
    {
     "name": "stdout",
     "output_type": "stream",
     "text": [
      "Academic license - for non-commercial use only\n",
      "Academic license - for non-commercial use only\n",
      "Academic license - for non-commercial use only\n",
      "Academic license - for non-commercial use only\n"
     ]
    },
    {
     "name": "stderr",
     "output_type": "stream",
     "text": [
      "┌ Warning: Not solved to optimality, status: Unbounded\n",
      "└ @ JuMP /Users/vishalgupta/.julia/packages/JuMP/I7whV/src/solvers.jl:212\n",
      "┌ Warning: Not solved to optimality, status: Unbounded\n",
      "└ @ JuMP /Users/vishalgupta/.julia/packages/JuMP/I7whV/src/solvers.jl:212\n",
      "┌ Warning: Not solved to optimality, status: Unbounded\n",
      "└ @ JuMP /Users/vishalgupta/.julia/packages/JuMP/I7whV/src/solvers.jl:212\n",
      "┌ Warning: Not solved to optimality, status: Unbounded\n",
      "└ @ JuMP /Users/vishalgupta/.julia/packages/JuMP/I7whV/src/solvers.jl:212\n"
     ]
    },
    {
     "name": "stdout",
     "output_type": "stream",
     "text": [
      "Academic license - for non-commercial use only\n",
      "Academic license - for non-commercial use only\n",
      "Academic license - for non-commercial use only\n",
      "Academic license - for non-commercial use only\n"
     ]
    },
    {
     "name": "stderr",
     "output_type": "stream",
     "text": [
      "┌ Warning: Not solved to optimality, status: Unbounded\n",
      "└ @ JuMP /Users/vishalgupta/.julia/packages/JuMP/I7whV/src/solvers.jl:212\n",
      "┌ Warning: Not solved to optimality, status: Unbounded\n",
      "└ @ JuMP /Users/vishalgupta/.julia/packages/JuMP/I7whV/src/solvers.jl:212\n",
      "┌ Warning: Not solved to optimality, status: Unbounded\n",
      "└ @ JuMP /Users/vishalgupta/.julia/packages/JuMP/I7whV/src/solvers.jl:212\n",
      "┌ Warning: Not solved to optimality, status: Unbounded\n",
      "└ @ JuMP /Users/vishalgupta/.julia/packages/JuMP/I7whV/src/solvers.jl:212\n"
     ]
    },
    {
     "name": "stdout",
     "output_type": "stream",
     "text": [
      "Academic license - for non-commercial use only\n",
      "Academic license - for non-commercial use only\n",
      "Academic license - for non-commercial use only\n",
      "Academic license - for non-commercial use only\n"
     ]
    },
    {
     "name": "stderr",
     "output_type": "stream",
     "text": [
      "┌ Warning: Not solved to optimality, status: Unbounded\n",
      "└ @ JuMP /Users/vishalgupta/.julia/packages/JuMP/I7whV/src/solvers.jl:212\n",
      "┌ Warning: Not solved to optimality, status: Unbounded\n",
      "└ @ JuMP /Users/vishalgupta/.julia/packages/JuMP/I7whV/src/solvers.jl:212\n",
      "┌ Warning: Not solved to optimality, status: Unbounded\n",
      "└ @ JuMP /Users/vishalgupta/.julia/packages/JuMP/I7whV/src/solvers.jl:212\n",
      "┌ Warning: Not solved to optimality, status: Unbounded\n",
      "└ @ JuMP /Users/vishalgupta/.julia/packages/JuMP/I7whV/src/solvers.jl:212\n"
     ]
    },
    {
     "name": "stdout",
     "output_type": "stream",
     "text": [
      "Academic license - for non-commercial use only\n",
      "Academic license - for non-commercial use only\n",
      "Academic license - for non-commercial use only\n",
      "Academic license - for non-commercial use only\n"
     ]
    },
    {
     "name": "stderr",
     "output_type": "stream",
     "text": [
      "┌ Warning: Not solved to optimality, status: Unbounded\n",
      "└ @ JuMP /Users/vishalgupta/.julia/packages/JuMP/I7whV/src/solvers.jl:212\n",
      "┌ Warning: Not solved to optimality, status: Unbounded\n",
      "└ @ JuMP /Users/vishalgupta/.julia/packages/JuMP/I7whV/src/solvers.jl:212\n",
      "┌ Warning: Not solved to optimality, status: Unbounded\n",
      "└ @ JuMP /Users/vishalgupta/.julia/packages/JuMP/I7whV/src/solvers.jl:212\n",
      "┌ Warning: Not solved to optimality, status: Unbounded\n",
      "└ @ JuMP /Users/vishalgupta/.julia/packages/JuMP/I7whV/src/solvers.jl:212\n"
     ]
    },
    {
     "name": "stdout",
     "output_type": "stream",
     "text": [
      "Academic license - for non-commercial use only\n",
      "Academic license - for non-commercial use only\n",
      "Academic license - for non-commercial use only\n",
      "Academic license - for non-commercial use only\n"
     ]
    },
    {
     "name": "stderr",
     "output_type": "stream",
     "text": [
      "┌ Warning: Not solved to optimality, status: Unbounded\n",
      "└ @ JuMP /Users/vishalgupta/.julia/packages/JuMP/I7whV/src/solvers.jl:212\n",
      "┌ Warning: Not solved to optimality, status: Unbounded\n",
      "└ @ JuMP /Users/vishalgupta/.julia/packages/JuMP/I7whV/src/solvers.jl:212\n",
      "┌ Warning: Not solved to optimality, status: Unbounded\n",
      "└ @ JuMP /Users/vishalgupta/.julia/packages/JuMP/I7whV/src/solvers.jl:212\n",
      "┌ Warning: Not solved to optimality, status: Unbounded\n",
      "└ @ JuMP /Users/vishalgupta/.julia/packages/JuMP/I7whV/src/solvers.jl:212\n"
     ]
    },
    {
     "name": "stdout",
     "output_type": "stream",
     "text": [
      "Academic license - for non-commercial use only\n",
      "Academic license - for non-commercial use only\n",
      "Academic license - for non-commercial use only\n",
      "Academic license - for non-commercial use only\n"
     ]
    },
    {
     "name": "stderr",
     "output_type": "stream",
     "text": [
      "┌ Warning: Not solved to optimality, status: Unbounded\n",
      "└ @ JuMP /Users/vishalgupta/.julia/packages/JuMP/I7whV/src/solvers.jl:212\n",
      "┌ Warning: Not solved to optimality, status: Unbounded\n",
      "└ @ JuMP /Users/vishalgupta/.julia/packages/JuMP/I7whV/src/solvers.jl:212\n",
      "┌ Warning: Not solved to optimality, status: Unbounded\n",
      "└ @ JuMP /Users/vishalgupta/.julia/packages/JuMP/I7whV/src/solvers.jl:212\n",
      "┌ Warning: Not solved to optimality, status: Unbounded\n",
      "└ @ JuMP /Users/vishalgupta/.julia/packages/JuMP/I7whV/src/solvers.jl:212\n"
     ]
    },
    {
     "name": "stdout",
     "output_type": "stream",
     "text": [
      "Academic license - for non-commercial use only\n",
      "Academic license - for non-commercial use only\n",
      "Academic license - for non-commercial use only\n",
      "Academic license - for non-commercial use only\n"
     ]
    },
    {
     "name": "stderr",
     "output_type": "stream",
     "text": [
      "┌ Warning: Not solved to optimality, status: Unbounded\n",
      "└ @ JuMP /Users/vishalgupta/.julia/packages/JuMP/I7whV/src/solvers.jl:212\n",
      "┌ Warning: Not solved to optimality, status: Unbounded\n",
      "└ @ JuMP /Users/vishalgupta/.julia/packages/JuMP/I7whV/src/solvers.jl:212\n",
      "┌ Warning: Not solved to optimality, status: Unbounded\n",
      "└ @ JuMP /Users/vishalgupta/.julia/packages/JuMP/I7whV/src/solvers.jl:212\n",
      "┌ Warning: Not solved to optimality, status: Unbounded\n",
      "└ @ JuMP /Users/vishalgupta/.julia/packages/JuMP/I7whV/src/solvers.jl:212\n"
     ]
    },
    {
     "name": "stdout",
     "output_type": "stream",
     "text": [
      "Academic license - for non-commercial use only\n",
      "Academic license - for non-commercial use only\n",
      "Academic license - for non-commercial use only\n",
      "Academic license - for non-commercial use only\n"
     ]
    },
    {
     "name": "stderr",
     "output_type": "stream",
     "text": [
      "┌ Warning: Not solved to optimality, status: Unbounded\n",
      "└ @ JuMP /Users/vishalgupta/.julia/packages/JuMP/I7whV/src/solvers.jl:212\n",
      "┌ Warning: Not solved to optimality, status: Unbounded\n",
      "└ @ JuMP /Users/vishalgupta/.julia/packages/JuMP/I7whV/src/solvers.jl:212\n",
      "┌ Warning: Not solved to optimality, status: Unbounded\n",
      "└ @ JuMP /Users/vishalgupta/.julia/packages/JuMP/I7whV/src/solvers.jl:212\n",
      "┌ Warning: Not solved to optimality, status: Unbounded\n",
      "└ @ JuMP /Users/vishalgupta/.julia/packages/JuMP/I7whV/src/solvers.jl:212\n"
     ]
    },
    {
     "name": "stdout",
     "output_type": "stream",
     "text": [
      "Academic license - for non-commercial use only\n",
      "Academic license - for non-commercial use only\n",
      "Academic license - for non-commercial use only\n",
      "Academic license - for non-commercial use only\n"
     ]
    },
    {
     "name": "stderr",
     "output_type": "stream",
     "text": [
      "┌ Warning: Not solved to optimality, status: Unbounded\n",
      "└ @ JuMP /Users/vishalgupta/.julia/packages/JuMP/I7whV/src/solvers.jl:212\n",
      "┌ Warning: Not solved to optimality, status: Unbounded\n",
      "└ @ JuMP /Users/vishalgupta/.julia/packages/JuMP/I7whV/src/solvers.jl:212\n",
      "┌ Warning: Not solved to optimality, status: Unbounded\n",
      "└ @ JuMP /Users/vishalgupta/.julia/packages/JuMP/I7whV/src/solvers.jl:212\n",
      "┌ Warning: Not solved to optimality, status: Unbounded\n",
      "└ @ JuMP /Users/vishalgupta/.julia/packages/JuMP/I7whV/src/solvers.jl:212\n"
     ]
    },
    {
     "name": "stdout",
     "output_type": "stream",
     "text": [
      "Academic license - for non-commercial use only\n",
      "Academic license - for non-commercial use only\n",
      "Academic license - for non-commercial use only\n",
      "Academic license - for non-commercial use only\n"
     ]
    },
    {
     "name": "stderr",
     "output_type": "stream",
     "text": [
      "┌ Warning: Not solved to optimality, status: Unbounded\n",
      "└ @ JuMP /Users/vishalgupta/.julia/packages/JuMP/I7whV/src/solvers.jl:212\n",
      "┌ Warning: Not solved to optimality, status: Unbounded\n",
      "└ @ JuMP /Users/vishalgupta/.julia/packages/JuMP/I7whV/src/solvers.jl:212\n",
      "┌ Warning: Not solved to optimality, status: Unbounded\n",
      "└ @ JuMP /Users/vishalgupta/.julia/packages/JuMP/I7whV/src/solvers.jl:212\n",
      "┌ Warning: Not solved to optimality, status: Unbounded\n",
      "└ @ JuMP /Users/vishalgupta/.julia/packages/JuMP/I7whV/src/solvers.jl:212\n"
     ]
    },
    {
     "name": "stdout",
     "output_type": "stream",
     "text": [
      "Academic license - for non-commercial use only\n",
      "Academic license - for non-commercial use only\n",
      "Academic license - for non-commercial use only\n",
      "Academic license - for non-commercial use only\n"
     ]
    },
    {
     "name": "stderr",
     "output_type": "stream",
     "text": [
      "┌ Warning: Not solved to optimality, status: Unbounded\n",
      "└ @ JuMP /Users/vishalgupta/.julia/packages/JuMP/I7whV/src/solvers.jl:212\n",
      "┌ Warning: Not solved to optimality, status: Unbounded\n",
      "└ @ JuMP /Users/vishalgupta/.julia/packages/JuMP/I7whV/src/solvers.jl:212\n",
      "┌ Warning: Not solved to optimality, status: Unbounded\n",
      "└ @ JuMP /Users/vishalgupta/.julia/packages/JuMP/I7whV/src/solvers.jl:212\n",
      "┌ Warning: Not solved to optimality, status: Unbounded\n",
      "└ @ JuMP /Users/vishalgupta/.julia/packages/JuMP/I7whV/src/solvers.jl:212\n"
     ]
    },
    {
     "name": "stdout",
     "output_type": "stream",
     "text": [
      "Academic license - for non-commercial use only\n",
      "Academic license - for non-commercial use only\n",
      "Academic license - for non-commercial use only\n",
      "Academic license - for non-commercial use only\n"
     ]
    },
    {
     "name": "stderr",
     "output_type": "stream",
     "text": [
      "┌ Warning: Not solved to optimality, status: Unbounded\n",
      "└ @ JuMP /Users/vishalgupta/.julia/packages/JuMP/I7whV/src/solvers.jl:212\n",
      "┌ Warning: Not solved to optimality, status: Unbounded\n",
      "└ @ JuMP /Users/vishalgupta/.julia/packages/JuMP/I7whV/src/solvers.jl:212\n",
      "┌ Warning: Not solved to optimality, status: Unbounded\n",
      "└ @ JuMP /Users/vishalgupta/.julia/packages/JuMP/I7whV/src/solvers.jl:212\n",
      "┌ Warning: Not solved to optimality, status: Unbounded\n",
      "└ @ JuMP /Users/vishalgupta/.julia/packages/JuMP/I7whV/src/solvers.jl:212\n"
     ]
    },
    {
     "name": "stdout",
     "output_type": "stream",
     "text": [
      "Academic license - for non-commercial use only\n",
      "Academic license - for non-commercial use only\n",
      "Academic license - for non-commercial use only\n",
      "Academic license - for non-commercial use only\n"
     ]
    },
    {
     "name": "stderr",
     "output_type": "stream",
     "text": [
      "┌ Warning: Not solved to optimality, status: Unbounded\n",
      "└ @ JuMP /Users/vishalgupta/.julia/packages/JuMP/I7whV/src/solvers.jl:212\n",
      "┌ Warning: Not solved to optimality, status: Unbounded\n",
      "└ @ JuMP /Users/vishalgupta/.julia/packages/JuMP/I7whV/src/solvers.jl:212\n",
      "┌ Warning: Not solved to optimality, status: Unbounded\n",
      "└ @ JuMP /Users/vishalgupta/.julia/packages/JuMP/I7whV/src/solvers.jl:212\n",
      "┌ Warning: Not solved to optimality, status: Unbounded\n",
      "└ @ JuMP /Users/vishalgupta/.julia/packages/JuMP/I7whV/src/solvers.jl:212\n"
     ]
    },
    {
     "name": "stdout",
     "output_type": "stream",
     "text": [
      "Academic license - for non-commercial use only\n",
      "Academic license - for non-commercial use only\n",
      "Academic license - for non-commercial use only\n",
      "Academic license - for non-commercial use only\n"
     ]
    },
    {
     "name": "stderr",
     "output_type": "stream",
     "text": [
      "┌ Warning: Not solved to optimality, status: Unbounded\n",
      "└ @ JuMP /Users/vishalgupta/.julia/packages/JuMP/I7whV/src/solvers.jl:212\n",
      "┌ Warning: Not solved to optimality, status: Unbounded\n",
      "└ @ JuMP /Users/vishalgupta/.julia/packages/JuMP/I7whV/src/solvers.jl:212\n",
      "┌ Warning: Not solved to optimality, status: Unbounded\n",
      "└ @ JuMP /Users/vishalgupta/.julia/packages/JuMP/I7whV/src/solvers.jl:212\n",
      "┌ Warning: Not solved to optimality, status: Unbounded\n",
      "└ @ JuMP /Users/vishalgupta/.julia/packages/JuMP/I7whV/src/solvers.jl:212\n"
     ]
    },
    {
     "name": "stdout",
     "output_type": "stream",
     "text": [
      "Academic license - for non-commercial use only\n",
      "Academic license - for non-commercial use only\n",
      "Academic license - for non-commercial use only\n",
      "Academic license - for non-commercial use only\n"
     ]
    },
    {
     "name": "stderr",
     "output_type": "stream",
     "text": [
      "┌ Warning: Not solved to optimality, status: Unbounded\n",
      "└ @ JuMP /Users/vishalgupta/.julia/packages/JuMP/I7whV/src/solvers.jl:212\n",
      "┌ Warning: Not solved to optimality, status: Unbounded\n",
      "└ @ JuMP /Users/vishalgupta/.julia/packages/JuMP/I7whV/src/solvers.jl:212\n",
      "┌ Warning: Not solved to optimality, status: Unbounded\n",
      "└ @ JuMP /Users/vishalgupta/.julia/packages/JuMP/I7whV/src/solvers.jl:212\n",
      "┌ Warning: Not solved to optimality, status: Unbounded\n",
      "└ @ JuMP /Users/vishalgupta/.julia/packages/JuMP/I7whV/src/solvers.jl:212\n"
     ]
    },
    {
     "name": "stdout",
     "output_type": "stream",
     "text": [
      "Academic license - for non-commercial use only\n",
      "Academic license - for non-commercial use only\n",
      "Academic license - for non-commercial use only\n",
      "Academic license - for non-commercial use only\n"
     ]
    },
    {
     "name": "stderr",
     "output_type": "stream",
     "text": [
      "┌ Warning: Not solved to optimality, status: Unbounded\n",
      "└ @ JuMP /Users/vishalgupta/.julia/packages/JuMP/I7whV/src/solvers.jl:212\n",
      "┌ Warning: Not solved to optimality, status: Unbounded\n",
      "└ @ JuMP /Users/vishalgupta/.julia/packages/JuMP/I7whV/src/solvers.jl:212\n",
      "┌ Warning: Not solved to optimality, status: Unbounded\n",
      "└ @ JuMP /Users/vishalgupta/.julia/packages/JuMP/I7whV/src/solvers.jl:212\n",
      "┌ Warning: Not solved to optimality, status: Unbounded\n",
      "└ @ JuMP /Users/vishalgupta/.julia/packages/JuMP/I7whV/src/solvers.jl:212\n"
     ]
    },
    {
     "name": "stdout",
     "output_type": "stream",
     "text": [
      "Academic license - for non-commercial use only\n",
      "Academic license - for non-commercial use only\n",
      "Academic license - for non-commercial use only\n",
      "Academic license - for non-commercial use only\n"
     ]
    },
    {
     "name": "stderr",
     "output_type": "stream",
     "text": [
      "┌ Warning: Not solved to optimality, status: Unbounded\n",
      "└ @ JuMP /Users/vishalgupta/.julia/packages/JuMP/I7whV/src/solvers.jl:212\n",
      "┌ Warning: Not solved to optimality, status: Unbounded\n",
      "└ @ JuMP /Users/vishalgupta/.julia/packages/JuMP/I7whV/src/solvers.jl:212\n",
      "┌ Warning: Not solved to optimality, status: Unbounded\n",
      "└ @ JuMP /Users/vishalgupta/.julia/packages/JuMP/I7whV/src/solvers.jl:212\n",
      "┌ Warning: Not solved to optimality, status: Unbounded\n",
      "└ @ JuMP /Users/vishalgupta/.julia/packages/JuMP/I7whV/src/solvers.jl:212\n"
     ]
    },
    {
     "name": "stdout",
     "output_type": "stream",
     "text": [
      "Academic license - for non-commercial use only\n",
      "Academic license - for non-commercial use only\n",
      "Academic license - for non-commercial use only\n",
      "Academic license - for non-commercial use only\n"
     ]
    },
    {
     "name": "stderr",
     "output_type": "stream",
     "text": [
      "┌ Warning: Not solved to optimality, status: Unbounded\n",
      "└ @ JuMP /Users/vishalgupta/.julia/packages/JuMP/I7whV/src/solvers.jl:212\n",
      "┌ Warning: Not solved to optimality, status: Unbounded\n",
      "└ @ JuMP /Users/vishalgupta/.julia/packages/JuMP/I7whV/src/solvers.jl:212\n",
      "┌ Warning: Not solved to optimality, status: Unbounded\n",
      "└ @ JuMP /Users/vishalgupta/.julia/packages/JuMP/I7whV/src/solvers.jl:212\n",
      "┌ Warning: Not solved to optimality, status: Unbounded\n",
      "└ @ JuMP /Users/vishalgupta/.julia/packages/JuMP/I7whV/src/solvers.jl:212\n"
     ]
    },
    {
     "name": "stdout",
     "output_type": "stream",
     "text": [
      "Academic license - for non-commercial use only\n",
      "Academic license - for non-commercial use only\n",
      "Academic license - for non-commercial use only\n",
      "Academic license - for non-commercial use only\n"
     ]
    },
    {
     "name": "stderr",
     "output_type": "stream",
     "text": [
      "┌ Warning: Not solved to optimality, status: Unbounded\n",
      "└ @ JuMP /Users/vishalgupta/.julia/packages/JuMP/I7whV/src/solvers.jl:212\n",
      "┌ Warning: Not solved to optimality, status: Unbounded\n",
      "└ @ JuMP /Users/vishalgupta/.julia/packages/JuMP/I7whV/src/solvers.jl:212\n",
      "┌ Warning: Not solved to optimality, status: Unbounded\n",
      "└ @ JuMP /Users/vishalgupta/.julia/packages/JuMP/I7whV/src/solvers.jl:212\n",
      "┌ Warning: Not solved to optimality, status: Unbounded\n",
      "└ @ JuMP /Users/vishalgupta/.julia/packages/JuMP/I7whV/src/solvers.jl:212\n"
     ]
    },
    {
     "name": "stdout",
     "output_type": "stream",
     "text": [
      "Academic license - for non-commercial use only\n",
      "Academic license - for non-commercial use only\n",
      "Academic license - for non-commercial use only\n",
      "Academic license - for non-commercial use only\n"
     ]
    },
    {
     "name": "stderr",
     "output_type": "stream",
     "text": [
      "┌ Warning: Not solved to optimality, status: Unbounded\n",
      "└ @ JuMP /Users/vishalgupta/.julia/packages/JuMP/I7whV/src/solvers.jl:212\n",
      "┌ Warning: Not solved to optimality, status: Unbounded\n",
      "└ @ JuMP /Users/vishalgupta/.julia/packages/JuMP/I7whV/src/solvers.jl:212\n",
      "┌ Warning: Not solved to optimality, status: Unbounded\n",
      "└ @ JuMP /Users/vishalgupta/.julia/packages/JuMP/I7whV/src/solvers.jl:212\n",
      "┌ Warning: Not solved to optimality, status: Unbounded\n",
      "└ @ JuMP /Users/vishalgupta/.julia/packages/JuMP/I7whV/src/solvers.jl:212\n"
     ]
    },
    {
     "name": "stdout",
     "output_type": "stream",
     "text": [
      "Academic license - for non-commercial use only\n",
      "Academic license - for non-commercial use only\n",
      "Academic license - for non-commercial use only\n",
      "Academic license - for non-commercial use only\n"
     ]
    },
    {
     "name": "stderr",
     "output_type": "stream",
     "text": [
      "┌ Warning: Not solved to optimality, status: Unbounded\n",
      "└ @ JuMP /Users/vishalgupta/.julia/packages/JuMP/I7whV/src/solvers.jl:212\n",
      "┌ Warning: Not solved to optimality, status: Unbounded\n",
      "└ @ JuMP /Users/vishalgupta/.julia/packages/JuMP/I7whV/src/solvers.jl:212\n",
      "┌ Warning: Not solved to optimality, status: Unbounded\n",
      "└ @ JuMP /Users/vishalgupta/.julia/packages/JuMP/I7whV/src/solvers.jl:212\n",
      "┌ Warning: Not solved to optimality, status: Unbounded\n",
      "└ @ JuMP /Users/vishalgupta/.julia/packages/JuMP/I7whV/src/solvers.jl:212\n"
     ]
    },
    {
     "name": "stdout",
     "output_type": "stream",
     "text": [
      "Academic license - for non-commercial use only\n",
      "Academic license - for non-commercial use only\n",
      "Academic license - for non-commercial use only\n",
      "Academic license - for non-commercial use only\n"
     ]
    },
    {
     "name": "stderr",
     "output_type": "stream",
     "text": [
      "┌ Warning: Not solved to optimality, status: Unbounded\n",
      "└ @ JuMP /Users/vishalgupta/.julia/packages/JuMP/I7whV/src/solvers.jl:212\n",
      "┌ Warning: Not solved to optimality, status: Unbounded\n",
      "└ @ JuMP /Users/vishalgupta/.julia/packages/JuMP/I7whV/src/solvers.jl:212\n",
      "┌ Warning: Not solved to optimality, status: Unbounded\n",
      "└ @ JuMP /Users/vishalgupta/.julia/packages/JuMP/I7whV/src/solvers.jl:212\n",
      "┌ Warning: Not solved to optimality, status: Unbounded\n",
      "└ @ JuMP /Users/vishalgupta/.julia/packages/JuMP/I7whV/src/solvers.jl:212\n"
     ]
    },
    {
     "name": "stdout",
     "output_type": "stream",
     "text": [
      "Academic license - for non-commercial use only\n",
      "Academic license - for non-commercial use only\n",
      "Academic license - for non-commercial use only\n",
      "Academic license - for non-commercial use only\n"
     ]
    },
    {
     "name": "stderr",
     "output_type": "stream",
     "text": [
      "┌ Warning: Not solved to optimality, status: Unbounded\n",
      "└ @ JuMP /Users/vishalgupta/.julia/packages/JuMP/I7whV/src/solvers.jl:212\n",
      "┌ Warning: Not solved to optimality, status: Unbounded\n",
      "└ @ JuMP /Users/vishalgupta/.julia/packages/JuMP/I7whV/src/solvers.jl:212\n",
      "┌ Warning: Not solved to optimality, status: Unbounded\n",
      "└ @ JuMP /Users/vishalgupta/.julia/packages/JuMP/I7whV/src/solvers.jl:212\n",
      "┌ Warning: Not solved to optimality, status: Unbounded\n",
      "└ @ JuMP /Users/vishalgupta/.julia/packages/JuMP/I7whV/src/solvers.jl:212\n"
     ]
    },
    {
     "name": "stdout",
     "output_type": "stream",
     "text": [
      "Academic license - for non-commercial use only\n",
      "Academic license - for non-commercial use only\n",
      "Academic license - for non-commercial use only\n",
      "Academic license - for non-commercial use only\n"
     ]
    },
    {
     "name": "stderr",
     "output_type": "stream",
     "text": [
      "┌ Warning: Not solved to optimality, status: Unbounded\n",
      "└ @ JuMP /Users/vishalgupta/.julia/packages/JuMP/I7whV/src/solvers.jl:212\n",
      "┌ Warning: Not solved to optimality, status: Unbounded\n",
      "└ @ JuMP /Users/vishalgupta/.julia/packages/JuMP/I7whV/src/solvers.jl:212\n",
      "┌ Warning: Not solved to optimality, status: Unbounded\n",
      "└ @ JuMP /Users/vishalgupta/.julia/packages/JuMP/I7whV/src/solvers.jl:212\n",
      "┌ Warning: Not solved to optimality, status: Unbounded\n",
      "└ @ JuMP /Users/vishalgupta/.julia/packages/JuMP/I7whV/src/solvers.jl:212\n"
     ]
    },
    {
     "name": "stdout",
     "output_type": "stream",
     "text": [
      "Academic license - for non-commercial use only\n",
      "Academic license - for non-commercial use only\n",
      "Academic license - for non-commercial use only\n",
      "Academic license - for non-commercial use only\n"
     ]
    },
    {
     "name": "stderr",
     "output_type": "stream",
     "text": [
      "┌ Warning: Not solved to optimality, status: Unbounded\n",
      "└ @ JuMP /Users/vishalgupta/.julia/packages/JuMP/I7whV/src/solvers.jl:212\n",
      "┌ Warning: Not solved to optimality, status: Unbounded\n",
      "└ @ JuMP /Users/vishalgupta/.julia/packages/JuMP/I7whV/src/solvers.jl:212\n",
      "┌ Warning: Not solved to optimality, status: Unbounded\n",
      "└ @ JuMP /Users/vishalgupta/.julia/packages/JuMP/I7whV/src/solvers.jl:212\n",
      "┌ Warning: Not solved to optimality, status: Unbounded\n",
      "└ @ JuMP /Users/vishalgupta/.julia/packages/JuMP/I7whV/src/solvers.jl:212\n"
     ]
    },
    {
     "name": "stdout",
     "output_type": "stream",
     "text": [
      "Academic license - for non-commercial use only\n",
      "Academic license - for non-commercial use only\n",
      "Academic license - for non-commercial use only\n",
      "Academic license - for non-commercial use only\n"
     ]
    },
    {
     "name": "stderr",
     "output_type": "stream",
     "text": [
      "┌ Warning: Not solved to optimality, status: Unbounded\n",
      "└ @ JuMP /Users/vishalgupta/.julia/packages/JuMP/I7whV/src/solvers.jl:212\n",
      "┌ Warning: Not solved to optimality, status: Unbounded\n",
      "└ @ JuMP /Users/vishalgupta/.julia/packages/JuMP/I7whV/src/solvers.jl:212\n",
      "┌ Warning: Not solved to optimality, status: Unbounded\n",
      "└ @ JuMP /Users/vishalgupta/.julia/packages/JuMP/I7whV/src/solvers.jl:212\n",
      "┌ Warning: Not solved to optimality, status: Unbounded\n",
      "└ @ JuMP /Users/vishalgupta/.julia/packages/JuMP/I7whV/src/solvers.jl:212\n"
     ]
    },
    {
     "name": "stdout",
     "output_type": "stream",
     "text": [
      "Academic license - for non-commercial use only\n",
      "Academic license - for non-commercial use only\n",
      "Academic license - for non-commercial use only\n",
      "Academic license - for non-commercial use only\n"
     ]
    },
    {
     "name": "stderr",
     "output_type": "stream",
     "text": [
      "┌ Warning: Not solved to optimality, status: Unbounded\n",
      "└ @ JuMP /Users/vishalgupta/.julia/packages/JuMP/I7whV/src/solvers.jl:212\n",
      "┌ Warning: Not solved to optimality, status: Unbounded\n",
      "└ @ JuMP /Users/vishalgupta/.julia/packages/JuMP/I7whV/src/solvers.jl:212\n",
      "┌ Warning: Not solved to optimality, status: Unbounded\n",
      "└ @ JuMP /Users/vishalgupta/.julia/packages/JuMP/I7whV/src/solvers.jl:212\n",
      "┌ Warning: Not solved to optimality, status: Unbounded\n",
      "└ @ JuMP /Users/vishalgupta/.julia/packages/JuMP/I7whV/src/solvers.jl:212\n"
     ]
    },
    {
     "name": "stdout",
     "output_type": "stream",
     "text": [
      "Academic license - for non-commercial use only\n",
      "Academic license - for non-commercial use only\n"
     ]
    },
    {
     "name": "stderr",
     "output_type": "stream",
     "text": [
      "┌ Warning: Not solved to optimality, status: Unbounded\n",
      "└ @ JuMP /Users/vishalgupta/.julia/packages/JuMP/I7whV/src/solvers.jl:212\n",
      "┌ Warning: Not solved to optimality, status: Unbounded\n",
      "└ @ JuMP /Users/vishalgupta/.julia/packages/JuMP/I7whV/src/solvers.jl:212\n",
      "┌ Warning: Not solved to optimality, status: Unbounded\n",
      "└ @ JuMP /Users/vishalgupta/.julia/packages/JuMP/I7whV/src/solvers.jl:212\n",
      "┌ Warning: Not solved to optimality, status: Unbounded\n",
      "└ @ JuMP /Users/vishalgupta/.julia/packages/JuMP/I7whV/src/solvers.jl:212\n"
     ]
    },
    {
     "name": "stdout",
     "output_type": "stream",
     "text": [
      "Academic license - for non-commercial use only\n",
      "Academic license - for non-commercial use only\n",
      "Academic license - for non-commercial use only\n",
      "Academic license - for non-commercial use only\n"
     ]
    },
    {
     "name": "stderr",
     "output_type": "stream",
     "text": [
      "┌ Warning: Not solved to optimality, status: Unbounded\n",
      "└ @ JuMP /Users/vishalgupta/.julia/packages/JuMP/I7whV/src/solvers.jl:212\n",
      "┌ Warning: Not solved to optimality, status: Unbounded\n",
      "└ @ JuMP /Users/vishalgupta/.julia/packages/JuMP/I7whV/src/solvers.jl:212\n",
      "┌ Warning: Not solved to optimality, status: Unbounded\n",
      "└ @ JuMP /Users/vishalgupta/.julia/packages/JuMP/I7whV/src/solvers.jl:212\n",
      "┌ Warning: Not solved to optimality, status: Unbounded\n",
      "└ @ JuMP /Users/vishalgupta/.julia/packages/JuMP/I7whV/src/solvers.jl:212\n"
     ]
    },
    {
     "name": "stdout",
     "output_type": "stream",
     "text": [
      "Academic license - for non-commercial use only\n",
      "Academic license - for non-commercial use only\n",
      "Academic license - for non-commercial use only\n",
      "Academic license - for non-commercial use only\n"
     ]
    },
    {
     "name": "stderr",
     "output_type": "stream",
     "text": [
      "┌ Warning: Not solved to optimality, status: Unbounded\n",
      "└ @ JuMP /Users/vishalgupta/.julia/packages/JuMP/I7whV/src/solvers.jl:212\n",
      "┌ Warning: Not solved to optimality, status: Unbounded\n",
      "└ @ JuMP /Users/vishalgupta/.julia/packages/JuMP/I7whV/src/solvers.jl:212\n",
      "┌ Warning: Not solved to optimality, status: Unbounded\n",
      "└ @ JuMP /Users/vishalgupta/.julia/packages/JuMP/I7whV/src/solvers.jl:212\n",
      "┌ Warning: Not solved to optimality, status: Unbounded\n",
      "└ @ JuMP /Users/vishalgupta/.julia/packages/JuMP/I7whV/src/solvers.jl:212\n"
     ]
    },
    {
     "name": "stdout",
     "output_type": "stream",
     "text": [
      "Academic license - for non-commercial use only\n",
      "Academic license - for non-commercial use only\n",
      "Academic license - for non-commercial use only\n",
      "Academic license - for non-commercial use only\n"
     ]
    },
    {
     "name": "stderr",
     "output_type": "stream",
     "text": [
      "┌ Warning: Not solved to optimality, status: Unbounded\n",
      "└ @ JuMP /Users/vishalgupta/.julia/packages/JuMP/I7whV/src/solvers.jl:212\n",
      "┌ Warning: Not solved to optimality, status: Unbounded\n",
      "└ @ JuMP /Users/vishalgupta/.julia/packages/JuMP/I7whV/src/solvers.jl:212\n",
      "┌ Warning: Not solved to optimality, status: Unbounded\n",
      "└ @ JuMP /Users/vishalgupta/.julia/packages/JuMP/I7whV/src/solvers.jl:212\n",
      "┌ Warning: Not solved to optimality, status: Unbounded\n",
      "└ @ JuMP /Users/vishalgupta/.julia/packages/JuMP/I7whV/src/solvers.jl:212\n"
     ]
    },
    {
     "name": "stdout",
     "output_type": "stream",
     "text": [
      "Academic license - for non-commercial use only\n",
      "Academic license - for non-commercial use only\n",
      "Academic license - for non-commercial use only\n",
      "Academic license - for non-commercial use only\n"
     ]
    },
    {
     "name": "stderr",
     "output_type": "stream",
     "text": [
      "┌ Warning: Not solved to optimality, status: Unbounded\n",
      "└ @ JuMP /Users/vishalgupta/.julia/packages/JuMP/I7whV/src/solvers.jl:212\n",
      "┌ Warning: Not solved to optimality, status: Unbounded\n",
      "└ @ JuMP /Users/vishalgupta/.julia/packages/JuMP/I7whV/src/solvers.jl:212\n",
      "┌ Warning: Not solved to optimality, status: Unbounded\n",
      "└ @ JuMP /Users/vishalgupta/.julia/packages/JuMP/I7whV/src/solvers.jl:212\n",
      "┌ Warning: Not solved to optimality, status: Unbounded\n",
      "└ @ JuMP /Users/vishalgupta/.julia/packages/JuMP/I7whV/src/solvers.jl:212\n"
     ]
    },
    {
     "name": "stdout",
     "output_type": "stream",
     "text": [
      "Academic license - for non-commercial use only\n",
      "Academic license - for non-commercial use only\n",
      "Academic license - for non-commercial use only\n",
      "Academic license - for non-commercial use only\n"
     ]
    },
    {
     "name": "stderr",
     "output_type": "stream",
     "text": [
      "┌ Warning: Not solved to optimality, status: Unbounded\n",
      "└ @ JuMP /Users/vishalgupta/.julia/packages/JuMP/I7whV/src/solvers.jl:212\n",
      "┌ Warning: Not solved to optimality, status: Unbounded\n",
      "└ @ JuMP /Users/vishalgupta/.julia/packages/JuMP/I7whV/src/solvers.jl:212\n",
      "┌ Warning: Not solved to optimality, status: Unbounded\n",
      "└ @ JuMP /Users/vishalgupta/.julia/packages/JuMP/I7whV/src/solvers.jl:212\n",
      "┌ Warning: Not solved to optimality, status: Unbounded\n",
      "└ @ JuMP /Users/vishalgupta/.julia/packages/JuMP/I7whV/src/solvers.jl:212\n"
     ]
    },
    {
     "name": "stdout",
     "output_type": "stream",
     "text": [
      "Academic license - for non-commercial use only\n",
      "Academic license - for non-commercial use only\n"
     ]
    },
    {
     "name": "stderr",
     "output_type": "stream",
     "text": [
      "┌ Warning: Not solved to optimality, status: Unbounded\n",
      "└ @ JuMP /Users/vishalgupta/.julia/packages/JuMP/I7whV/src/solvers.jl:212\n"
     ]
    },
    {
     "name": "stdout",
     "output_type": "stream",
     "text": [
      "Academic license - for non-commercial use only\n",
      "Academic license - for non-commercial use only\n",
      "Academic license - for non-commercial use only\n",
      "Academic license - for non-commercial use only\n",
      "Academic license - for non-commercial use only\n",
      "Academic license - for non-commercial use only\n",
      "Academic license - for non-commercial use only\n",
      "Academic license - for non-commercial use only\n",
      "Academic license - for non-commercial use only\n",
      "Academic license - for non-commercial use only\n",
      "Academic license - for non-commercial use only\n",
      "Academic license - for non-commercial use only\n",
      "Academic license - for non-commercial use only\n",
      "Academic license - for non-commercial use only\n",
      "Academic license - for non-commercial use only\n",
      "Academic license - for non-commercial use only\n",
      "Academic license - for non-commercial use only\n",
      "Academic license - for non-commercial use only\n",
      "Academic license - for non-commercial use only\n",
      "Academic license - for non-commercial use only\n",
      "Academic license - for non-commercial use only\n",
      "Academic license - for non-commercial use only\n",
      "Academic license - for non-commercial use only\n",
      "Academic license - for non-commercial use only\n",
      "Academic license - for non-commercial use only\n",
      "Academic license - for non-commercial use only\n",
      "Academic license - for non-commercial use only\n",
      "Academic license - for non-commercial use only\n",
      "Academic license - for non-commercial use only\n",
      "Academic license - for non-commercial use only\n",
      "Academic license - for non-commercial use only\n",
      "Academic license - for non-commercial use only\n",
      "Academic license - for non-commercial use only\n",
      "Academic license - for non-commercial use only\n",
      "Academic license - for non-commercial use only\n",
      "Academic license - for non-commercial use only\n",
      "Academic license - for non-commercial use only\n",
      "Academic license - for non-commercial use only\n",
      "Academic license - for non-commercial use only\n",
      "Academic license - for non-commercial use only\n",
      "Academic license - for non-commercial use only\n",
      "Academic license - for non-commercial use only\n",
      "Academic license - for non-commercial use only\n",
      "Academic license - for non-commercial use only\n",
      "Academic license - for non-commercial use only\n",
      "Academic license - for non-commercial use only\n",
      "Academic license - for non-commercial use only\n",
      "Academic license - for non-commercial use only\n",
      "Academic license - for non-commercial use only\n",
      "Academic license - for non-commercial use only\n",
      "Academic license - for non-commercial use only\n",
      "Academic license - for non-commercial use only\n",
      "Academic license - for non-commercial use only\n",
      "Academic license - for non-commercial use only\n",
      "Academic license - for non-commercial use only\n",
      "Academic license - for non-commercial use only\n",
      "Academic license - for non-commercial use only\n",
      "Academic license - for non-commercial use only\n",
      "Academic license - for non-commercial use only\n",
      "Academic license - for non-commercial use only\n",
      "Academic license - for non-commercial use only\n",
      "Academic license - for non-commercial use only\n",
      "Academic license - for non-commercial use only\n",
      "Academic license - for non-commercial use only\n",
      "Academic license - for non-commercial use only\n",
      "Academic license - for non-commercial use only\n",
      "Academic license - for non-commercial use only\n",
      "Academic license - for non-commercial use only\n",
      "Academic license - for non-commercial use only\n",
      "Academic license - for non-commercial use only\n",
      "Academic license - for non-commercial use only\n",
      "Academic license - for non-commercial use only\n",
      "Academic license - for non-commercial use only\n",
      "Academic license - for non-commercial use only\n",
      "Academic license - for non-commercial use only\n",
      "Academic license - for non-commercial use only\n",
      "Academic license - for non-commercial use only\n",
      "Academic license - for non-commercial use only\n",
      "Academic license - for non-commercial use only\n",
      "Academic license - for non-commercial use only\n",
      "Academic license - for non-commercial use only\n",
      "Academic license - for non-commercial use only\n",
      "Academic license - for non-commercial use only\n",
      "Academic license - for non-commercial use only\n",
      "Academic license - for non-commercial use only\n",
      "Academic license - for non-commercial use only\n",
      "Academic license - for non-commercial use only\n",
      "Academic license - for non-commercial use only\n",
      "Academic license - for non-commercial use only\n",
      "Academic license - for non-commercial use only\n",
      "Academic license - for non-commercial use only\n",
      "Academic license - for non-commercial use only\n",
      "Academic license - for non-commercial use only\n",
      "Academic license - for non-commercial use only\n",
      "Academic license - for non-commercial use only\n",
      "Academic license - for non-commercial use only\n",
      "Academic license - for non-commercial use only\n",
      "Academic license - for non-commercial use only\n",
      "Academic license - for non-commercial use only\n",
      "Academic license - for non-commercial use only\n",
      "Academic license - for non-commercial use only\n",
      "Academic license - for non-commercial use only\n",
      "Academic license - for non-commercial use only\n",
      "Academic license - for non-commercial use only\n",
      "Academic license - for non-commercial use only\n",
      "Academic license - for non-commercial use only\n",
      "Academic license - for non-commercial use only\n",
      "Academic license - for non-commercial use only\n",
      "Academic license - for non-commercial use only\n",
      "Academic license - for non-commercial use only\n",
      "Academic license - for non-commercial use only\n",
      "Academic license - for non-commercial use only\n",
      "Academic license - for non-commercial use only\n",
      "Academic license - for non-commercial use only\n",
      "Academic license - for non-commercial use only\n",
      "Academic license - for non-commercial use only\n",
      "Academic license - for non-commercial use only\n",
      "Academic license - for non-commercial use only\n",
      "Academic license - for non-commercial use only\n",
      "Academic license - for non-commercial use only\n",
      "Academic license - for non-commercial use only\n",
      "Academic license - for non-commercial use only\n",
      "Academic license - for non-commercial use only\n",
      "Academic license - for non-commercial use only\n",
      "Academic license - for non-commercial use only\n",
      "Academic license - for non-commercial use only\n",
      "Academic license - for non-commercial use only\n",
      "Academic license - for non-commercial use only\n",
      "Academic license - for non-commercial use only\n",
      "Academic license - for non-commercial use only\n",
      "Academic license - for non-commercial use only\n",
      "Academic license - for non-commercial use only\n",
      "Academic license - for non-commercial use only\n",
      "Academic license - for non-commercial use only\n",
      "Academic license - for non-commercial use only\n",
      "Academic license - for non-commercial use only\n",
      "Academic license - for non-commercial use only\n",
      "Academic license - for non-commercial use only\n",
      "Academic license - for non-commercial use only\n",
      "Academic license - for non-commercial use only\n",
      "Academic license - for non-commercial use only\n",
      "Academic license - for non-commercial use only\n",
      "Academic license - for non-commercial use only\n",
      "Academic license - for non-commercial use only\n",
      "Academic license - for non-commercial use only\n",
      "Academic license - for non-commercial use only\n",
      "Academic license - for non-commercial use only\n",
      "Academic license - for non-commercial use only\n",
      "Academic license - for non-commercial use only\n",
      "Academic license - for non-commercial use only\n",
      "Academic license - for non-commercial use only\n",
      "Academic license - for non-commercial use only\n",
      "Academic license - for non-commercial use only\n",
      "Academic license - for non-commercial use only\n",
      "Academic license - for non-commercial use only\n",
      "Academic license - for non-commercial use only\n",
      "Academic license - for non-commercial use only\n",
      "Academic license - for non-commercial use only\n",
      "Academic license - for non-commercial use only\n",
      "Academic license - for non-commercial use only\n",
      "Academic license - for non-commercial use only\n",
      "Academic license - for non-commercial use only\n",
      "Academic license - for non-commercial use only\n",
      "Academic license - for non-commercial use only\n",
      "Academic license - for non-commercial use only\n",
      "Academic license - for non-commercial use only\n",
      "Academic license - for non-commercial use only\n",
      "Academic license - for non-commercial use only\n",
      "Academic license - for non-commercial use only\n",
      "Academic license - for non-commercial use only\n",
      "Academic license - for non-commercial use only\n",
      "Academic license - for non-commercial use only\n",
      "Academic license - for non-commercial use only\n",
      "Academic license - for non-commercial use only\n",
      "Academic license - for non-commercial use only\n",
      "Academic license - for non-commercial use only\n",
      "Academic license - for non-commercial use only\n",
      "Academic license - for non-commercial use only\n",
      "Academic license - for non-commercial use only\n",
      "Academic license - for non-commercial use only\n",
      "Academic license - for non-commercial use only\n",
      "Academic license - for non-commercial use only\n",
      "Academic license - for non-commercial use only\n",
      "Academic license - for non-commercial use only\n",
      "Academic license - for non-commercial use only\n",
      "Academic license - for non-commercial use only\n",
      "Academic license - for non-commercial use only\n",
      "Academic license - for non-commercial use only\n",
      "Academic license - for non-commercial use only\n",
      "Academic license - for non-commercial use only\n",
      "Academic license - for non-commercial use only\n",
      "Academic license - for non-commercial use only\n",
      "Academic license - for non-commercial use only\n",
      "Academic license - for non-commercial use only\n",
      "Academic license - for non-commercial use only\n",
      "Academic license - for non-commercial use only\n",
      "Academic license - for non-commercial use only\n",
      "Academic license - for non-commercial use only\n",
      "Academic license - for non-commercial use only\n",
      "Academic license - for non-commercial use only\n",
      "Academic license - for non-commercial use only\n",
      "Academic license - for non-commercial use only\n",
      "Academic license - for non-commercial use only\n",
      "Academic license - for non-commercial use only\n",
      "Academic license - for non-commercial use only\n",
      "Academic license - for non-commercial use only\n",
      "Academic license - for non-commercial use only\n",
      "Academic license - for non-commercial use only\n",
      "Academic license - for non-commercial use only\n",
      "Academic license - for non-commercial use only\n",
      "Academic license - for non-commercial use only\n",
      "Academic license - for non-commercial use only\n",
      "Academic license - for non-commercial use only\n",
      "Academic license - for non-commercial use only\n",
      "Academic license - for non-commercial use only\n",
      "Academic license - for non-commercial use only\n",
      "Academic license - for non-commercial use only\n",
      "Academic license - for non-commercial use only\n",
      "Academic license - for non-commercial use only\n",
      "Academic license - for non-commercial use only\n",
      "Academic license - for non-commercial use only\n",
      "Academic license - for non-commercial use only\n",
      "Academic license - for non-commercial use only\n",
      "Academic license - for non-commercial use only\n",
      "Academic license - for non-commercial use only\n",
      "Academic license - for non-commercial use only\n",
      "Academic license - for non-commercial use only\n",
      "Academic license - for non-commercial use only\n",
      "Academic license - for non-commercial use only\n",
      "Academic license - for non-commercial use only\n",
      "Academic license - for non-commercial use only\n",
      "Academic license - for non-commercial use only\n",
      "Academic license - for non-commercial use only\n",
      "Academic license - for non-commercial use only\n",
      "Academic license - for non-commercial use only\n",
      "Academic license - for non-commercial use only\n",
      "Academic license - for non-commercial use only\n",
      "Academic license - for non-commercial use only\n",
      "Academic license - for non-commercial use only\n",
      "Academic license - for non-commercial use only\n",
      "Academic license - for non-commercial use only\n",
      "Academic license - for non-commercial use only\n",
      "Academic license - for non-commercial use only\n",
      "Academic license - for non-commercial use only\n",
      "Academic license - for non-commercial use only\n",
      "Academic license - for non-commercial use only\n",
      "Academic license - for non-commercial use only\n",
      "Academic license - for non-commercial use only\n",
      "Academic license - for non-commercial use only\n",
      "Academic license - for non-commercial use only\n",
      "Academic license - for non-commercial use only\n",
      "Academic license - for non-commercial use only\n",
      "Academic license - for non-commercial use only\n",
      "Academic license - for non-commercial use only\n",
      "Academic license - for non-commercial use only\n",
      "Academic license - for non-commercial use only\n",
      "Academic license - for non-commercial use only\n",
      "Academic license - for non-commercial use only\n",
      "Academic license - for non-commercial use only\n",
      "Academic license - for non-commercial use only\n",
      "Academic license - for non-commercial use only\n",
      "Academic license - for non-commercial use only\n",
      "Academic license - for non-commercial use only\n",
      "Academic license - for non-commercial use only\n",
      "Academic license - for non-commercial use only\n",
      "Academic license - for non-commercial use only\n",
      "Academic license - for non-commercial use only\n",
      "Academic license - for non-commercial use only\n",
      "Academic license - for non-commercial use only\n",
      "Academic license - for non-commercial use only\n",
      "Academic license - for non-commercial use only\n",
      "Academic license - for non-commercial use only\n",
      "Academic license - for non-commercial use only\n",
      "Academic license - for non-commercial use only\n",
      "Academic license - for non-commercial use only\n",
      "Academic license - for non-commercial use only\n",
      "Academic license - for non-commercial use only\n",
      "Academic license - for non-commercial use only\n",
      "Academic license - for non-commercial use only\n",
      "Academic license - for non-commercial use only\n",
      "Academic license - for non-commercial use only\n",
      "Academic license - for non-commercial use only\n",
      "Academic license - for non-commercial use only\n",
      "Academic license - for non-commercial use only\n",
      "Academic license - for non-commercial use only\n",
      "Academic license - for non-commercial use only\n",
      "Academic license - for non-commercial use only\n",
      "Academic license - for non-commercial use only\n",
      "Academic license - for non-commercial use only\n",
      "Academic license - for non-commercial use only\n",
      "Academic license - for non-commercial use only\n",
      "Academic license - for non-commercial use only\n",
      "Academic license - for non-commercial use only\n",
      "Dev:\t0.15789473684210525\n",
      "Academic license - for non-commercial use only\n",
      "Academic license - for non-commercial use only\n"
     ]
    },
    {
     "name": "stderr",
     "output_type": "stream",
     "text": [
      "┌ Warning: Not solved to optimality, status: Unbounded\n",
      "└ @ JuMP /Users/vishalgupta/.julia/packages/JuMP/I7whV/src/solvers.jl:212\n",
      "┌ Warning: Not solved to optimality, status: Unbounded\n",
      "└ @ JuMP /Users/vishalgupta/.julia/packages/JuMP/I7whV/src/solvers.jl:212\n"
     ]
    },
    {
     "name": "stdout",
     "output_type": "stream",
     "text": [
      "Academic license - for non-commercial use only\n",
      "Academic license - for non-commercial use only\n"
     ]
    },
    {
     "name": "stderr",
     "output_type": "stream",
     "text": [
      "┌ Warning: Not solved to optimality, status: Unbounded\n",
      "└ @ JuMP /Users/vishalgupta/.julia/packages/JuMP/I7whV/src/solvers.jl:212\n",
      "┌ Warning: Not solved to optimality, status: Unbounded\n",
      "└ @ JuMP /Users/vishalgupta/.julia/packages/JuMP/I7whV/src/solvers.jl:212\n"
     ]
    },
    {
     "name": "stdout",
     "output_type": "stream",
     "text": [
      "Academic license - for non-commercial use only\n",
      "Academic license - for non-commercial use only\n",
      "Academic license - for non-commercial use only\n",
      "Academic license - for non-commercial use only\n"
     ]
    },
    {
     "name": "stderr",
     "output_type": "stream",
     "text": [
      "┌ Warning: Not solved to optimality, status: Unbounded\n",
      "└ @ JuMP /Users/vishalgupta/.julia/packages/JuMP/I7whV/src/solvers.jl:212\n",
      "┌ Warning: Not solved to optimality, status: Unbounded\n",
      "└ @ JuMP /Users/vishalgupta/.julia/packages/JuMP/I7whV/src/solvers.jl:212\n",
      "┌ Warning: Not solved to optimality, status: Unbounded\n",
      "└ @ JuMP /Users/vishalgupta/.julia/packages/JuMP/I7whV/src/solvers.jl:212\n",
      "┌ Warning: Not solved to optimality, status: Unbounded\n",
      "└ @ JuMP /Users/vishalgupta/.julia/packages/JuMP/I7whV/src/solvers.jl:212\n"
     ]
    },
    {
     "name": "stdout",
     "output_type": "stream",
     "text": [
      "Academic license - for non-commercial use only\n",
      "Academic license - for non-commercial use only\n",
      "Academic license - for non-commercial use only\n",
      "Academic license - for non-commercial use only\n"
     ]
    },
    {
     "name": "stderr",
     "output_type": "stream",
     "text": [
      "┌ Warning: Not solved to optimality, status: Unbounded\n",
      "└ @ JuMP /Users/vishalgupta/.julia/packages/JuMP/I7whV/src/solvers.jl:212\n",
      "┌ Warning: Not solved to optimality, status: Unbounded\n",
      "└ @ JuMP /Users/vishalgupta/.julia/packages/JuMP/I7whV/src/solvers.jl:212\n",
      "┌ Warning: Not solved to optimality, status: Unbounded\n",
      "└ @ JuMP /Users/vishalgupta/.julia/packages/JuMP/I7whV/src/solvers.jl:212\n",
      "┌ Warning: Not solved to optimality, status: Unbounded\n",
      "└ @ JuMP /Users/vishalgupta/.julia/packages/JuMP/I7whV/src/solvers.jl:212\n"
     ]
    },
    {
     "name": "stdout",
     "output_type": "stream",
     "text": [
      "Academic license - for non-commercial use only\n",
      "Academic license - for non-commercial use only\n",
      "Academic license - for non-commercial use only\n",
      "Academic license - for non-commercial use only\n"
     ]
    },
    {
     "name": "stderr",
     "output_type": "stream",
     "text": [
      "┌ Warning: Not solved to optimality, status: Unbounded\n",
      "└ @ JuMP /Users/vishalgupta/.julia/packages/JuMP/I7whV/src/solvers.jl:212\n",
      "┌ Warning: Not solved to optimality, status: Unbounded\n",
      "└ @ JuMP /Users/vishalgupta/.julia/packages/JuMP/I7whV/src/solvers.jl:212\n",
      "┌ Warning: Not solved to optimality, status: Unbounded\n",
      "└ @ JuMP /Users/vishalgupta/.julia/packages/JuMP/I7whV/src/solvers.jl:212\n",
      "┌ Warning: Not solved to optimality, status: Unbounded\n",
      "└ @ JuMP /Users/vishalgupta/.julia/packages/JuMP/I7whV/src/solvers.jl:212\n"
     ]
    },
    {
     "name": "stdout",
     "output_type": "stream",
     "text": [
      "Academic license - for non-commercial use only\n",
      "Academic license - for non-commercial use only\n",
      "Academic license - for non-commercial use only\n",
      "Academic license - for non-commercial use only\n"
     ]
    },
    {
     "name": "stderr",
     "output_type": "stream",
     "text": [
      "┌ Warning: Not solved to optimality, status: Unbounded\n",
      "└ @ JuMP /Users/vishalgupta/.julia/packages/JuMP/I7whV/src/solvers.jl:212\n",
      "┌ Warning: Not solved to optimality, status: Unbounded\n",
      "└ @ JuMP /Users/vishalgupta/.julia/packages/JuMP/I7whV/src/solvers.jl:212\n",
      "┌ Warning: Not solved to optimality, status: Unbounded\n",
      "└ @ JuMP /Users/vishalgupta/.julia/packages/JuMP/I7whV/src/solvers.jl:212\n",
      "┌ Warning: Not solved to optimality, status: Unbounded\n",
      "└ @ JuMP /Users/vishalgupta/.julia/packages/JuMP/I7whV/src/solvers.jl:212\n"
     ]
    },
    {
     "name": "stdout",
     "output_type": "stream",
     "text": [
      "Academic license - for non-commercial use only\n",
      "Academic license - for non-commercial use only\n",
      "Academic license - for non-commercial use only\n",
      "Academic license - for non-commercial use only\n"
     ]
    },
    {
     "name": "stderr",
     "output_type": "stream",
     "text": [
      "┌ Warning: Not solved to optimality, status: Unbounded\n",
      "└ @ JuMP /Users/vishalgupta/.julia/packages/JuMP/I7whV/src/solvers.jl:212\n",
      "┌ Warning: Not solved to optimality, status: Unbounded\n",
      "└ @ JuMP /Users/vishalgupta/.julia/packages/JuMP/I7whV/src/solvers.jl:212\n",
      "┌ Warning: Not solved to optimality, status: Unbounded\n",
      "└ @ JuMP /Users/vishalgupta/.julia/packages/JuMP/I7whV/src/solvers.jl:212\n",
      "┌ Warning: Not solved to optimality, status: Unbounded\n",
      "└ @ JuMP /Users/vishalgupta/.julia/packages/JuMP/I7whV/src/solvers.jl:212\n"
     ]
    },
    {
     "name": "stdout",
     "output_type": "stream",
     "text": [
      "Academic license - for non-commercial use only\n",
      "Academic license - for non-commercial use only\n",
      "Academic license - for non-commercial use only\n",
      "Academic license - for non-commercial use only\n"
     ]
    },
    {
     "name": "stderr",
     "output_type": "stream",
     "text": [
      "┌ Warning: Not solved to optimality, status: Unbounded\n",
      "└ @ JuMP /Users/vishalgupta/.julia/packages/JuMP/I7whV/src/solvers.jl:212\n",
      "┌ Warning: Not solved to optimality, status: Unbounded\n",
      "└ @ JuMP /Users/vishalgupta/.julia/packages/JuMP/I7whV/src/solvers.jl:212\n",
      "┌ Warning: Not solved to optimality, status: Unbounded\n",
      "└ @ JuMP /Users/vishalgupta/.julia/packages/JuMP/I7whV/src/solvers.jl:212\n",
      "┌ Warning: Not solved to optimality, status: Unbounded\n",
      "└ @ JuMP /Users/vishalgupta/.julia/packages/JuMP/I7whV/src/solvers.jl:212\n"
     ]
    },
    {
     "name": "stdout",
     "output_type": "stream",
     "text": [
      "Academic license - for non-commercial use only\n",
      "Academic license - for non-commercial use only\n"
     ]
    },
    {
     "name": "stderr",
     "output_type": "stream",
     "text": [
      "┌ Warning: Not solved to optimality, status: Unbounded\n",
      "└ @ JuMP /Users/vishalgupta/.julia/packages/JuMP/I7whV/src/solvers.jl:212\n",
      "┌ Warning: Not solved to optimality, status: Unbounded\n",
      "└ @ JuMP /Users/vishalgupta/.julia/packages/JuMP/I7whV/src/solvers.jl:212\n"
     ]
    },
    {
     "name": "stdout",
     "output_type": "stream",
     "text": [
      "Academic license - for non-commercial use only\n",
      "Academic license - for non-commercial use only\n",
      "Academic license - for non-commercial use only\n",
      "Academic license - for non-commercial use only\n"
     ]
    },
    {
     "name": "stderr",
     "output_type": "stream",
     "text": [
      "┌ Warning: Not solved to optimality, status: Unbounded\n",
      "└ @ JuMP /Users/vishalgupta/.julia/packages/JuMP/I7whV/src/solvers.jl:212\n",
      "┌ Warning: Not solved to optimality, status: Unbounded\n",
      "└ @ JuMP /Users/vishalgupta/.julia/packages/JuMP/I7whV/src/solvers.jl:212\n",
      "┌ Warning: Not solved to optimality, status: Unbounded\n",
      "└ @ JuMP /Users/vishalgupta/.julia/packages/JuMP/I7whV/src/solvers.jl:212\n",
      "┌ Warning: Not solved to optimality, status: Unbounded\n",
      "└ @ JuMP /Users/vishalgupta/.julia/packages/JuMP/I7whV/src/solvers.jl:212\n"
     ]
    },
    {
     "name": "stdout",
     "output_type": "stream",
     "text": [
      "Academic license - for non-commercial use only\n",
      "Academic license - for non-commercial use only\n",
      "Academic license - for non-commercial use only\n",
      "Academic license - for non-commercial use only\n"
     ]
    },
    {
     "name": "stderr",
     "output_type": "stream",
     "text": [
      "┌ Warning: Not solved to optimality, status: Unbounded\n",
      "└ @ JuMP /Users/vishalgupta/.julia/packages/JuMP/I7whV/src/solvers.jl:212\n",
      "┌ Warning: Not solved to optimality, status: Unbounded\n",
      "└ @ JuMP /Users/vishalgupta/.julia/packages/JuMP/I7whV/src/solvers.jl:212\n",
      "┌ Warning: Not solved to optimality, status: Unbounded\n",
      "└ @ JuMP /Users/vishalgupta/.julia/packages/JuMP/I7whV/src/solvers.jl:212\n",
      "┌ Warning: Not solved to optimality, status: Unbounded\n",
      "└ @ JuMP /Users/vishalgupta/.julia/packages/JuMP/I7whV/src/solvers.jl:212\n"
     ]
    },
    {
     "name": "stdout",
     "output_type": "stream",
     "text": [
      "Academic license - for non-commercial use only\n",
      "Academic license - for non-commercial use only\n",
      "Academic license - for non-commercial use only\n",
      "Academic license - for non-commercial use only\n"
     ]
    },
    {
     "name": "stderr",
     "output_type": "stream",
     "text": [
      "┌ Warning: Not solved to optimality, status: Unbounded\n",
      "└ @ JuMP /Users/vishalgupta/.julia/packages/JuMP/I7whV/src/solvers.jl:212\n",
      "┌ Warning: Not solved to optimality, status: Unbounded\n",
      "└ @ JuMP /Users/vishalgupta/.julia/packages/JuMP/I7whV/src/solvers.jl:212\n",
      "┌ Warning: Not solved to optimality, status: Unbounded\n",
      "└ @ JuMP /Users/vishalgupta/.julia/packages/JuMP/I7whV/src/solvers.jl:212\n",
      "┌ Warning: Not solved to optimality, status: Unbounded\n",
      "└ @ JuMP /Users/vishalgupta/.julia/packages/JuMP/I7whV/src/solvers.jl:212\n"
     ]
    },
    {
     "name": "stdout",
     "output_type": "stream",
     "text": [
      "Academic license - for non-commercial use only\n",
      "Academic license - for non-commercial use only\n",
      "Academic license - for non-commercial use only\n",
      "Academic license - for non-commercial use only\n"
     ]
    },
    {
     "name": "stderr",
     "output_type": "stream",
     "text": [
      "┌ Warning: Not solved to optimality, status: Unbounded\n",
      "└ @ JuMP /Users/vishalgupta/.julia/packages/JuMP/I7whV/src/solvers.jl:212\n",
      "┌ Warning: Not solved to optimality, status: Unbounded\n",
      "└ @ JuMP /Users/vishalgupta/.julia/packages/JuMP/I7whV/src/solvers.jl:212\n",
      "┌ Warning: Not solved to optimality, status: Unbounded\n",
      "└ @ JuMP /Users/vishalgupta/.julia/packages/JuMP/I7whV/src/solvers.jl:212\n",
      "┌ Warning: Not solved to optimality, status: Unbounded\n",
      "└ @ JuMP /Users/vishalgupta/.julia/packages/JuMP/I7whV/src/solvers.jl:212\n"
     ]
    },
    {
     "name": "stdout",
     "output_type": "stream",
     "text": [
      "Academic license - for non-commercial use only\n",
      "Academic license - for non-commercial use only\n",
      "Academic license - for non-commercial use only\n",
      "Academic license - for non-commercial use only\n"
     ]
    },
    {
     "name": "stderr",
     "output_type": "stream",
     "text": [
      "┌ Warning: Not solved to optimality, status: Unbounded\n",
      "└ @ JuMP /Users/vishalgupta/.julia/packages/JuMP/I7whV/src/solvers.jl:212\n",
      "┌ Warning: Not solved to optimality, status: Unbounded\n",
      "└ @ JuMP /Users/vishalgupta/.julia/packages/JuMP/I7whV/src/solvers.jl:212\n",
      "┌ Warning: Not solved to optimality, status: Unbounded\n",
      "└ @ JuMP /Users/vishalgupta/.julia/packages/JuMP/I7whV/src/solvers.jl:212\n",
      "┌ Warning: Not solved to optimality, status: Unbounded\n",
      "└ @ JuMP /Users/vishalgupta/.julia/packages/JuMP/I7whV/src/solvers.jl:212\n"
     ]
    },
    {
     "name": "stdout",
     "output_type": "stream",
     "text": [
      "Academic license - for non-commercial use only\n",
      "Academic license - for non-commercial use only\n",
      "Academic license - for non-commercial use only\n",
      "Academic license - for non-commercial use only\n"
     ]
    },
    {
     "name": "stderr",
     "output_type": "stream",
     "text": [
      "┌ Warning: Not solved to optimality, status: Unbounded\n",
      "└ @ JuMP /Users/vishalgupta/.julia/packages/JuMP/I7whV/src/solvers.jl:212\n",
      "┌ Warning: Not solved to optimality, status: Unbounded\n",
      "└ @ JuMP /Users/vishalgupta/.julia/packages/JuMP/I7whV/src/solvers.jl:212\n",
      "┌ Warning: Not solved to optimality, status: Unbounded\n",
      "└ @ JuMP /Users/vishalgupta/.julia/packages/JuMP/I7whV/src/solvers.jl:212\n",
      "┌ Warning: Not solved to optimality, status: Unbounded\n",
      "└ @ JuMP /Users/vishalgupta/.julia/packages/JuMP/I7whV/src/solvers.jl:212\n"
     ]
    },
    {
     "name": "stdout",
     "output_type": "stream",
     "text": [
      "Academic license - for non-commercial use only\n",
      "Academic license - for non-commercial use only\n"
     ]
    },
    {
     "name": "stderr",
     "output_type": "stream",
     "text": [
      "┌ Warning: Not solved to optimality, status: Unbounded\n",
      "└ @ JuMP /Users/vishalgupta/.julia/packages/JuMP/I7whV/src/solvers.jl:212\n",
      "┌ Warning: Not solved to optimality, status: Unbounded\n",
      "└ @ JuMP /Users/vishalgupta/.julia/packages/JuMP/I7whV/src/solvers.jl:212\n"
     ]
    },
    {
     "name": "stdout",
     "output_type": "stream",
     "text": [
      "Academic license - for non-commercial use only\n",
      "Academic license - for non-commercial use only\n",
      "Academic license - for non-commercial use only\n",
      "Academic license - for non-commercial use only\n"
     ]
    },
    {
     "name": "stderr",
     "output_type": "stream",
     "text": [
      "┌ Warning: Not solved to optimality, status: Unbounded\n",
      "└ @ JuMP /Users/vishalgupta/.julia/packages/JuMP/I7whV/src/solvers.jl:212\n",
      "┌ Warning: Not solved to optimality, status: Unbounded\n",
      "└ @ JuMP /Users/vishalgupta/.julia/packages/JuMP/I7whV/src/solvers.jl:212\n",
      "┌ Warning: Not solved to optimality, status: Unbounded\n",
      "└ @ JuMP /Users/vishalgupta/.julia/packages/JuMP/I7whV/src/solvers.jl:212\n",
      "┌ Warning: Not solved to optimality, status: Unbounded\n",
      "└ @ JuMP /Users/vishalgupta/.julia/packages/JuMP/I7whV/src/solvers.jl:212\n"
     ]
    },
    {
     "name": "stdout",
     "output_type": "stream",
     "text": [
      "Academic license - for non-commercial use only\n",
      "Academic license - for non-commercial use only\n",
      "Academic license - for non-commercial use only\n",
      "Academic license - for non-commercial use only\n"
     ]
    },
    {
     "name": "stderr",
     "output_type": "stream",
     "text": [
      "┌ Warning: Not solved to optimality, status: Unbounded\n",
      "└ @ JuMP /Users/vishalgupta/.julia/packages/JuMP/I7whV/src/solvers.jl:212\n",
      "┌ Warning: Not solved to optimality, status: Unbounded\n",
      "└ @ JuMP /Users/vishalgupta/.julia/packages/JuMP/I7whV/src/solvers.jl:212\n",
      "┌ Warning: Not solved to optimality, status: Unbounded\n",
      "└ @ JuMP /Users/vishalgupta/.julia/packages/JuMP/I7whV/src/solvers.jl:212\n",
      "┌ Warning: Not solved to optimality, status: Unbounded\n",
      "└ @ JuMP /Users/vishalgupta/.julia/packages/JuMP/I7whV/src/solvers.jl:212\n"
     ]
    },
    {
     "name": "stdout",
     "output_type": "stream",
     "text": [
      "Academic license - for non-commercial use only\n",
      "Academic license - for non-commercial use only\n",
      "Academic license - for non-commercial use only\n",
      "Academic license - for non-commercial use only\n"
     ]
    },
    {
     "name": "stderr",
     "output_type": "stream",
     "text": [
      "┌ Warning: Not solved to optimality, status: Unbounded\n",
      "└ @ JuMP /Users/vishalgupta/.julia/packages/JuMP/I7whV/src/solvers.jl:212\n",
      "┌ Warning: Not solved to optimality, status: Unbounded\n",
      "└ @ JuMP /Users/vishalgupta/.julia/packages/JuMP/I7whV/src/solvers.jl:212\n",
      "┌ Warning: Not solved to optimality, status: Unbounded\n",
      "└ @ JuMP /Users/vishalgupta/.julia/packages/JuMP/I7whV/src/solvers.jl:212\n",
      "┌ Warning: Not solved to optimality, status: Unbounded\n",
      "└ @ JuMP /Users/vishalgupta/.julia/packages/JuMP/I7whV/src/solvers.jl:212\n"
     ]
    },
    {
     "name": "stdout",
     "output_type": "stream",
     "text": [
      "Academic license - for non-commercial use only\n",
      "Academic license - for non-commercial use only\n",
      "Academic license - for non-commercial use only\n",
      "Academic license - for non-commercial use only\n"
     ]
    },
    {
     "name": "stderr",
     "output_type": "stream",
     "text": [
      "┌ Warning: Not solved to optimality, status: Unbounded\n",
      "└ @ JuMP /Users/vishalgupta/.julia/packages/JuMP/I7whV/src/solvers.jl:212\n",
      "┌ Warning: Not solved to optimality, status: Unbounded\n",
      "└ @ JuMP /Users/vishalgupta/.julia/packages/JuMP/I7whV/src/solvers.jl:212\n",
      "┌ Warning: Not solved to optimality, status: Unbounded\n",
      "└ @ JuMP /Users/vishalgupta/.julia/packages/JuMP/I7whV/src/solvers.jl:212\n",
      "┌ Warning: Not solved to optimality, status: Unbounded\n",
      "└ @ JuMP /Users/vishalgupta/.julia/packages/JuMP/I7whV/src/solvers.jl:212\n"
     ]
    },
    {
     "name": "stdout",
     "output_type": "stream",
     "text": [
      "Academic license - for non-commercial use only\n",
      "Academic license - for non-commercial use only\n",
      "Academic license - for non-commercial use only\n",
      "Academic license - for non-commercial use only\n"
     ]
    },
    {
     "name": "stderr",
     "output_type": "stream",
     "text": [
      "┌ Warning: Not solved to optimality, status: Unbounded\n",
      "└ @ JuMP /Users/vishalgupta/.julia/packages/JuMP/I7whV/src/solvers.jl:212\n",
      "┌ Warning: Not solved to optimality, status: Unbounded\n",
      "└ @ JuMP /Users/vishalgupta/.julia/packages/JuMP/I7whV/src/solvers.jl:212\n",
      "┌ Warning: Not solved to optimality, status: Unbounded\n",
      "└ @ JuMP /Users/vishalgupta/.julia/packages/JuMP/I7whV/src/solvers.jl:212\n",
      "┌ Warning: Not solved to optimality, status: Unbounded\n",
      "└ @ JuMP /Users/vishalgupta/.julia/packages/JuMP/I7whV/src/solvers.jl:212\n"
     ]
    },
    {
     "name": "stdout",
     "output_type": "stream",
     "text": [
      "Academic license - for non-commercial use only\n",
      "Academic license - for non-commercial use only\n",
      "Academic license - for non-commercial use only\n",
      "Academic license - for non-commercial use only\n"
     ]
    },
    {
     "name": "stderr",
     "output_type": "stream",
     "text": [
      "┌ Warning: Not solved to optimality, status: Unbounded\n",
      "└ @ JuMP /Users/vishalgupta/.julia/packages/JuMP/I7whV/src/solvers.jl:212\n",
      "┌ Warning: Not solved to optimality, status: Unbounded\n",
      "└ @ JuMP /Users/vishalgupta/.julia/packages/JuMP/I7whV/src/solvers.jl:212\n",
      "┌ Warning: Not solved to optimality, status: Unbounded\n",
      "└ @ JuMP /Users/vishalgupta/.julia/packages/JuMP/I7whV/src/solvers.jl:212\n",
      "┌ Warning: Not solved to optimality, status: Unbounded\n",
      "└ @ JuMP /Users/vishalgupta/.julia/packages/JuMP/I7whV/src/solvers.jl:212\n"
     ]
    },
    {
     "name": "stdout",
     "output_type": "stream",
     "text": [
      "Academic license - for non-commercial use only\n",
      "Academic license - for non-commercial use only\n",
      "Academic license - for non-commercial use only\n",
      "Academic license - for non-commercial use only\n"
     ]
    },
    {
     "name": "stderr",
     "output_type": "stream",
     "text": [
      "┌ Warning: Not solved to optimality, status: Unbounded\n",
      "└ @ JuMP /Users/vishalgupta/.julia/packages/JuMP/I7whV/src/solvers.jl:212\n",
      "┌ Warning: Not solved to optimality, status: Unbounded\n",
      "└ @ JuMP /Users/vishalgupta/.julia/packages/JuMP/I7whV/src/solvers.jl:212\n",
      "┌ Warning: Not solved to optimality, status: Unbounded\n",
      "└ @ JuMP /Users/vishalgupta/.julia/packages/JuMP/I7whV/src/solvers.jl:212\n",
      "┌ Warning: Not solved to optimality, status: Unbounded\n",
      "└ @ JuMP /Users/vishalgupta/.julia/packages/JuMP/I7whV/src/solvers.jl:212\n"
     ]
    },
    {
     "name": "stdout",
     "output_type": "stream",
     "text": [
      "Academic license - for non-commercial use only\n",
      "Academic license - for non-commercial use only\n",
      "Academic license - for non-commercial use only\n",
      "Academic license - for non-commercial use only\n"
     ]
    },
    {
     "name": "stderr",
     "output_type": "stream",
     "text": [
      "┌ Warning: Not solved to optimality, status: Unbounded\n",
      "└ @ JuMP /Users/vishalgupta/.julia/packages/JuMP/I7whV/src/solvers.jl:212\n",
      "┌ Warning: Not solved to optimality, status: Unbounded\n",
      "└ @ JuMP /Users/vishalgupta/.julia/packages/JuMP/I7whV/src/solvers.jl:212\n",
      "┌ Warning: Not solved to optimality, status: Unbounded\n",
      "└ @ JuMP /Users/vishalgupta/.julia/packages/JuMP/I7whV/src/solvers.jl:212\n",
      "┌ Warning: Not solved to optimality, status: Unbounded\n",
      "└ @ JuMP /Users/vishalgupta/.julia/packages/JuMP/I7whV/src/solvers.jl:212\n"
     ]
    },
    {
     "name": "stdout",
     "output_type": "stream",
     "text": [
      "Academic license - for non-commercial use only\n",
      "Academic license - for non-commercial use only\n",
      "Academic license - for non-commercial use only\n",
      "Academic license - for non-commercial use only\n"
     ]
    },
    {
     "name": "stderr",
     "output_type": "stream",
     "text": [
      "┌ Warning: Not solved to optimality, status: Unbounded\n",
      "└ @ JuMP /Users/vishalgupta/.julia/packages/JuMP/I7whV/src/solvers.jl:212\n",
      "┌ Warning: Not solved to optimality, status: Unbounded\n",
      "└ @ JuMP /Users/vishalgupta/.julia/packages/JuMP/I7whV/src/solvers.jl:212\n",
      "┌ Warning: Not solved to optimality, status: Unbounded\n",
      "└ @ JuMP /Users/vishalgupta/.julia/packages/JuMP/I7whV/src/solvers.jl:212\n",
      "┌ Warning: Not solved to optimality, status: Unbounded\n",
      "└ @ JuMP /Users/vishalgupta/.julia/packages/JuMP/I7whV/src/solvers.jl:212\n"
     ]
    },
    {
     "name": "stdout",
     "output_type": "stream",
     "text": [
      "Academic license - for non-commercial use only\n",
      "Academic license - for non-commercial use only\n",
      "Academic license - for non-commercial use only\n",
      "Academic license - for non-commercial use only\n"
     ]
    },
    {
     "name": "stderr",
     "output_type": "stream",
     "text": [
      "┌ Warning: Not solved to optimality, status: Unbounded\n",
      "└ @ JuMP /Users/vishalgupta/.julia/packages/JuMP/I7whV/src/solvers.jl:212\n",
      "┌ Warning: Not solved to optimality, status: Unbounded\n",
      "└ @ JuMP /Users/vishalgupta/.julia/packages/JuMP/I7whV/src/solvers.jl:212\n",
      "┌ Warning: Not solved to optimality, status: Unbounded\n",
      "└ @ JuMP /Users/vishalgupta/.julia/packages/JuMP/I7whV/src/solvers.jl:212\n",
      "┌ Warning: Not solved to optimality, status: Unbounded\n",
      "└ @ JuMP /Users/vishalgupta/.julia/packages/JuMP/I7whV/src/solvers.jl:212\n"
     ]
    },
    {
     "name": "stdout",
     "output_type": "stream",
     "text": [
      "Academic license - for non-commercial use only\n",
      "Academic license - for non-commercial use only\n",
      "Academic license - for non-commercial use only\n",
      "Academic license - for non-commercial use only\n"
     ]
    },
    {
     "name": "stderr",
     "output_type": "stream",
     "text": [
      "┌ Warning: Not solved to optimality, status: Unbounded\n",
      "└ @ JuMP /Users/vishalgupta/.julia/packages/JuMP/I7whV/src/solvers.jl:212\n",
      "┌ Warning: Not solved to optimality, status: Unbounded\n",
      "└ @ JuMP /Users/vishalgupta/.julia/packages/JuMP/I7whV/src/solvers.jl:212\n",
      "┌ Warning: Not solved to optimality, status: Unbounded\n",
      "└ @ JuMP /Users/vishalgupta/.julia/packages/JuMP/I7whV/src/solvers.jl:212\n",
      "┌ Warning: Not solved to optimality, status: Unbounded\n",
      "└ @ JuMP /Users/vishalgupta/.julia/packages/JuMP/I7whV/src/solvers.jl:212\n"
     ]
    },
    {
     "name": "stdout",
     "output_type": "stream",
     "text": [
      "Academic license - for non-commercial use only\n",
      "Academic license - for non-commercial use only\n",
      "Academic license - for non-commercial use only\n",
      "Academic license - for non-commercial use only\n"
     ]
    },
    {
     "name": "stderr",
     "output_type": "stream",
     "text": [
      "┌ Warning: Not solved to optimality, status: Unbounded\n",
      "└ @ JuMP /Users/vishalgupta/.julia/packages/JuMP/I7whV/src/solvers.jl:212\n",
      "┌ Warning: Not solved to optimality, status: Unbounded\n",
      "└ @ JuMP /Users/vishalgupta/.julia/packages/JuMP/I7whV/src/solvers.jl:212\n",
      "┌ Warning: Not solved to optimality, status: Unbounded\n",
      "└ @ JuMP /Users/vishalgupta/.julia/packages/JuMP/I7whV/src/solvers.jl:212\n",
      "┌ Warning: Not solved to optimality, status: Unbounded\n",
      "└ @ JuMP /Users/vishalgupta/.julia/packages/JuMP/I7whV/src/solvers.jl:212\n"
     ]
    },
    {
     "name": "stdout",
     "output_type": "stream",
     "text": [
      "Academic license - for non-commercial use only\n",
      "Academic license - for non-commercial use only\n"
     ]
    },
    {
     "name": "stderr",
     "output_type": "stream",
     "text": [
      "┌ Warning: Not solved to optimality, status: Unbounded\n",
      "└ @ JuMP /Users/vishalgupta/.julia/packages/JuMP/I7whV/src/solvers.jl:212\n",
      "┌ Warning: Not solved to optimality, status: Unbounded\n",
      "└ @ JuMP /Users/vishalgupta/.julia/packages/JuMP/I7whV/src/solvers.jl:212\n"
     ]
    },
    {
     "name": "stdout",
     "output_type": "stream",
     "text": [
      "Academic license - for non-commercial use only\n",
      "Academic license - for non-commercial use only\n",
      "Academic license - for non-commercial use only\n",
      "Academic license - for non-commercial use only\n"
     ]
    },
    {
     "name": "stderr",
     "output_type": "stream",
     "text": [
      "┌ Warning: Not solved to optimality, status: Unbounded\n",
      "└ @ JuMP /Users/vishalgupta/.julia/packages/JuMP/I7whV/src/solvers.jl:212\n",
      "┌ Warning: Not solved to optimality, status: Unbounded\n",
      "└ @ JuMP /Users/vishalgupta/.julia/packages/JuMP/I7whV/src/solvers.jl:212\n",
      "┌ Warning: Not solved to optimality, status: Unbounded\n",
      "└ @ JuMP /Users/vishalgupta/.julia/packages/JuMP/I7whV/src/solvers.jl:212\n",
      "┌ Warning: Not solved to optimality, status: Unbounded\n",
      "└ @ JuMP /Users/vishalgupta/.julia/packages/JuMP/I7whV/src/solvers.jl:212\n"
     ]
    },
    {
     "name": "stdout",
     "output_type": "stream",
     "text": [
      "Academic license - for non-commercial use only\n",
      "Academic license - for non-commercial use only\n",
      "Academic license - for non-commercial use only\n",
      "Academic license - for non-commercial use only\n"
     ]
    },
    {
     "name": "stderr",
     "output_type": "stream",
     "text": [
      "┌ Warning: Not solved to optimality, status: Unbounded\n",
      "└ @ JuMP /Users/vishalgupta/.julia/packages/JuMP/I7whV/src/solvers.jl:212\n",
      "┌ Warning: Not solved to optimality, status: Unbounded\n",
      "└ @ JuMP /Users/vishalgupta/.julia/packages/JuMP/I7whV/src/solvers.jl:212\n",
      "┌ Warning: Not solved to optimality, status: Unbounded\n",
      "└ @ JuMP /Users/vishalgupta/.julia/packages/JuMP/I7whV/src/solvers.jl:212\n",
      "┌ Warning: Not solved to optimality, status: Unbounded\n",
      "└ @ JuMP /Users/vishalgupta/.julia/packages/JuMP/I7whV/src/solvers.jl:212\n"
     ]
    },
    {
     "name": "stdout",
     "output_type": "stream",
     "text": [
      "Academic license - for non-commercial use only\n",
      "Academic license - for non-commercial use only\n",
      "Academic license - for non-commercial use only\n",
      "Academic license - for non-commercial use only\n"
     ]
    },
    {
     "name": "stderr",
     "output_type": "stream",
     "text": [
      "┌ Warning: Not solved to optimality, status: Unbounded\n",
      "└ @ JuMP /Users/vishalgupta/.julia/packages/JuMP/I7whV/src/solvers.jl:212\n",
      "┌ Warning: Not solved to optimality, status: Unbounded\n",
      "└ @ JuMP /Users/vishalgupta/.julia/packages/JuMP/I7whV/src/solvers.jl:212\n",
      "┌ Warning: Not solved to optimality, status: Unbounded\n",
      "└ @ JuMP /Users/vishalgupta/.julia/packages/JuMP/I7whV/src/solvers.jl:212\n",
      "┌ Warning: Not solved to optimality, status: Unbounded\n",
      "└ @ JuMP /Users/vishalgupta/.julia/packages/JuMP/I7whV/src/solvers.jl:212\n"
     ]
    },
    {
     "name": "stdout",
     "output_type": "stream",
     "text": [
      "Academic license - for non-commercial use only\n",
      "Academic license - for non-commercial use only\n",
      "Academic license - for non-commercial use only\n",
      "Academic license - for non-commercial use only\n"
     ]
    },
    {
     "name": "stderr",
     "output_type": "stream",
     "text": [
      "┌ Warning: Not solved to optimality, status: Unbounded\n",
      "└ @ JuMP /Users/vishalgupta/.julia/packages/JuMP/I7whV/src/solvers.jl:212\n",
      "┌ Warning: Not solved to optimality, status: Unbounded\n",
      "└ @ JuMP /Users/vishalgupta/.julia/packages/JuMP/I7whV/src/solvers.jl:212\n",
      "┌ Warning: Not solved to optimality, status: Unbounded\n",
      "└ @ JuMP /Users/vishalgupta/.julia/packages/JuMP/I7whV/src/solvers.jl:212\n",
      "┌ Warning: Not solved to optimality, status: Unbounded\n",
      "└ @ JuMP /Users/vishalgupta/.julia/packages/JuMP/I7whV/src/solvers.jl:212\n"
     ]
    },
    {
     "name": "stdout",
     "output_type": "stream",
     "text": [
      "Academic license - for non-commercial use only\n",
      "Academic license - for non-commercial use only\n",
      "Academic license - for non-commercial use only\n",
      "Academic license - for non-commercial use only\n"
     ]
    },
    {
     "name": "stderr",
     "output_type": "stream",
     "text": [
      "┌ Warning: Not solved to optimality, status: Unbounded\n",
      "└ @ JuMP /Users/vishalgupta/.julia/packages/JuMP/I7whV/src/solvers.jl:212\n",
      "┌ Warning: Not solved to optimality, status: Unbounded\n",
      "└ @ JuMP /Users/vishalgupta/.julia/packages/JuMP/I7whV/src/solvers.jl:212\n",
      "┌ Warning: Not solved to optimality, status: Unbounded\n",
      "└ @ JuMP /Users/vishalgupta/.julia/packages/JuMP/I7whV/src/solvers.jl:212\n",
      "┌ Warning: Not solved to optimality, status: Unbounded\n",
      "└ @ JuMP /Users/vishalgupta/.julia/packages/JuMP/I7whV/src/solvers.jl:212\n"
     ]
    },
    {
     "name": "stdout",
     "output_type": "stream",
     "text": [
      "Academic license - for non-commercial use only\n",
      "Academic license - for non-commercial use only\n",
      "Academic license - for non-commercial use only\n",
      "Academic license - for non-commercial use only\n"
     ]
    },
    {
     "name": "stderr",
     "output_type": "stream",
     "text": [
      "┌ Warning: Not solved to optimality, status: Unbounded\n",
      "└ @ JuMP /Users/vishalgupta/.julia/packages/JuMP/I7whV/src/solvers.jl:212\n",
      "┌ Warning: Not solved to optimality, status: Unbounded\n",
      "└ @ JuMP /Users/vishalgupta/.julia/packages/JuMP/I7whV/src/solvers.jl:212\n",
      "┌ Warning: Not solved to optimality, status: Unbounded\n",
      "└ @ JuMP /Users/vishalgupta/.julia/packages/JuMP/I7whV/src/solvers.jl:212\n",
      "┌ Warning: Not solved to optimality, status: Unbounded\n",
      "└ @ JuMP /Users/vishalgupta/.julia/packages/JuMP/I7whV/src/solvers.jl:212\n"
     ]
    },
    {
     "name": "stdout",
     "output_type": "stream",
     "text": [
      "Academic license - for non-commercial use only\n",
      "Academic license - for non-commercial use only\n",
      "Academic license - for non-commercial use only\n",
      "Academic license - for non-commercial use only\n"
     ]
    },
    {
     "name": "stderr",
     "output_type": "stream",
     "text": [
      "┌ Warning: Not solved to optimality, status: Unbounded\n",
      "└ @ JuMP /Users/vishalgupta/.julia/packages/JuMP/I7whV/src/solvers.jl:212\n",
      "┌ Warning: Not solved to optimality, status: Unbounded\n",
      "└ @ JuMP /Users/vishalgupta/.julia/packages/JuMP/I7whV/src/solvers.jl:212\n",
      "┌ Warning: Not solved to optimality, status: Unbounded\n",
      "└ @ JuMP /Users/vishalgupta/.julia/packages/JuMP/I7whV/src/solvers.jl:212\n",
      "┌ Warning: Not solved to optimality, status: Unbounded\n",
      "└ @ JuMP /Users/vishalgupta/.julia/packages/JuMP/I7whV/src/solvers.jl:212\n"
     ]
    },
    {
     "name": "stdout",
     "output_type": "stream",
     "text": [
      "Academic license - for non-commercial use only\n",
      "Academic license - for non-commercial use only\n",
      "Academic license - for non-commercial use only\n",
      "Academic license - for non-commercial use only\n"
     ]
    },
    {
     "name": "stderr",
     "output_type": "stream",
     "text": [
      "┌ Warning: Not solved to optimality, status: Unbounded\n",
      "└ @ JuMP /Users/vishalgupta/.julia/packages/JuMP/I7whV/src/solvers.jl:212\n",
      "┌ Warning: Not solved to optimality, status: Unbounded\n",
      "└ @ JuMP /Users/vishalgupta/.julia/packages/JuMP/I7whV/src/solvers.jl:212\n",
      "┌ Warning: Not solved to optimality, status: Unbounded\n",
      "└ @ JuMP /Users/vishalgupta/.julia/packages/JuMP/I7whV/src/solvers.jl:212\n",
      "┌ Warning: Not solved to optimality, status: Unbounded\n",
      "└ @ JuMP /Users/vishalgupta/.julia/packages/JuMP/I7whV/src/solvers.jl:212\n"
     ]
    },
    {
     "name": "stdout",
     "output_type": "stream",
     "text": [
      "Academic license - for non-commercial use only\n",
      "Academic license - for non-commercial use only\n"
     ]
    },
    {
     "name": "stderr",
     "output_type": "stream",
     "text": [
      "┌ Warning: Not solved to optimality, status: Unbounded\n",
      "└ @ JuMP /Users/vishalgupta/.julia/packages/JuMP/I7whV/src/solvers.jl:212\n",
      "┌ Warning: Not solved to optimality, status: Unbounded\n",
      "└ @ JuMP /Users/vishalgupta/.julia/packages/JuMP/I7whV/src/solvers.jl:212\n"
     ]
    },
    {
     "name": "stdout",
     "output_type": "stream",
     "text": [
      "Academic license - for non-commercial use only\n",
      "Academic license - for non-commercial use only\n",
      "Academic license - for non-commercial use only\n",
      "Academic license - for non-commercial use only\n"
     ]
    },
    {
     "name": "stderr",
     "output_type": "stream",
     "text": [
      "┌ Warning: Not solved to optimality, status: Unbounded\n",
      "└ @ JuMP /Users/vishalgupta/.julia/packages/JuMP/I7whV/src/solvers.jl:212\n",
      "┌ Warning: Not solved to optimality, status: Unbounded\n",
      "└ @ JuMP /Users/vishalgupta/.julia/packages/JuMP/I7whV/src/solvers.jl:212\n",
      "┌ Warning: Not solved to optimality, status: Unbounded\n",
      "└ @ JuMP /Users/vishalgupta/.julia/packages/JuMP/I7whV/src/solvers.jl:212\n",
      "┌ Warning: Not solved to optimality, status: Unbounded\n",
      "└ @ JuMP /Users/vishalgupta/.julia/packages/JuMP/I7whV/src/solvers.jl:212\n"
     ]
    },
    {
     "name": "stdout",
     "output_type": "stream",
     "text": [
      "Academic license - for non-commercial use only\n",
      "Academic license - for non-commercial use only\n",
      "Academic license - for non-commercial use only\n",
      "Academic license - for non-commercial use only\n"
     ]
    },
    {
     "name": "stderr",
     "output_type": "stream",
     "text": [
      "┌ Warning: Not solved to optimality, status: Unbounded\n",
      "└ @ JuMP /Users/vishalgupta/.julia/packages/JuMP/I7whV/src/solvers.jl:212\n",
      "┌ Warning: Not solved to optimality, status: Unbounded\n",
      "└ @ JuMP /Users/vishalgupta/.julia/packages/JuMP/I7whV/src/solvers.jl:212\n",
      "┌ Warning: Not solved to optimality, status: Unbounded\n",
      "└ @ JuMP /Users/vishalgupta/.julia/packages/JuMP/I7whV/src/solvers.jl:212\n",
      "┌ Warning: Not solved to optimality, status: Unbounded\n",
      "└ @ JuMP /Users/vishalgupta/.julia/packages/JuMP/I7whV/src/solvers.jl:212\n"
     ]
    },
    {
     "name": "stdout",
     "output_type": "stream",
     "text": [
      "Academic license - for non-commercial use only\n",
      "Academic license - for non-commercial use only\n",
      "Academic license - for non-commercial use only\n",
      "Academic license - for non-commercial use only\n"
     ]
    },
    {
     "name": "stderr",
     "output_type": "stream",
     "text": [
      "┌ Warning: Not solved to optimality, status: Unbounded\n",
      "└ @ JuMP /Users/vishalgupta/.julia/packages/JuMP/I7whV/src/solvers.jl:212\n",
      "┌ Warning: Not solved to optimality, status: Unbounded\n",
      "└ @ JuMP /Users/vishalgupta/.julia/packages/JuMP/I7whV/src/solvers.jl:212\n",
      "┌ Warning: Not solved to optimality, status: Unbounded\n",
      "└ @ JuMP /Users/vishalgupta/.julia/packages/JuMP/I7whV/src/solvers.jl:212\n",
      "┌ Warning: Not solved to optimality, status: Unbounded\n",
      "└ @ JuMP /Users/vishalgupta/.julia/packages/JuMP/I7whV/src/solvers.jl:212\n"
     ]
    },
    {
     "name": "stdout",
     "output_type": "stream",
     "text": [
      "Academic license - for non-commercial use only\n",
      "Academic license - for non-commercial use only\n"
     ]
    },
    {
     "name": "stderr",
     "output_type": "stream",
     "text": [
      "┌ Warning: Not solved to optimality, status: Unbounded\n",
      "└ @ JuMP /Users/vishalgupta/.julia/packages/JuMP/I7whV/src/solvers.jl:212\n",
      "┌ Warning: Not solved to optimality, status: Unbounded\n",
      "└ @ JuMP /Users/vishalgupta/.julia/packages/JuMP/I7whV/src/solvers.jl:212\n"
     ]
    },
    {
     "name": "stdout",
     "output_type": "stream",
     "text": [
      "Academic license - for non-commercial use only\n",
      "Academic license - for non-commercial use only\n",
      "Academic license - for non-commercial use only\n",
      "Academic license - for non-commercial use only\n"
     ]
    },
    {
     "name": "stderr",
     "output_type": "stream",
     "text": [
      "┌ Warning: Not solved to optimality, status: Unbounded\n",
      "└ @ JuMP /Users/vishalgupta/.julia/packages/JuMP/I7whV/src/solvers.jl:212\n",
      "┌ Warning: Not solved to optimality, status: Unbounded\n",
      "└ @ JuMP /Users/vishalgupta/.julia/packages/JuMP/I7whV/src/solvers.jl:212\n",
      "┌ Warning: Not solved to optimality, status: Unbounded\n",
      "└ @ JuMP /Users/vishalgupta/.julia/packages/JuMP/I7whV/src/solvers.jl:212\n",
      "┌ Warning: Not solved to optimality, status: Unbounded\n",
      "└ @ JuMP /Users/vishalgupta/.julia/packages/JuMP/I7whV/src/solvers.jl:212\n"
     ]
    },
    {
     "name": "stdout",
     "output_type": "stream",
     "text": [
      "Academic license - for non-commercial use only\n",
      "Academic license - for non-commercial use only\n",
      "Academic license - for non-commercial use only\n",
      "Academic license - for non-commercial use only\n"
     ]
    },
    {
     "name": "stderr",
     "output_type": "stream",
     "text": [
      "┌ Warning: Not solved to optimality, status: Unbounded\n",
      "└ @ JuMP /Users/vishalgupta/.julia/packages/JuMP/I7whV/src/solvers.jl:212\n",
      "┌ Warning: Not solved to optimality, status: Unbounded\n",
      "└ @ JuMP /Users/vishalgupta/.julia/packages/JuMP/I7whV/src/solvers.jl:212\n",
      "┌ Warning: Not solved to optimality, status: Unbounded\n",
      "└ @ JuMP /Users/vishalgupta/.julia/packages/JuMP/I7whV/src/solvers.jl:212\n",
      "┌ Warning: Not solved to optimality, status: Unbounded\n",
      "└ @ JuMP /Users/vishalgupta/.julia/packages/JuMP/I7whV/src/solvers.jl:212\n"
     ]
    },
    {
     "name": "stdout",
     "output_type": "stream",
     "text": [
      "Academic license - for non-commercial use only\n",
      "Academic license - for non-commercial use only\n",
      "Academic license - for non-commercial use only\n",
      "Academic license - for non-commercial use only\n"
     ]
    },
    {
     "name": "stderr",
     "output_type": "stream",
     "text": [
      "┌ Warning: Not solved to optimality, status: Unbounded\n",
      "└ @ JuMP /Users/vishalgupta/.julia/packages/JuMP/I7whV/src/solvers.jl:212\n",
      "┌ Warning: Not solved to optimality, status: Unbounded\n",
      "└ @ JuMP /Users/vishalgupta/.julia/packages/JuMP/I7whV/src/solvers.jl:212\n",
      "┌ Warning: Not solved to optimality, status: Unbounded\n",
      "└ @ JuMP /Users/vishalgupta/.julia/packages/JuMP/I7whV/src/solvers.jl:212\n",
      "┌ Warning: Not solved to optimality, status: Unbounded\n",
      "└ @ JuMP /Users/vishalgupta/.julia/packages/JuMP/I7whV/src/solvers.jl:212\n"
     ]
    },
    {
     "name": "stdout",
     "output_type": "stream",
     "text": [
      "Academic license - for non-commercial use only\n",
      "Academic license - for non-commercial use only\n",
      "Academic license - for non-commercial use only\n",
      "Academic license - for non-commercial use only\n"
     ]
    },
    {
     "name": "stderr",
     "output_type": "stream",
     "text": [
      "┌ Warning: Not solved to optimality, status: Unbounded\n",
      "└ @ JuMP /Users/vishalgupta/.julia/packages/JuMP/I7whV/src/solvers.jl:212\n",
      "┌ Warning: Not solved to optimality, status: Unbounded\n",
      "└ @ JuMP /Users/vishalgupta/.julia/packages/JuMP/I7whV/src/solvers.jl:212\n",
      "┌ Warning: Not solved to optimality, status: Unbounded\n",
      "└ @ JuMP /Users/vishalgupta/.julia/packages/JuMP/I7whV/src/solvers.jl:212\n",
      "┌ Warning: Not solved to optimality, status: Unbounded\n",
      "└ @ JuMP /Users/vishalgupta/.julia/packages/JuMP/I7whV/src/solvers.jl:212\n"
     ]
    },
    {
     "name": "stdout",
     "output_type": "stream",
     "text": [
      "Academic license - for non-commercial use only\n",
      "Academic license - for non-commercial use only\n",
      "Academic license - for non-commercial use only\n",
      "Academic license - for non-commercial use only\n",
      "Academic license - for non-commercial use only\n",
      "Academic license - for non-commercial use only\n",
      "Academic license - for non-commercial use only\n",
      "Academic license - for non-commercial use only\n",
      "Academic license - for non-commercial use only\n",
      "Academic license - for non-commercial use only\n",
      "Academic license - for non-commercial use only\n",
      "Academic license - for non-commercial use only\n",
      "Academic license - for non-commercial use only\n",
      "Academic license - for non-commercial use only\n",
      "Academic license - for non-commercial use only\n",
      "Academic license - for non-commercial use only\n",
      "Academic license - for non-commercial use only\n",
      "Academic license - for non-commercial use only\n",
      "Academic license - for non-commercial use only\n",
      "Academic license - for non-commercial use only\n",
      "Academic license - for non-commercial use only\n",
      "Academic license - for non-commercial use only\n",
      "Academic license - for non-commercial use only\n",
      "Academic license - for non-commercial use only\n",
      "Academic license - for non-commercial use only\n",
      "Academic license - for non-commercial use only\n",
      "Academic license - for non-commercial use only\n",
      "Academic license - for non-commercial use only\n",
      "Academic license - for non-commercial use only\n",
      "Academic license - for non-commercial use only\n",
      "Academic license - for non-commercial use only\n",
      "Academic license - for non-commercial use only\n",
      "Academic license - for non-commercial use only\n",
      "Academic license - for non-commercial use only\n",
      "Academic license - for non-commercial use only\n",
      "Academic license - for non-commercial use only\n",
      "Academic license - for non-commercial use only\n",
      "Academic license - for non-commercial use only\n",
      "Academic license - for non-commercial use only\n",
      "Academic license - for non-commercial use only\n",
      "Academic license - for non-commercial use only\n",
      "Academic license - for non-commercial use only\n",
      "Academic license - for non-commercial use only\n",
      "Academic license - for non-commercial use only\n",
      "Academic license - for non-commercial use only\n",
      "Academic license - for non-commercial use only\n",
      "Academic license - for non-commercial use only\n",
      "Academic license - for non-commercial use only\n",
      "Academic license - for non-commercial use only\n",
      "Academic license - for non-commercial use only\n",
      "Academic license - for non-commercial use only\n",
      "Academic license - for non-commercial use only\n",
      "Academic license - for non-commercial use only\n",
      "Academic license - for non-commercial use only\n",
      "Academic license - for non-commercial use only\n",
      "Academic license - for non-commercial use only\n",
      "Academic license - for non-commercial use only\n",
      "Academic license - for non-commercial use only\n",
      "Academic license - for non-commercial use only\n",
      "Academic license - for non-commercial use only\n",
      "Academic license - for non-commercial use only\n",
      "Academic license - for non-commercial use only\n",
      "Academic license - for non-commercial use only\n",
      "Academic license - for non-commercial use only\n",
      "Academic license - for non-commercial use only\n",
      "Academic license - for non-commercial use only\n",
      "Academic license - for non-commercial use only\n",
      "Academic license - for non-commercial use only\n",
      "Academic license - for non-commercial use only\n",
      "Academic license - for non-commercial use only\n",
      "Academic license - for non-commercial use only\n",
      "Academic license - for non-commercial use only\n",
      "Academic license - for non-commercial use only\n",
      "Academic license - for non-commercial use only\n",
      "Academic license - for non-commercial use only\n",
      "Academic license - for non-commercial use only\n",
      "Academic license - for non-commercial use only\n",
      "Academic license - for non-commercial use only\n",
      "Academic license - for non-commercial use only\n",
      "Academic license - for non-commercial use only\n",
      "Academic license - for non-commercial use only\n",
      "Academic license - for non-commercial use only\n",
      "Academic license - for non-commercial use only\n",
      "Academic license - for non-commercial use only\n",
      "Academic license - for non-commercial use only\n",
      "Academic license - for non-commercial use only\n",
      "Academic license - for non-commercial use only\n",
      "Academic license - for non-commercial use only\n",
      "Academic license - for non-commercial use only\n",
      "Academic license - for non-commercial use only\n",
      "Academic license - for non-commercial use only\n",
      "Academic license - for non-commercial use only\n",
      "Academic license - for non-commercial use only\n",
      "Academic license - for non-commercial use only\n",
      "Academic license - for non-commercial use only\n",
      "Academic license - for non-commercial use only\n",
      "Academic license - for non-commercial use only\n",
      "Academic license - for non-commercial use only\n",
      "Academic license - for non-commercial use only\n",
      "Academic license - for non-commercial use only\n",
      "Academic license - for non-commercial use only\n",
      "Academic license - for non-commercial use only\n",
      "Academic license - for non-commercial use only\n",
      "Academic license - for non-commercial use only\n",
      "Academic license - for non-commercial use only\n",
      "Academic license - for non-commercial use only\n",
      "Academic license - for non-commercial use only\n",
      "Academic license - for non-commercial use only\n",
      "Academic license - for non-commercial use only\n",
      "Academic license - for non-commercial use only\n",
      "Academic license - for non-commercial use only\n",
      "Academic license - for non-commercial use only\n",
      "Academic license - for non-commercial use only\n",
      "Academic license - for non-commercial use only\n",
      "Academic license - for non-commercial use only\n",
      "Academic license - for non-commercial use only\n",
      "Academic license - for non-commercial use only\n",
      "Academic license - for non-commercial use only\n",
      "Academic license - for non-commercial use only\n",
      "Academic license - for non-commercial use only\n",
      "Academic license - for non-commercial use only\n",
      "Academic license - for non-commercial use only\n",
      "Academic license - for non-commercial use only\n",
      "Academic license - for non-commercial use only\n",
      "Academic license - for non-commercial use only\n",
      "Academic license - for non-commercial use only\n",
      "Academic license - for non-commercial use only\n",
      "Academic license - for non-commercial use only\n",
      "Academic license - for non-commercial use only\n",
      "Academic license - for non-commercial use only\n",
      "Academic license - for non-commercial use only\n",
      "Academic license - for non-commercial use only\n",
      "Academic license - for non-commercial use only\n",
      "Academic license - for non-commercial use only\n",
      "Academic license - for non-commercial use only\n",
      "Academic license - for non-commercial use only\n",
      "Academic license - for non-commercial use only\n",
      "Academic license - for non-commercial use only\n",
      "Academic license - for non-commercial use only\n",
      "Academic license - for non-commercial use only\n",
      "Academic license - for non-commercial use only\n",
      "Academic license - for non-commercial use only\n",
      "Academic license - for non-commercial use only\n",
      "Academic license - for non-commercial use only\n",
      "Academic license - for non-commercial use only\n",
      "Academic license - for non-commercial use only\n",
      "Academic license - for non-commercial use only\n",
      "Academic license - for non-commercial use only\n",
      "Academic license - for non-commercial use only\n",
      "Academic license - for non-commercial use only\n",
      "Academic license - for non-commercial use only\n",
      "Academic license - for non-commercial use only\n",
      "Academic license - for non-commercial use only\n",
      "Academic license - for non-commercial use only\n",
      "Academic license - for non-commercial use only\n",
      "Academic license - for non-commercial use only\n",
      "Academic license - for non-commercial use only\n",
      "Academic license - for non-commercial use only\n",
      "Academic license - for non-commercial use only\n",
      "Academic license - for non-commercial use only\n",
      "Academic license - for non-commercial use only\n",
      "Academic license - for non-commercial use only\n",
      "Academic license - for non-commercial use only\n",
      "Academic license - for non-commercial use only\n",
      "Academic license - for non-commercial use only\n",
      "Academic license - for non-commercial use only\n",
      "Academic license - for non-commercial use only\n",
      "Academic license - for non-commercial use only\n",
      "Academic license - for non-commercial use only\n",
      "Academic license - for non-commercial use only\n",
      "Academic license - for non-commercial use only\n",
      "Academic license - for non-commercial use only\n",
      "Academic license - for non-commercial use only\n",
      "Academic license - for non-commercial use only\n",
      "Academic license - for non-commercial use only\n",
      "Academic license - for non-commercial use only\n",
      "Academic license - for non-commercial use only\n",
      "Academic license - for non-commercial use only\n",
      "Academic license - for non-commercial use only\n",
      "Academic license - for non-commercial use only\n",
      "Academic license - for non-commercial use only\n",
      "Academic license - for non-commercial use only\n",
      "Academic license - for non-commercial use only\n",
      "Academic license - for non-commercial use only\n",
      "Academic license - for non-commercial use only\n",
      "Academic license - for non-commercial use only\n",
      "Academic license - for non-commercial use only\n",
      "Academic license - for non-commercial use only\n",
      "Academic license - for non-commercial use only\n",
      "Academic license - for non-commercial use only\n",
      "Academic license - for non-commercial use only\n",
      "Academic license - for non-commercial use only\n",
      "Academic license - for non-commercial use only\n",
      "Academic license - for non-commercial use only\n",
      "Academic license - for non-commercial use only\n",
      "Academic license - for non-commercial use only\n",
      "Academic license - for non-commercial use only\n",
      "Academic license - for non-commercial use only\n",
      "Academic license - for non-commercial use only\n",
      "Academic license - for non-commercial use only\n",
      "Academic license - for non-commercial use only\n",
      "Academic license - for non-commercial use only\n",
      "Academic license - for non-commercial use only\n",
      "Academic license - for non-commercial use only\n",
      "Academic license - for non-commercial use only\n",
      "Academic license - for non-commercial use only\n",
      "Academic license - for non-commercial use only\n",
      "Academic license - for non-commercial use only\n",
      "Academic license - for non-commercial use only\n",
      "Academic license - for non-commercial use only\n",
      "Academic license - for non-commercial use only\n",
      "Academic license - for non-commercial use only\n",
      "Academic license - for non-commercial use only\n",
      "Academic license - for non-commercial use only\n",
      "Academic license - for non-commercial use only\n",
      "Academic license - for non-commercial use only\n",
      "Academic license - for non-commercial use only\n",
      "Academic license - for non-commercial use only\n",
      "Academic license - for non-commercial use only\n",
      "Academic license - for non-commercial use only\n",
      "Academic license - for non-commercial use only\n",
      "Academic license - for non-commercial use only\n",
      "Academic license - for non-commercial use only\n",
      "Academic license - for non-commercial use only\n",
      "Academic license - for non-commercial use only\n",
      "Academic license - for non-commercial use only\n",
      "Academic license - for non-commercial use only\n",
      "Academic license - for non-commercial use only\n",
      "Academic license - for non-commercial use only\n",
      "Academic license - for non-commercial use only\n",
      "Academic license - for non-commercial use only\n",
      "Academic license - for non-commercial use only\n",
      "Academic license - for non-commercial use only\n",
      "Academic license - for non-commercial use only\n",
      "Academic license - for non-commercial use only\n",
      "Academic license - for non-commercial use only\n",
      "Academic license - for non-commercial use only\n",
      "Academic license - for non-commercial use only\n",
      "Academic license - for non-commercial use only\n",
      "Academic license - for non-commercial use only\n",
      "Academic license - for non-commercial use only\n",
      "Academic license - for non-commercial use only\n",
      "Academic license - for non-commercial use only\n",
      "Academic license - for non-commercial use only\n",
      "Academic license - for non-commercial use only\n",
      "Academic license - for non-commercial use only\n",
      "Academic license - for non-commercial use only\n",
      "Academic license - for non-commercial use only\n",
      "Academic license - for non-commercial use only\n",
      "Academic license - for non-commercial use only\n",
      "Academic license - for non-commercial use only\n",
      "Academic license - for non-commercial use only\n",
      "Academic license - for non-commercial use only\n",
      "Academic license - for non-commercial use only\n",
      "Academic license - for non-commercial use only\n",
      "Academic license - for non-commercial use only\n",
      "Academic license - for non-commercial use only\n",
      "Academic license - for non-commercial use only\n",
      "Academic license - for non-commercial use only\n",
      "Academic license - for non-commercial use only\n",
      "Academic license - for non-commercial use only\n",
      "Academic license - for non-commercial use only\n",
      "Academic license - for non-commercial use only\n",
      "Academic license - for non-commercial use only\n",
      "Academic license - for non-commercial use only\n",
      "Academic license - for non-commercial use only\n",
      "Academic license - for non-commercial use only\n",
      "Academic license - for non-commercial use only\n",
      "Academic license - for non-commercial use only\n",
      "Academic license - for non-commercial use only\n",
      "Academic license - for non-commercial use only\n",
      "Academic license - for non-commercial use only\n",
      "Academic license - for non-commercial use only\n",
      "Academic license - for non-commercial use only\n",
      "Academic license - for non-commercial use only\n",
      "Academic license - for non-commercial use only\n",
      "Academic license - for non-commercial use only\n",
      "Academic license - for non-commercial use only\n",
      "Academic license - for non-commercial use only\n",
      "Academic license - for non-commercial use only\n",
      "Academic license - for non-commercial use only\n",
      "Academic license - for non-commercial use only\n",
      "Academic license - for non-commercial use only\n",
      "Academic license - for non-commercial use only\n",
      "Academic license - for non-commercial use only\n",
      "Academic license - for non-commercial use only\n",
      "Academic license - for non-commercial use only\n",
      "Academic license - for non-commercial use only\n",
      "Academic license - for non-commercial use only\n",
      "Academic license - for non-commercial use only\n",
      "Academic license - for non-commercial use only\n",
      "Academic license - for non-commercial use only\n",
      "Academic license - for non-commercial use only\n",
      "Academic license - for non-commercial use only\n",
      "Academic license - for non-commercial use only\n",
      "Academic license - for non-commercial use only\n",
      "Academic license - for non-commercial use only\n",
      "Academic license - for non-commercial use only\n",
      "Academic license - for non-commercial use only\n",
      "Academic license - for non-commercial use only\n",
      "Academic license - for non-commercial use only\n",
      "Academic license - for non-commercial use only\n",
      "Dev:\t0.18421052631578946\n",
      "Academic license - for non-commercial use only\n",
      "Academic license - for non-commercial use only\n"
     ]
    },
    {
     "name": "stderr",
     "output_type": "stream",
     "text": [
      "┌ Warning: Not solved to optimality, status: Unbounded\n",
      "└ @ JuMP /Users/vishalgupta/.julia/packages/JuMP/I7whV/src/solvers.jl:212\n",
      "┌ Warning: Not solved to optimality, status: Unbounded\n",
      "└ @ JuMP /Users/vishalgupta/.julia/packages/JuMP/I7whV/src/solvers.jl:212\n"
     ]
    },
    {
     "name": "stdout",
     "output_type": "stream",
     "text": [
      "Academic license - for non-commercial use only\n",
      "Academic license - for non-commercial use only\n",
      "Academic license - for non-commercial use only\n",
      "Academic license - for non-commercial use only\n"
     ]
    },
    {
     "name": "stderr",
     "output_type": "stream",
     "text": [
      "┌ Warning: Not solved to optimality, status: Unbounded\n",
      "└ @ JuMP /Users/vishalgupta/.julia/packages/JuMP/I7whV/src/solvers.jl:212\n",
      "┌ Warning: Not solved to optimality, status: Unbounded\n",
      "└ @ JuMP /Users/vishalgupta/.julia/packages/JuMP/I7whV/src/solvers.jl:212\n",
      "┌ Warning: Not solved to optimality, status: Unbounded\n",
      "└ @ JuMP /Users/vishalgupta/.julia/packages/JuMP/I7whV/src/solvers.jl:212\n",
      "┌ Warning: Not solved to optimality, status: Unbounded\n",
      "└ @ JuMP /Users/vishalgupta/.julia/packages/JuMP/I7whV/src/solvers.jl:212\n"
     ]
    },
    {
     "name": "stdout",
     "output_type": "stream",
     "text": [
      "Academic license - for non-commercial use only\n",
      "Academic license - for non-commercial use only\n",
      "Academic license - for non-commercial use only\n",
      "Academic license - for non-commercial use only\n"
     ]
    },
    {
     "name": "stderr",
     "output_type": "stream",
     "text": [
      "┌ Warning: Not solved to optimality, status: Unbounded\n",
      "└ @ JuMP /Users/vishalgupta/.julia/packages/JuMP/I7whV/src/solvers.jl:212\n",
      "┌ Warning: Not solved to optimality, status: Unbounded\n",
      "└ @ JuMP /Users/vishalgupta/.julia/packages/JuMP/I7whV/src/solvers.jl:212\n",
      "┌ Warning: Not solved to optimality, status: Unbounded\n",
      "└ @ JuMP /Users/vishalgupta/.julia/packages/JuMP/I7whV/src/solvers.jl:212\n",
      "┌ Warning: Not solved to optimality, status: Unbounded\n",
      "└ @ JuMP /Users/vishalgupta/.julia/packages/JuMP/I7whV/src/solvers.jl:212\n"
     ]
    },
    {
     "name": "stdout",
     "output_type": "stream",
     "text": [
      "Academic license - for non-commercial use only\n",
      "Academic license - for non-commercial use only\n"
     ]
    },
    {
     "name": "stderr",
     "output_type": "stream",
     "text": [
      "┌ Warning: Not solved to optimality, status: Unbounded\n",
      "└ @ JuMP /Users/vishalgupta/.julia/packages/JuMP/I7whV/src/solvers.jl:212\n",
      "┌ Warning: Not solved to optimality, status: Unbounded\n",
      "└ @ JuMP /Users/vishalgupta/.julia/packages/JuMP/I7whV/src/solvers.jl:212\n"
     ]
    },
    {
     "name": "stdout",
     "output_type": "stream",
     "text": [
      "Academic license - for non-commercial use only\n",
      "Academic license - for non-commercial use only\n",
      "Academic license - for non-commercial use only\n",
      "Academic license - for non-commercial use only\n"
     ]
    },
    {
     "name": "stderr",
     "output_type": "stream",
     "text": [
      "┌ Warning: Not solved to optimality, status: Unbounded\n",
      "└ @ JuMP /Users/vishalgupta/.julia/packages/JuMP/I7whV/src/solvers.jl:212\n",
      "┌ Warning: Not solved to optimality, status: Unbounded\n",
      "└ @ JuMP /Users/vishalgupta/.julia/packages/JuMP/I7whV/src/solvers.jl:212\n",
      "┌ Warning: Not solved to optimality, status: Unbounded\n",
      "└ @ JuMP /Users/vishalgupta/.julia/packages/JuMP/I7whV/src/solvers.jl:212\n",
      "┌ Warning: Not solved to optimality, status: Unbounded\n",
      "└ @ JuMP /Users/vishalgupta/.julia/packages/JuMP/I7whV/src/solvers.jl:212\n"
     ]
    },
    {
     "name": "stdout",
     "output_type": "stream",
     "text": [
      "Academic license - for non-commercial use only\n",
      "Academic license - for non-commercial use only\n",
      "Academic license - for non-commercial use only\n",
      "Academic license - for non-commercial use only\n"
     ]
    },
    {
     "name": "stderr",
     "output_type": "stream",
     "text": [
      "┌ Warning: Not solved to optimality, status: Unbounded\n",
      "└ @ JuMP /Users/vishalgupta/.julia/packages/JuMP/I7whV/src/solvers.jl:212\n",
      "┌ Warning: Not solved to optimality, status: Unbounded\n",
      "└ @ JuMP /Users/vishalgupta/.julia/packages/JuMP/I7whV/src/solvers.jl:212\n",
      "┌ Warning: Not solved to optimality, status: Unbounded\n",
      "└ @ JuMP /Users/vishalgupta/.julia/packages/JuMP/I7whV/src/solvers.jl:212\n",
      "┌ Warning: Not solved to optimality, status: Unbounded\n",
      "└ @ JuMP /Users/vishalgupta/.julia/packages/JuMP/I7whV/src/solvers.jl:212\n"
     ]
    },
    {
     "name": "stdout",
     "output_type": "stream",
     "text": [
      "Academic license - for non-commercial use only\n",
      "Academic license - for non-commercial use only\n",
      "Academic license - for non-commercial use only\n",
      "Academic license - for non-commercial use only\n"
     ]
    },
    {
     "name": "stderr",
     "output_type": "stream",
     "text": [
      "┌ Warning: Not solved to optimality, status: Unbounded\n",
      "└ @ JuMP /Users/vishalgupta/.julia/packages/JuMP/I7whV/src/solvers.jl:212\n",
      "┌ Warning: Not solved to optimality, status: Unbounded\n",
      "└ @ JuMP /Users/vishalgupta/.julia/packages/JuMP/I7whV/src/solvers.jl:212\n",
      "┌ Warning: Not solved to optimality, status: Unbounded\n",
      "└ @ JuMP /Users/vishalgupta/.julia/packages/JuMP/I7whV/src/solvers.jl:212\n",
      "┌ Warning: Not solved to optimality, status: Unbounded\n",
      "└ @ JuMP /Users/vishalgupta/.julia/packages/JuMP/I7whV/src/solvers.jl:212\n"
     ]
    },
    {
     "name": "stdout",
     "output_type": "stream",
     "text": [
      "Academic license - for non-commercial use only\n",
      "Academic license - for non-commercial use only\n"
     ]
    },
    {
     "name": "stderr",
     "output_type": "stream",
     "text": [
      "┌ Warning: Not solved to optimality, status: Unbounded\n",
      "└ @ JuMP /Users/vishalgupta/.julia/packages/JuMP/I7whV/src/solvers.jl:212\n",
      "┌ Warning: Not solved to optimality, status: Unbounded\n",
      "└ @ JuMP /Users/vishalgupta/.julia/packages/JuMP/I7whV/src/solvers.jl:212\n"
     ]
    },
    {
     "name": "stdout",
     "output_type": "stream",
     "text": [
      "Academic license - for non-commercial use only\n",
      "Academic license - for non-commercial use only\n",
      "Academic license - for non-commercial use only\n",
      "Academic license - for non-commercial use only\n"
     ]
    },
    {
     "name": "stderr",
     "output_type": "stream",
     "text": [
      "┌ Warning: Not solved to optimality, status: Unbounded\n",
      "└ @ JuMP /Users/vishalgupta/.julia/packages/JuMP/I7whV/src/solvers.jl:212\n",
      "┌ Warning: Not solved to optimality, status: Unbounded\n",
      "└ @ JuMP /Users/vishalgupta/.julia/packages/JuMP/I7whV/src/solvers.jl:212\n",
      "┌ Warning: Not solved to optimality, status: Unbounded\n",
      "└ @ JuMP /Users/vishalgupta/.julia/packages/JuMP/I7whV/src/solvers.jl:212\n",
      "┌ Warning: Not solved to optimality, status: Unbounded\n",
      "└ @ JuMP /Users/vishalgupta/.julia/packages/JuMP/I7whV/src/solvers.jl:212\n"
     ]
    },
    {
     "name": "stdout",
     "output_type": "stream",
     "text": [
      "Academic license - for non-commercial use only\n",
      "Academic license - for non-commercial use only\n"
     ]
    },
    {
     "name": "stderr",
     "output_type": "stream",
     "text": [
      "┌ Warning: Not solved to optimality, status: Unbounded\n",
      "└ @ JuMP /Users/vishalgupta/.julia/packages/JuMP/I7whV/src/solvers.jl:212\n",
      "┌ Warning: Not solved to optimality, status: Unbounded\n",
      "└ @ JuMP /Users/vishalgupta/.julia/packages/JuMP/I7whV/src/solvers.jl:212\n"
     ]
    },
    {
     "name": "stdout",
     "output_type": "stream",
     "text": [
      "Academic license - for non-commercial use only\n",
      "Academic license - for non-commercial use only\n",
      "Academic license - for non-commercial use only\n",
      "Academic license - for non-commercial use only\n"
     ]
    },
    {
     "name": "stderr",
     "output_type": "stream",
     "text": [
      "┌ Warning: Not solved to optimality, status: Unbounded\n",
      "└ @ JuMP /Users/vishalgupta/.julia/packages/JuMP/I7whV/src/solvers.jl:212\n",
      "┌ Warning: Not solved to optimality, status: Unbounded\n",
      "└ @ JuMP /Users/vishalgupta/.julia/packages/JuMP/I7whV/src/solvers.jl:212\n",
      "┌ Warning: Not solved to optimality, status: Unbounded\n",
      "└ @ JuMP /Users/vishalgupta/.julia/packages/JuMP/I7whV/src/solvers.jl:212\n",
      "┌ Warning: Not solved to optimality, status: Unbounded\n",
      "└ @ JuMP /Users/vishalgupta/.julia/packages/JuMP/I7whV/src/solvers.jl:212\n"
     ]
    },
    {
     "name": "stdout",
     "output_type": "stream",
     "text": [
      "Academic license - for non-commercial use only\n",
      "Academic license - for non-commercial use only\n"
     ]
    },
    {
     "name": "stderr",
     "output_type": "stream",
     "text": [
      "┌ Warning: Not solved to optimality, status: Unbounded\n",
      "└ @ JuMP /Users/vishalgupta/.julia/packages/JuMP/I7whV/src/solvers.jl:212\n",
      "┌ Warning: Not solved to optimality, status: Unbounded\n",
      "└ @ JuMP /Users/vishalgupta/.julia/packages/JuMP/I7whV/src/solvers.jl:212\n"
     ]
    },
    {
     "name": "stdout",
     "output_type": "stream",
     "text": [
      "Academic license - for non-commercial use only\n",
      "Academic license - for non-commercial use only\n"
     ]
    },
    {
     "name": "stderr",
     "output_type": "stream",
     "text": [
      "┌ Warning: Not solved to optimality, status: Unbounded\n",
      "└ @ JuMP /Users/vishalgupta/.julia/packages/JuMP/I7whV/src/solvers.jl:212\n",
      "┌ Warning: Not solved to optimality, status: Unbounded\n",
      "└ @ JuMP /Users/vishalgupta/.julia/packages/JuMP/I7whV/src/solvers.jl:212\n"
     ]
    },
    {
     "name": "stdout",
     "output_type": "stream",
     "text": [
      "Academic license - for non-commercial use only\n",
      "Academic license - for non-commercial use only\n",
      "Academic license - for non-commercial use only\n",
      "Academic license - for non-commercial use only\n"
     ]
    },
    {
     "name": "stderr",
     "output_type": "stream",
     "text": [
      "┌ Warning: Not solved to optimality, status: Unbounded\n",
      "└ @ JuMP /Users/vishalgupta/.julia/packages/JuMP/I7whV/src/solvers.jl:212\n",
      "┌ Warning: Not solved to optimality, status: Unbounded\n",
      "└ @ JuMP /Users/vishalgupta/.julia/packages/JuMP/I7whV/src/solvers.jl:212\n",
      "┌ Warning: Not solved to optimality, status: Unbounded\n",
      "└ @ JuMP /Users/vishalgupta/.julia/packages/JuMP/I7whV/src/solvers.jl:212\n",
      "┌ Warning: Not solved to optimality, status: Unbounded\n",
      "└ @ JuMP /Users/vishalgupta/.julia/packages/JuMP/I7whV/src/solvers.jl:212\n"
     ]
    },
    {
     "name": "stdout",
     "output_type": "stream",
     "text": [
      "Academic license - for non-commercial use only\n",
      "Academic license - for non-commercial use only\n",
      "Academic license - for non-commercial use only\n",
      "Academic license - for non-commercial use only\n"
     ]
    },
    {
     "name": "stderr",
     "output_type": "stream",
     "text": [
      "┌ Warning: Not solved to optimality, status: Unbounded\n",
      "└ @ JuMP /Users/vishalgupta/.julia/packages/JuMP/I7whV/src/solvers.jl:212\n",
      "┌ Warning: Not solved to optimality, status: Unbounded\n",
      "└ @ JuMP /Users/vishalgupta/.julia/packages/JuMP/I7whV/src/solvers.jl:212\n",
      "┌ Warning: Not solved to optimality, status: Unbounded\n",
      "└ @ JuMP /Users/vishalgupta/.julia/packages/JuMP/I7whV/src/solvers.jl:212\n",
      "┌ Warning: Not solved to optimality, status: Unbounded\n",
      "└ @ JuMP /Users/vishalgupta/.julia/packages/JuMP/I7whV/src/solvers.jl:212\n"
     ]
    },
    {
     "name": "stdout",
     "output_type": "stream",
     "text": [
      "Academic license - for non-commercial use only\n",
      "Academic license - for non-commercial use only\n",
      "Academic license - for non-commercial use only\n",
      "Academic license - for non-commercial use only\n"
     ]
    },
    {
     "name": "stderr",
     "output_type": "stream",
     "text": [
      "┌ Warning: Not solved to optimality, status: Unbounded\n",
      "└ @ JuMP /Users/vishalgupta/.julia/packages/JuMP/I7whV/src/solvers.jl:212\n",
      "┌ Warning: Not solved to optimality, status: Unbounded\n",
      "└ @ JuMP /Users/vishalgupta/.julia/packages/JuMP/I7whV/src/solvers.jl:212\n",
      "┌ Warning: Not solved to optimality, status: Unbounded\n",
      "└ @ JuMP /Users/vishalgupta/.julia/packages/JuMP/I7whV/src/solvers.jl:212\n",
      "┌ Warning: Not solved to optimality, status: Unbounded\n",
      "└ @ JuMP /Users/vishalgupta/.julia/packages/JuMP/I7whV/src/solvers.jl:212\n"
     ]
    },
    {
     "name": "stdout",
     "output_type": "stream",
     "text": [
      "Academic license - for non-commercial use only\n",
      "Academic license - for non-commercial use only\n"
     ]
    },
    {
     "name": "stderr",
     "output_type": "stream",
     "text": [
      "┌ Warning: Not solved to optimality, status: Unbounded\n",
      "└ @ JuMP /Users/vishalgupta/.julia/packages/JuMP/I7whV/src/solvers.jl:212\n",
      "┌ Warning: Not solved to optimality, status: Unbounded\n",
      "└ @ JuMP /Users/vishalgupta/.julia/packages/JuMP/I7whV/src/solvers.jl:212\n"
     ]
    },
    {
     "name": "stdout",
     "output_type": "stream",
     "text": [
      "Academic license - for non-commercial use only\n",
      "Academic license - for non-commercial use only\n",
      "Academic license - for non-commercial use only\n",
      "Academic license - for non-commercial use only\n"
     ]
    },
    {
     "name": "stderr",
     "output_type": "stream",
     "text": [
      "┌ Warning: Not solved to optimality, status: Unbounded\n",
      "└ @ JuMP /Users/vishalgupta/.julia/packages/JuMP/I7whV/src/solvers.jl:212\n",
      "┌ Warning: Not solved to optimality, status: Unbounded\n",
      "└ @ JuMP /Users/vishalgupta/.julia/packages/JuMP/I7whV/src/solvers.jl:212\n",
      "┌ Warning: Not solved to optimality, status: Unbounded\n",
      "└ @ JuMP /Users/vishalgupta/.julia/packages/JuMP/I7whV/src/solvers.jl:212\n",
      "┌ Warning: Not solved to optimality, status: Unbounded\n",
      "└ @ JuMP /Users/vishalgupta/.julia/packages/JuMP/I7whV/src/solvers.jl:212\n"
     ]
    },
    {
     "name": "stdout",
     "output_type": "stream",
     "text": [
      "Academic license - for non-commercial use only\n",
      "Academic license - for non-commercial use only\n"
     ]
    },
    {
     "name": "stderr",
     "output_type": "stream",
     "text": [
      "┌ Warning: Not solved to optimality, status: Unbounded\n",
      "└ @ JuMP /Users/vishalgupta/.julia/packages/JuMP/I7whV/src/solvers.jl:212\n",
      "┌ Warning: Not solved to optimality, status: Unbounded\n",
      "└ @ JuMP /Users/vishalgupta/.julia/packages/JuMP/I7whV/src/solvers.jl:212\n"
     ]
    },
    {
     "name": "stdout",
     "output_type": "stream",
     "text": [
      "Academic license - for non-commercial use only\n",
      "Academic license - for non-commercial use only\n",
      "Academic license - for non-commercial use only\n",
      "Academic license - for non-commercial use only\n"
     ]
    },
    {
     "name": "stderr",
     "output_type": "stream",
     "text": [
      "┌ Warning: Not solved to optimality, status: Unbounded\n",
      "└ @ JuMP /Users/vishalgupta/.julia/packages/JuMP/I7whV/src/solvers.jl:212\n",
      "┌ Warning: Not solved to optimality, status: Unbounded\n",
      "└ @ JuMP /Users/vishalgupta/.julia/packages/JuMP/I7whV/src/solvers.jl:212\n",
      "┌ Warning: Not solved to optimality, status: Unbounded\n",
      "└ @ JuMP /Users/vishalgupta/.julia/packages/JuMP/I7whV/src/solvers.jl:212\n",
      "┌ Warning: Not solved to optimality, status: Unbounded\n",
      "└ @ JuMP /Users/vishalgupta/.julia/packages/JuMP/I7whV/src/solvers.jl:212\n"
     ]
    },
    {
     "name": "stdout",
     "output_type": "stream",
     "text": [
      "Academic license - for non-commercial use only\n",
      "Academic license - for non-commercial use only\n"
     ]
    },
    {
     "name": "stderr",
     "output_type": "stream",
     "text": [
      "┌ Warning: Not solved to optimality, status: Unbounded\n",
      "└ @ JuMP /Users/vishalgupta/.julia/packages/JuMP/I7whV/src/solvers.jl:212\n",
      "┌ Warning: Not solved to optimality, status: Unbounded\n",
      "└ @ JuMP /Users/vishalgupta/.julia/packages/JuMP/I7whV/src/solvers.jl:212\n"
     ]
    },
    {
     "name": "stdout",
     "output_type": "stream",
     "text": [
      "Academic license - for non-commercial use only\n",
      "Academic license - for non-commercial use only\n",
      "Academic license - for non-commercial use only\n",
      "Academic license - for non-commercial use only\n"
     ]
    },
    {
     "name": "stderr",
     "output_type": "stream",
     "text": [
      "┌ Warning: Not solved to optimality, status: Unbounded\n",
      "└ @ JuMP /Users/vishalgupta/.julia/packages/JuMP/I7whV/src/solvers.jl:212\n",
      "┌ Warning: Not solved to optimality, status: Unbounded\n",
      "└ @ JuMP /Users/vishalgupta/.julia/packages/JuMP/I7whV/src/solvers.jl:212\n",
      "┌ Warning: Not solved to optimality, status: Unbounded\n",
      "└ @ JuMP /Users/vishalgupta/.julia/packages/JuMP/I7whV/src/solvers.jl:212\n",
      "┌ Warning: Not solved to optimality, status: Unbounded\n",
      "└ @ JuMP /Users/vishalgupta/.julia/packages/JuMP/I7whV/src/solvers.jl:212\n"
     ]
    },
    {
     "name": "stdout",
     "output_type": "stream",
     "text": [
      "Academic license - for non-commercial use only\n",
      "Academic license - for non-commercial use only\n",
      "Academic license - for non-commercial use only\n",
      "Academic license - for non-commercial use only\n"
     ]
    },
    {
     "name": "stderr",
     "output_type": "stream",
     "text": [
      "┌ Warning: Not solved to optimality, status: Unbounded\n",
      "└ @ JuMP /Users/vishalgupta/.julia/packages/JuMP/I7whV/src/solvers.jl:212\n",
      "┌ Warning: Not solved to optimality, status: Unbounded\n",
      "└ @ JuMP /Users/vishalgupta/.julia/packages/JuMP/I7whV/src/solvers.jl:212\n",
      "┌ Warning: Not solved to optimality, status: Unbounded\n",
      "└ @ JuMP /Users/vishalgupta/.julia/packages/JuMP/I7whV/src/solvers.jl:212\n",
      "┌ Warning: Not solved to optimality, status: Unbounded\n",
      "└ @ JuMP /Users/vishalgupta/.julia/packages/JuMP/I7whV/src/solvers.jl:212\n"
     ]
    },
    {
     "name": "stdout",
     "output_type": "stream",
     "text": [
      "Academic license - for non-commercial use only\n",
      "Academic license - for non-commercial use only\n",
      "Academic license - for non-commercial use only\n",
      "Academic license - for non-commercial use only\n"
     ]
    },
    {
     "name": "stderr",
     "output_type": "stream",
     "text": [
      "┌ Warning: Not solved to optimality, status: Unbounded\n",
      "└ @ JuMP /Users/vishalgupta/.julia/packages/JuMP/I7whV/src/solvers.jl:212\n",
      "┌ Warning: Not solved to optimality, status: Unbounded\n",
      "└ @ JuMP /Users/vishalgupta/.julia/packages/JuMP/I7whV/src/solvers.jl:212\n",
      "┌ Warning: Not solved to optimality, status: Unbounded\n",
      "└ @ JuMP /Users/vishalgupta/.julia/packages/JuMP/I7whV/src/solvers.jl:212\n",
      "┌ Warning: Not solved to optimality, status: Unbounded\n",
      "└ @ JuMP /Users/vishalgupta/.julia/packages/JuMP/I7whV/src/solvers.jl:212\n"
     ]
    },
    {
     "name": "stdout",
     "output_type": "stream",
     "text": [
      "Academic license - for non-commercial use only\n",
      "Academic license - for non-commercial use only\n",
      "Academic license - for non-commercial use only\n",
      "Academic license - for non-commercial use only\n"
     ]
    },
    {
     "name": "stderr",
     "output_type": "stream",
     "text": [
      "┌ Warning: Not solved to optimality, status: Unbounded\n",
      "└ @ JuMP /Users/vishalgupta/.julia/packages/JuMP/I7whV/src/solvers.jl:212\n",
      "┌ Warning: Not solved to optimality, status: Unbounded\n",
      "└ @ JuMP /Users/vishalgupta/.julia/packages/JuMP/I7whV/src/solvers.jl:212\n",
      "┌ Warning: Not solved to optimality, status: Unbounded\n",
      "└ @ JuMP /Users/vishalgupta/.julia/packages/JuMP/I7whV/src/solvers.jl:212\n",
      "┌ Warning: Not solved to optimality, status: Unbounded\n",
      "└ @ JuMP /Users/vishalgupta/.julia/packages/JuMP/I7whV/src/solvers.jl:212\n"
     ]
    },
    {
     "name": "stdout",
     "output_type": "stream",
     "text": [
      "Academic license - for non-commercial use only\n",
      "Academic license - for non-commercial use only\n",
      "Academic license - for non-commercial use only\n",
      "Academic license - for non-commercial use only\n"
     ]
    },
    {
     "name": "stderr",
     "output_type": "stream",
     "text": [
      "┌ Warning: Not solved to optimality, status: Unbounded\n",
      "└ @ JuMP /Users/vishalgupta/.julia/packages/JuMP/I7whV/src/solvers.jl:212\n",
      "┌ Warning: Not solved to optimality, status: Unbounded\n",
      "└ @ JuMP /Users/vishalgupta/.julia/packages/JuMP/I7whV/src/solvers.jl:212\n",
      "┌ Warning: Not solved to optimality, status: Unbounded\n",
      "└ @ JuMP /Users/vishalgupta/.julia/packages/JuMP/I7whV/src/solvers.jl:212\n",
      "┌ Warning: Not solved to optimality, status: Unbounded\n",
      "└ @ JuMP /Users/vishalgupta/.julia/packages/JuMP/I7whV/src/solvers.jl:212\n"
     ]
    },
    {
     "name": "stdout",
     "output_type": "stream",
     "text": [
      "Academic license - for non-commercial use only\n",
      "Academic license - for non-commercial use only\n",
      "Academic license - for non-commercial use only\n",
      "Academic license - for non-commercial use only\n"
     ]
    },
    {
     "name": "stderr",
     "output_type": "stream",
     "text": [
      "┌ Warning: Not solved to optimality, status: Unbounded\n",
      "└ @ JuMP /Users/vishalgupta/.julia/packages/JuMP/I7whV/src/solvers.jl:212\n",
      "┌ Warning: Not solved to optimality, status: Unbounded\n",
      "└ @ JuMP /Users/vishalgupta/.julia/packages/JuMP/I7whV/src/solvers.jl:212\n",
      "┌ Warning: Not solved to optimality, status: Unbounded\n",
      "└ @ JuMP /Users/vishalgupta/.julia/packages/JuMP/I7whV/src/solvers.jl:212\n",
      "┌ Warning: Not solved to optimality, status: Unbounded\n",
      "└ @ JuMP /Users/vishalgupta/.julia/packages/JuMP/I7whV/src/solvers.jl:212\n"
     ]
    },
    {
     "name": "stdout",
     "output_type": "stream",
     "text": [
      "Academic license - for non-commercial use only\n",
      "Academic license - for non-commercial use only\n"
     ]
    },
    {
     "name": "stderr",
     "output_type": "stream",
     "text": [
      "┌ Warning: Not solved to optimality, status: Unbounded\n",
      "└ @ JuMP /Users/vishalgupta/.julia/packages/JuMP/I7whV/src/solvers.jl:212\n",
      "┌ Warning: Not solved to optimality, status: Unbounded\n",
      "└ @ JuMP /Users/vishalgupta/.julia/packages/JuMP/I7whV/src/solvers.jl:212\n"
     ]
    },
    {
     "name": "stdout",
     "output_type": "stream",
     "text": [
      "Academic license - for non-commercial use only\n",
      "Academic license - for non-commercial use only\n",
      "Academic license - for non-commercial use only\n",
      "Academic license - for non-commercial use only\n"
     ]
    },
    {
     "name": "stderr",
     "output_type": "stream",
     "text": [
      "┌ Warning: Not solved to optimality, status: Unbounded\n",
      "└ @ JuMP /Users/vishalgupta/.julia/packages/JuMP/I7whV/src/solvers.jl:212\n",
      "┌ Warning: Not solved to optimality, status: Unbounded\n",
      "└ @ JuMP /Users/vishalgupta/.julia/packages/JuMP/I7whV/src/solvers.jl:212\n",
      "┌ Warning: Not solved to optimality, status: Unbounded\n",
      "└ @ JuMP /Users/vishalgupta/.julia/packages/JuMP/I7whV/src/solvers.jl:212\n",
      "┌ Warning: Not solved to optimality, status: Unbounded\n",
      "└ @ JuMP /Users/vishalgupta/.julia/packages/JuMP/I7whV/src/solvers.jl:212\n"
     ]
    },
    {
     "name": "stdout",
     "output_type": "stream",
     "text": [
      "Academic license - for non-commercial use only\n",
      "Academic license - for non-commercial use only\n"
     ]
    },
    {
     "name": "stderr",
     "output_type": "stream",
     "text": [
      "┌ Warning: Not solved to optimality, status: Unbounded\n",
      "└ @ JuMP /Users/vishalgupta/.julia/packages/JuMP/I7whV/src/solvers.jl:212\n",
      "┌ Warning: Not solved to optimality, status: Unbounded\n",
      "└ @ JuMP /Users/vishalgupta/.julia/packages/JuMP/I7whV/src/solvers.jl:212\n"
     ]
    },
    {
     "name": "stdout",
     "output_type": "stream",
     "text": [
      "Academic license - for non-commercial use only\n",
      "Academic license - for non-commercial use only\n",
      "Academic license - for non-commercial use only\n",
      "Academic license - for non-commercial use only\n"
     ]
    },
    {
     "name": "stderr",
     "output_type": "stream",
     "text": [
      "┌ Warning: Not solved to optimality, status: Unbounded\n",
      "└ @ JuMP /Users/vishalgupta/.julia/packages/JuMP/I7whV/src/solvers.jl:212\n",
      "┌ Warning: Not solved to optimality, status: Unbounded\n",
      "└ @ JuMP /Users/vishalgupta/.julia/packages/JuMP/I7whV/src/solvers.jl:212\n",
      "┌ Warning: Not solved to optimality, status: Unbounded\n",
      "└ @ JuMP /Users/vishalgupta/.julia/packages/JuMP/I7whV/src/solvers.jl:212\n",
      "┌ Warning: Not solved to optimality, status: Unbounded\n",
      "└ @ JuMP /Users/vishalgupta/.julia/packages/JuMP/I7whV/src/solvers.jl:212\n"
     ]
    },
    {
     "name": "stdout",
     "output_type": "stream",
     "text": [
      "Academic license - for non-commercial use only\n",
      "Academic license - for non-commercial use only\n"
     ]
    },
    {
     "name": "stderr",
     "output_type": "stream",
     "text": [
      "┌ Warning: Not solved to optimality, status: Unbounded\n",
      "└ @ JuMP /Users/vishalgupta/.julia/packages/JuMP/I7whV/src/solvers.jl:212\n",
      "┌ Warning: Not solved to optimality, status: Unbounded\n",
      "└ @ JuMP /Users/vishalgupta/.julia/packages/JuMP/I7whV/src/solvers.jl:212\n"
     ]
    },
    {
     "name": "stdout",
     "output_type": "stream",
     "text": [
      "Academic license - for non-commercial use only\n",
      "Academic license - for non-commercial use only\n",
      "Academic license - for non-commercial use only\n",
      "Academic license - for non-commercial use only\n"
     ]
    },
    {
     "name": "stderr",
     "output_type": "stream",
     "text": [
      "┌ Warning: Not solved to optimality, status: Unbounded\n",
      "└ @ JuMP /Users/vishalgupta/.julia/packages/JuMP/I7whV/src/solvers.jl:212\n",
      "┌ Warning: Not solved to optimality, status: Unbounded\n",
      "└ @ JuMP /Users/vishalgupta/.julia/packages/JuMP/I7whV/src/solvers.jl:212\n",
      "┌ Warning: Not solved to optimality, status: Unbounded\n",
      "└ @ JuMP /Users/vishalgupta/.julia/packages/JuMP/I7whV/src/solvers.jl:212\n",
      "┌ Warning: Not solved to optimality, status: Unbounded\n",
      "└ @ JuMP /Users/vishalgupta/.julia/packages/JuMP/I7whV/src/solvers.jl:212\n"
     ]
    },
    {
     "name": "stdout",
     "output_type": "stream",
     "text": [
      "Academic license - for non-commercial use only\n",
      "Academic license - for non-commercial use only\n",
      "Academic license - for non-commercial use only\n",
      "Academic license - for non-commercial use only\n"
     ]
    },
    {
     "name": "stderr",
     "output_type": "stream",
     "text": [
      "┌ Warning: Not solved to optimality, status: Unbounded\n",
      "└ @ JuMP /Users/vishalgupta/.julia/packages/JuMP/I7whV/src/solvers.jl:212\n",
      "┌ Warning: Not solved to optimality, status: Unbounded\n",
      "└ @ JuMP /Users/vishalgupta/.julia/packages/JuMP/I7whV/src/solvers.jl:212\n",
      "┌ Warning: Not solved to optimality, status: Unbounded\n",
      "└ @ JuMP /Users/vishalgupta/.julia/packages/JuMP/I7whV/src/solvers.jl:212\n",
      "┌ Warning: Not solved to optimality, status: Unbounded\n",
      "└ @ JuMP /Users/vishalgupta/.julia/packages/JuMP/I7whV/src/solvers.jl:212\n"
     ]
    },
    {
     "name": "stdout",
     "output_type": "stream",
     "text": [
      "Academic license - for non-commercial use only\n",
      "Academic license - for non-commercial use only\n"
     ]
    },
    {
     "name": "stderr",
     "output_type": "stream",
     "text": [
      "┌ Warning: Not solved to optimality, status: Unbounded\n",
      "└ @ JuMP /Users/vishalgupta/.julia/packages/JuMP/I7whV/src/solvers.jl:212\n",
      "┌ Warning: Not solved to optimality, status: Unbounded\n",
      "└ @ JuMP /Users/vishalgupta/.julia/packages/JuMP/I7whV/src/solvers.jl:212\n"
     ]
    },
    {
     "name": "stdout",
     "output_type": "stream",
     "text": [
      "Academic license - for non-commercial use only\n",
      "Academic license - for non-commercial use only\n",
      "Academic license - for non-commercial use only\n",
      "Academic license - for non-commercial use only\n"
     ]
    },
    {
     "name": "stderr",
     "output_type": "stream",
     "text": [
      "┌ Warning: Not solved to optimality, status: Unbounded\n",
      "└ @ JuMP /Users/vishalgupta/.julia/packages/JuMP/I7whV/src/solvers.jl:212\n",
      "┌ Warning: Not solved to optimality, status: Unbounded\n",
      "└ @ JuMP /Users/vishalgupta/.julia/packages/JuMP/I7whV/src/solvers.jl:212\n",
      "┌ Warning: Not solved to optimality, status: Unbounded\n",
      "└ @ JuMP /Users/vishalgupta/.julia/packages/JuMP/I7whV/src/solvers.jl:212\n",
      "┌ Warning: Not solved to optimality, status: Unbounded\n",
      "└ @ JuMP /Users/vishalgupta/.julia/packages/JuMP/I7whV/src/solvers.jl:212\n"
     ]
    },
    {
     "name": "stdout",
     "output_type": "stream",
     "text": [
      "Academic license - for non-commercial use only\n",
      "Academic license - for non-commercial use only\n",
      "Academic license - for non-commercial use only\n",
      "Academic license - for non-commercial use only\n"
     ]
    },
    {
     "name": "stderr",
     "output_type": "stream",
     "text": [
      "┌ Warning: Not solved to optimality, status: Unbounded\n",
      "└ @ JuMP /Users/vishalgupta/.julia/packages/JuMP/I7whV/src/solvers.jl:212\n",
      "┌ Warning: Not solved to optimality, status: Unbounded\n",
      "└ @ JuMP /Users/vishalgupta/.julia/packages/JuMP/I7whV/src/solvers.jl:212\n",
      "┌ Warning: Not solved to optimality, status: Unbounded\n",
      "└ @ JuMP /Users/vishalgupta/.julia/packages/JuMP/I7whV/src/solvers.jl:212\n",
      "┌ Warning: Not solved to optimality, status: Unbounded\n",
      "└ @ JuMP /Users/vishalgupta/.julia/packages/JuMP/I7whV/src/solvers.jl:212\n"
     ]
    },
    {
     "name": "stdout",
     "output_type": "stream",
     "text": [
      "Academic license - for non-commercial use only\n",
      "Academic license - for non-commercial use only\n",
      "Academic license - for non-commercial use only\n",
      "Academic license - for non-commercial use only\n"
     ]
    },
    {
     "name": "stderr",
     "output_type": "stream",
     "text": [
      "┌ Warning: Not solved to optimality, status: Unbounded\n",
      "└ @ JuMP /Users/vishalgupta/.julia/packages/JuMP/I7whV/src/solvers.jl:212\n",
      "┌ Warning: Not solved to optimality, status: Unbounded\n",
      "└ @ JuMP /Users/vishalgupta/.julia/packages/JuMP/I7whV/src/solvers.jl:212\n",
      "┌ Warning: Not solved to optimality, status: Unbounded\n",
      "└ @ JuMP /Users/vishalgupta/.julia/packages/JuMP/I7whV/src/solvers.jl:212\n",
      "┌ Warning: Not solved to optimality, status: Unbounded\n",
      "└ @ JuMP /Users/vishalgupta/.julia/packages/JuMP/I7whV/src/solvers.jl:212\n"
     ]
    },
    {
     "name": "stdout",
     "output_type": "stream",
     "text": [
      "Academic license - for non-commercial use only\n",
      "Academic license - for non-commercial use only\n"
     ]
    },
    {
     "name": "stderr",
     "output_type": "stream",
     "text": [
      "┌ Warning: Not solved to optimality, status: Unbounded\n",
      "└ @ JuMP /Users/vishalgupta/.julia/packages/JuMP/I7whV/src/solvers.jl:212\n",
      "┌ Warning: Not solved to optimality, status: Unbounded\n",
      "└ @ JuMP /Users/vishalgupta/.julia/packages/JuMP/I7whV/src/solvers.jl:212\n"
     ]
    },
    {
     "name": "stdout",
     "output_type": "stream",
     "text": [
      "Academic license - for non-commercial use only\n",
      "Academic license - for non-commercial use only\n",
      "Academic license - for non-commercial use only\n",
      "Academic license - for non-commercial use only\n"
     ]
    },
    {
     "name": "stderr",
     "output_type": "stream",
     "text": [
      "┌ Warning: Not solved to optimality, status: Unbounded\n",
      "└ @ JuMP /Users/vishalgupta/.julia/packages/JuMP/I7whV/src/solvers.jl:212\n",
      "┌ Warning: Not solved to optimality, status: Unbounded\n",
      "└ @ JuMP /Users/vishalgupta/.julia/packages/JuMP/I7whV/src/solvers.jl:212\n",
      "┌ Warning: Not solved to optimality, status: Unbounded\n",
      "└ @ JuMP /Users/vishalgupta/.julia/packages/JuMP/I7whV/src/solvers.jl:212\n",
      "┌ Warning: Not solved to optimality, status: Unbounded\n",
      "└ @ JuMP /Users/vishalgupta/.julia/packages/JuMP/I7whV/src/solvers.jl:212\n"
     ]
    },
    {
     "name": "stdout",
     "output_type": "stream",
     "text": [
      "Academic license - for non-commercial use only\n",
      "Academic license - for non-commercial use only\n"
     ]
    },
    {
     "name": "stderr",
     "output_type": "stream",
     "text": [
      "┌ Warning: Not solved to optimality, status: Unbounded\n",
      "└ @ JuMP /Users/vishalgupta/.julia/packages/JuMP/I7whV/src/solvers.jl:212\n",
      "┌ Warning: Not solved to optimality, status: Unbounded\n",
      "└ @ JuMP /Users/vishalgupta/.julia/packages/JuMP/I7whV/src/solvers.jl:212\n"
     ]
    },
    {
     "name": "stdout",
     "output_type": "stream",
     "text": [
      "Academic license - for non-commercial use only\n",
      "Academic license - for non-commercial use only\n",
      "Academic license - for non-commercial use only\n",
      "Academic license - for non-commercial use only\n"
     ]
    },
    {
     "name": "stderr",
     "output_type": "stream",
     "text": [
      "┌ Warning: Not solved to optimality, status: Unbounded\n",
      "└ @ JuMP /Users/vishalgupta/.julia/packages/JuMP/I7whV/src/solvers.jl:212\n",
      "┌ Warning: Not solved to optimality, status: Unbounded\n",
      "└ @ JuMP /Users/vishalgupta/.julia/packages/JuMP/I7whV/src/solvers.jl:212\n",
      "┌ Warning: Not solved to optimality, status: Unbounded\n",
      "└ @ JuMP /Users/vishalgupta/.julia/packages/JuMP/I7whV/src/solvers.jl:212\n",
      "┌ Warning: Not solved to optimality, status: Unbounded\n",
      "└ @ JuMP /Users/vishalgupta/.julia/packages/JuMP/I7whV/src/solvers.jl:212\n"
     ]
    },
    {
     "name": "stdout",
     "output_type": "stream",
     "text": [
      "Academic license - for non-commercial use only\n",
      "Academic license - for non-commercial use only\n"
     ]
    },
    {
     "name": "stderr",
     "output_type": "stream",
     "text": [
      "┌ Warning: Not solved to optimality, status: Unbounded\n",
      "└ @ JuMP /Users/vishalgupta/.julia/packages/JuMP/I7whV/src/solvers.jl:212\n",
      "┌ Warning: Not solved to optimality, status: Unbounded\n",
      "└ @ JuMP /Users/vishalgupta/.julia/packages/JuMP/I7whV/src/solvers.jl:212\n"
     ]
    },
    {
     "name": "stdout",
     "output_type": "stream",
     "text": [
      "Academic license - for non-commercial use only\n",
      "Academic license - for non-commercial use only\n",
      "Academic license - for non-commercial use only\n",
      "Academic license - for non-commercial use only\n"
     ]
    },
    {
     "name": "stderr",
     "output_type": "stream",
     "text": [
      "┌ Warning: Not solved to optimality, status: Unbounded\n",
      "└ @ JuMP /Users/vishalgupta/.julia/packages/JuMP/I7whV/src/solvers.jl:212\n",
      "┌ Warning: Not solved to optimality, status: Unbounded\n",
      "└ @ JuMP /Users/vishalgupta/.julia/packages/JuMP/I7whV/src/solvers.jl:212\n",
      "┌ Warning: Not solved to optimality, status: Unbounded\n",
      "└ @ JuMP /Users/vishalgupta/.julia/packages/JuMP/I7whV/src/solvers.jl:212\n",
      "┌ Warning: Not solved to optimality, status: Unbounded\n",
      "└ @ JuMP /Users/vishalgupta/.julia/packages/JuMP/I7whV/src/solvers.jl:212\n"
     ]
    },
    {
     "name": "stdout",
     "output_type": "stream",
     "text": [
      "Academic license - for non-commercial use only\n",
      "Academic license - for non-commercial use only\n"
     ]
    },
    {
     "name": "stderr",
     "output_type": "stream",
     "text": [
      "┌ Warning: Not solved to optimality, status: Unbounded\n",
      "└ @ JuMP /Users/vishalgupta/.julia/packages/JuMP/I7whV/src/solvers.jl:212\n",
      "┌ Warning: Not solved to optimality, status: Unbounded\n",
      "└ @ JuMP /Users/vishalgupta/.julia/packages/JuMP/I7whV/src/solvers.jl:212\n"
     ]
    },
    {
     "name": "stdout",
     "output_type": "stream",
     "text": [
      "Academic license - for non-commercial use only\n",
      "Academic license - for non-commercial use only\n",
      "Academic license - for non-commercial use only\n",
      "Academic license - for non-commercial use only\n"
     ]
    },
    {
     "name": "stderr",
     "output_type": "stream",
     "text": [
      "┌ Warning: Not solved to optimality, status: Unbounded\n",
      "└ @ JuMP /Users/vishalgupta/.julia/packages/JuMP/I7whV/src/solvers.jl:212\n",
      "┌ Warning: Not solved to optimality, status: Unbounded\n",
      "└ @ JuMP /Users/vishalgupta/.julia/packages/JuMP/I7whV/src/solvers.jl:212\n",
      "┌ Warning: Not solved to optimality, status: Unbounded\n",
      "└ @ JuMP /Users/vishalgupta/.julia/packages/JuMP/I7whV/src/solvers.jl:212\n",
      "┌ Warning: Not solved to optimality, status: Unbounded\n",
      "└ @ JuMP /Users/vishalgupta/.julia/packages/JuMP/I7whV/src/solvers.jl:212\n"
     ]
    },
    {
     "name": "stdout",
     "output_type": "stream",
     "text": [
      "Academic license - for non-commercial use only\n",
      "Academic license - for non-commercial use only\n",
      "Academic license - for non-commercial use only\n",
      "Academic license - for non-commercial use only\n"
     ]
    },
    {
     "name": "stderr",
     "output_type": "stream",
     "text": [
      "┌ Warning: Not solved to optimality, status: Unbounded\n",
      "└ @ JuMP /Users/vishalgupta/.julia/packages/JuMP/I7whV/src/solvers.jl:212\n",
      "┌ Warning: Not solved to optimality, status: Unbounded\n",
      "└ @ JuMP /Users/vishalgupta/.julia/packages/JuMP/I7whV/src/solvers.jl:212\n",
      "┌ Warning: Not solved to optimality, status: Unbounded\n",
      "└ @ JuMP /Users/vishalgupta/.julia/packages/JuMP/I7whV/src/solvers.jl:212\n",
      "┌ Warning: Not solved to optimality, status: Unbounded\n",
      "└ @ JuMP /Users/vishalgupta/.julia/packages/JuMP/I7whV/src/solvers.jl:212\n"
     ]
    },
    {
     "name": "stdout",
     "output_type": "stream",
     "text": [
      "Academic license - for non-commercial use only\n",
      "Academic license - for non-commercial use only\n"
     ]
    },
    {
     "name": "stderr",
     "output_type": "stream",
     "text": [
      "┌ Warning: Not solved to optimality, status: Unbounded\n",
      "└ @ JuMP /Users/vishalgupta/.julia/packages/JuMP/I7whV/src/solvers.jl:212\n",
      "┌ Warning: Not solved to optimality, status: Unbounded\n",
      "└ @ JuMP /Users/vishalgupta/.julia/packages/JuMP/I7whV/src/solvers.jl:212\n"
     ]
    },
    {
     "name": "stdout",
     "output_type": "stream",
     "text": [
      "Academic license - for non-commercial use only\n",
      "Academic license - for non-commercial use only\n",
      "Academic license - for non-commercial use only\n",
      "Academic license - for non-commercial use only\n",
      "Academic license - for non-commercial use only\n",
      "Academic license - for non-commercial use only\n",
      "Academic license - for non-commercial use only\n",
      "Academic license - for non-commercial use only\n",
      "Academic license - for non-commercial use only\n",
      "Academic license - for non-commercial use only\n",
      "Academic license - for non-commercial use only\n",
      "Academic license - for non-commercial use only\n",
      "Academic license - for non-commercial use only\n",
      "Academic license - for non-commercial use only\n",
      "Academic license - for non-commercial use only\n",
      "Academic license - for non-commercial use only\n",
      "Academic license - for non-commercial use only\n",
      "Academic license - for non-commercial use only\n",
      "Academic license - for non-commercial use only\n",
      "Academic license - for non-commercial use only\n",
      "Academic license - for non-commercial use only\n",
      "Academic license - for non-commercial use only\n",
      "Academic license - for non-commercial use only\n",
      "Academic license - for non-commercial use only\n",
      "Academic license - for non-commercial use only\n",
      "Academic license - for non-commercial use only\n",
      "Academic license - for non-commercial use only\n",
      "Academic license - for non-commercial use only\n",
      "Academic license - for non-commercial use only\n",
      "Academic license - for non-commercial use only\n",
      "Academic license - for non-commercial use only\n",
      "Academic license - for non-commercial use only\n",
      "Academic license - for non-commercial use only\n",
      "Academic license - for non-commercial use only\n",
      "Academic license - for non-commercial use only\n",
      "Academic license - for non-commercial use only\n",
      "Academic license - for non-commercial use only\n",
      "Academic license - for non-commercial use only\n",
      "Academic license - for non-commercial use only\n",
      "Academic license - for non-commercial use only\n",
      "Academic license - for non-commercial use only\n",
      "Academic license - for non-commercial use only\n",
      "Academic license - for non-commercial use only\n",
      "Academic license - for non-commercial use only\n",
      "Academic license - for non-commercial use only\n",
      "Academic license - for non-commercial use only\n",
      "Academic license - for non-commercial use only\n",
      "Academic license - for non-commercial use only\n",
      "Academic license - for non-commercial use only\n",
      "Academic license - for non-commercial use only\n",
      "Academic license - for non-commercial use only\n",
      "Academic license - for non-commercial use only\n",
      "Academic license - for non-commercial use only\n",
      "Academic license - for non-commercial use only\n",
      "Academic license - for non-commercial use only\n",
      "Academic license - for non-commercial use only\n",
      "Academic license - for non-commercial use only\n",
      "Academic license - for non-commercial use only\n",
      "Academic license - for non-commercial use only\n",
      "Academic license - for non-commercial use only\n",
      "Academic license - for non-commercial use only\n",
      "Academic license - for non-commercial use only\n",
      "Academic license - for non-commercial use only\n",
      "Academic license - for non-commercial use only\n",
      "Academic license - for non-commercial use only\n",
      "Academic license - for non-commercial use only\n",
      "Academic license - for non-commercial use only\n",
      "Academic license - for non-commercial use only\n",
      "Academic license - for non-commercial use only\n",
      "Academic license - for non-commercial use only\n",
      "Academic license - for non-commercial use only\n",
      "Academic license - for non-commercial use only\n",
      "Academic license - for non-commercial use only\n",
      "Academic license - for non-commercial use only\n",
      "Academic license - for non-commercial use only\n",
      "Academic license - for non-commercial use only\n",
      "Academic license - for non-commercial use only\n",
      "Academic license - for non-commercial use only\n",
      "Academic license - for non-commercial use only\n",
      "Academic license - for non-commercial use only\n",
      "Academic license - for non-commercial use only\n",
      "Academic license - for non-commercial use only\n",
      "Academic license - for non-commercial use only\n",
      "Academic license - for non-commercial use only\n",
      "Academic license - for non-commercial use only\n",
      "Academic license - for non-commercial use only\n",
      "Academic license - for non-commercial use only\n",
      "Academic license - for non-commercial use only\n",
      "Academic license - for non-commercial use only\n",
      "Academic license - for non-commercial use only\n",
      "Academic license - for non-commercial use only\n",
      "Academic license - for non-commercial use only\n",
      "Academic license - for non-commercial use only\n",
      "Academic license - for non-commercial use only\n",
      "Academic license - for non-commercial use only\n",
      "Academic license - for non-commercial use only\n",
      "Academic license - for non-commercial use only\n",
      "Academic license - for non-commercial use only\n",
      "Academic license - for non-commercial use only\n",
      "Academic license - for non-commercial use only\n",
      "Academic license - for non-commercial use only\n",
      "Academic license - for non-commercial use only\n",
      "Academic license - for non-commercial use only\n",
      "Academic license - for non-commercial use only\n",
      "Academic license - for non-commercial use only\n",
      "Academic license - for non-commercial use only\n",
      "Academic license - for non-commercial use only\n",
      "Academic license - for non-commercial use only\n",
      "Academic license - for non-commercial use only\n",
      "Academic license - for non-commercial use only\n",
      "Academic license - for non-commercial use only\n",
      "Academic license - for non-commercial use only\n",
      "Academic license - for non-commercial use only\n",
      "Academic license - for non-commercial use only\n",
      "Academic license - for non-commercial use only\n",
      "Academic license - for non-commercial use only\n",
      "Academic license - for non-commercial use only\n",
      "Academic license - for non-commercial use only\n",
      "Academic license - for non-commercial use only\n",
      "Academic license - for non-commercial use only\n",
      "Academic license - for non-commercial use only\n",
      "Academic license - for non-commercial use only\n",
      "Academic license - for non-commercial use only\n",
      "Academic license - for non-commercial use only\n",
      "Academic license - for non-commercial use only\n",
      "Academic license - for non-commercial use only\n",
      "Academic license - for non-commercial use only\n",
      "Academic license - for non-commercial use only\n",
      "Academic license - for non-commercial use only\n",
      "Academic license - for non-commercial use only\n",
      "Academic license - for non-commercial use only\n",
      "Academic license - for non-commercial use only\n",
      "Academic license - for non-commercial use only\n",
      "Academic license - for non-commercial use only\n",
      "Academic license - for non-commercial use only\n",
      "Academic license - for non-commercial use only\n",
      "Academic license - for non-commercial use only\n",
      "Academic license - for non-commercial use only\n",
      "Academic license - for non-commercial use only\n",
      "Academic license - for non-commercial use only\n",
      "Academic license - for non-commercial use only\n",
      "Academic license - for non-commercial use only\n",
      "Academic license - for non-commercial use only\n",
      "Academic license - for non-commercial use only\n",
      "Academic license - for non-commercial use only\n",
      "Academic license - for non-commercial use only\n",
      "Academic license - for non-commercial use only\n",
      "Academic license - for non-commercial use only\n",
      "Academic license - for non-commercial use only\n",
      "Academic license - for non-commercial use only\n",
      "Academic license - for non-commercial use only\n",
      "Academic license - for non-commercial use only\n",
      "Academic license - for non-commercial use only\n",
      "Academic license - for non-commercial use only\n",
      "Academic license - for non-commercial use only\n",
      "Academic license - for non-commercial use only\n",
      "Academic license - for non-commercial use only\n",
      "Academic license - for non-commercial use only\n",
      "Academic license - for non-commercial use only\n",
      "Academic license - for non-commercial use only\n",
      "Academic license - for non-commercial use only\n",
      "Academic license - for non-commercial use only\n",
      "Academic license - for non-commercial use only\n",
      "Academic license - for non-commercial use only\n",
      "Academic license - for non-commercial use only\n",
      "Academic license - for non-commercial use only\n",
      "Academic license - for non-commercial use only\n",
      "Academic license - for non-commercial use only\n",
      "Academic license - for non-commercial use only\n",
      "Academic license - for non-commercial use only\n",
      "Academic license - for non-commercial use only\n",
      "Academic license - for non-commercial use only\n",
      "Academic license - for non-commercial use only\n",
      "Academic license - for non-commercial use only\n",
      "Academic license - for non-commercial use only\n",
      "Academic license - for non-commercial use only\n",
      "Academic license - for non-commercial use only\n",
      "Academic license - for non-commercial use only\n",
      "Academic license - for non-commercial use only\n",
      "Academic license - for non-commercial use only\n",
      "Academic license - for non-commercial use only\n",
      "Academic license - for non-commercial use only\n",
      "Academic license - for non-commercial use only\n",
      "Academic license - for non-commercial use only\n",
      "Academic license - for non-commercial use only\n",
      "Academic license - for non-commercial use only\n",
      "Academic license - for non-commercial use only\n",
      "Academic license - for non-commercial use only\n",
      "Academic license - for non-commercial use only\n",
      "Academic license - for non-commercial use only\n",
      "Academic license - for non-commercial use only\n",
      "Academic license - for non-commercial use only\n",
      "Academic license - for non-commercial use only\n",
      "Academic license - for non-commercial use only\n",
      "Academic license - for non-commercial use only\n",
      "Academic license - for non-commercial use only\n",
      "Academic license - for non-commercial use only\n",
      "Academic license - for non-commercial use only\n",
      "Academic license - for non-commercial use only\n",
      "Academic license - for non-commercial use only\n",
      "Academic license - for non-commercial use only\n",
      "Academic license - for non-commercial use only\n",
      "Academic license - for non-commercial use only\n",
      "Academic license - for non-commercial use only\n",
      "Academic license - for non-commercial use only\n",
      "Academic license - for non-commercial use only\n",
      "Academic license - for non-commercial use only\n",
      "Academic license - for non-commercial use only\n",
      "Academic license - for non-commercial use only\n",
      "Academic license - for non-commercial use only\n",
      "Academic license - for non-commercial use only\n",
      "Academic license - for non-commercial use only\n",
      "Academic license - for non-commercial use only\n",
      "Academic license - for non-commercial use only\n",
      "Academic license - for non-commercial use only\n",
      "Academic license - for non-commercial use only\n",
      "Academic license - for non-commercial use only\n",
      "Academic license - for non-commercial use only\n",
      "Academic license - for non-commercial use only\n",
      "Academic license - for non-commercial use only\n",
      "Academic license - for non-commercial use only\n",
      "Academic license - for non-commercial use only\n",
      "Academic license - for non-commercial use only\n",
      "Academic license - for non-commercial use only\n",
      "Academic license - for non-commercial use only\n",
      "Academic license - for non-commercial use only\n",
      "Academic license - for non-commercial use only\n",
      "Academic license - for non-commercial use only\n",
      "Academic license - for non-commercial use only\n",
      "Academic license - for non-commercial use only\n",
      "Academic license - for non-commercial use only\n",
      "Academic license - for non-commercial use only\n",
      "Academic license - for non-commercial use only\n",
      "Academic license - for non-commercial use only\n",
      "Academic license - for non-commercial use only\n",
      "Academic license - for non-commercial use only\n",
      "Academic license - for non-commercial use only\n",
      "Academic license - for non-commercial use only\n",
      "Academic license - for non-commercial use only\n",
      "Academic license - for non-commercial use only\n",
      "Academic license - for non-commercial use only\n",
      "Academic license - for non-commercial use only\n",
      "Academic license - for non-commercial use only\n",
      "Academic license - for non-commercial use only\n",
      "Academic license - for non-commercial use only\n",
      "Academic license - for non-commercial use only\n",
      "Academic license - for non-commercial use only\n",
      "Academic license - for non-commercial use only\n",
      "Academic license - for non-commercial use only\n",
      "Academic license - for non-commercial use only\n",
      "Academic license - for non-commercial use only\n",
      "Academic license - for non-commercial use only\n",
      "Academic license - for non-commercial use only\n",
      "Academic license - for non-commercial use only\n",
      "Academic license - for non-commercial use only\n",
      "Academic license - for non-commercial use only\n",
      "Academic license - for non-commercial use only\n",
      "Academic license - for non-commercial use only\n",
      "Academic license - for non-commercial use only\n",
      "Academic license - for non-commercial use only\n",
      "Academic license - for non-commercial use only\n",
      "Academic license - for non-commercial use only\n",
      "Academic license - for non-commercial use only\n",
      "Academic license - for non-commercial use only\n",
      "Academic license - for non-commercial use only\n",
      "Academic license - for non-commercial use only\n",
      "Academic license - for non-commercial use only\n",
      "Academic license - for non-commercial use only\n",
      "Academic license - for non-commercial use only\n",
      "Academic license - for non-commercial use only\n",
      "Academic license - for non-commercial use only\n",
      "Academic license - for non-commercial use only\n",
      "Academic license - for non-commercial use only\n",
      "Academic license - for non-commercial use only\n",
      "Academic license - for non-commercial use only\n",
      "Academic license - for non-commercial use only\n",
      "Academic license - for non-commercial use only\n",
      "Academic license - for non-commercial use only\n",
      "Academic license - for non-commercial use only\n",
      "Academic license - for non-commercial use only\n",
      "Academic license - for non-commercial use only\n",
      "Academic license - for non-commercial use only\n",
      "Academic license - for non-commercial use only\n",
      "Academic license - for non-commercial use only\n",
      "Academic license - for non-commercial use only\n",
      "Academic license - for non-commercial use only\n",
      "Academic license - for non-commercial use only\n",
      "Academic license - for non-commercial use only\n",
      "Academic license - for non-commercial use only\n",
      "Academic license - for non-commercial use only\n",
      "Academic license - for non-commercial use only\n",
      "Academic license - for non-commercial use only\n",
      "Academic license - for non-commercial use only\n",
      "Academic license - for non-commercial use only\n",
      "Academic license - for non-commercial use only\n",
      "Academic license - for non-commercial use only\n",
      "Academic license - for non-commercial use only\n",
      "Academic license - for non-commercial use only\n",
      "Academic license - for non-commercial use only\n",
      "Academic license - for non-commercial use only\n",
      "Academic license - for non-commercial use only\n",
      "Academic license - for non-commercial use only\n",
      "Academic license - for non-commercial use only\n",
      "Academic license - for non-commercial use only\n",
      "Academic license - for non-commercial use only\n",
      "Academic license - for non-commercial use only\n",
      "Academic license - for non-commercial use only\n",
      "Academic license - for non-commercial use only\n",
      "Academic license - for non-commercial use only\n",
      "Academic license - for non-commercial use only\n",
      "Academic license - for non-commercial use only\n",
      "Academic license - for non-commercial use only\n",
      "Academic license - for non-commercial use only\n",
      "Academic license - for non-commercial use only\n",
      "Academic license - for non-commercial use only\n",
      "Academic license - for non-commercial use only\n",
      "Dev:\t"
     ]
    },
    {
     "name": "stderr",
     "output_type": "stream",
     "text": [
      "┌ Warning: Not solved to optimality, status: Unbounded\n",
      "└ @ JuMP /Users/vishalgupta/.julia/packages/JuMP/I7whV/src/solvers.jl:212\n"
     ]
    },
    {
     "name": "stdout",
     "output_type": "stream",
     "text": [
      "0.21052631578947367\n",
      "Academic license - for non-commercial use only\n"
     ]
    },
    {
     "name": "stderr",
     "output_type": "stream",
     "text": [
      "┌ Warning: Not solved to optimality, status: Unbounded\n",
      "└ @ JuMP /Users/vishalgupta/.julia/packages/JuMP/I7whV/src/solvers.jl:212\n",
      "┌ Warning: Not solved to optimality, status: Unbounded\n",
      "└ @ JuMP /Users/vishalgupta/.julia/packages/JuMP/I7whV/src/solvers.jl:212\n"
     ]
    },
    {
     "name": "stdout",
     "output_type": "stream",
     "text": [
      "Academic license - for non-commercial use only\n",
      "Academic license - for non-commercial use only\n"
     ]
    },
    {
     "name": "stderr",
     "output_type": "stream",
     "text": [
      "┌ Warning: Not solved to optimality, status: Unbounded\n",
      "└ @ JuMP /Users/vishalgupta/.julia/packages/JuMP/I7whV/src/solvers.jl:212\n",
      "┌ Warning: Not solved to optimality, status: Unbounded\n",
      "└ @ JuMP /Users/vishalgupta/.julia/packages/JuMP/I7whV/src/solvers.jl:212\n"
     ]
    },
    {
     "name": "stdout",
     "output_type": "stream",
     "text": [
      "Academic license - for non-commercial use only\n",
      "Academic license - for non-commercial use only\n",
      "Academic license - for non-commercial use only\n",
      "Academic license - for non-commercial use only\n"
     ]
    },
    {
     "name": "stderr",
     "output_type": "stream",
     "text": [
      "┌ Warning: Not solved to optimality, status: Unbounded\n",
      "└ @ JuMP /Users/vishalgupta/.julia/packages/JuMP/I7whV/src/solvers.jl:212\n",
      "┌ Warning: Not solved to optimality, status: Unbounded\n",
      "└ @ JuMP /Users/vishalgupta/.julia/packages/JuMP/I7whV/src/solvers.jl:212\n"
     ]
    },
    {
     "name": "stdout",
     "output_type": "stream",
     "text": [
      "Academic license - for non-commercial use only\n",
      "Academic license - for non-commercial use only\n"
     ]
    },
    {
     "name": "stderr",
     "output_type": "stream",
     "text": [
      "┌ Warning: Not solved to optimality, status: Unbounded\n",
      "└ @ JuMP /Users/vishalgupta/.julia/packages/JuMP/I7whV/src/solvers.jl:212\n",
      "┌ Warning: Not solved to optimality, status: Unbounded\n",
      "└ @ JuMP /Users/vishalgupta/.julia/packages/JuMP/I7whV/src/solvers.jl:212\n",
      "┌ Warning: Not solved to optimality, status: Unbounded\n",
      "└ @ JuMP /Users/vishalgupta/.julia/packages/JuMP/I7whV/src/solvers.jl:212\n",
      "┌ Warning: Not solved to optimality, status: Unbounded\n",
      "└ @ JuMP /Users/vishalgupta/.julia/packages/JuMP/I7whV/src/solvers.jl:212\n"
     ]
    },
    {
     "name": "stdout",
     "output_type": "stream",
     "text": [
      "Academic license - for non-commercial use only\n",
      "Academic license - for non-commercial use only\n",
      "Academic license - for non-commercial use only\n",
      "Academic license - for non-commercial use only\n"
     ]
    },
    {
     "name": "stderr",
     "output_type": "stream",
     "text": [
      "┌ Warning: Not solved to optimality, status: Unbounded\n",
      "└ @ JuMP /Users/vishalgupta/.julia/packages/JuMP/I7whV/src/solvers.jl:212\n",
      "┌ Warning: Not solved to optimality, status: Unbounded\n",
      "└ @ JuMP /Users/vishalgupta/.julia/packages/JuMP/I7whV/src/solvers.jl:212\n"
     ]
    },
    {
     "name": "stdout",
     "output_type": "stream",
     "text": [
      "Academic license - for non-commercial use only\n",
      "Academic license - for non-commercial use only\n"
     ]
    },
    {
     "name": "stderr",
     "output_type": "stream",
     "text": [
      "┌ Warning: Not solved to optimality, status: Unbounded\n",
      "└ @ JuMP /Users/vishalgupta/.julia/packages/JuMP/I7whV/src/solvers.jl:212\n",
      "┌ Warning: Not solved to optimality, status: Unbounded\n",
      "└ @ JuMP /Users/vishalgupta/.julia/packages/JuMP/I7whV/src/solvers.jl:212\n",
      "┌ Warning: Not solved to optimality, status: Unbounded\n",
      "└ @ JuMP /Users/vishalgupta/.julia/packages/JuMP/I7whV/src/solvers.jl:212\n",
      "┌ Warning: Not solved to optimality, status: Unbounded\n",
      "└ @ JuMP /Users/vishalgupta/.julia/packages/JuMP/I7whV/src/solvers.jl:212\n"
     ]
    },
    {
     "name": "stdout",
     "output_type": "stream",
     "text": [
      "Academic license - for non-commercial use only\n",
      "Academic license - for non-commercial use only\n",
      "Academic license - for non-commercial use only\n",
      "Academic license - for non-commercial use only\n"
     ]
    },
    {
     "name": "stderr",
     "output_type": "stream",
     "text": [
      "┌ Warning: Not solved to optimality, status: Unbounded\n",
      "└ @ JuMP /Users/vishalgupta/.julia/packages/JuMP/I7whV/src/solvers.jl:212\n",
      "┌ Warning: Not solved to optimality, status: Unbounded\n",
      "└ @ JuMP /Users/vishalgupta/.julia/packages/JuMP/I7whV/src/solvers.jl:212\n"
     ]
    },
    {
     "name": "stdout",
     "output_type": "stream",
     "text": [
      "Academic license - for non-commercial use only\n",
      "Academic license - for non-commercial use only\n"
     ]
    },
    {
     "name": "stderr",
     "output_type": "stream",
     "text": [
      "┌ Warning: Not solved to optimality, status: Unbounded\n",
      "└ @ JuMP /Users/vishalgupta/.julia/packages/JuMP/I7whV/src/solvers.jl:212\n",
      "┌ Warning: Not solved to optimality, status: Unbounded\n",
      "└ @ JuMP /Users/vishalgupta/.julia/packages/JuMP/I7whV/src/solvers.jl:212\n",
      "┌ Warning: Not solved to optimality, status: Unbounded\n",
      "└ @ JuMP /Users/vishalgupta/.julia/packages/JuMP/I7whV/src/solvers.jl:212\n",
      "┌ Warning: Not solved to optimality, status: Unbounded\n",
      "└ @ JuMP /Users/vishalgupta/.julia/packages/JuMP/I7whV/src/solvers.jl:212\n"
     ]
    },
    {
     "name": "stdout",
     "output_type": "stream",
     "text": [
      "Academic license - for non-commercial use only\n",
      "Academic license - for non-commercial use only\n",
      "Academic license - for non-commercial use only\n",
      "Academic license - for non-commercial use only\n"
     ]
    },
    {
     "name": "stderr",
     "output_type": "stream",
     "text": [
      "┌ Warning: Not solved to optimality, status: Unbounded\n",
      "└ @ JuMP /Users/vishalgupta/.julia/packages/JuMP/I7whV/src/solvers.jl:212\n",
      "┌ Warning: Not solved to optimality, status: Unbounded\n",
      "└ @ JuMP /Users/vishalgupta/.julia/packages/JuMP/I7whV/src/solvers.jl:212\n"
     ]
    },
    {
     "name": "stdout",
     "output_type": "stream",
     "text": [
      "Academic license - for non-commercial use only\n",
      "Academic license - for non-commercial use only\n",
      "Academic license - for non-commercial use only\n",
      "Academic license - for non-commercial use only\n"
     ]
    },
    {
     "name": "stderr",
     "output_type": "stream",
     "text": [
      "┌ Warning: Not solved to optimality, status: Unbounded\n",
      "└ @ JuMP /Users/vishalgupta/.julia/packages/JuMP/I7whV/src/solvers.jl:212\n",
      "┌ Warning: Not solved to optimality, status: Unbounded\n",
      "└ @ JuMP /Users/vishalgupta/.julia/packages/JuMP/I7whV/src/solvers.jl:212\n",
      "┌ Warning: Not solved to optimality, status: Unbounded\n",
      "└ @ JuMP /Users/vishalgupta/.julia/packages/JuMP/I7whV/src/solvers.jl:212\n",
      "┌ Warning: Not solved to optimality, status: Unbounded\n",
      "└ @ JuMP /Users/vishalgupta/.julia/packages/JuMP/I7whV/src/solvers.jl:212\n"
     ]
    },
    {
     "name": "stdout",
     "output_type": "stream",
     "text": [
      "Academic license - for non-commercial use only\n",
      "Academic license - for non-commercial use only\n"
     ]
    },
    {
     "name": "stderr",
     "output_type": "stream",
     "text": [
      "┌ Warning: Not solved to optimality, status: Unbounded\n",
      "└ @ JuMP /Users/vishalgupta/.julia/packages/JuMP/I7whV/src/solvers.jl:212\n",
      "┌ Warning: Not solved to optimality, status: Unbounded\n",
      "└ @ JuMP /Users/vishalgupta/.julia/packages/JuMP/I7whV/src/solvers.jl:212\n",
      "┌ Warning: Not solved to optimality, status: Unbounded\n",
      "└ @ JuMP /Users/vishalgupta/.julia/packages/JuMP/I7whV/src/solvers.jl:212\n",
      "┌ Warning: Not solved to optimality, status: Unbounded\n",
      "└ @ JuMP /Users/vishalgupta/.julia/packages/JuMP/I7whV/src/solvers.jl:212\n"
     ]
    },
    {
     "name": "stdout",
     "output_type": "stream",
     "text": [
      "Academic license - for non-commercial use only\n",
      "Academic license - for non-commercial use only\n",
      "Academic license - for non-commercial use only\n",
      "Academic license - for non-commercial use only\n"
     ]
    },
    {
     "name": "stderr",
     "output_type": "stream",
     "text": [
      "┌ Warning: Not solved to optimality, status: Unbounded\n",
      "└ @ JuMP /Users/vishalgupta/.julia/packages/JuMP/I7whV/src/solvers.jl:212\n",
      "┌ Warning: Not solved to optimality, status: Unbounded\n",
      "└ @ JuMP /Users/vishalgupta/.julia/packages/JuMP/I7whV/src/solvers.jl:212\n"
     ]
    },
    {
     "name": "stdout",
     "output_type": "stream",
     "text": [
      "Academic license - for non-commercial use only\n",
      "Academic license - for non-commercial use only\n"
     ]
    },
    {
     "name": "stderr",
     "output_type": "stream",
     "text": [
      "┌ Warning: Not solved to optimality, status: Unbounded\n",
      "└ @ JuMP /Users/vishalgupta/.julia/packages/JuMP/I7whV/src/solvers.jl:212\n",
      "┌ Warning: Not solved to optimality, status: Unbounded\n",
      "└ @ JuMP /Users/vishalgupta/.julia/packages/JuMP/I7whV/src/solvers.jl:212\n",
      "┌ Warning: Not solved to optimality, status: Unbounded\n",
      "└ @ JuMP /Users/vishalgupta/.julia/packages/JuMP/I7whV/src/solvers.jl:212\n",
      "┌ Warning: Not solved to optimality, status: Unbounded\n",
      "└ @ JuMP /Users/vishalgupta/.julia/packages/JuMP/I7whV/src/solvers.jl:212\n"
     ]
    },
    {
     "name": "stdout",
     "output_type": "stream",
     "text": [
      "Academic license - for non-commercial use only\n",
      "Academic license - for non-commercial use only\n",
      "Academic license - for non-commercial use only\n",
      "Academic license - for non-commercial use only\n"
     ]
    },
    {
     "name": "stderr",
     "output_type": "stream",
     "text": [
      "┌ Warning: Not solved to optimality, status: Unbounded\n",
      "└ @ JuMP /Users/vishalgupta/.julia/packages/JuMP/I7whV/src/solvers.jl:212\n",
      "┌ Warning: Not solved to optimality, status: Unbounded\n",
      "└ @ JuMP /Users/vishalgupta/.julia/packages/JuMP/I7whV/src/solvers.jl:212\n"
     ]
    },
    {
     "name": "stdout",
     "output_type": "stream",
     "text": [
      "Academic license - for non-commercial use only\n",
      "Academic license - for non-commercial use only\n"
     ]
    },
    {
     "name": "stderr",
     "output_type": "stream",
     "text": [
      "┌ Warning: Not solved to optimality, status: Unbounded\n",
      "└ @ JuMP /Users/vishalgupta/.julia/packages/JuMP/I7whV/src/solvers.jl:212\n",
      "┌ Warning: Not solved to optimality, status: Unbounded\n",
      "└ @ JuMP /Users/vishalgupta/.julia/packages/JuMP/I7whV/src/solvers.jl:212\n",
      "┌ Warning: Not solved to optimality, status: Unbounded\n",
      "└ @ JuMP /Users/vishalgupta/.julia/packages/JuMP/I7whV/src/solvers.jl:212\n",
      "┌ Warning: Not solved to optimality, status: Unbounded\n",
      "└ @ JuMP /Users/vishalgupta/.julia/packages/JuMP/I7whV/src/solvers.jl:212\n"
     ]
    },
    {
     "name": "stdout",
     "output_type": "stream",
     "text": [
      "Academic license - for non-commercial use only\n",
      "Academic license - for non-commercial use only\n",
      "Academic license - for non-commercial use only\n",
      "Academic license - for non-commercial use only\n"
     ]
    },
    {
     "name": "stderr",
     "output_type": "stream",
     "text": [
      "┌ Warning: Not solved to optimality, status: Unbounded\n",
      "└ @ JuMP /Users/vishalgupta/.julia/packages/JuMP/I7whV/src/solvers.jl:212\n",
      "┌ Warning: Not solved to optimality, status: Unbounded\n",
      "└ @ JuMP /Users/vishalgupta/.julia/packages/JuMP/I7whV/src/solvers.jl:212\n"
     ]
    },
    {
     "name": "stdout",
     "output_type": "stream",
     "text": [
      "Academic license - for non-commercial use only\n",
      "Academic license - for non-commercial use only\n"
     ]
    },
    {
     "name": "stderr",
     "output_type": "stream",
     "text": [
      "┌ Warning: Not solved to optimality, status: Unbounded\n",
      "└ @ JuMP /Users/vishalgupta/.julia/packages/JuMP/I7whV/src/solvers.jl:212\n",
      "┌ Warning: Not solved to optimality, status: Unbounded\n",
      "└ @ JuMP /Users/vishalgupta/.julia/packages/JuMP/I7whV/src/solvers.jl:212\n",
      "┌ Warning: Not solved to optimality, status: Unbounded\n",
      "└ @ JuMP /Users/vishalgupta/.julia/packages/JuMP/I7whV/src/solvers.jl:212\n",
      "┌ Warning: Not solved to optimality, status: Unbounded\n",
      "└ @ JuMP /Users/vishalgupta/.julia/packages/JuMP/I7whV/src/solvers.jl:212\n"
     ]
    },
    {
     "name": "stdout",
     "output_type": "stream",
     "text": [
      "Academic license - for non-commercial use only\n",
      "Academic license - for non-commercial use only\n",
      "Academic license - for non-commercial use only\n",
      "Academic license - for non-commercial use only\n"
     ]
    },
    {
     "name": "stderr",
     "output_type": "stream",
     "text": [
      "┌ Warning: Not solved to optimality, status: Unbounded\n",
      "└ @ JuMP /Users/vishalgupta/.julia/packages/JuMP/I7whV/src/solvers.jl:212\n",
      "┌ Warning: Not solved to optimality, status: Unbounded\n",
      "└ @ JuMP /Users/vishalgupta/.julia/packages/JuMP/I7whV/src/solvers.jl:212\n"
     ]
    },
    {
     "name": "stdout",
     "output_type": "stream",
     "text": [
      "Academic license - for non-commercial use only\n",
      "Academic license - for non-commercial use only\n"
     ]
    },
    {
     "name": "stderr",
     "output_type": "stream",
     "text": [
      "┌ Warning: Not solved to optimality, status: Unbounded\n",
      "└ @ JuMP /Users/vishalgupta/.julia/packages/JuMP/I7whV/src/solvers.jl:212\n",
      "┌ Warning: Not solved to optimality, status: Unbounded\n",
      "└ @ JuMP /Users/vishalgupta/.julia/packages/JuMP/I7whV/src/solvers.jl:212\n",
      "┌ Warning: Not solved to optimality, status: Unbounded\n",
      "└ @ JuMP /Users/vishalgupta/.julia/packages/JuMP/I7whV/src/solvers.jl:212\n",
      "┌ Warning: Not solved to optimality, status: Unbounded\n",
      "└ @ JuMP /Users/vishalgupta/.julia/packages/JuMP/I7whV/src/solvers.jl:212\n"
     ]
    },
    {
     "name": "stdout",
     "output_type": "stream",
     "text": [
      "Academic license - for non-commercial use only\n",
      "Academic license - for non-commercial use only\n",
      "Academic license - for non-commercial use only\n",
      "Academic license - for non-commercial use only\n"
     ]
    },
    {
     "name": "stderr",
     "output_type": "stream",
     "text": [
      "┌ Warning: Not solved to optimality, status: Unbounded\n",
      "└ @ JuMP /Users/vishalgupta/.julia/packages/JuMP/I7whV/src/solvers.jl:212\n",
      "┌ Warning: Not solved to optimality, status: Unbounded\n",
      "└ @ JuMP /Users/vishalgupta/.julia/packages/JuMP/I7whV/src/solvers.jl:212\n"
     ]
    },
    {
     "name": "stdout",
     "output_type": "stream",
     "text": [
      "Academic license - for non-commercial use only\n",
      "Academic license - for non-commercial use only\n"
     ]
    },
    {
     "name": "stderr",
     "output_type": "stream",
     "text": [
      "┌ Warning: Not solved to optimality, status: Unbounded\n",
      "└ @ JuMP /Users/vishalgupta/.julia/packages/JuMP/I7whV/src/solvers.jl:212\n",
      "┌ Warning: Not solved to optimality, status: Unbounded\n",
      "└ @ JuMP /Users/vishalgupta/.julia/packages/JuMP/I7whV/src/solvers.jl:212\n",
      "┌ Warning: Not solved to optimality, status: Unbounded\n",
      "└ @ JuMP /Users/vishalgupta/.julia/packages/JuMP/I7whV/src/solvers.jl:212\n",
      "┌ Warning: Not solved to optimality, status: Unbounded\n",
      "└ @ JuMP /Users/vishalgupta/.julia/packages/JuMP/I7whV/src/solvers.jl:212\n"
     ]
    },
    {
     "name": "stdout",
     "output_type": "stream",
     "text": [
      "Academic license - for non-commercial use only\n",
      "Academic license - for non-commercial use only\n",
      "Academic license - for non-commercial use only\n",
      "Academic license - for non-commercial use only\n"
     ]
    },
    {
     "name": "stderr",
     "output_type": "stream",
     "text": [
      "┌ Warning: Not solved to optimality, status: Unbounded\n",
      "└ @ JuMP /Users/vishalgupta/.julia/packages/JuMP/I7whV/src/solvers.jl:212\n",
      "┌ Warning: Not solved to optimality, status: Unbounded\n",
      "└ @ JuMP /Users/vishalgupta/.julia/packages/JuMP/I7whV/src/solvers.jl:212\n"
     ]
    },
    {
     "name": "stdout",
     "output_type": "stream",
     "text": [
      "Academic license - for non-commercial use only\n",
      "Academic license - for non-commercial use only\n"
     ]
    },
    {
     "name": "stderr",
     "output_type": "stream",
     "text": [
      "┌ Warning: Not solved to optimality, status: Unbounded\n",
      "└ @ JuMP /Users/vishalgupta/.julia/packages/JuMP/I7whV/src/solvers.jl:212\n",
      "┌ Warning: Not solved to optimality, status: Unbounded\n",
      "└ @ JuMP /Users/vishalgupta/.julia/packages/JuMP/I7whV/src/solvers.jl:212\n",
      "┌ Warning: Not solved to optimality, status: Unbounded\n",
      "└ @ JuMP /Users/vishalgupta/.julia/packages/JuMP/I7whV/src/solvers.jl:212\n",
      "┌ Warning: Not solved to optimality, status: Unbounded\n",
      "└ @ JuMP /Users/vishalgupta/.julia/packages/JuMP/I7whV/src/solvers.jl:212\n"
     ]
    },
    {
     "name": "stdout",
     "output_type": "stream",
     "text": [
      "Academic license - for non-commercial use only\n",
      "Academic license - for non-commercial use only\n",
      "Academic license - for non-commercial use only\n",
      "Academic license - for non-commercial use only\n"
     ]
    },
    {
     "name": "stderr",
     "output_type": "stream",
     "text": [
      "┌ Warning: Not solved to optimality, status: Unbounded\n",
      "└ @ JuMP /Users/vishalgupta/.julia/packages/JuMP/I7whV/src/solvers.jl:212\n",
      "┌ Warning: Not solved to optimality, status: Unbounded\n",
      "└ @ JuMP /Users/vishalgupta/.julia/packages/JuMP/I7whV/src/solvers.jl:212\n"
     ]
    },
    {
     "name": "stdout",
     "output_type": "stream",
     "text": [
      "Academic license - for non-commercial use only\n",
      "Academic license - for non-commercial use only\n"
     ]
    },
    {
     "name": "stderr",
     "output_type": "stream",
     "text": [
      "┌ Warning: Not solved to optimality, status: Unbounded\n",
      "└ @ JuMP /Users/vishalgupta/.julia/packages/JuMP/I7whV/src/solvers.jl:212\n",
      "┌ Warning: Not solved to optimality, status: Unbounded\n",
      "└ @ JuMP /Users/vishalgupta/.julia/packages/JuMP/I7whV/src/solvers.jl:212\n",
      "┌ Warning: Not solved to optimality, status: Unbounded\n",
      "└ @ JuMP /Users/vishalgupta/.julia/packages/JuMP/I7whV/src/solvers.jl:212\n",
      "┌ Warning: Not solved to optimality, status: Unbounded\n",
      "└ @ JuMP /Users/vishalgupta/.julia/packages/JuMP/I7whV/src/solvers.jl:212\n"
     ]
    },
    {
     "name": "stdout",
     "output_type": "stream",
     "text": [
      "Academic license - for non-commercial use only\n",
      "Academic license - for non-commercial use only\n",
      "Academic license - for non-commercial use only\n",
      "Academic license - for non-commercial use only\n"
     ]
    },
    {
     "name": "stderr",
     "output_type": "stream",
     "text": [
      "┌ Warning: Not solved to optimality, status: Unbounded\n",
      "└ @ JuMP /Users/vishalgupta/.julia/packages/JuMP/I7whV/src/solvers.jl:212\n",
      "┌ Warning: Not solved to optimality, status: Unbounded\n",
      "└ @ JuMP /Users/vishalgupta/.julia/packages/JuMP/I7whV/src/solvers.jl:212\n"
     ]
    },
    {
     "name": "stdout",
     "output_type": "stream",
     "text": [
      "Academic license - for non-commercial use only\n",
      "Academic license - for non-commercial use only\n"
     ]
    },
    {
     "name": "stderr",
     "output_type": "stream",
     "text": [
      "┌ Warning: Not solved to optimality, status: Unbounded\n",
      "└ @ JuMP /Users/vishalgupta/.julia/packages/JuMP/I7whV/src/solvers.jl:212\n",
      "┌ Warning: Not solved to optimality, status: Unbounded\n",
      "└ @ JuMP /Users/vishalgupta/.julia/packages/JuMP/I7whV/src/solvers.jl:212\n",
      "┌ Warning: Not solved to optimality, status: Unbounded\n",
      "└ @ JuMP /Users/vishalgupta/.julia/packages/JuMP/I7whV/src/solvers.jl:212\n",
      "┌ Warning: Not solved to optimality, status: Unbounded\n",
      "└ @ JuMP /Users/vishalgupta/.julia/packages/JuMP/I7whV/src/solvers.jl:212\n"
     ]
    },
    {
     "name": "stdout",
     "output_type": "stream",
     "text": [
      "Academic license - for non-commercial use only\n",
      "Academic license - for non-commercial use only\n",
      "Academic license - for non-commercial use only\n",
      "Academic license - for non-commercial use only\n"
     ]
    },
    {
     "name": "stderr",
     "output_type": "stream",
     "text": [
      "┌ Warning: Not solved to optimality, status: Unbounded\n",
      "└ @ JuMP /Users/vishalgupta/.julia/packages/JuMP/I7whV/src/solvers.jl:212\n",
      "┌ Warning: Not solved to optimality, status: Unbounded\n",
      "└ @ JuMP /Users/vishalgupta/.julia/packages/JuMP/I7whV/src/solvers.jl:212\n"
     ]
    },
    {
     "name": "stdout",
     "output_type": "stream",
     "text": [
      "Academic license - for non-commercial use only\n",
      "Academic license - for non-commercial use only\n"
     ]
    },
    {
     "name": "stderr",
     "output_type": "stream",
     "text": [
      "┌ Warning: Not solved to optimality, status: Unbounded\n",
      "└ @ JuMP /Users/vishalgupta/.julia/packages/JuMP/I7whV/src/solvers.jl:212\n",
      "┌ Warning: Not solved to optimality, status: Unbounded\n",
      "└ @ JuMP /Users/vishalgupta/.julia/packages/JuMP/I7whV/src/solvers.jl:212\n",
      "┌ Warning: Not solved to optimality, status: Unbounded\n",
      "└ @ JuMP /Users/vishalgupta/.julia/packages/JuMP/I7whV/src/solvers.jl:212\n",
      "┌ Warning: Not solved to optimality, status: Unbounded\n",
      "└ @ JuMP /Users/vishalgupta/.julia/packages/JuMP/I7whV/src/solvers.jl:212\n"
     ]
    },
    {
     "name": "stdout",
     "output_type": "stream",
     "text": [
      "Academic license - for non-commercial use only\n",
      "Academic license - for non-commercial use only\n",
      "Academic license - for non-commercial use only\n",
      "Academic license - for non-commercial use only\n"
     ]
    },
    {
     "name": "stderr",
     "output_type": "stream",
     "text": [
      "┌ Warning: Not solved to optimality, status: Unbounded\n",
      "└ @ JuMP /Users/vishalgupta/.julia/packages/JuMP/I7whV/src/solvers.jl:212\n",
      "┌ Warning: Not solved to optimality, status: Unbounded\n",
      "└ @ JuMP /Users/vishalgupta/.julia/packages/JuMP/I7whV/src/solvers.jl:212\n"
     ]
    },
    {
     "name": "stdout",
     "output_type": "stream",
     "text": [
      "Academic license - for non-commercial use only\n",
      "Academic license - for non-commercial use only\n"
     ]
    },
    {
     "name": "stderr",
     "output_type": "stream",
     "text": [
      "┌ Warning: Not solved to optimality, status: Unbounded\n",
      "└ @ JuMP /Users/vishalgupta/.julia/packages/JuMP/I7whV/src/solvers.jl:212\n",
      "┌ Warning: Not solved to optimality, status: Unbounded\n",
      "└ @ JuMP /Users/vishalgupta/.julia/packages/JuMP/I7whV/src/solvers.jl:212\n",
      "┌ Warning: Not solved to optimality, status: Unbounded\n",
      "└ @ JuMP /Users/vishalgupta/.julia/packages/JuMP/I7whV/src/solvers.jl:212\n",
      "┌ Warning: Not solved to optimality, status: Unbounded\n",
      "└ @ JuMP /Users/vishalgupta/.julia/packages/JuMP/I7whV/src/solvers.jl:212\n"
     ]
    },
    {
     "name": "stdout",
     "output_type": "stream",
     "text": [
      "Academic license - for non-commercial use only\n",
      "Academic license - for non-commercial use only\n",
      "Academic license - for non-commercial use only\n",
      "Academic license - for non-commercial use only\n"
     ]
    },
    {
     "name": "stderr",
     "output_type": "stream",
     "text": [
      "┌ Warning: Not solved to optimality, status: Unbounded\n",
      "└ @ JuMP /Users/vishalgupta/.julia/packages/JuMP/I7whV/src/solvers.jl:212\n",
      "┌ Warning: Not solved to optimality, status: Unbounded\n",
      "└ @ JuMP /Users/vishalgupta/.julia/packages/JuMP/I7whV/src/solvers.jl:212\n"
     ]
    },
    {
     "name": "stdout",
     "output_type": "stream",
     "text": [
      "Academic license - for non-commercial use only\n",
      "Academic license - for non-commercial use only\n",
      "Academic license - for non-commercial use only\n",
      "Academic license - for non-commercial use only\n"
     ]
    },
    {
     "name": "stderr",
     "output_type": "stream",
     "text": [
      "┌ Warning: Not solved to optimality, status: Unbounded\n",
      "└ @ JuMP /Users/vishalgupta/.julia/packages/JuMP/I7whV/src/solvers.jl:212\n",
      "┌ Warning: Not solved to optimality, status: Unbounded\n",
      "└ @ JuMP /Users/vishalgupta/.julia/packages/JuMP/I7whV/src/solvers.jl:212\n",
      "┌ Warning: Not solved to optimality, status: Unbounded\n",
      "└ @ JuMP /Users/vishalgupta/.julia/packages/JuMP/I7whV/src/solvers.jl:212\n",
      "┌ Warning: Not solved to optimality, status: Unbounded\n",
      "└ @ JuMP /Users/vishalgupta/.julia/packages/JuMP/I7whV/src/solvers.jl:212\n"
     ]
    },
    {
     "name": "stdout",
     "output_type": "stream",
     "text": [
      "Academic license - for non-commercial use only\n",
      "Academic license - for non-commercial use only\n"
     ]
    },
    {
     "name": "stderr",
     "output_type": "stream",
     "text": [
      "┌ Warning: Not solved to optimality, status: Unbounded\n",
      "└ @ JuMP /Users/vishalgupta/.julia/packages/JuMP/I7whV/src/solvers.jl:212\n",
      "┌ Warning: Not solved to optimality, status: Unbounded\n",
      "└ @ JuMP /Users/vishalgupta/.julia/packages/JuMP/I7whV/src/solvers.jl:212\n",
      "┌ Warning: Not solved to optimality, status: Unbounded\n",
      "└ @ JuMP /Users/vishalgupta/.julia/packages/JuMP/I7whV/src/solvers.jl:212\n",
      "┌ Warning: Not solved to optimality, status: Unbounded\n",
      "└ @ JuMP /Users/vishalgupta/.julia/packages/JuMP/I7whV/src/solvers.jl:212\n"
     ]
    },
    {
     "name": "stdout",
     "output_type": "stream",
     "text": [
      "Academic license - for non-commercial use only\n",
      "Academic license - for non-commercial use only\n",
      "Academic license - for non-commercial use only\n",
      "Academic license - for non-commercial use only\n"
     ]
    },
    {
     "name": "stderr",
     "output_type": "stream",
     "text": [
      "┌ Warning: Not solved to optimality, status: Unbounded\n",
      "└ @ JuMP /Users/vishalgupta/.julia/packages/JuMP/I7whV/src/solvers.jl:212\n",
      "┌ Warning: Not solved to optimality, status: Unbounded\n",
      "└ @ JuMP /Users/vishalgupta/.julia/packages/JuMP/I7whV/src/solvers.jl:212\n"
     ]
    },
    {
     "name": "stdout",
     "output_type": "stream",
     "text": [
      "Academic license - for non-commercial use only\n",
      "Academic license - for non-commercial use only\n"
     ]
    },
    {
     "name": "stderr",
     "output_type": "stream",
     "text": [
      "┌ Warning: Not solved to optimality, status: Unbounded\n",
      "└ @ JuMP /Users/vishalgupta/.julia/packages/JuMP/I7whV/src/solvers.jl:212\n",
      "┌ Warning: Not solved to optimality, status: Unbounded\n",
      "└ @ JuMP /Users/vishalgupta/.julia/packages/JuMP/I7whV/src/solvers.jl:212\n",
      "┌ Warning: Not solved to optimality, status: Unbounded\n",
      "└ @ JuMP /Users/vishalgupta/.julia/packages/JuMP/I7whV/src/solvers.jl:212\n",
      "┌ Warning: Not solved to optimality, status: Unbounded\n",
      "└ @ JuMP /Users/vishalgupta/.julia/packages/JuMP/I7whV/src/solvers.jl:212\n"
     ]
    },
    {
     "name": "stdout",
     "output_type": "stream",
     "text": [
      "Academic license - for non-commercial use only\n",
      "Academic license - for non-commercial use only\n",
      "Academic license - for non-commercial use only\n",
      "Academic license - for non-commercial use only\n"
     ]
    },
    {
     "name": "stderr",
     "output_type": "stream",
     "text": [
      "┌ Warning: Not solved to optimality, status: Unbounded\n",
      "└ @ JuMP /Users/vishalgupta/.julia/packages/JuMP/I7whV/src/solvers.jl:212\n",
      "┌ Warning: Not solved to optimality, status: Unbounded\n",
      "└ @ JuMP /Users/vishalgupta/.julia/packages/JuMP/I7whV/src/solvers.jl:212\n"
     ]
    },
    {
     "name": "stdout",
     "output_type": "stream",
     "text": [
      "Academic license - for non-commercial use only\n",
      "Academic license - for non-commercial use only\n"
     ]
    },
    {
     "name": "stderr",
     "output_type": "stream",
     "text": [
      "┌ Warning: Not solved to optimality, status: Unbounded\n",
      "└ @ JuMP /Users/vishalgupta/.julia/packages/JuMP/I7whV/src/solvers.jl:212\n",
      "┌ Warning: Not solved to optimality, status: Unbounded\n",
      "└ @ JuMP /Users/vishalgupta/.julia/packages/JuMP/I7whV/src/solvers.jl:212\n",
      "┌ Warning: Not solved to optimality, status: Unbounded\n",
      "└ @ JuMP /Users/vishalgupta/.julia/packages/JuMP/I7whV/src/solvers.jl:212\n",
      "┌ Warning: Not solved to optimality, status: Unbounded\n",
      "└ @ JuMP /Users/vishalgupta/.julia/packages/JuMP/I7whV/src/solvers.jl:212\n"
     ]
    },
    {
     "name": "stdout",
     "output_type": "stream",
     "text": [
      "Academic license - for non-commercial use only\n",
      "Academic license - for non-commercial use only\n"
     ]
    },
    {
     "name": "stderr",
     "output_type": "stream",
     "text": [
      "┌ Warning: Not solved to optimality, status: Unbounded\n",
      "└ @ JuMP /Users/vishalgupta/.julia/packages/JuMP/I7whV/src/solvers.jl:212\n",
      "┌ Warning: Not solved to optimality, status: Unbounded\n",
      "└ @ JuMP /Users/vishalgupta/.julia/packages/JuMP/I7whV/src/solvers.jl:212\n"
     ]
    },
    {
     "name": "stdout",
     "output_type": "stream",
     "text": [
      "Academic license - for non-commercial use only\n",
      "Academic license - for non-commercial use only\n",
      "Academic license - for non-commercial use only\n",
      "Academic license - for non-commercial use only\n"
     ]
    },
    {
     "name": "stderr",
     "output_type": "stream",
     "text": [
      "┌ Warning: Not solved to optimality, status: Unbounded\n",
      "└ @ JuMP /Users/vishalgupta/.julia/packages/JuMP/I7whV/src/solvers.jl:212\n",
      "┌ Warning: Not solved to optimality, status: Unbounded\n",
      "└ @ JuMP /Users/vishalgupta/.julia/packages/JuMP/I7whV/src/solvers.jl:212\n"
     ]
    },
    {
     "name": "stdout",
     "output_type": "stream",
     "text": [
      "Academic license - for non-commercial use only\n",
      "Academic license - for non-commercial use only\n"
     ]
    },
    {
     "name": "stderr",
     "output_type": "stream",
     "text": [
      "┌ Warning: Not solved to optimality, status: Unbounded\n",
      "└ @ JuMP /Users/vishalgupta/.julia/packages/JuMP/I7whV/src/solvers.jl:212\n",
      "┌ Warning: Not solved to optimality, status: Unbounded\n",
      "└ @ JuMP /Users/vishalgupta/.julia/packages/JuMP/I7whV/src/solvers.jl:212\n",
      "┌ Warning: Not solved to optimality, status: Unbounded\n",
      "└ @ JuMP /Users/vishalgupta/.julia/packages/JuMP/I7whV/src/solvers.jl:212\n",
      "┌ Warning: Not solved to optimality, status: Unbounded\n",
      "└ @ JuMP /Users/vishalgupta/.julia/packages/JuMP/I7whV/src/solvers.jl:212\n"
     ]
    },
    {
     "name": "stdout",
     "output_type": "stream",
     "text": [
      "Academic license - for non-commercial use only\n",
      "Academic license - for non-commercial use only\n",
      "Academic license - for non-commercial use only\n",
      "Academic license - for non-commercial use only\n"
     ]
    },
    {
     "name": "stderr",
     "output_type": "stream",
     "text": [
      "┌ Warning: Not solved to optimality, status: Unbounded\n",
      "└ @ JuMP /Users/vishalgupta/.julia/packages/JuMP/I7whV/src/solvers.jl:212\n",
      "┌ Warning: Not solved to optimality, status: Unbounded\n",
      "└ @ JuMP /Users/vishalgupta/.julia/packages/JuMP/I7whV/src/solvers.jl:212\n"
     ]
    },
    {
     "name": "stdout",
     "output_type": "stream",
     "text": [
      "Academic license - for non-commercial use only\n",
      "Academic license - for non-commercial use only\n"
     ]
    },
    {
     "name": "stderr",
     "output_type": "stream",
     "text": [
      "┌ Warning: Not solved to optimality, status: Unbounded\n",
      "└ @ JuMP /Users/vishalgupta/.julia/packages/JuMP/I7whV/src/solvers.jl:212\n",
      "┌ Warning: Not solved to optimality, status: Unbounded\n",
      "└ @ JuMP /Users/vishalgupta/.julia/packages/JuMP/I7whV/src/solvers.jl:212\n"
     ]
    },
    {
     "name": "stdout",
     "output_type": "stream",
     "text": [
      "Academic license - for non-commercial use only\n",
      "Academic license - for non-commercial use only\n"
     ]
    },
    {
     "name": "stderr",
     "output_type": "stream",
     "text": [
      "┌ Warning: Not solved to optimality, status: Unbounded\n",
      "└ @ JuMP /Users/vishalgupta/.julia/packages/JuMP/I7whV/src/solvers.jl:212\n",
      "┌ Warning: Not solved to optimality, status: Unbounded\n",
      "└ @ JuMP /Users/vishalgupta/.julia/packages/JuMP/I7whV/src/solvers.jl:212\n",
      "┌ Warning: Not solved to optimality, status: Unbounded\n",
      "└ @ JuMP /Users/vishalgupta/.julia/packages/JuMP/I7whV/src/solvers.jl:212\n",
      "┌ Warning: Not solved to optimality, status: Unbounded\n",
      "└ @ JuMP /Users/vishalgupta/.julia/packages/JuMP/I7whV/src/solvers.jl:212\n"
     ]
    },
    {
     "name": "stdout",
     "output_type": "stream",
     "text": [
      "Academic license - for non-commercial use only\n",
      "Academic license - for non-commercial use only\n",
      "Academic license - for non-commercial use only\n",
      "Academic license - for non-commercial use only\n"
     ]
    },
    {
     "name": "stderr",
     "output_type": "stream",
     "text": [
      "┌ Warning: Not solved to optimality, status: Unbounded\n",
      "└ @ JuMP /Users/vishalgupta/.julia/packages/JuMP/I7whV/src/solvers.jl:212\n",
      "┌ Warning: Not solved to optimality, status: Unbounded\n",
      "└ @ JuMP /Users/vishalgupta/.julia/packages/JuMP/I7whV/src/solvers.jl:212\n"
     ]
    },
    {
     "name": "stdout",
     "output_type": "stream",
     "text": [
      "Academic license - for non-commercial use only\n",
      "Academic license - for non-commercial use only\n"
     ]
    },
    {
     "name": "stderr",
     "output_type": "stream",
     "text": [
      "┌ Warning: Not solved to optimality, status: Unbounded\n",
      "└ @ JuMP /Users/vishalgupta/.julia/packages/JuMP/I7whV/src/solvers.jl:212\n",
      "┌ Warning: Not solved to optimality, status: Unbounded\n",
      "└ @ JuMP /Users/vishalgupta/.julia/packages/JuMP/I7whV/src/solvers.jl:212\n",
      "┌ Warning: Not solved to optimality, status: Unbounded\n",
      "└ @ JuMP /Users/vishalgupta/.julia/packages/JuMP/I7whV/src/solvers.jl:212\n"
     ]
    },
    {
     "name": "stdout",
     "output_type": "stream",
     "text": [
      "Academic license - for non-commercial use only\n",
      "Academic license - for non-commercial use only\n",
      "Academic license - for non-commercial use only\n",
      "Academic license - for non-commercial use only\n",
      "Academic license - for non-commercial use only\n",
      "Academic license - for non-commercial use only\n",
      "Academic license - for non-commercial use only\n",
      "Academic license - for non-commercial use only\n",
      "Academic license - for non-commercial use only\n",
      "Academic license - for non-commercial use only\n",
      "Academic license - for non-commercial use only\n",
      "Academic license - for non-commercial use only\n",
      "Academic license - for non-commercial use only\n",
      "Academic license - for non-commercial use only\n",
      "Academic license - for non-commercial use only\n",
      "Academic license - for non-commercial use only\n",
      "Academic license - for non-commercial use only\n",
      "Academic license - for non-commercial use only\n",
      "Academic license - for non-commercial use only\n",
      "Academic license - for non-commercial use only\n",
      "Academic license - for non-commercial use only\n",
      "Academic license - for non-commercial use only\n",
      "Academic license - for non-commercial use only\n",
      "Academic license - for non-commercial use only\n",
      "Academic license - for non-commercial use only\n",
      "Academic license - for non-commercial use only\n",
      "Academic license - for non-commercial use only\n",
      "Academic license - for non-commercial use only\n",
      "Academic license - for non-commercial use only\n",
      "Academic license - for non-commercial use only\n",
      "Academic license - for non-commercial use only\n",
      "Academic license - for non-commercial use only\n",
      "Academic license - for non-commercial use only\n",
      "Academic license - for non-commercial use only\n",
      "Academic license - for non-commercial use only\n",
      "Academic license - for non-commercial use only\n",
      "Academic license - for non-commercial use only\n",
      "Academic license - for non-commercial use only\n",
      "Academic license - for non-commercial use only\n",
      "Academic license - for non-commercial use only\n",
      "Academic license - for non-commercial use only\n",
      "Academic license - for non-commercial use only\n",
      "Academic license - for non-commercial use only\n",
      "Academic license - for non-commercial use only\n",
      "Academic license - for non-commercial use only\n",
      "Academic license - for non-commercial use only\n",
      "Academic license - for non-commercial use only\n",
      "Academic license - for non-commercial use only\n",
      "Academic license - for non-commercial use only\n",
      "Academic license - for non-commercial use only\n",
      "Academic license - for non-commercial use only\n",
      "Academic license - for non-commercial use only\n",
      "Academic license - for non-commercial use only\n",
      "Academic license - for non-commercial use only\n",
      "Academic license - for non-commercial use only\n",
      "Academic license - for non-commercial use only\n",
      "Academic license - for non-commercial use only\n",
      "Academic license - for non-commercial use only\n",
      "Academic license - for non-commercial use only\n",
      "Academic license - for non-commercial use only\n",
      "Academic license - for non-commercial use only\n",
      "Academic license - for non-commercial use only\n",
      "Academic license - for non-commercial use only\n",
      "Academic license - for non-commercial use only\n",
      "Academic license - for non-commercial use only\n",
      "Academic license - for non-commercial use only\n",
      "Academic license - for non-commercial use only\n",
      "Academic license - for non-commercial use only\n",
      "Academic license - for non-commercial use only\n",
      "Academic license - for non-commercial use only\n",
      "Academic license - for non-commercial use only\n",
      "Academic license - for non-commercial use only\n",
      "Academic license - for non-commercial use only\n",
      "Academic license - for non-commercial use only\n",
      "Academic license - for non-commercial use only\n",
      "Academic license - for non-commercial use only\n",
      "Academic license - for non-commercial use only\n",
      "Academic license - for non-commercial use only\n",
      "Academic license - for non-commercial use only\n",
      "Academic license - for non-commercial use only\n",
      "Academic license - for non-commercial use only\n",
      "Academic license - for non-commercial use only\n",
      "Academic license - for non-commercial use only\n",
      "Academic license - for non-commercial use only\n",
      "Academic license - for non-commercial use only\n",
      "Academic license - for non-commercial use only\n",
      "Academic license - for non-commercial use only\n",
      "Academic license - for non-commercial use only\n",
      "Academic license - for non-commercial use only\n",
      "Academic license - for non-commercial use only\n",
      "Academic license - for non-commercial use only\n",
      "Academic license - for non-commercial use only\n",
      "Academic license - for non-commercial use only\n",
      "Academic license - for non-commercial use only\n",
      "Academic license - for non-commercial use only\n",
      "Academic license - for non-commercial use only\n",
      "Academic license - for non-commercial use only\n",
      "Academic license - for non-commercial use only\n",
      "Academic license - for non-commercial use only\n",
      "Academic license - for non-commercial use only\n",
      "Academic license - for non-commercial use only\n",
      "Academic license - for non-commercial use only\n",
      "Academic license - for non-commercial use only\n",
      "Academic license - for non-commercial use only\n",
      "Academic license - for non-commercial use only\n",
      "Academic license - for non-commercial use only\n",
      "Academic license - for non-commercial use only\n",
      "Academic license - for non-commercial use only\n",
      "Academic license - for non-commercial use only\n",
      "Academic license - for non-commercial use only\n",
      "Academic license - for non-commercial use only\n",
      "Academic license - for non-commercial use only\n",
      "Academic license - for non-commercial use only\n",
      "Academic license - for non-commercial use only\n",
      "Academic license - for non-commercial use only\n",
      "Academic license - for non-commercial use only\n",
      "Academic license - for non-commercial use only\n",
      "Academic license - for non-commercial use only\n",
      "Academic license - for non-commercial use only\n",
      "Academic license - for non-commercial use only\n",
      "Academic license - for non-commercial use only\n",
      "Academic license - for non-commercial use only\n",
      "Academic license - for non-commercial use only\n",
      "Academic license - for non-commercial use only\n",
      "Academic license - for non-commercial use only\n",
      "Academic license - for non-commercial use only\n",
      "Academic license - for non-commercial use only\n",
      "Academic license - for non-commercial use only\n",
      "Academic license - for non-commercial use only\n",
      "Academic license - for non-commercial use only\n",
      "Academic license - for non-commercial use only\n",
      "Academic license - for non-commercial use only\n",
      "Academic license - for non-commercial use only\n",
      "Academic license - for non-commercial use only\n",
      "Academic license - for non-commercial use only\n",
      "Academic license - for non-commercial use only\n",
      "Academic license - for non-commercial use only\n",
      "Academic license - for non-commercial use only\n",
      "Academic license - for non-commercial use only\n",
      "Academic license - for non-commercial use only\n",
      "Academic license - for non-commercial use only\n",
      "Academic license - for non-commercial use only\n",
      "Academic license - for non-commercial use only\n",
      "Academic license - for non-commercial use only\n",
      "Academic license - for non-commercial use only\n",
      "Academic license - for non-commercial use only\n",
      "Academic license - for non-commercial use only\n",
      "Academic license - for non-commercial use only\n",
      "Academic license - for non-commercial use only\n",
      "Academic license - for non-commercial use only\n",
      "Academic license - for non-commercial use only\n",
      "Academic license - for non-commercial use only\n",
      "Academic license - for non-commercial use only\n",
      "Academic license - for non-commercial use only\n",
      "Academic license - for non-commercial use only\n",
      "Academic license - for non-commercial use only\n",
      "Academic license - for non-commercial use only\n",
      "Academic license - for non-commercial use only\n",
      "Academic license - for non-commercial use only\n",
      "Academic license - for non-commercial use only\n",
      "Academic license - for non-commercial use only\n",
      "Academic license - for non-commercial use only\n",
      "Academic license - for non-commercial use only\n",
      "Academic license - for non-commercial use only\n",
      "Academic license - for non-commercial use only\n",
      "Academic license - for non-commercial use only\n",
      "Academic license - for non-commercial use only\n",
      "Academic license - for non-commercial use only\n",
      "Academic license - for non-commercial use only\n",
      "Academic license - for non-commercial use only\n",
      "Academic license - for non-commercial use only\n",
      "Academic license - for non-commercial use only\n",
      "Academic license - for non-commercial use only\n",
      "Academic license - for non-commercial use only\n",
      "Academic license - for non-commercial use only\n",
      "Academic license - for non-commercial use only\n",
      "Academic license - for non-commercial use only\n",
      "Academic license - for non-commercial use only\n",
      "Academic license - for non-commercial use only\n",
      "Academic license - for non-commercial use only\n",
      "Academic license - for non-commercial use only\n",
      "Academic license - for non-commercial use only\n",
      "Academic license - for non-commercial use only\n",
      "Academic license - for non-commercial use only\n",
      "Academic license - for non-commercial use only\n",
      "Academic license - for non-commercial use only\n",
      "Academic license - for non-commercial use only\n",
      "Academic license - for non-commercial use only\n",
      "Academic license - for non-commercial use only\n",
      "Academic license - for non-commercial use only\n",
      "Academic license - for non-commercial use only\n",
      "Academic license - for non-commercial use only\n",
      "Academic license - for non-commercial use only\n",
      "Academic license - for non-commercial use only\n",
      "Academic license - for non-commercial use only\n",
      "Academic license - for non-commercial use only\n",
      "Academic license - for non-commercial use only\n",
      "Academic license - for non-commercial use only\n",
      "Academic license - for non-commercial use only\n",
      "Academic license - for non-commercial use only\n",
      "Academic license - for non-commercial use only\n",
      "Academic license - for non-commercial use only\n",
      "Academic license - for non-commercial use only\n",
      "Academic license - for non-commercial use only\n",
      "Academic license - for non-commercial use only\n",
      "Academic license - for non-commercial use only\n",
      "Academic license - for non-commercial use only\n",
      "Academic license - for non-commercial use only\n",
      "Academic license - for non-commercial use only\n",
      "Academic license - for non-commercial use only\n",
      "Academic license - for non-commercial use only\n",
      "Academic license - for non-commercial use only\n",
      "Academic license - for non-commercial use only\n",
      "Academic license - for non-commercial use only\n",
      "Academic license - for non-commercial use only\n",
      "Academic license - for non-commercial use only\n",
      "Academic license - for non-commercial use only\n",
      "Academic license - for non-commercial use only\n",
      "Academic license - for non-commercial use only\n",
      "Academic license - for non-commercial use only\n",
      "Academic license - for non-commercial use only\n",
      "Academic license - for non-commercial use only\n",
      "Academic license - for non-commercial use only\n",
      "Academic license - for non-commercial use only\n",
      "Academic license - for non-commercial use only\n",
      "Academic license - for non-commercial use only\n",
      "Academic license - for non-commercial use only\n",
      "Academic license - for non-commercial use only\n",
      "Academic license - for non-commercial use only\n",
      "Academic license - for non-commercial use only\n",
      "Academic license - for non-commercial use only\n",
      "Academic license - for non-commercial use only\n",
      "Academic license - for non-commercial use only\n",
      "Academic license - for non-commercial use only\n",
      "Academic license - for non-commercial use only\n",
      "Academic license - for non-commercial use only\n",
      "Academic license - for non-commercial use only\n",
      "Academic license - for non-commercial use only\n",
      "Academic license - for non-commercial use only\n",
      "Academic license - for non-commercial use only\n",
      "Academic license - for non-commercial use only\n",
      "Academic license - for non-commercial use only\n",
      "Academic license - for non-commercial use only\n",
      "Academic license - for non-commercial use only\n",
      "Academic license - for non-commercial use only\n",
      "Academic license - for non-commercial use only\n",
      "Academic license - for non-commercial use only\n",
      "Academic license - for non-commercial use only\n",
      "Academic license - for non-commercial use only\n",
      "Academic license - for non-commercial use only\n",
      "Academic license - for non-commercial use only\n",
      "Academic license - for non-commercial use only\n",
      "Academic license - for non-commercial use only\n",
      "Academic license - for non-commercial use only\n",
      "Academic license - for non-commercial use only\n",
      "Academic license - for non-commercial use only\n",
      "Academic license - for non-commercial use only\n",
      "Academic license - for non-commercial use only\n",
      "Academic license - for non-commercial use only\n",
      "Academic license - for non-commercial use only\n",
      "Academic license - for non-commercial use only\n",
      "Academic license - for non-commercial use only\n",
      "Academic license - for non-commercial use only\n",
      "Academic license - for non-commercial use only\n",
      "Academic license - for non-commercial use only\n",
      "Academic license - for non-commercial use only\n",
      "Academic license - for non-commercial use only\n",
      "Academic license - for non-commercial use only\n",
      "Academic license - for non-commercial use only\n",
      "Academic license - for non-commercial use only\n",
      "Academic license - for non-commercial use only\n",
      "Academic license - for non-commercial use only\n",
      "Academic license - for non-commercial use only\n",
      "Academic license - for non-commercial use only\n",
      "Academic license - for non-commercial use only\n",
      "Academic license - for non-commercial use only\n",
      "Academic license - for non-commercial use only\n",
      "Academic license - for non-commercial use only\n",
      "Academic license - for non-commercial use only\n",
      "Academic license - for non-commercial use only\n",
      "Academic license - for non-commercial use only\n",
      "Academic license - for non-commercial use only\n",
      "Academic license - for non-commercial use only\n",
      "Academic license - for non-commercial use only\n",
      "Academic license - for non-commercial use only\n",
      "Academic license - for non-commercial use only\n",
      "Academic license - for non-commercial use only\n",
      "Academic license - for non-commercial use only\n",
      "Academic license - for non-commercial use only\n",
      "Academic license - for non-commercial use only\n",
      "Academic license - for non-commercial use only\n",
      "Academic license - for non-commercial use only\n",
      "Academic license - for non-commercial use only\n",
      "Academic license - for non-commercial use only\n",
      "Academic license - for non-commercial use only\n",
      "Academic license - for non-commercial use only\n",
      "Academic license - for non-commercial use only\n",
      "Academic license - for non-commercial use only\n",
      "Academic license - for non-commercial use only\n",
      "Academic license - for non-commercial use only\n",
      "Academic license - for non-commercial use only\n",
      "Academic license - for non-commercial use only\n",
      "Academic license - for non-commercial use only\n",
      "Academic license - for non-commercial use only\n",
      "Academic license - for non-commercial use only\n",
      "Academic license - for non-commercial use only\n",
      "Academic license - for non-commercial use only\n",
      "Academic license - for non-commercial use only\n",
      "Academic license - for non-commercial use only\n",
      "Academic license - for non-commercial use only\n",
      "Academic license - for non-commercial use only\n",
      "Academic license - for non-commercial use only\n",
      "Academic license - for non-commercial use only\n",
      "Academic license - for non-commercial use only\n",
      "Academic license - for non-commercial use only\n",
      "Academic license - for non-commercial use only\n",
      "Academic license - for non-commercial use only\n",
      "Academic license - for non-commercial use only\n",
      "Academic license - for non-commercial use only\n",
      "Academic license - for non-commercial use only\n",
      "Academic license - for non-commercial use only\n",
      "Academic license - for non-commercial use only\n",
      "Academic license - for non-commercial use only\n",
      "Academic license - for non-commercial use only\n",
      "Academic license - for non-commercial use only\n",
      "Academic license - for non-commercial use only\n",
      "Academic license - for non-commercial use only\n",
      "Academic license - for non-commercial use only\n",
      "Academic license - for non-commercial use only\n",
      "Academic license - for non-commercial use only\n",
      "Academic license - for non-commercial use only\n",
      "Academic license - for non-commercial use only\n",
      "Academic license - for non-commercial use only\n",
      "Academic license - for non-commercial use only\n",
      "Academic license - for non-commercial use only\n",
      "Academic license - for non-commercial use only\n",
      "Academic license - for non-commercial use only\n",
      "Dev:\t0.23684210526315788\n",
      "Academic license - for non-commercial use only\n",
      "Academic license - for non-commercial use only\n"
     ]
    },
    {
     "name": "stderr",
     "output_type": "stream",
     "text": [
      "┌ Warning: Not solved to optimality, status: Unbounded\n",
      "└ @ JuMP /Users/vishalgupta/.julia/packages/JuMP/I7whV/src/solvers.jl:212\n",
      "┌ Warning: Not solved to optimality, status: Unbounded\n",
      "└ @ JuMP /Users/vishalgupta/.julia/packages/JuMP/I7whV/src/solvers.jl:212\n"
     ]
    },
    {
     "name": "stdout",
     "output_type": "stream",
     "text": [
      "Academic license - for non-commercial use only\n",
      "Academic license - for non-commercial use only\n",
      "Academic license - for non-commercial use only\n",
      "Academic license - for non-commercial use only\n"
     ]
    },
    {
     "name": "stderr",
     "output_type": "stream",
     "text": [
      "┌ Warning: Not solved to optimality, status: Unbounded\n",
      "└ @ JuMP /Users/vishalgupta/.julia/packages/JuMP/I7whV/src/solvers.jl:212\n",
      "┌ Warning: Not solved to optimality, status: Unbounded\n",
      "└ @ JuMP /Users/vishalgupta/.julia/packages/JuMP/I7whV/src/solvers.jl:212\n",
      "┌ Warning: Not solved to optimality, status: Unbounded\n",
      "└ @ JuMP /Users/vishalgupta/.julia/packages/JuMP/I7whV/src/solvers.jl:212\n",
      "┌ Warning: Not solved to optimality, status: Unbounded\n",
      "└ @ JuMP /Users/vishalgupta/.julia/packages/JuMP/I7whV/src/solvers.jl:212\n"
     ]
    },
    {
     "name": "stdout",
     "output_type": "stream",
     "text": [
      "Academic license - for non-commercial use only\n",
      "Academic license - for non-commercial use only\n"
     ]
    },
    {
     "name": "stderr",
     "output_type": "stream",
     "text": [
      "┌ Warning: Not solved to optimality, status: Unbounded\n",
      "└ @ JuMP /Users/vishalgupta/.julia/packages/JuMP/I7whV/src/solvers.jl:212\n",
      "┌ Warning: Not solved to optimality, status: Unbounded\n",
      "└ @ JuMP /Users/vishalgupta/.julia/packages/JuMP/I7whV/src/solvers.jl:212\n"
     ]
    },
    {
     "name": "stdout",
     "output_type": "stream",
     "text": [
      "Academic license - for non-commercial use only\n",
      "Academic license - for non-commercial use only\n"
     ]
    },
    {
     "name": "stderr",
     "output_type": "stream",
     "text": [
      "┌ Warning: Not solved to optimality, status: Unbounded\n",
      "└ @ JuMP /Users/vishalgupta/.julia/packages/JuMP/I7whV/src/solvers.jl:212\n",
      "┌ Warning: Not solved to optimality, status: Unbounded\n",
      "└ @ JuMP /Users/vishalgupta/.julia/packages/JuMP/I7whV/src/solvers.jl:212\n"
     ]
    },
    {
     "name": "stdout",
     "output_type": "stream",
     "text": [
      "Academic license - for non-commercial use only\n",
      "Academic license - for non-commercial use only\n",
      "Academic license - for non-commercial use only\n",
      "Academic license - for non-commercial use only\n"
     ]
    },
    {
     "name": "stderr",
     "output_type": "stream",
     "text": [
      "┌ Warning: Not solved to optimality, status: Unbounded\n",
      "└ @ JuMP /Users/vishalgupta/.julia/packages/JuMP/I7whV/src/solvers.jl:212\n",
      "┌ Warning: Not solved to optimality, status: Unbounded\n",
      "└ @ JuMP /Users/vishalgupta/.julia/packages/JuMP/I7whV/src/solvers.jl:212\n",
      "┌ Warning: Not solved to optimality, status: Unbounded\n",
      "└ @ JuMP /Users/vishalgupta/.julia/packages/JuMP/I7whV/src/solvers.jl:212\n",
      "┌ Warning: Not solved to optimality, status: Unbounded\n",
      "└ @ JuMP /Users/vishalgupta/.julia/packages/JuMP/I7whV/src/solvers.jl:212\n"
     ]
    },
    {
     "name": "stdout",
     "output_type": "stream",
     "text": [
      "Academic license - for non-commercial use only\n",
      "Academic license - for non-commercial use only\n"
     ]
    },
    {
     "name": "stderr",
     "output_type": "stream",
     "text": [
      "┌ Warning: Not solved to optimality, status: Unbounded\n",
      "└ @ JuMP /Users/vishalgupta/.julia/packages/JuMP/I7whV/src/solvers.jl:212\n",
      "┌ Warning: Not solved to optimality, status: Unbounded\n",
      "└ @ JuMP /Users/vishalgupta/.julia/packages/JuMP/I7whV/src/solvers.jl:212\n"
     ]
    },
    {
     "name": "stdout",
     "output_type": "stream",
     "text": [
      "Academic license - for non-commercial use only\n",
      "Academic license - for non-commercial use only\n",
      "Academic license - for non-commercial use only\n",
      "Academic license - for non-commercial use only\n"
     ]
    },
    {
     "name": "stderr",
     "output_type": "stream",
     "text": [
      "┌ Warning: Not solved to optimality, status: Unbounded\n",
      "└ @ JuMP /Users/vishalgupta/.julia/packages/JuMP/I7whV/src/solvers.jl:212\n",
      "┌ Warning: Not solved to optimality, status: Unbounded\n",
      "└ @ JuMP /Users/vishalgupta/.julia/packages/JuMP/I7whV/src/solvers.jl:212\n",
      "┌ Warning: Not solved to optimality, status: Unbounded\n",
      "└ @ JuMP /Users/vishalgupta/.julia/packages/JuMP/I7whV/src/solvers.jl:212\n",
      "┌ Warning: Not solved to optimality, status: Unbounded\n",
      "└ @ JuMP /Users/vishalgupta/.julia/packages/JuMP/I7whV/src/solvers.jl:212\n"
     ]
    },
    {
     "name": "stdout",
     "output_type": "stream",
     "text": [
      "Academic license - for non-commercial use only\n",
      "Academic license - for non-commercial use only\n"
     ]
    },
    {
     "name": "stderr",
     "output_type": "stream",
     "text": [
      "┌ Warning: Not solved to optimality, status: Unbounded\n",
      "└ @ JuMP /Users/vishalgupta/.julia/packages/JuMP/I7whV/src/solvers.jl:212\n",
      "┌ Warning: Not solved to optimality, status: Unbounded\n",
      "└ @ JuMP /Users/vishalgupta/.julia/packages/JuMP/I7whV/src/solvers.jl:212\n"
     ]
    },
    {
     "name": "stdout",
     "output_type": "stream",
     "text": [
      "Academic license - for non-commercial use only\n",
      "Academic license - for non-commercial use only\n",
      "Academic license - for non-commercial use only\n",
      "Academic license - for non-commercial use only\n"
     ]
    },
    {
     "name": "stderr",
     "output_type": "stream",
     "text": [
      "┌ Warning: Not solved to optimality, status: Unbounded\n",
      "└ @ JuMP /Users/vishalgupta/.julia/packages/JuMP/I7whV/src/solvers.jl:212\n",
      "┌ Warning: Not solved to optimality, status: Unbounded\n",
      "└ @ JuMP /Users/vishalgupta/.julia/packages/JuMP/I7whV/src/solvers.jl:212\n",
      "┌ Warning: Not solved to optimality, status: Unbounded\n",
      "└ @ JuMP /Users/vishalgupta/.julia/packages/JuMP/I7whV/src/solvers.jl:212\n",
      "┌ Warning: Not solved to optimality, status: Unbounded\n",
      "└ @ JuMP /Users/vishalgupta/.julia/packages/JuMP/I7whV/src/solvers.jl:212\n"
     ]
    },
    {
     "name": "stdout",
     "output_type": "stream",
     "text": [
      "Academic license - for non-commercial use only\n",
      "Academic license - for non-commercial use only\n",
      "Academic license - for non-commercial use only\n",
      "Academic license - for non-commercial use only\n"
     ]
    },
    {
     "name": "stderr",
     "output_type": "stream",
     "text": [
      "┌ Warning: Not solved to optimality, status: Unbounded\n",
      "└ @ JuMP /Users/vishalgupta/.julia/packages/JuMP/I7whV/src/solvers.jl:212\n",
      "┌ Warning: Not solved to optimality, status: Unbounded\n",
      "└ @ JuMP /Users/vishalgupta/.julia/packages/JuMP/I7whV/src/solvers.jl:212\n",
      "┌ Warning: Not solved to optimality, status: Unbounded\n",
      "└ @ JuMP /Users/vishalgupta/.julia/packages/JuMP/I7whV/src/solvers.jl:212\n",
      "┌ Warning: Not solved to optimality, status: Unbounded\n",
      "└ @ JuMP /Users/vishalgupta/.julia/packages/JuMP/I7whV/src/solvers.jl:212\n"
     ]
    },
    {
     "name": "stdout",
     "output_type": "stream",
     "text": [
      "Academic license - for non-commercial use only\n",
      "Academic license - for non-commercial use only\n",
      "Academic license - for non-commercial use only\n",
      "Academic license - for non-commercial use only\n"
     ]
    },
    {
     "name": "stderr",
     "output_type": "stream",
     "text": [
      "┌ Warning: Not solved to optimality, status: Unbounded\n",
      "└ @ JuMP /Users/vishalgupta/.julia/packages/JuMP/I7whV/src/solvers.jl:212\n",
      "┌ Warning: Not solved to optimality, status: Unbounded\n",
      "└ @ JuMP /Users/vishalgupta/.julia/packages/JuMP/I7whV/src/solvers.jl:212\n",
      "┌ Warning: Not solved to optimality, status: Unbounded\n",
      "└ @ JuMP /Users/vishalgupta/.julia/packages/JuMP/I7whV/src/solvers.jl:212\n",
      "┌ Warning: Not solved to optimality, status: Unbounded\n",
      "└ @ JuMP /Users/vishalgupta/.julia/packages/JuMP/I7whV/src/solvers.jl:212\n"
     ]
    },
    {
     "name": "stdout",
     "output_type": "stream",
     "text": [
      "Academic license - for non-commercial use only\n",
      "Academic license - for non-commercial use only\n"
     ]
    },
    {
     "name": "stderr",
     "output_type": "stream",
     "text": [
      "┌ Warning: Not solved to optimality, status: Unbounded\n",
      "└ @ JuMP /Users/vishalgupta/.julia/packages/JuMP/I7whV/src/solvers.jl:212\n",
      "┌ Warning: Not solved to optimality, status: Unbounded\n",
      "└ @ JuMP /Users/vishalgupta/.julia/packages/JuMP/I7whV/src/solvers.jl:212\n"
     ]
    },
    {
     "name": "stdout",
     "output_type": "stream",
     "text": [
      "Academic license - for non-commercial use only\n",
      "Academic license - for non-commercial use only\n",
      "Academic license - for non-commercial use only\n",
      "Academic license - for non-commercial use only\n"
     ]
    },
    {
     "name": "stderr",
     "output_type": "stream",
     "text": [
      "┌ Warning: Not solved to optimality, status: Unbounded\n",
      "└ @ JuMP /Users/vishalgupta/.julia/packages/JuMP/I7whV/src/solvers.jl:212\n",
      "┌ Warning: Not solved to optimality, status: Unbounded\n",
      "└ @ JuMP /Users/vishalgupta/.julia/packages/JuMP/I7whV/src/solvers.jl:212\n",
      "┌ Warning: Not solved to optimality, status: Unbounded\n",
      "└ @ JuMP /Users/vishalgupta/.julia/packages/JuMP/I7whV/src/solvers.jl:212\n",
      "┌ Warning: Not solved to optimality, status: Unbounded\n",
      "└ @ JuMP /Users/vishalgupta/.julia/packages/JuMP/I7whV/src/solvers.jl:212\n"
     ]
    },
    {
     "name": "stdout",
     "output_type": "stream",
     "text": [
      "Academic license - for non-commercial use only\n",
      "Academic license - for non-commercial use only\n"
     ]
    },
    {
     "name": "stderr",
     "output_type": "stream",
     "text": [
      "┌ Warning: Not solved to optimality, status: Unbounded\n",
      "└ @ JuMP /Users/vishalgupta/.julia/packages/JuMP/I7whV/src/solvers.jl:212\n",
      "┌ Warning: Not solved to optimality, status: Unbounded\n",
      "└ @ JuMP /Users/vishalgupta/.julia/packages/JuMP/I7whV/src/solvers.jl:212\n"
     ]
    },
    {
     "name": "stdout",
     "output_type": "stream",
     "text": [
      "Academic license - for non-commercial use only\n",
      "Academic license - for non-commercial use only\n",
      "Academic license - for non-commercial use only\n",
      "Academic license - for non-commercial use only\n"
     ]
    },
    {
     "name": "stderr",
     "output_type": "stream",
     "text": [
      "┌ Warning: Not solved to optimality, status: Unbounded\n",
      "└ @ JuMP /Users/vishalgupta/.julia/packages/JuMP/I7whV/src/solvers.jl:212\n",
      "┌ Warning: Not solved to optimality, status: Unbounded\n",
      "└ @ JuMP /Users/vishalgupta/.julia/packages/JuMP/I7whV/src/solvers.jl:212\n",
      "┌ Warning: Not solved to optimality, status: Unbounded\n",
      "└ @ JuMP /Users/vishalgupta/.julia/packages/JuMP/I7whV/src/solvers.jl:212\n",
      "┌ Warning: Not solved to optimality, status: Unbounded\n",
      "└ @ JuMP /Users/vishalgupta/.julia/packages/JuMP/I7whV/src/solvers.jl:212\n"
     ]
    },
    {
     "name": "stdout",
     "output_type": "stream",
     "text": [
      "Academic license - for non-commercial use only\n",
      "Academic license - for non-commercial use only\n"
     ]
    },
    {
     "name": "stderr",
     "output_type": "stream",
     "text": [
      "┌ Warning: Not solved to optimality, status: Unbounded\n",
      "└ @ JuMP /Users/vishalgupta/.julia/packages/JuMP/I7whV/src/solvers.jl:212\n",
      "┌ Warning: Not solved to optimality, status: Unbounded\n",
      "└ @ JuMP /Users/vishalgupta/.julia/packages/JuMP/I7whV/src/solvers.jl:212\n"
     ]
    },
    {
     "name": "stdout",
     "output_type": "stream",
     "text": [
      "Academic license - for non-commercial use only\n",
      "Academic license - for non-commercial use only\n",
      "Academic license - for non-commercial use only\n",
      "Academic license - for non-commercial use only\n"
     ]
    },
    {
     "name": "stderr",
     "output_type": "stream",
     "text": [
      "┌ Warning: Not solved to optimality, status: Unbounded\n",
      "└ @ JuMP /Users/vishalgupta/.julia/packages/JuMP/I7whV/src/solvers.jl:212\n",
      "┌ Warning: Not solved to optimality, status: Unbounded\n",
      "└ @ JuMP /Users/vishalgupta/.julia/packages/JuMP/I7whV/src/solvers.jl:212\n",
      "┌ Warning: Not solved to optimality, status: Unbounded\n",
      "└ @ JuMP /Users/vishalgupta/.julia/packages/JuMP/I7whV/src/solvers.jl:212\n",
      "┌ Warning: Not solved to optimality, status: Unbounded\n",
      "└ @ JuMP /Users/vishalgupta/.julia/packages/JuMP/I7whV/src/solvers.jl:212\n"
     ]
    },
    {
     "name": "stdout",
     "output_type": "stream",
     "text": [
      "Academic license - for non-commercial use only\n",
      "Academic license - for non-commercial use only\n"
     ]
    },
    {
     "name": "stderr",
     "output_type": "stream",
     "text": [
      "┌ Warning: Not solved to optimality, status: Unbounded\n",
      "└ @ JuMP /Users/vishalgupta/.julia/packages/JuMP/I7whV/src/solvers.jl:212\n",
      "┌ Warning: Not solved to optimality, status: Unbounded\n",
      "└ @ JuMP /Users/vishalgupta/.julia/packages/JuMP/I7whV/src/solvers.jl:212\n"
     ]
    },
    {
     "name": "stdout",
     "output_type": "stream",
     "text": [
      "Academic license - for non-commercial use only\n",
      "Academic license - for non-commercial use only\n",
      "Academic license - for non-commercial use only\n",
      "Academic license - for non-commercial use only\n"
     ]
    },
    {
     "name": "stderr",
     "output_type": "stream",
     "text": [
      "┌ Warning: Not solved to optimality, status: Unbounded\n",
      "└ @ JuMP /Users/vishalgupta/.julia/packages/JuMP/I7whV/src/solvers.jl:212\n",
      "┌ Warning: Not solved to optimality, status: Unbounded\n",
      "└ @ JuMP /Users/vishalgupta/.julia/packages/JuMP/I7whV/src/solvers.jl:212\n",
      "┌ Warning: Not solved to optimality, status: Unbounded\n",
      "└ @ JuMP /Users/vishalgupta/.julia/packages/JuMP/I7whV/src/solvers.jl:212\n",
      "┌ Warning: Not solved to optimality, status: Unbounded\n",
      "└ @ JuMP /Users/vishalgupta/.julia/packages/JuMP/I7whV/src/solvers.jl:212\n"
     ]
    },
    {
     "name": "stdout",
     "output_type": "stream",
     "text": [
      "Academic license - for non-commercial use only\n",
      "Academic license - for non-commercial use only\n"
     ]
    },
    {
     "name": "stderr",
     "output_type": "stream",
     "text": [
      "┌ Warning: Not solved to optimality, status: Unbounded\n",
      "└ @ JuMP /Users/vishalgupta/.julia/packages/JuMP/I7whV/src/solvers.jl:212\n",
      "┌ Warning: Not solved to optimality, status: Unbounded\n",
      "└ @ JuMP /Users/vishalgupta/.julia/packages/JuMP/I7whV/src/solvers.jl:212\n"
     ]
    },
    {
     "name": "stdout",
     "output_type": "stream",
     "text": [
      "Academic license - for non-commercial use only\n",
      "Academic license - for non-commercial use only\n"
     ]
    },
    {
     "name": "stderr",
     "output_type": "stream",
     "text": [
      "┌ Warning: Not solved to optimality, status: Unbounded\n",
      "└ @ JuMP /Users/vishalgupta/.julia/packages/JuMP/I7whV/src/solvers.jl:212\n",
      "┌ Warning: Not solved to optimality, status: Unbounded\n",
      "└ @ JuMP /Users/vishalgupta/.julia/packages/JuMP/I7whV/src/solvers.jl:212\n"
     ]
    },
    {
     "name": "stdout",
     "output_type": "stream",
     "text": [
      "Academic license - for non-commercial use only\n",
      "Academic license - for non-commercial use only\n",
      "Academic license - for non-commercial use only\n",
      "Academic license - for non-commercial use only\n"
     ]
    },
    {
     "name": "stderr",
     "output_type": "stream",
     "text": [
      "┌ Warning: Not solved to optimality, status: Unbounded\n",
      "└ @ JuMP /Users/vishalgupta/.julia/packages/JuMP/I7whV/src/solvers.jl:212\n",
      "┌ Warning: Not solved to optimality, status: Unbounded\n",
      "└ @ JuMP /Users/vishalgupta/.julia/packages/JuMP/I7whV/src/solvers.jl:212\n",
      "┌ Warning: Not solved to optimality, status: Unbounded\n",
      "└ @ JuMP /Users/vishalgupta/.julia/packages/JuMP/I7whV/src/solvers.jl:212\n",
      "┌ Warning: Not solved to optimality, status: Unbounded\n",
      "└ @ JuMP /Users/vishalgupta/.julia/packages/JuMP/I7whV/src/solvers.jl:212\n"
     ]
    },
    {
     "name": "stdout",
     "output_type": "stream",
     "text": [
      "Academic license - for non-commercial use only\n",
      "Academic license - for non-commercial use only\n",
      "Academic license - for non-commercial use only\n",
      "Academic license - for non-commercial use only\n"
     ]
    },
    {
     "name": "stderr",
     "output_type": "stream",
     "text": [
      "┌ Warning: Not solved to optimality, status: Unbounded\n",
      "└ @ JuMP /Users/vishalgupta/.julia/packages/JuMP/I7whV/src/solvers.jl:212\n",
      "┌ Warning: Not solved to optimality, status: Unbounded\n",
      "└ @ JuMP /Users/vishalgupta/.julia/packages/JuMP/I7whV/src/solvers.jl:212\n",
      "┌ Warning: Not solved to optimality, status: Unbounded\n",
      "└ @ JuMP /Users/vishalgupta/.julia/packages/JuMP/I7whV/src/solvers.jl:212\n",
      "┌ Warning: Not solved to optimality, status: Unbounded\n",
      "└ @ JuMP /Users/vishalgupta/.julia/packages/JuMP/I7whV/src/solvers.jl:212\n"
     ]
    },
    {
     "name": "stdout",
     "output_type": "stream",
     "text": [
      "Academic license - for non-commercial use only\n",
      "Academic license - for non-commercial use only\n",
      "Academic license - for non-commercial use only\n",
      "Academic license - for non-commercial use only\n"
     ]
    },
    {
     "name": "stderr",
     "output_type": "stream",
     "text": [
      "┌ Warning: Not solved to optimality, status: Unbounded\n",
      "└ @ JuMP /Users/vishalgupta/.julia/packages/JuMP/I7whV/src/solvers.jl:212\n",
      "┌ Warning: Not solved to optimality, status: Unbounded\n",
      "└ @ JuMP /Users/vishalgupta/.julia/packages/JuMP/I7whV/src/solvers.jl:212\n",
      "┌ Warning: Not solved to optimality, status: Unbounded\n",
      "└ @ JuMP /Users/vishalgupta/.julia/packages/JuMP/I7whV/src/solvers.jl:212\n",
      "┌ Warning: Not solved to optimality, status: Unbounded\n",
      "└ @ JuMP /Users/vishalgupta/.julia/packages/JuMP/I7whV/src/solvers.jl:212\n"
     ]
    },
    {
     "name": "stdout",
     "output_type": "stream",
     "text": [
      "Academic license - for non-commercial use only\n",
      "Academic license - for non-commercial use only\n",
      "Academic license - for non-commercial use only\n",
      "Academic license - for non-commercial use only\n"
     ]
    },
    {
     "name": "stderr",
     "output_type": "stream",
     "text": [
      "┌ Warning: Not solved to optimality, status: Unbounded\n",
      "└ @ JuMP /Users/vishalgupta/.julia/packages/JuMP/I7whV/src/solvers.jl:212\n",
      "┌ Warning: Not solved to optimality, status: Unbounded\n",
      "└ @ JuMP /Users/vishalgupta/.julia/packages/JuMP/I7whV/src/solvers.jl:212\n",
      "┌ Warning: Not solved to optimality, status: Unbounded\n",
      "└ @ JuMP /Users/vishalgupta/.julia/packages/JuMP/I7whV/src/solvers.jl:212\n",
      "┌ Warning: Not solved to optimality, status: Unbounded\n",
      "└ @ JuMP /Users/vishalgupta/.julia/packages/JuMP/I7whV/src/solvers.jl:212\n"
     ]
    },
    {
     "name": "stdout",
     "output_type": "stream",
     "text": [
      "Academic license - for non-commercial use only\n",
      "Academic license - for non-commercial use only\n",
      "Academic license - for non-commercial use only\n",
      "Academic license - for non-commercial use only\n"
     ]
    },
    {
     "name": "stderr",
     "output_type": "stream",
     "text": [
      "┌ Warning: Not solved to optimality, status: Unbounded\n",
      "└ @ JuMP /Users/vishalgupta/.julia/packages/JuMP/I7whV/src/solvers.jl:212\n",
      "┌ Warning: Not solved to optimality, status: Unbounded\n",
      "└ @ JuMP /Users/vishalgupta/.julia/packages/JuMP/I7whV/src/solvers.jl:212\n",
      "┌ Warning: Not solved to optimality, status: Unbounded\n",
      "└ @ JuMP /Users/vishalgupta/.julia/packages/JuMP/I7whV/src/solvers.jl:212\n",
      "┌ Warning: Not solved to optimality, status: Unbounded\n",
      "└ @ JuMP /Users/vishalgupta/.julia/packages/JuMP/I7whV/src/solvers.jl:212\n"
     ]
    },
    {
     "name": "stdout",
     "output_type": "stream",
     "text": [
      "Academic license - for non-commercial use only\n",
      "Academic license - for non-commercial use only\n",
      "Academic license - for non-commercial use only\n",
      "Academic license - for non-commercial use only\n",
      "Academic license - for non-commercial use only\n",
      "Academic license - for non-commercial use only\n",
      "Academic license - for non-commercial use only\n",
      "Academic license - for non-commercial use only\n",
      "Academic license - for non-commercial use only\n",
      "Academic license - for non-commercial use only\n",
      "Academic license - for non-commercial use only\n",
      "Academic license - for non-commercial use only\n",
      "Academic license - for non-commercial use only\n",
      "Academic license - for non-commercial use only\n",
      "Academic license - for non-commercial use only\n",
      "Academic license - for non-commercial use only\n",
      "Academic license - for non-commercial use only\n",
      "Academic license - for non-commercial use only\n",
      "Academic license - for non-commercial use only\n",
      "Academic license - for non-commercial use only\n",
      "Academic license - for non-commercial use only\n",
      "Academic license - for non-commercial use only\n",
      "Academic license - for non-commercial use only\n",
      "Academic license - for non-commercial use only\n",
      "Academic license - for non-commercial use only\n",
      "Academic license - for non-commercial use only\n",
      "Academic license - for non-commercial use only\n",
      "Academic license - for non-commercial use only\n",
      "Academic license - for non-commercial use only\n",
      "Academic license - for non-commercial use only\n",
      "Academic license - for non-commercial use only\n",
      "Academic license - for non-commercial use only\n",
      "Academic license - for non-commercial use only\n",
      "Academic license - for non-commercial use only\n",
      "Academic license - for non-commercial use only\n",
      "Academic license - for non-commercial use only\n",
      "Academic license - for non-commercial use only\n",
      "Academic license - for non-commercial use only\n",
      "Academic license - for non-commercial use only\n",
      "Academic license - for non-commercial use only\n",
      "Academic license - for non-commercial use only\n",
      "Academic license - for non-commercial use only\n",
      "Academic license - for non-commercial use only\n",
      "Academic license - for non-commercial use only\n",
      "Academic license - for non-commercial use only\n",
      "Academic license - for non-commercial use only\n",
      "Academic license - for non-commercial use only\n",
      "Academic license - for non-commercial use only\n",
      "Academic license - for non-commercial use only\n",
      "Academic license - for non-commercial use only\n",
      "Academic license - for non-commercial use only\n",
      "Academic license - for non-commercial use only\n",
      "Academic license - for non-commercial use only\n",
      "Academic license - for non-commercial use only\n",
      "Academic license - for non-commercial use only\n",
      "Academic license - for non-commercial use only\n",
      "Academic license - for non-commercial use only\n",
      "Academic license - for non-commercial use only\n",
      "Academic license - for non-commercial use only\n",
      "Academic license - for non-commercial use only\n",
      "Academic license - for non-commercial use only\n",
      "Academic license - for non-commercial use only\n",
      "Academic license - for non-commercial use only\n",
      "Academic license - for non-commercial use only\n",
      "Academic license - for non-commercial use only\n",
      "Academic license - for non-commercial use only\n",
      "Academic license - for non-commercial use only\n",
      "Academic license - for non-commercial use only\n",
      "Academic license - for non-commercial use only\n",
      "Academic license - for non-commercial use only\n",
      "Academic license - for non-commercial use only\n",
      "Academic license - for non-commercial use only\n",
      "Academic license - for non-commercial use only\n",
      "Academic license - for non-commercial use only\n",
      "Academic license - for non-commercial use only\n",
      "Academic license - for non-commercial use only\n",
      "Academic license - for non-commercial use only\n",
      "Academic license - for non-commercial use only\n",
      "Academic license - for non-commercial use only\n",
      "Academic license - for non-commercial use only\n",
      "Academic license - for non-commercial use only\n",
      "Academic license - for non-commercial use only\n",
      "Academic license - for non-commercial use only\n",
      "Academic license - for non-commercial use only\n",
      "Academic license - for non-commercial use only\n",
      "Academic license - for non-commercial use only\n",
      "Academic license - for non-commercial use only\n",
      "Academic license - for non-commercial use only\n",
      "Academic license - for non-commercial use only\n",
      "Academic license - for non-commercial use only\n",
      "Academic license - for non-commercial use only\n",
      "Academic license - for non-commercial use only\n",
      "Academic license - for non-commercial use only\n",
      "Academic license - for non-commercial use only\n",
      "Academic license - for non-commercial use only\n",
      "Academic license - for non-commercial use only\n",
      "Academic license - for non-commercial use only\n",
      "Academic license - for non-commercial use only\n",
      "Academic license - for non-commercial use only\n",
      "Academic license - for non-commercial use only\n",
      "Academic license - for non-commercial use only\n",
      "Academic license - for non-commercial use only\n",
      "Academic license - for non-commercial use only\n",
      "Academic license - for non-commercial use only\n",
      "Academic license - for non-commercial use only\n",
      "Academic license - for non-commercial use only\n",
      "Academic license - for non-commercial use only\n",
      "Academic license - for non-commercial use only\n",
      "Academic license - for non-commercial use only\n",
      "Academic license - for non-commercial use only\n",
      "Academic license - for non-commercial use only\n",
      "Academic license - for non-commercial use only\n",
      "Academic license - for non-commercial use only\n",
      "Academic license - for non-commercial use only\n",
      "Academic license - for non-commercial use only\n",
      "Academic license - for non-commercial use only\n",
      "Academic license - for non-commercial use only\n",
      "Academic license - for non-commercial use only\n",
      "Academic license - for non-commercial use only\n",
      "Academic license - for non-commercial use only\n",
      "Academic license - for non-commercial use only\n",
      "Academic license - for non-commercial use only\n",
      "Academic license - for non-commercial use only\n",
      "Academic license - for non-commercial use only\n",
      "Academic license - for non-commercial use only\n",
      "Academic license - for non-commercial use only\n",
      "Academic license - for non-commercial use only\n",
      "Academic license - for non-commercial use only\n",
      "Academic license - for non-commercial use only\n",
      "Academic license - for non-commercial use only\n",
      "Academic license - for non-commercial use only\n",
      "Academic license - for non-commercial use only\n",
      "Academic license - for non-commercial use only\n",
      "Academic license - for non-commercial use only\n",
      "Academic license - for non-commercial use only\n",
      "Academic license - for non-commercial use only\n",
      "Academic license - for non-commercial use only\n",
      "Academic license - for non-commercial use only\n",
      "Academic license - for non-commercial use only\n",
      "Academic license - for non-commercial use only\n",
      "Academic license - for non-commercial use only\n",
      "Academic license - for non-commercial use only\n",
      "Academic license - for non-commercial use only\n",
      "Academic license - for non-commercial use only\n",
      "Academic license - for non-commercial use only\n",
      "Academic license - for non-commercial use only\n",
      "Academic license - for non-commercial use only\n",
      "Academic license - for non-commercial use only\n",
      "Academic license - for non-commercial use only\n",
      "Academic license - for non-commercial use only\n",
      "Academic license - for non-commercial use only\n",
      "Academic license - for non-commercial use only\n",
      "Academic license - for non-commercial use only\n",
      "Academic license - for non-commercial use only\n",
      "Academic license - for non-commercial use only\n",
      "Academic license - for non-commercial use only\n",
      "Academic license - for non-commercial use only\n",
      "Academic license - for non-commercial use only\n",
      "Academic license - for non-commercial use only\n",
      "Academic license - for non-commercial use only\n",
      "Academic license - for non-commercial use only\n",
      "Academic license - for non-commercial use only\n",
      "Academic license - for non-commercial use only\n",
      "Academic license - for non-commercial use only\n",
      "Academic license - for non-commercial use only\n",
      "Academic license - for non-commercial use only\n",
      "Academic license - for non-commercial use only\n",
      "Academic license - for non-commercial use only\n",
      "Academic license - for non-commercial use only\n",
      "Academic license - for non-commercial use only\n",
      "Academic license - for non-commercial use only\n",
      "Academic license - for non-commercial use only\n",
      "Academic license - for non-commercial use only\n",
      "Academic license - for non-commercial use only\n",
      "Academic license - for non-commercial use only\n",
      "Academic license - for non-commercial use only\n",
      "Academic license - for non-commercial use only\n",
      "Academic license - for non-commercial use only\n",
      "Academic license - for non-commercial use only\n",
      "Academic license - for non-commercial use only\n",
      "Academic license - for non-commercial use only\n",
      "Academic license - for non-commercial use only\n",
      "Academic license - for non-commercial use only\n",
      "Academic license - for non-commercial use only\n",
      "Academic license - for non-commercial use only\n",
      "Academic license - for non-commercial use only\n",
      "Academic license - for non-commercial use only\n",
      "Academic license - for non-commercial use only\n",
      "Academic license - for non-commercial use only\n",
      "Academic license - for non-commercial use only\n",
      "Academic license - for non-commercial use only\n",
      "Academic license - for non-commercial use only\n",
      "Academic license - for non-commercial use only\n",
      "Academic license - for non-commercial use only\n",
      "Academic license - for non-commercial use only\n",
      "Academic license - for non-commercial use only\n",
      "Academic license - for non-commercial use only\n",
      "Academic license - for non-commercial use only\n",
      "Academic license - for non-commercial use only\n",
      "Academic license - for non-commercial use only\n",
      "Academic license - for non-commercial use only\n",
      "Academic license - for non-commercial use only\n",
      "Academic license - for non-commercial use only\n",
      "Academic license - for non-commercial use only\n",
      "Academic license - for non-commercial use only\n",
      "Academic license - for non-commercial use only\n",
      "Academic license - for non-commercial use only\n",
      "Academic license - for non-commercial use only\n",
      "Academic license - for non-commercial use only\n",
      "Academic license - for non-commercial use only\n",
      "Academic license - for non-commercial use only\n",
      "Academic license - for non-commercial use only\n",
      "Academic license - for non-commercial use only\n",
      "Academic license - for non-commercial use only\n",
      "Academic license - for non-commercial use only\n",
      "Academic license - for non-commercial use only\n",
      "Academic license - for non-commercial use only\n",
      "Academic license - for non-commercial use only\n",
      "Academic license - for non-commercial use only\n",
      "Academic license - for non-commercial use only\n",
      "Academic license - for non-commercial use only\n",
      "Academic license - for non-commercial use only\n",
      "Academic license - for non-commercial use only\n",
      "Academic license - for non-commercial use only\n",
      "Academic license - for non-commercial use only\n",
      "Academic license - for non-commercial use only\n",
      "Academic license - for non-commercial use only\n",
      "Academic license - for non-commercial use only\n",
      "Academic license - for non-commercial use only\n",
      "Academic license - for non-commercial use only\n",
      "Academic license - for non-commercial use only\n",
      "Academic license - for non-commercial use only\n",
      "Academic license - for non-commercial use only\n",
      "Academic license - for non-commercial use only\n",
      "Academic license - for non-commercial use only\n",
      "Academic license - for non-commercial use only\n",
      "Academic license - for non-commercial use only\n",
      "Academic license - for non-commercial use only\n",
      "Academic license - for non-commercial use only\n",
      "Academic license - for non-commercial use only\n",
      "Academic license - for non-commercial use only\n",
      "Academic license - for non-commercial use only\n",
      "Academic license - for non-commercial use only\n",
      "Academic license - for non-commercial use only\n",
      "Academic license - for non-commercial use only\n",
      "Academic license - for non-commercial use only\n",
      "Academic license - for non-commercial use only\n",
      "Academic license - for non-commercial use only\n",
      "Academic license - for non-commercial use only\n",
      "Academic license - for non-commercial use only\n",
      "Academic license - for non-commercial use only\n",
      "Academic license - for non-commercial use only\n",
      "Academic license - for non-commercial use only\n",
      "Academic license - for non-commercial use only\n",
      "Academic license - for non-commercial use only\n",
      "Academic license - for non-commercial use only\n",
      "Academic license - for non-commercial use only\n",
      "Academic license - for non-commercial use only\n",
      "Academic license - for non-commercial use only\n",
      "Academic license - for non-commercial use only\n",
      "Academic license - for non-commercial use only\n",
      "Academic license - for non-commercial use only\n",
      "Academic license - for non-commercial use only\n",
      "Academic license - for non-commercial use only\n",
      "Academic license - for non-commercial use only\n",
      "Academic license - for non-commercial use only\n",
      "Academic license - for non-commercial use only\n",
      "Academic license - for non-commercial use only\n",
      "Academic license - for non-commercial use only\n",
      "Academic license - for non-commercial use only\n",
      "Academic license - for non-commercial use only\n",
      "Academic license - for non-commercial use only\n",
      "Academic license - for non-commercial use only\n",
      "Academic license - for non-commercial use only\n",
      "Academic license - for non-commercial use only\n",
      "Academic license - for non-commercial use only\n",
      "Academic license - for non-commercial use only\n",
      "Academic license - for non-commercial use only\n",
      "Academic license - for non-commercial use only\n",
      "Academic license - for non-commercial use only\n",
      "Academic license - for non-commercial use only\n",
      "Academic license - for non-commercial use only\n",
      "Academic license - for non-commercial use only\n",
      "Academic license - for non-commercial use only\n",
      "Academic license - for non-commercial use only\n",
      "Academic license - for non-commercial use only\n",
      "Academic license - for non-commercial use only\n",
      "Academic license - for non-commercial use only\n",
      "Academic license - for non-commercial use only\n",
      "Academic license - for non-commercial use only\n",
      "Academic license - for non-commercial use only\n",
      "Academic license - for non-commercial use only\n",
      "Academic license - for non-commercial use only\n",
      "Academic license - for non-commercial use only\n",
      "Academic license - for non-commercial use only\n",
      "Academic license - for non-commercial use only\n",
      "Academic license - for non-commercial use only\n",
      "Academic license - for non-commercial use only\n",
      "Academic license - for non-commercial use only\n",
      "Academic license - for non-commercial use only\n",
      "Academic license - for non-commercial use only\n",
      "Academic license - for non-commercial use only\n",
      "Academic license - for non-commercial use only\n",
      "Academic license - for non-commercial use only\n",
      "Academic license - for non-commercial use only\n",
      "Academic license - for non-commercial use only\n",
      "Academic license - for non-commercial use only\n",
      "Academic license - for non-commercial use only\n",
      "Academic license - for non-commercial use only\n",
      "Academic license - for non-commercial use only\n",
      "Academic license - for non-commercial use only\n",
      "Academic license - for non-commercial use only\n",
      "Academic license - for non-commercial use only\n",
      "Academic license - for non-commercial use only\n",
      "Academic license - for non-commercial use only\n",
      "Academic license - for non-commercial use only\n",
      "Academic license - for non-commercial use only\n",
      "Academic license - for non-commercial use only\n",
      "Academic license - for non-commercial use only\n",
      "Academic license - for non-commercial use only\n",
      "Academic license - for non-commercial use only\n",
      "Academic license - for non-commercial use only\n",
      "Academic license - for non-commercial use only\n",
      "Academic license - for non-commercial use only\n",
      "Academic license - for non-commercial use only\n",
      "Academic license - for non-commercial use only\n",
      "Academic license - for non-commercial use only\n",
      "Academic license - for non-commercial use only\n",
      "Academic license - for non-commercial use only\n",
      "Academic license - for non-commercial use only\n",
      "Academic license - for non-commercial use only\n",
      "Academic license - for non-commercial use only\n",
      "Academic license - for non-commercial use only\n",
      "Academic license - for non-commercial use only\n",
      "Academic license - for non-commercial use only\n",
      "Academic license - for non-commercial use only\n",
      "Academic license - for non-commercial use only\n",
      "Academic license - for non-commercial use only\n",
      "Academic license - for non-commercial use only\n",
      "Academic license - for non-commercial use only\n",
      "Academic license - for non-commercial use only\n",
      "Academic license - for non-commercial use only\n",
      "Academic license - for non-commercial use only\n",
      "Academic license - for non-commercial use only\n",
      "Academic license - for non-commercial use only\n",
      "Academic license - for non-commercial use only\n",
      "Academic license - for non-commercial use only\n",
      "Academic license - for non-commercial use only\n",
      "Academic license - for non-commercial use only\n",
      "Academic license - for non-commercial use only\n",
      "Academic license - for non-commercial use only\n",
      "Academic license - for non-commercial use only\n",
      "Academic license - for non-commercial use only\n",
      "Academic license - for non-commercial use only\n",
      "Academic license - for non-commercial use only\n",
      "Academic license - for non-commercial use only\n",
      "Academic license - for non-commercial use only\n",
      "Academic license - for non-commercial use only\n",
      "Academic license - for non-commercial use only\n",
      "Academic license - for non-commercial use only\n",
      "Academic license - for non-commercial use only\n",
      "Academic license - for non-commercial use only\n",
      "Academic license - for non-commercial use only\n",
      "Academic license - for non-commercial use only\n",
      "Academic license - for non-commercial use only\n",
      "Academic license - for non-commercial use only\n",
      "Academic license - for non-commercial use only\n",
      "Academic license - for non-commercial use only\n",
      "Academic license - for non-commercial use only\n",
      "Academic license - for non-commercial use only\n",
      "Academic license - for non-commercial use only\n",
      "Academic license - for non-commercial use only\n",
      "Academic license - for non-commercial use only\n",
      "Academic license - for non-commercial use only\n",
      "Academic license - for non-commercial use only\n",
      "Academic license - for non-commercial use only\n",
      "Academic license - for non-commercial use only\n",
      "Academic license - for non-commercial use only\n",
      "Academic license - for non-commercial use only\n",
      "Academic license - for non-commercial use only\n",
      "Academic license - for non-commercial use only\n",
      "Academic license - for non-commercial use only\n",
      "Academic license - for non-commercial use only\n",
      "Academic license - for non-commercial use only\n",
      "Academic license - for non-commercial use only\n",
      "Academic license - for non-commercial use only\n",
      "Academic license - for non-commercial use only\n",
      "Academic license - for non-commercial use only\n",
      "Academic license - for non-commercial use only\n",
      "Academic license - for non-commercial use only\n",
      "Dev:\t"
     ]
    },
    {
     "name": "stderr",
     "output_type": "stream",
     "text": [
      "┌ Warning: Not solved to optimality, status: Unbounded\n",
      "└ @ JuMP /Users/vishalgupta/.julia/packages/JuMP/I7whV/src/solvers.jl:212\n",
      "┌ Warning: Not solved to optimality, status: Unbounded\n",
      "└ @ JuMP /Users/vishalgupta/.julia/packages/JuMP/I7whV/src/solvers.jl:212\n",
      "┌ Warning: Not solved to optimality, status: Unbounded\n",
      "└ @ JuMP /Users/vishalgupta/.julia/packages/JuMP/I7whV/src/solvers.jl:212\n"
     ]
    },
    {
     "name": "stdout",
     "output_type": "stream",
     "text": [
      "0.2631578947368421\n",
      "Academic license - for non-commercial use only\n"
     ]
    },
    {
     "name": "stderr",
     "output_type": "stream",
     "text": [
      "┌ Warning: Not solved to optimality, status: Unbounded\n",
      "└ @ JuMP /Users/vishalgupta/.julia/packages/JuMP/I7whV/src/solvers.jl:212\n",
      "┌ Warning: Not solved to optimality, status: Unbounded\n",
      "└ @ JuMP /Users/vishalgupta/.julia/packages/JuMP/I7whV/src/solvers.jl:212\n"
     ]
    },
    {
     "name": "stdout",
     "output_type": "stream",
     "text": [
      "Problem likely infeasible.  Dual Status:\tUnbounded\n",
      "Academic license - for non-commercial use only\n",
      "Problem likely infeasible.  Dual Status:\tUnbounded\n",
      "Deviation 0.2631578947368421 > .25, problem likely infeasible\n",
      "Safe_fail set to true. Aborting Calc\n",
      "Deviation 0.2631578947368421 > .25, problem likely infeasible\n",
      "Safe_fail set to true. Aborting Calc\n",
      "Dev:\t0.2894736842105263\n",
      "Academic license - for non-commercial use only\n"
     ]
    },
    {
     "name": "stderr",
     "output_type": "stream",
     "text": [
      "┌ Warning: Not solved to optimality, status: Unbounded\n",
      "└ @ JuMP /Users/vishalgupta/.julia/packages/JuMP/I7whV/src/solvers.jl:212\n",
      "┌ Warning: Not solved to optimality, status: Unbounded\n",
      "└ @ JuMP /Users/vishalgupta/.julia/packages/JuMP/I7whV/src/solvers.jl:212\n"
     ]
    },
    {
     "name": "stdout",
     "output_type": "stream",
     "text": [
      "Problem likely infeasible.  Dual Status:\tUnbounded\n",
      "Academic license - for non-commercial use only\n"
     ]
    },
    {
     "name": "stderr",
     "output_type": "stream",
     "text": [
      "┌ Warning: Not solved to optimality, status: Unbounded\n",
      "└ @ JuMP /Users/vishalgupta/.julia/packages/JuMP/I7whV/src/solvers.jl:212\n",
      "┌ Warning: Not solved to optimality, status: Unbounded\n",
      "└ @ JuMP /Users/vishalgupta/.julia/packages/JuMP/I7whV/src/solvers.jl:212\n",
      "┌ Warning: Not solved to optimality, status: Unbounded\n",
      "└ @ JuMP /Users/vishalgupta/.julia/packages/JuMP/I7whV/src/solvers.jl:212\n",
      "┌ Warning: Not solved to optimality, status: Unbounded\n",
      "└ @ JuMP /Users/vishalgupta/.julia/packages/JuMP/I7whV/src/solvers.jl:212\n"
     ]
    },
    {
     "name": "stdout",
     "output_type": "stream",
     "text": [
      "Problem likely infeasible.  Dual Status:\tUnbounded\n",
      "Deviation 0.2894736842105263 > .25, problem likely infeasible\n",
      "Safe_fail set to true. Aborting Calc\n",
      "Deviation 0.2894736842105263 > .25, problem likely infeasible\n",
      "Safe_fail set to true. Aborting Calc\n",
      "Dev:\t0.3157894736842105\n",
      "Academic license - for non-commercial use only\n",
      "Problem likely infeasible.  Dual Status:\tUnbounded\n",
      "Academic license - for non-commercial use only\n"
     ]
    },
    {
     "name": "stderr",
     "output_type": "stream",
     "text": [
      "┌ Warning: Not solved to optimality, status: Unbounded\n",
      "└ @ JuMP /Users/vishalgupta/.julia/packages/JuMP/I7whV/src/solvers.jl:212\n",
      "┌ Warning: Not solved to optimality, status: Unbounded\n",
      "└ @ JuMP /Users/vishalgupta/.julia/packages/JuMP/I7whV/src/solvers.jl:212\n"
     ]
    },
    {
     "name": "stdout",
     "output_type": "stream",
     "text": [
      "Problem likely infeasible.  Dual Status:\tUnbounded\n",
      "Deviation 0.3157894736842105 > .25, problem likely infeasible\n",
      "Safe_fail set to true. Aborting Calc\n",
      "Deviation 0.3157894736842105 > .25, problem likely infeasible\n",
      "Safe_fail set to true. Aborting Calc\n",
      "Dev:\t0.34210526315789475\n",
      "Academic license - for non-commercial use only\n"
     ]
    },
    {
     "name": "stderr",
     "output_type": "stream",
     "text": [
      "┌ Warning: Not solved to optimality, status: Unbounded\n",
      "└ @ JuMP /Users/vishalgupta/.julia/packages/JuMP/I7whV/src/solvers.jl:212\n",
      "┌ Warning: Not solved to optimality, status: Unbounded\n",
      "└ @ JuMP /Users/vishalgupta/.julia/packages/JuMP/I7whV/src/solvers.jl:212\n",
      "┌ Warning: Not solved to optimality, status: Unbounded\n",
      "└ @ JuMP /Users/vishalgupta/.julia/packages/JuMP/I7whV/src/solvers.jl:212\n",
      "┌ Warning: Not solved to optimality, status: Unbounded\n",
      "└ @ JuMP /Users/vishalgupta/.julia/packages/JuMP/I7whV/src/solvers.jl:212\n"
     ]
    },
    {
     "name": "stdout",
     "output_type": "stream",
     "text": [
      "Problem likely infeasible.  Dual Status:\tUnbounded\n",
      "Academic license - for non-commercial use only\n",
      "Problem likely infeasible.  Dual Status:\tUnbounded\n",
      "Deviation 0.34210526315789475 > .25, problem likely infeasible\n",
      "Safe_fail set to true. Aborting Calc\n",
      "Deviation 0.34210526315789475 > .25, problem likely infeasible\n",
      "Safe_fail set to true. Aborting Calc\n",
      "Dev:\t0.3684210526315789\n",
      "Academic license - for non-commercial use only\n"
     ]
    },
    {
     "name": "stderr",
     "output_type": "stream",
     "text": [
      "┌ Warning: Not solved to optimality, status: Unbounded\n",
      "└ @ JuMP /Users/vishalgupta/.julia/packages/JuMP/I7whV/src/solvers.jl:212\n",
      "┌ Warning: Not solved to optimality, status: Unbounded\n",
      "└ @ JuMP /Users/vishalgupta/.julia/packages/JuMP/I7whV/src/solvers.jl:212\n"
     ]
    },
    {
     "name": "stdout",
     "output_type": "stream",
     "text": [
      "Problem likely infeasible.  Dual Status:\tUnbounded\n",
      "Academic license - for non-commercial use only\n"
     ]
    },
    {
     "name": "stderr",
     "output_type": "stream",
     "text": [
      "┌ Warning: Not solved to optimality, status: Unbounded\n",
      "└ @ JuMP /Users/vishalgupta/.julia/packages/JuMP/I7whV/src/solvers.jl:212\n",
      "┌ Warning: Not solved to optimality, status: Unbounded\n",
      "└ @ JuMP /Users/vishalgupta/.julia/packages/JuMP/I7whV/src/solvers.jl:212\n",
      "┌ Warning: Not solved to optimality, status: Unbounded\n",
      "└ @ JuMP /Users/vishalgupta/.julia/packages/JuMP/I7whV/src/solvers.jl:212\n",
      "┌ Warning: Not solved to optimality, status: Unbounded\n",
      "└ @ JuMP /Users/vishalgupta/.julia/packages/JuMP/I7whV/src/solvers.jl:212\n"
     ]
    },
    {
     "name": "stdout",
     "output_type": "stream",
     "text": [
      "Problem likely infeasible.  Dual Status:\tUnbounded\n",
      "Deviation 0.3684210526315789 > .25, problem likely infeasible\n",
      "Safe_fail set to true. Aborting Calc\n",
      "Deviation 0.3684210526315789 > .25, problem likely infeasible\n",
      "Safe_fail set to true. Aborting Calc\n",
      "Dev:\t0.39473684210526316\n",
      "Academic license - for non-commercial use only\n"
     ]
    },
    {
     "name": "stderr",
     "output_type": "stream",
     "text": [
      "┌ Warning: Not solved to optimality, status: Unbounded\n",
      "└ @ JuMP /Users/vishalgupta/.julia/packages/JuMP/I7whV/src/solvers.jl:212\n",
      "┌ Warning: Not solved to optimality, status: Unbounded\n",
      "└ @ JuMP /Users/vishalgupta/.julia/packages/JuMP/I7whV/src/solvers.jl:212\n"
     ]
    },
    {
     "name": "stdout",
     "output_type": "stream",
     "text": [
      "Problem likely infeasible.  Dual Status:\tUnbounded\n",
      "Academic license - for non-commercial use only\n",
      "Problem likely infeasible.  Dual Status:\tUnbounded\n",
      "Deviation 0.39473684210526316 > .25, problem likely infeasible\n",
      "Safe_fail set to true. Aborting Calc\n",
      "Deviation 0.39473684210526316 > .25, problem likely infeasible\n",
      "Safe_fail set to true. Aborting Calc\n",
      "Dev:\t0.42105263157894735\n",
      "Academic license - for non-commercial use only\n"
     ]
    },
    {
     "name": "stderr",
     "output_type": "stream",
     "text": [
      "┌ Warning: Not solved to optimality, status: Unbounded\n",
      "└ @ JuMP /Users/vishalgupta/.julia/packages/JuMP/I7whV/src/solvers.jl:212\n",
      "┌ Warning: Not solved to optimality, status: Unbounded\n",
      "└ @ JuMP /Users/vishalgupta/.julia/packages/JuMP/I7whV/src/solvers.jl:212\n"
     ]
    },
    {
     "name": "stdout",
     "output_type": "stream",
     "text": [
      "Problem likely infeasible.  Dual Status:\tUnbounded\n",
      "Academic license - for non-commercial use only\n"
     ]
    },
    {
     "name": "stderr",
     "output_type": "stream",
     "text": [
      "┌ Warning: Not solved to optimality, status: Unbounded\n",
      "└ @ JuMP /Users/vishalgupta/.julia/packages/JuMP/I7whV/src/solvers.jl:212\n",
      "┌ Warning: Not solved to optimality, status: Unbounded\n",
      "└ @ JuMP /Users/vishalgupta/.julia/packages/JuMP/I7whV/src/solvers.jl:212\n",
      "┌ Warning: Not solved to optimality, status: Unbounded\n",
      "└ @ JuMP /Users/vishalgupta/.julia/packages/JuMP/I7whV/src/solvers.jl:212\n",
      "┌ Warning: Not solved to optimality, status: Unbounded\n",
      "└ @ JuMP /Users/vishalgupta/.julia/packages/JuMP/I7whV/src/solvers.jl:212\n"
     ]
    },
    {
     "name": "stdout",
     "output_type": "stream",
     "text": [
      "Problem likely infeasible.  Dual Status:\tUnbounded\n",
      "Deviation 0.42105263157894735 > .25, problem likely infeasible\n",
      "Safe_fail set to true. Aborting Calc\n",
      "Deviation 0.42105263157894735 > .25, problem likely infeasible\n",
      "Safe_fail set to true. Aborting Calc\n",
      "Dev:\t0.4473684210526316\n",
      "Academic license - for non-commercial use only\n",
      "Problem likely infeasible.  Dual Status:\tUnbounded\n",
      "Academic license - for non-commercial use only\n"
     ]
    },
    {
     "name": "stderr",
     "output_type": "stream",
     "text": [
      "┌ Warning: Not solved to optimality, status: Unbounded\n",
      "└ @ JuMP /Users/vishalgupta/.julia/packages/JuMP/I7whV/src/solvers.jl:212\n",
      "┌ Warning: Not solved to optimality, status: Unbounded\n",
      "└ @ JuMP /Users/vishalgupta/.julia/packages/JuMP/I7whV/src/solvers.jl:212\n"
     ]
    },
    {
     "name": "stdout",
     "output_type": "stream",
     "text": [
      "Problem likely infeasible.  Dual Status:\tUnbounded\n",
      "Deviation 0.4473684210526316 > .25, problem likely infeasible\n",
      "Safe_fail set to true. Aborting Calc\n",
      "Deviation 0.4473684210526316 > .25, problem likely infeasible\n",
      "Safe_fail set to true. Aborting Calc\n",
      "Dev:\t0.47368421052631576\n",
      "Academic license - for non-commercial use only\n"
     ]
    },
    {
     "name": "stderr",
     "output_type": "stream",
     "text": [
      "┌ Warning: Not solved to optimality, status: Unbounded\n",
      "└ @ JuMP /Users/vishalgupta/.julia/packages/JuMP/I7whV/src/solvers.jl:212\n",
      "┌ Warning: Not solved to optimality, status: Unbounded\n",
      "└ @ JuMP /Users/vishalgupta/.julia/packages/JuMP/I7whV/src/solvers.jl:212\n",
      "┌ Warning: Not solved to optimality, status: Unbounded\n",
      "└ @ JuMP /Users/vishalgupta/.julia/packages/JuMP/I7whV/src/solvers.jl:212\n",
      "┌ Warning: Not solved to optimality, status: Unbounded\n",
      "└ @ JuMP /Users/vishalgupta/.julia/packages/JuMP/I7whV/src/solvers.jl:212\n"
     ]
    },
    {
     "name": "stdout",
     "output_type": "stream",
     "text": [
      "Problem likely infeasible.  Dual Status:\tUnbounded\n",
      "Academic license - for non-commercial use only\n",
      "Problem likely infeasible.  Dual Status:\tUnbounded\n",
      "Deviation 0.47368421052631576 > .25, problem likely infeasible\n",
      "Safe_fail set to true. Aborting Calc\n",
      "Deviation 0.47368421052631576 > .25, problem likely infeasible\n",
      "Safe_fail set to true. Aborting Calc\n",
      "Dev:\t0.5\n",
      "Academic license - for non-commercial use only\n"
     ]
    },
    {
     "name": "stderr",
     "output_type": "stream",
     "text": [
      "┌ Warning: Not solved to optimality, status: Unbounded\n",
      "└ @ JuMP /Users/vishalgupta/.julia/packages/JuMP/I7whV/src/solvers.jl:212\n",
      "┌ Warning: Not solved to optimality, status: Unbounded\n",
      "└ @ JuMP /Users/vishalgupta/.julia/packages/JuMP/I7whV/src/solvers.jl:212\n"
     ]
    },
    {
     "name": "stdout",
     "output_type": "stream",
     "text": [
      "Problem likely infeasible.  Dual Status:\tUnbounded\n",
      "Academic license - for non-commercial use only\n"
     ]
    },
    {
     "name": "stderr",
     "output_type": "stream",
     "text": [
      "┌ Warning: Not solved to optimality, status: Unbounded\n",
      "└ @ JuMP /Users/vishalgupta/.julia/packages/JuMP/I7whV/src/solvers.jl:212\n",
      "┌ Warning: Not solved to optimality, status: Unbounded\n",
      "└ @ JuMP /Users/vishalgupta/.julia/packages/JuMP/I7whV/src/solvers.jl:212\n",
      "┌ Warning: Not solved to optimality, status: Unbounded\n",
      "└ @ JuMP /Users/vishalgupta/.julia/packages/JuMP/I7whV/src/solvers.jl:212\n",
      "┌ Warning: Not solved to optimality, status: Unbounded\n",
      "└ @ JuMP /Users/vishalgupta/.julia/packages/JuMP/I7whV/src/solvers.jl:212\n"
     ]
    },
    {
     "name": "stdout",
     "output_type": "stream",
     "text": [
      "Problem likely infeasible.  Dual Status:\tUnbounded\n",
      "Deviation 0.5 > .25, problem likely infeasible\n",
      "Safe_fail set to true. Aborting Calc\n",
      "Deviation 0.5 > .25, problem likely infeasible\n",
      "Safe_fail set to true. Aborting Calc\n"
     ]
    }
   ],
   "source": [
    "#Rough Loop over dev_grid\n",
    "S = 2\n",
    "M = 1\n",
    "mu = 1\n",
    "mode = 1\n",
    "\n",
    "#dev_grid = range(0., stop=vopp.max_dev(S, M) - 1e-3, length=50)\n",
    "dev_grid = range(0., stop=.5, length=20)\n",
    "ub_analytic = zero(dev_grid)\n",
    "ub_uni = zero(dev_grid)\n",
    "ub_sym = zero(dev_grid)\n",
    "\n",
    "lb_analytic = zero(dev_grid)\n",
    "lb_uni = zero(dev_grid)\n",
    "lb_sym = zero(dev_grid)\n",
    "\n",
    "for (ix, dev) in enumerate(dev_grid)\n",
    "    println(\"Dev:\\t\", dev)\n",
    "    #    ub_analytic[ix] = vopp.vopp_MAD(S, M, dev)[1]  \n",
    "    ub_uni[ix] = vopp.vopp_MAD_unimodal(mu, S, M, dev, mode)  \n",
    "    ub_sym[ix] = vopp.vopp_sym_unimodal_MAD(mu, S, M, dev, mode)  \n",
    "\n",
    "    lb_analytic[ix] = vopp.lower_bound_unimodal(dev, M)  \n",
    "    lb_uni[ix]   = vopp.vopp_lb_unimodal_MAD(mu, S, M, dev, mode, safe_fail=true)[1]\n",
    "    lb_sym[ix] = vopp.vopp_lb_symmetric_MAD(mu, S, M, dev, safe_fail = true)[1]    \n",
    "end"
   ]
  },
  {
   "cell_type": "code",
   "execution_count": 38,
   "metadata": {
    "collapsed": false
   },
   "outputs": [
    {
     "data": {
      "image/png": "[encoded data removed]"
     },
     "execution_count": 38,
     "metadata": {},
     "output_type": "execute_result"
    }
   ],
   "source": [
    "#plot(dev_grid, ub_analytic, marker=:circ, label=\"WC\")\n",
    "plot(dev_grid[ub_uni .> 0], ub_uni[ub_uni .> 0], label=\"Uni\")\n",
    "plot!(dev_grid[ub_sym .> 0], ub_sym[ub_sym .> 0], label=\"Uni+Symmetric\")\n",
    "#plot!(dev_grid[lb_analytic .> 0], lb_analytic[lb_analytic .> 0], linestyle=:dash, label=\"WC-Uni\")\n",
    "plot!(dev_grid[lb_uni .> 0], lb_uni[lb_uni .> 0], linestyle=:dash, label=\"Uni\")\n",
    "plot!(dev_grid[lb_sym .> 0], lb_sym[lb_sym .> 0], linestyle=:dash, label=\"Sym\")\n",
    "\n",
    "#[dev_grid wc_bound]"
   ]
  },
  {
   "cell_type": "code",
   "execution_count": null,
   "metadata": {
    "collapsed": false
   },
   "outputs": [],
   "source": []
  },
  {
   "cell_type": "markdown",
   "metadata": {},
   "source": [
    "### Coefficient of Variation"
   ]
  },
  {
   "cell_type": "code",
   "execution_count": null,
   "metadata": {
    "collapsed": false
   },
   "outputs": [],
   "source": [
    "using Plots, QuadGK\n",
    "pyplot()\n",
    "include(\"src.jl\")"
   ]
  },
  {
   "cell_type": "code",
   "execution_count": null,
   "metadata": {
    "collapsed": false
   },
   "outputs": [],
   "source": [
    "# S = 2\n",
    "# M = 1\n",
    "# mu = 1\n",
    "# mode = 1\n",
    "# # @time vopp.vopp_CV(S, M, mu, .1, method=:ConstraintGeneration)\n",
    "# # @time vopp.vopp_CV_unimodal(mu, S, M, .1, mode)\n",
    "# # @time vopp.vopp_sym_unimodal_CV(mu, S, M, .1, mode)\n",
    "# println(vopp.vopp_lb_unimodal_CV(mu, S, M, 0.5763502691896258, mode))\n",
    "# println(vopp._low_bnd_primal_unimodal_CV(mu, S, M, 0.5763502691896258, mode))\n",
    "# #vopp.max_cv_unimodal_guess(mu, S, M, mode)"
   ]
  },
  {
   "cell_type": "code",
   "execution_count": null,
   "metadata": {
    "collapsed": false
   },
   "outputs": [],
   "source": [
    "S = 2\n",
    "M = 1\n",
    "mu = 1\n",
    "mode = 1\n",
    "\n",
    "cv_grid = range(0, stop=vopp.max_cv(S, M)-.001, length=50)\n",
    "\n",
    "max_unimodal_cv = vopp.max_cv_unimodal_guess(mu, S, M, mode)\n",
    "\n",
    "# wc = zero(cv_grid)\n",
    "# ub_uni = zero(cv_grid)\n",
    "# ub_sym = zero(cv_grid)\n",
    "lb_uni = zero(cv_grid)\n",
    "\n",
    "for ix = 1:length(cv_grid)\n",
    "    println(\"CV:\\t\", cv_grid[ix])\n",
    "    wc[ix]  = vopp.vopp_CV(S, M, mu, cv_grid[ix], method=:ConstraintGeneration)\n",
    "    ub_uni[ix] = vopp.vopp_CV_unimodal(mu, S, M, cv_grid[ix], mode)\n",
    "    ub_sym[ix] = vopp.vopp_sym_unimodal_CV(mu, S, M, cv_grid[ix], mode)\n",
    "    if cv_grid[ix] <= max_unimodal_cv\n",
    "        lb_uni[ix] = vopp.vopp_lb_unimodal_CV(mu, S, M, cv_grid[ix], mode, TOL=1e-4)[1]\n",
    "    end\n",
    "end\n"
   ]
  },
  {
   "cell_type": "code",
   "execution_count": null,
   "metadata": {
    "collapsed": false
   },
   "outputs": [],
   "source": [
    "plot(cv_grid, wc, marker=:circ, label=\"WC\")\n",
    "plot!(cv_grid[ub_uni .> 0], ub_uni[ub_uni .> 0], label=\"Uni\")\n",
    "plot!(cv_grid[ub_sym .> 0], ub_sym[ub_sym .> 0], label=\"Uni+Sym\")\n",
    "plot!(cv_grid[lb_uni .> 0], lb_uni[lb_uni .> 0], linestyle = :dash, label=\"Uni\")"
   ]
  },
  {
   "cell_type": "markdown",
   "metadata": {
    "collapsed": true
   },
   "source": [
    "### Geometric mean"
   ]
  },
  {
   "cell_type": "code",
   "execution_count": null,
   "metadata": {
    "collapsed": true
   },
   "outputs": [],
   "source": [
    "### This section is deprecated... Not all separators implemented"
   ]
  },
  {
   "cell_type": "code",
   "execution_count": null,
   "metadata": {
    "collapsed": false
   },
   "outputs": [],
   "source": [
    "S = 4\n",
    "M = .9\n",
    "mu = 1\n",
    "\n",
    "Sc = vopp.comp_Sc(S, M)\n",
    "B = 0.24\n",
    "# h(t) = log(t / B)\n",
    "\n",
    "# sep_fun(a, b, lam1, lam2, M, mu) = vopp.sep_GM(a, b, lam1, lam2, M, mu, B)                                        \n",
    "# vopp._vopp_moment_primal(S, M, mu, h), vopp._vopp_moment_dual(S, M, mu, h, sep_fun), vopp._vopp_GM(S, M, mu, B, false, 500)\n",
    "vopp.vopp_GM(S, M, mu, B, useSep=false)"
   ]
  },
  {
   "cell_type": "code",
   "execution_count": null,
   "metadata": {
    "collapsed": false
   },
   "outputs": [],
   "source": [
    "S = 4\n",
    "M = .9  #Geometric Mean doesn't work if you have weight at zero.  \n",
    "mu = 1\n",
    "Sc = vopp.comp_Sc(S, M)\n",
    "\n",
    "B_grid = range(vopp.min_gm(S, M, mu) + .01, stop=1., length=25)\n",
    "out = zero(cv_grid)\n",
    "out2 = zero(cv_grid)\n",
    "\n",
    "for ix = 1:length(cv_grid)\n",
    "    h(t)= -log(t/mu) + log(B_grid[ix]/mu)\n",
    "    out[ix] = vopp.vopp_GM(S, M, mu, B_grid[ix], useSep=true)\n",
    "    out2[ix] = vopp._vopp_moment_primal(S, M, mu, h)\n",
    "end\n"
   ]
  },
  {
   "cell_type": "code",
   "execution_count": null,
   "metadata": {
    "collapsed": false
   },
   "outputs": [],
   "source": [
    "vopp.min_gm(S, M, mu)"
   ]
  },
  {
   "cell_type": "code",
   "execution_count": null,
   "metadata": {
    "collapsed": false
   },
   "outputs": [],
   "source": [
    "plot(B_grid, [out out2], marker=:circ)"
   ]
  },
  {
   "cell_type": "code",
   "execution_count": null,
   "metadata": {
    "collapsed": false
   },
   "outputs": [],
   "source": [
    "p_grid = collect(range(1, stop=2, length=10 + 1))\n",
    "p_grid = vcat(2 .- p_grid[2:end], p_grid)\n",
    "sort!(p_grid)\n"
   ]
  },
  {
   "cell_type": "markdown",
   "metadata": {
    "collapsed": true
   },
   "source": [
    "### Playing around"
   ]
  },
  {
   "cell_type": "code",
   "execution_count": null,
   "metadata": {
    "collapsed": false
   },
   "outputs": [],
   "source": [
    "include(\"src.jl\")"
   ]
  },
  {
   "cell_type": "code",
   "execution_count": null,
   "metadata": {
    "collapsed": false
   },
   "outputs": [],
   "source": [
    "D = .3\n",
    "M = 1\n",
    "h(t) = M/2 * abs(t-1) - D\n",
    "mode = 1.2\n",
    "H_un(t) = quadgk(h, t, mode)[1]\n",
    "\n",
    "a = -.1\n",
    "b = 0\n",
    "c = -1.3\n",
    "\n",
    "l = 0\n",
    "u = 4\n",
    "println(\"True Min:\\t\", vopp._sep_LB_Unimodal_MAD_2(M, D, a, b, c, mode, l, u))\n",
    "\n",
    "\n",
    "fun(t) = a * t^2 + b * t + c * H_un(t)\n",
    "\n",
    "t_grid = range(l, stop=u, length=101)\n",
    "fun_grid = map(fun, t_grid)\n",
    "\n",
    "println(\"Approx Min:\\t\", minimum(fun_grid), \" \", t_grid[argmin(fun_grid)])\n",
    "plot(t_grid, fun_grid)\n"
   ]
  },
  {
   "cell_type": "code",
   "execution_count": null,
   "metadata": {
    "collapsed": true
   },
   "outputs": [],
   "source": [
    "using D"
   ]
  }
 ],
 "metadata": {
  "kernelspec": {
   "display_name": "Julia 0.7.0",
   "language": "julia",
   "name": "julia-0.7"
  },
  "language_info": {
   "file_extension": ".jl",
   "mimetype": "application/julia",
   "name": "julia",
   "version": "0.7.0"
  }
 },
 "nbformat": 4,
 "nbformat_minor": 0
}
